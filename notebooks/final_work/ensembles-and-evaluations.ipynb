{
 "cells": [
  {
   "cell_type": "code",
   "execution_count": 1,
   "metadata": {
    "_cell_guid": "b1076dfc-b9ad-4769-8c92-a6c4dae69d19",
    "_uuid": "8f2839f25d086af736a60e9eeb907d3b93b6e0e5",
    "execution": {
     "iopub.execute_input": "2021-06-01T01:13:38.632213Z",
     "iopub.status.busy": "2021-06-01T01:13:38.631515Z",
     "iopub.status.idle": "2021-06-01T01:13:54.150770Z",
     "shell.execute_reply": "2021-06-01T01:13:54.149580Z",
     "shell.execute_reply.started": "2021-06-01T01:13:38.632088Z"
    }
   },
   "outputs": [],
   "source": [
    "%%capture\n",
    "\n",
    "import pandas as pd\n",
    "import numpy as np\n",
    "\n",
    "!pip install seqeval\n",
    "\n",
    "from seqeval.metrics import classification_report, f1_score, accuracy_score, precision_score, recall_score\n",
    "from seqeval.scheme import IOB2\n",
    "from tqdm import tqdm"
   ]
  },
  {
   "cell_type": "code",
   "execution_count": 2,
   "metadata": {
    "execution": {
     "iopub.execute_input": "2021-06-01T01:13:54.153107Z",
     "iopub.status.busy": "2021-06-01T01:13:54.152731Z",
     "iopub.status.idle": "2021-06-01T01:13:59.635458Z",
     "shell.execute_reply": "2021-06-01T01:13:59.634349Z",
     "shell.execute_reply.started": "2021-06-01T01:13:54.153072Z"
    }
   },
   "outputs": [],
   "source": [
    "test_mention_classification_preds_biobert = pd.read_csv('../input/predictions/test_rec_prediction_lstm_biobert.csv')\n",
    "train_mention_classification_preds_biobert = pd.read_csv('../input/predictions/train_rec_prediction_lstm_biobert.csv')\n",
    "test_mention_classification_preds_scibert = pd.read_csv('../input/predictions/test_rec_prediction_lstm_scibert.csv')\n",
    "train_mention_classification_preds_scibert = pd.read_csv('../input/predictions/train_rec_prediction_lstm_scibert.csv')\n",
    "train_mention_classification_preds_coder = pd.read_csv('../input/predictions/train_rec_prediction_lstm.csv')\n",
    "test_mention_classification_preds_coder = pd.read_csv('../input/predictions/test_rec_prediction_lstm.csv')\n",
    "train_mention_classification_preds_umlsbert = pd.read_csv('../input/predictions/train_rec_prediction_lstm_umlsbert.csv')\n",
    "test_mention_classification_preds_umlsbert = pd.read_csv('../input/predictions/test_rec_prediction_lstm_umlsbert.csv')\n",
    "\n",
    "train_mention_detection_preds_coder = pd.read_csv('../input/predictions/train_det_prediction_lstm_coder.csv')\n",
    "test_mention_detection_preds_coder = pd.read_csv('../input/predictions/test_det_prediction_lstm_coder.csv')\n",
    "train_mention_detection_preds_scibert = pd.read_csv('../input/predictions/train_det_prediction_scibert.csv')\n",
    "test_mention_detection_preds_scibert = pd.read_csv('../input/predictions/test_det_prediction_scibert.csv')\n",
    "\n",
    "test_nn_classification_preds_coder = pd.read_csv('../input/predictions/test_nn_prediction.csv')\n",
    "train_nn_classification_preds_coder = pd.read_csv('../input/predictions/train_nn_prediction.csv')"
   ]
  },
  {
   "cell_type": "code",
   "execution_count": 3,
   "metadata": {
    "execution": {
     "iopub.execute_input": "2021-06-01T01:13:59.637937Z",
     "iopub.status.busy": "2021-06-01T01:13:59.637594Z",
     "iopub.status.idle": "2021-06-01T01:14:10.659999Z",
     "shell.execute_reply": "2021-06-01T01:14:10.658839Z",
     "shell.execute_reply.started": "2021-06-01T01:13:59.637901Z"
    }
   },
   "outputs": [
    {
     "name": "stderr",
     "output_type": "stream",
     "text": [
      "93158it [00:09, 9998.78it/s] \n"
     ]
    },
    {
     "name": "stdout",
     "output_type": "stream",
     "text": [
      "                                     precision    recall  f1-score   support\n",
      "\n",
      "               anatomical_structure      0.594     0.526     0.558      1435\n",
      "                          bacterium      0.854     0.717     0.779       106\n",
      "                  biologic_function      0.642     0.558     0.597      2976\n",
      "biomedical_occupation_or_discipline      0.246     0.368     0.295        38\n",
      "                     body_substance      0.557     0.557     0.557        79\n",
      "                        body_system      0.636     0.583     0.609        24\n",
      "                           chemical      0.597     0.671     0.632      2586\n",
      "                 clinical_attribute      0.258     0.270     0.264       115\n",
      "                          eukaryote      0.481     0.612     0.539       461\n",
      "                            finding      0.337     0.471     0.393      1093\n",
      "                               food      0.426     0.460     0.442        50\n",
      "               health_care_activity      0.460     0.471     0.465      1767\n",
      "                injury_or_poisoning      0.486     0.520     0.502       102\n",
      "               intellectual_product      0.331     0.386     0.356       728\n",
      "                     medical_device      0.377     0.379     0.378       153\n",
      "                       organization      0.470     0.440     0.454       141\n",
      "                   population_group      0.730     0.646     0.685       457\n",
      " professional_or_occupational_group      0.599     0.683     0.638       142\n",
      "                  research_activity      0.483     0.519     0.500       667\n",
      "                    spatial_concept      0.504     0.494     0.499       854\n",
      "                              virus      0.582     0.491     0.533       108\n",
      "\n",
      "                          micro avg      0.525     0.543     0.534     14082\n",
      "                          macro avg      0.507     0.515     0.508     14082\n",
      "                       weighted avg      0.537     0.543     0.538     14082\n",
      "\n"
     ]
    }
   ],
   "source": [
    "x, y, yhat = [], [], []\n",
    "xseq, yseq, yseq_hat = [], [], []\n",
    "\n",
    "for idx, seq in tqdm(train_nn_classification_preds_coder.iterrows()):\n",
    "    if seq['Tokens'] not in ['[SEP]', '[CLS]']:\n",
    "        yseq.append(seq['Gold Label'])\n",
    "        yseq_hat.append(seq['Predicted Label'])\n",
    "        xseq.append(seq['Tokens'])\n",
    "    else:\n",
    "        if seq['Tokens'] == '[SEP]':\n",
    "            y.append(yseq)\n",
    "            yhat.append(yseq_hat)\n",
    "            x.append(xseq)\n",
    "        elif seq['Tokens'] == '[CLS]':\n",
    "            xseq, yseq, yseq_hat = [], [], []\n",
    "            \n",
    "print(classification_report(y, yhat, digits=3, mode='strict', scheme=IOB2))"
   ]
  },
  {
   "cell_type": "code",
   "execution_count": 4,
   "metadata": {
    "execution": {
     "iopub.execute_input": "2021-06-01T01:14:10.662388Z",
     "iopub.status.busy": "2021-06-01T01:14:10.661951Z",
     "iopub.status.idle": "2021-06-01T01:14:43.109180Z",
     "shell.execute_reply": "2021-06-01T01:14:43.107892Z",
     "shell.execute_reply.started": "2021-06-01T01:14:10.662342Z"
    }
   },
   "outputs": [
    {
     "name": "stderr",
     "output_type": "stream",
     "text": [
      "270657it [00:27, 9814.61it/s] \n"
     ]
    },
    {
     "name": "stdout",
     "output_type": "stream",
     "text": [
      "                                     precision    recall  f1-score   support\n",
      "\n",
      "               anatomical_structure      0.464     0.437     0.450      3768\n",
      "                          bacterium      0.741     0.548     0.630       449\n",
      "                  biologic_function      0.597     0.546     0.570      8102\n",
      "biomedical_occupation_or_discipline      0.271     0.383     0.317       196\n",
      "                     body_substance      0.483     0.604     0.537       212\n",
      "                        body_system      0.568     0.236     0.333        89\n",
      "                           chemical      0.547     0.576     0.561      7396\n",
      "                 clinical_attribute      0.239     0.285     0.260       323\n",
      "                          eukaryote      0.456     0.593     0.515      1748\n",
      "                            finding      0.287     0.390     0.330      3209\n",
      "                               food      0.526     0.410     0.461       322\n",
      "               health_care_activity      0.419     0.428     0.424      4784\n",
      "                injury_or_poisoning      0.519     0.469     0.493       352\n",
      "               intellectual_product      0.311     0.324     0.317      2364\n",
      "                     medical_device      0.299     0.338     0.317       355\n",
      "                       organization      0.490     0.466     0.478       382\n",
      "                   population_group      0.703     0.590     0.642      1263\n",
      " professional_or_occupational_group      0.523     0.672     0.588       360\n",
      "                  research_activity      0.493     0.534     0.513      1847\n",
      "                    spatial_concept      0.428     0.399     0.413      2406\n",
      "                              virus      0.572     0.576     0.574       172\n",
      "\n",
      "                          micro avg      0.475     0.489     0.482     40099\n",
      "                          macro avg      0.473     0.467     0.463     40099\n",
      "                       weighted avg      0.485     0.489     0.485     40099\n",
      "\n"
     ]
    }
   ],
   "source": [
    "x, y, yhat = [], [], []\n",
    "xseq, yseq, yseq_hat = [], [], []\n",
    "\n",
    "for idx, seq in tqdm(test_nn_classification_preds_coder.iterrows()):\n",
    "    if seq['Tokens'] not in ['[SEP]', '[CLS]']:\n",
    "        yseq.append(seq['Gold Label'])\n",
    "        yseq_hat.append(seq['Predicted Label'])\n",
    "        xseq.append(seq['Tokens'])\n",
    "    else:\n",
    "        if seq['Tokens'] == '[SEP]':\n",
    "            y.append(yseq)\n",
    "            yhat.append(yseq_hat)\n",
    "            x.append(xseq)\n",
    "        elif seq['Tokens'] == '[CLS]':\n",
    "            xseq, yseq, yseq_hat = [], [], []\n",
    "            \n",
    "print(classification_report(y, yhat, digits=3, mode='strict', scheme=IOB2))"
   ]
  },
  {
   "cell_type": "code",
   "execution_count": 5,
   "metadata": {
    "execution": {
     "iopub.execute_input": "2021-06-01T01:14:43.111244Z",
     "iopub.status.busy": "2021-06-01T01:14:43.110771Z",
     "iopub.status.idle": "2021-06-01T01:14:43.122379Z",
     "shell.execute_reply": "2021-06-01T01:14:43.121357Z",
     "shell.execute_reply.started": "2021-06-01T01:14:43.111193Z"
    }
   },
   "outputs": [
    {
     "name": "stdout",
     "output_type": "stream",
     "text": [
      "Token                               Gold                                     Prediction                              \n",
      "_____                               ____                                     __________                              \n",
      "in                                  O                                        O                                       \n",
      "fact                                O                                        O                                       \n",
      ",                                   O                                        O                                       \n",
      "both                                O                                        O                                       \n",
      "the                                 O                                        O                                       \n",
      "resistive                           O                                        O                                       \n",
      "and                                 O                                        O                                       \n",
      "elastic                             O                                        O                                       \n",
      "components                          O                                        O                                       \n",
      "of                                  O                                        O                                       \n",
      "the                                 O                                        O                                       \n",
      "work                                O                                        I-biologic_function                     \n",
      "of                                  O                                        I-biologic_function                     \n",
      "breathing                           B-biologic_function                      I-biologic_function                     \n",
      "increase                            O                                        O                                       \n",
      "due                                 O                                        O                                       \n",
      "to                                  O                                        O                                       \n",
      "airway                              B-biologic_function                      B-biologic_function                     \n",
      "obstruction                         I-biologic_function                      I-biologic_function                     \n",
      "and                                 O                                        O                                       \n",
      "chest                               B-anatomical_structure                   B-anatomical_structure                  \n",
      "wall                                I-anatomical_structure                   I-anatomical_structure                  \n",
      "and                                 O                                        O                                       \n",
      "lung                                B-anatomical_structure                   B-finding                               \n",
      "stiffening                          B-finding                                I-finding                               \n",
      ",                                   O                                        O                                       \n",
      "respectively                        O                                        O                                       \n",
      ".                                   O                                        O                                       \n"
     ]
    }
   ],
   "source": [
    "print(\"{0:35} {1:40} {2:40}\".format('Token', 'Gold', 'Prediction'))\n",
    "print(\"{0:35} {1:40} {2:40}\".format('_____', '____', '__________'))\n",
    "\n",
    "for x_, y_sample, yhat_sample in zip(x[2021], y[2021], yhat[2021]):\n",
    "    print(\"{0:35} {1:40} {2:40}\".format(x_, y_sample, yhat_sample))  "
   ]
  },
  {
   "cell_type": "markdown",
   "metadata": {},
   "source": [
    "# LSTM Mention Classification Model Results"
   ]
  },
  {
   "cell_type": "markdown",
   "metadata": {},
   "source": [
    "## BioBERT-LSTM"
   ]
  },
  {
   "cell_type": "markdown",
   "metadata": {},
   "source": [
    "### Train Data"
   ]
  },
  {
   "cell_type": "code",
   "execution_count": 6,
   "metadata": {
    "execution": {
     "iopub.execute_input": "2021-06-01T01:14:43.124373Z",
     "iopub.status.busy": "2021-06-01T01:14:43.123893Z",
     "iopub.status.idle": "2021-06-01T01:14:54.294530Z",
     "shell.execute_reply": "2021-06-01T01:14:54.293353Z",
     "shell.execute_reply.started": "2021-06-01T01:14:43.124325Z"
    }
   },
   "outputs": [
    {
     "name": "stderr",
     "output_type": "stream",
     "text": [
      "93158it [00:09, 9719.31it/s] \n"
     ]
    },
    {
     "name": "stdout",
     "output_type": "stream",
     "text": [
      "                                     precision    recall  f1-score   support\n",
      "\n",
      "               anatomical_structure      0.745     0.691     0.717      1435\n",
      "                          bacterium      0.694     0.877     0.775       106\n",
      "                  biologic_function      0.718     0.710     0.714      2976\n",
      "biomedical_occupation_or_discipline      0.438     0.553     0.488        38\n",
      "                     body_substance      0.654     0.646     0.650        79\n",
      "                        body_system      0.812     0.542     0.650        24\n",
      "                           chemical      0.729     0.828     0.775      2586\n",
      "                 clinical_attribute      0.604     0.583     0.593       115\n",
      "                          eukaryote      0.759     0.807     0.782       461\n",
      "                            finding      0.679     0.482     0.564      1093\n",
      "                               food      0.672     0.780     0.722        50\n",
      "               health_care_activity      0.620     0.696     0.656      1767\n",
      "                injury_or_poisoning      0.635     0.647     0.641       102\n",
      "               intellectual_product      0.661     0.669     0.665       728\n",
      "                     medical_device      0.797     0.641     0.710       153\n",
      "                       organization      0.596     0.660     0.626       141\n",
      "                   population_group      0.686     0.832     0.752       457\n",
      " professional_or_occupational_group      0.718     0.859     0.782       142\n",
      "                  research_activity      0.588     0.714     0.645       667\n",
      "                    spatial_concept      0.657     0.621     0.638       854\n",
      "                              virus      0.858     0.843     0.850       108\n",
      "\n",
      "                          micro avg      0.691     0.710     0.700     14082\n",
      "                          macro avg      0.682     0.699     0.685     14082\n",
      "                       weighted avg      0.693     0.710     0.698     14082\n",
      "\n"
     ]
    }
   ],
   "source": [
    "x, y, yhat = [], [], []\n",
    "xseq, yseq, yseq_hat = [], [], []\n",
    "for idx, seq in tqdm(train_mention_classification_preds_biobert.iterrows()):\n",
    "    if seq['Tokens'] not in ['[SEP]', '[CLS]']:\n",
    "        yseq.append(seq['Gold Label'])\n",
    "        yseq_hat.append(seq['Pred Label'])\n",
    "        xseq.append(seq['Tokens'])\n",
    "    else:\n",
    "        if seq['Tokens'] == '[SEP]':\n",
    "            y.append(yseq)\n",
    "            yhat.append(yseq_hat)\n",
    "            x.append(xseq)\n",
    "        elif seq['Tokens'] == '[CLS]':\n",
    "            xseq, yseq, yseq_hat = [], [], []\n",
    "            \n",
    "print(classification_report(y, yhat, digits=3, mode='strict', scheme=IOB2))"
   ]
  },
  {
   "cell_type": "markdown",
   "metadata": {},
   "source": [
    "### Test Data"
   ]
  },
  {
   "cell_type": "code",
   "execution_count": 7,
   "metadata": {
    "execution": {
     "iopub.execute_input": "2021-06-01T01:14:54.296688Z",
     "iopub.status.busy": "2021-06-01T01:14:54.296249Z",
     "iopub.status.idle": "2021-06-01T01:15:26.861002Z",
     "shell.execute_reply": "2021-06-01T01:15:26.860182Z",
     "shell.execute_reply.started": "2021-06-01T01:14:54.296640Z"
    }
   },
   "outputs": [
    {
     "name": "stderr",
     "output_type": "stream",
     "text": [
      "270657it [00:27, 9780.64it/s]\n"
     ]
    },
    {
     "name": "stdout",
     "output_type": "stream",
     "text": [
      "                                     precision    recall  f1-score   support\n",
      "\n",
      "               anatomical_structure      0.528     0.483     0.505      3768\n",
      "                          bacterium      0.538     0.530     0.534       449\n",
      "                  biologic_function      0.596     0.618     0.607      8102\n",
      "biomedical_occupation_or_discipline      0.339     0.286     0.310       196\n",
      "                     body_substance      0.577     0.618     0.597       212\n",
      "                        body_system      0.431     0.281     0.340        89\n",
      "                           chemical      0.642     0.740     0.687      7396\n",
      "                 clinical_attribute      0.517     0.511     0.514       323\n",
      "                          eukaryote      0.616     0.680     0.647      1748\n",
      "                            finding      0.455     0.308     0.367      3209\n",
      "                               food      0.513     0.360     0.423       322\n",
      "               health_care_activity      0.526     0.544     0.535      4784\n",
      "                injury_or_poisoning      0.531     0.514     0.522       352\n",
      "               intellectual_product      0.443     0.420     0.431      2364\n",
      "                     medical_device      0.385     0.217     0.277       355\n",
      "                       organization      0.437     0.518     0.474       382\n",
      "                   population_group      0.614     0.683     0.646      1263\n",
      " professional_or_occupational_group      0.523     0.683     0.593       360\n",
      "                  research_activity      0.551     0.661     0.601      1847\n",
      "                    spatial_concept      0.446     0.455     0.450      2406\n",
      "                              virus      0.517     0.622     0.565       172\n",
      "\n",
      "                          micro avg      0.558     0.568     0.563     40099\n",
      "                          macro avg      0.511     0.511     0.506     40099\n",
      "                       weighted avg      0.551     0.568     0.557     40099\n",
      "\n"
     ]
    }
   ],
   "source": [
    "x, y, yhat = [], [], []\n",
    "xseq, yseq, yseq_hat = [], [], []\n",
    "for idx, seq in tqdm(test_mention_classification_preds_biobert.iterrows()):\n",
    "    if seq['Tokens'] not in ['[SEP]', '[CLS]']:\n",
    "        yseq.append(seq['Gold Label'])\n",
    "        yseq_hat.append(seq['Pred Label'])\n",
    "        xseq.append(seq['Tokens'])\n",
    "    else:\n",
    "        if seq['Tokens'] == '[SEP]':\n",
    "            y.append(yseq)\n",
    "            yhat.append(yseq_hat)\n",
    "            x.append(xseq)\n",
    "        elif seq['Tokens'] == '[CLS]':\n",
    "            xseq, yseq, yseq_hat = [], [], []\n",
    "            \n",
    "print(classification_report(y, yhat, digits=3, mode='strict', scheme=IOB2))"
   ]
  },
  {
   "cell_type": "code",
   "execution_count": 8,
   "metadata": {
    "execution": {
     "iopub.execute_input": "2021-06-01T01:15:26.863586Z",
     "iopub.status.busy": "2021-06-01T01:15:26.863152Z",
     "iopub.status.idle": "2021-06-01T01:15:26.871977Z",
     "shell.execute_reply": "2021-06-01T01:15:26.870901Z",
     "shell.execute_reply.started": "2021-06-01T01:15:26.863553Z"
    }
   },
   "outputs": [
    {
     "name": "stdout",
     "output_type": "stream",
     "text": [
      "Token                               Gold                                     Prediction                              \n",
      "_____                               ____                                     __________                              \n",
      "in                                  O                                        O                                       \n",
      "fact                                O                                        O                                       \n",
      ",                                   O                                        O                                       \n",
      "both                                O                                        O                                       \n",
      "the                                 O                                        O                                       \n",
      "resistive                           O                                        O                                       \n",
      "and                                 O                                        O                                       \n",
      "elastic                             O                                        O                                       \n",
      "components                          O                                        O                                       \n",
      "of                                  O                                        O                                       \n",
      "the                                 O                                        O                                       \n",
      "work                                O                                        B-finding                               \n",
      "of                                  O                                        I-finding                               \n",
      "breathing                           B-biologic_function                      I-finding                               \n",
      "increase                            O                                        O                                       \n",
      "due                                 O                                        O                                       \n",
      "to                                  O                                        O                                       \n",
      "airway                              B-biologic_function                      B-anatomical_structure                  \n",
      "obstruction                         I-biologic_function                      I-biologic_function                     \n",
      "and                                 O                                        O                                       \n",
      "chest                               B-anatomical_structure                   B-anatomical_structure                  \n",
      "wall                                I-anatomical_structure                   I-anatomical_structure                  \n",
      "and                                 O                                        O                                       \n",
      "lung                                B-anatomical_structure                   B-anatomical_structure                  \n",
      "stiffening                          B-finding                                I-finding                               \n",
      ",                                   O                                        O                                       \n",
      "respectively                        O                                        O                                       \n",
      ".                                   O                                        O                                       \n"
     ]
    }
   ],
   "source": [
    "print(\"{0:35} {1:40} {2:40}\".format('Token', 'Gold', 'Prediction'))\n",
    "print(\"{0:35} {1:40} {2:40}\".format('_____', '____', '__________'))\n",
    "\n",
    "for x_, y_sample, yhat_sample in zip(x[2021], y[2021], yhat[2021]):\n",
    "    print(\"{0:35} {1:40} {2:40}\".format(x_, y_sample, yhat_sample))  "
   ]
  },
  {
   "cell_type": "markdown",
   "metadata": {},
   "source": [
    "# SciBERT-LSTM"
   ]
  },
  {
   "cell_type": "markdown",
   "metadata": {},
   "source": [
    "### Train Data"
   ]
  },
  {
   "cell_type": "code",
   "execution_count": 9,
   "metadata": {
    "execution": {
     "iopub.execute_input": "2021-06-01T01:15:26.875533Z",
     "iopub.status.busy": "2021-06-01T01:15:26.874964Z",
     "iopub.status.idle": "2021-06-01T01:15:37.970874Z",
     "shell.execute_reply": "2021-06-01T01:15:37.969836Z",
     "shell.execute_reply.started": "2021-06-01T01:15:26.875486Z"
    }
   },
   "outputs": [
    {
     "name": "stderr",
     "output_type": "stream",
     "text": [
      "93158it [00:09, 9773.63it/s]\n"
     ]
    },
    {
     "name": "stdout",
     "output_type": "stream",
     "text": [
      "                                     precision    recall  f1-score   support\n",
      "\n",
      "               anatomical_structure      0.717     0.771     0.743      1435\n",
      "                          bacterium      0.773     0.868     0.818       106\n",
      "                  biologic_function      0.711     0.739     0.725      2976\n",
      "biomedical_occupation_or_discipline      0.469     0.395     0.429        38\n",
      "                     body_substance      0.790     0.620     0.695        79\n",
      "                        body_system      0.792     0.792     0.792        24\n",
      "                           chemical      0.787     0.834     0.809      2586\n",
      "                 clinical_attribute      0.591     0.652     0.620       115\n",
      "                          eukaryote      0.790     0.800     0.795       461\n",
      "                            finding      0.638     0.484     0.550      1093\n",
      "                               food      0.672     0.820     0.739        50\n",
      "               health_care_activity      0.621     0.675     0.647      1767\n",
      "                injury_or_poisoning      0.644     0.549     0.593       102\n",
      "               intellectual_product      0.610     0.630     0.620       728\n",
      "                     medical_device      0.739     0.667     0.701       153\n",
      "                       organization      0.674     0.660     0.667       141\n",
      "                   population_group      0.721     0.814     0.765       457\n",
      " professional_or_occupational_group      0.784     0.817     0.800       142\n",
      "                  research_activity      0.589     0.711     0.644       667\n",
      "                    spatial_concept      0.630     0.655     0.642       854\n",
      "                              virus      0.826     0.880     0.852       108\n",
      "\n",
      "                          micro avg      0.696     0.722     0.709     14082\n",
      "                          macro avg      0.694     0.706     0.697     14082\n",
      "                       weighted avg      0.696     0.722     0.707     14082\n",
      "\n"
     ]
    }
   ],
   "source": [
    "x, y, yhat = [], [], []\n",
    "xseq, yseq, yseq_hat = [], [], []\n",
    "for idx, seq in tqdm(train_mention_classification_preds_scibert.iterrows()):\n",
    "    if seq['Tokens'] not in ['[SEP]', '[CLS]']:\n",
    "        yseq.append(seq['Gold Label'])\n",
    "        yseq_hat.append(seq['Pred Label'])\n",
    "        xseq.append(seq['Tokens'])\n",
    "    else:\n",
    "        if seq['Tokens'] == '[SEP]':\n",
    "            y.append(yseq)\n",
    "            yhat.append(yseq_hat)\n",
    "            x.append(xseq)\n",
    "        elif seq['Tokens'] == '[CLS]':\n",
    "            xseq, yseq, yseq_hat = [], [], []\n",
    "            \n",
    "print(classification_report(y, yhat, digits=3, mode='strict', scheme=IOB2))"
   ]
  },
  {
   "cell_type": "markdown",
   "metadata": {},
   "source": [
    "### Test Data"
   ]
  },
  {
   "cell_type": "code",
   "execution_count": 10,
   "metadata": {
    "execution": {
     "iopub.execute_input": "2021-06-01T01:15:37.972605Z",
     "iopub.status.busy": "2021-06-01T01:15:37.972330Z",
     "iopub.status.idle": "2021-06-01T01:16:10.692202Z",
     "shell.execute_reply": "2021-06-01T01:16:10.691222Z",
     "shell.execute_reply.started": "2021-06-01T01:15:37.972578Z"
    }
   },
   "outputs": [
    {
     "name": "stderr",
     "output_type": "stream",
     "text": [
      "270657it [00:27, 9742.00it/s]\n"
     ]
    },
    {
     "name": "stdout",
     "output_type": "stream",
     "text": [
      "                                     precision    recall  f1-score   support\n",
      "\n",
      "               anatomical_structure      0.536     0.573     0.554      3768\n",
      "                          bacterium      0.602     0.670     0.634       449\n",
      "                  biologic_function      0.620     0.662     0.641      8102\n",
      "biomedical_occupation_or_discipline      0.526     0.362     0.429       196\n",
      "                     body_substance      0.667     0.642     0.654       212\n",
      "                        body_system      0.517     0.337     0.408        89\n",
      "                           chemical      0.712     0.756     0.733      7396\n",
      "                 clinical_attribute      0.465     0.588     0.519       323\n",
      "                          eukaryote      0.660     0.722     0.690      1748\n",
      "                            finding      0.463     0.320     0.379      3209\n",
      "                               food      0.465     0.416     0.439       322\n",
      "               health_care_activity      0.554     0.593     0.573      4784\n",
      "                injury_or_poisoning      0.565     0.520     0.541       352\n",
      "               intellectual_product      0.468     0.453     0.461      2364\n",
      "                     medical_device      0.482     0.341     0.399       355\n",
      "                       organization      0.526     0.529     0.527       382\n",
      "                   population_group      0.670     0.715     0.692      1263\n",
      " professional_or_occupational_group      0.580     0.672     0.623       360\n",
      "                  research_activity      0.554     0.685     0.612      1847\n",
      "                    spatial_concept      0.467     0.497     0.481      2406\n",
      "                              virus      0.587     0.785     0.672       172\n",
      "\n",
      "                          micro avg      0.589     0.609     0.599     40099\n",
      "                          macro avg      0.556     0.564     0.555     40099\n",
      "                       weighted avg      0.584     0.609     0.595     40099\n",
      "\n"
     ]
    }
   ],
   "source": [
    "x, y, yhat = [], [], []\n",
    "xseq, yseq, yseq_hat = [], [], []\n",
    "for idx, seq in tqdm(test_mention_classification_preds_scibert.iterrows()):\n",
    "    if seq['Tokens'] not in ['[SEP]', '[CLS]']:\n",
    "        yseq.append(seq['Gold Label'])\n",
    "        yseq_hat.append(seq['Pred Label'])\n",
    "        xseq.append(seq['Tokens'])\n",
    "    else:\n",
    "        if seq['Tokens'] == '[SEP]':\n",
    "            y.append(yseq)\n",
    "            yhat.append(yseq_hat)\n",
    "            x.append(xseq)\n",
    "        elif seq['Tokens'] == '[CLS]':\n",
    "            xseq, yseq, yseq_hat = [], [], []\n",
    "            \n",
    "print(classification_report(y, yhat, digits=3, mode='strict', scheme=IOB2))"
   ]
  },
  {
   "cell_type": "code",
   "execution_count": 11,
   "metadata": {
    "execution": {
     "iopub.execute_input": "2021-06-01T01:16:10.693712Z",
     "iopub.status.busy": "2021-06-01T01:16:10.693441Z",
     "iopub.status.idle": "2021-06-01T01:16:10.704776Z",
     "shell.execute_reply": "2021-06-01T01:16:10.703574Z",
     "shell.execute_reply.started": "2021-06-01T01:16:10.693684Z"
    }
   },
   "outputs": [
    {
     "name": "stdout",
     "output_type": "stream",
     "text": [
      "Token                               Gold                                     Prediction                              \n",
      "_____                               ____                                     __________                              \n",
      "in                                  O                                        O                                       \n",
      "fact                                O                                        O                                       \n",
      ",                                   O                                        O                                       \n",
      "both                                O                                        O                                       \n",
      "the                                 O                                        O                                       \n",
      "resistive                           O                                        O                                       \n",
      "and                                 O                                        O                                       \n",
      "elastic                             O                                        O                                       \n",
      "components                          O                                        O                                       \n",
      "of                                  O                                        O                                       \n",
      "the                                 O                                        O                                       \n",
      "work                                O                                        B-clinical_attribute                    \n",
      "of                                  O                                        I-clinical_attribute                    \n",
      "breathing                           B-biologic_function                      I-clinical_attribute                    \n",
      "increase                            O                                        O                                       \n",
      "due                                 O                                        O                                       \n",
      "to                                  O                                        O                                       \n",
      "airway                              B-biologic_function                      B-biologic_function                     \n",
      "obstruction                         I-biologic_function                      I-biologic_function                     \n",
      "and                                 O                                        O                                       \n",
      "chest                               B-anatomical_structure                   B-anatomical_structure                  \n",
      "wall                                I-anatomical_structure                   I-anatomical_structure                  \n",
      "and                                 O                                        O                                       \n",
      "lung                                B-anatomical_structure                   B-biologic_function                     \n",
      "stiffening                          B-finding                                I-finding                               \n",
      ",                                   O                                        O                                       \n",
      "respectively                        O                                        O                                       \n",
      ".                                   O                                        O                                       \n"
     ]
    }
   ],
   "source": [
    "print(\"{0:35} {1:40} {2:40}\".format('Token', 'Gold', 'Prediction'))\n",
    "print(\"{0:35} {1:40} {2:40}\".format('_____', '____', '__________'))\n",
    "\n",
    "for x_, y_sample, yhat_sample in zip(x[2021], y[2021], yhat[2021]):\n",
    "    print(\"{0:35} {1:40} {2:40}\".format(x_, y_sample, yhat_sample))  "
   ]
  },
  {
   "cell_type": "markdown",
   "metadata": {},
   "source": [
    "# UMLSBERT-LSTM"
   ]
  },
  {
   "cell_type": "markdown",
   "metadata": {},
   "source": [
    "### Train Data"
   ]
  },
  {
   "cell_type": "code",
   "execution_count": 12,
   "metadata": {
    "execution": {
     "iopub.execute_input": "2021-06-01T01:16:10.706609Z",
     "iopub.status.busy": "2021-06-01T01:16:10.706272Z",
     "iopub.status.idle": "2021-06-01T01:16:21.741318Z",
     "shell.execute_reply": "2021-06-01T01:16:21.739931Z",
     "shell.execute_reply.started": "2021-06-01T01:16:10.706565Z"
    }
   },
   "outputs": [
    {
     "name": "stderr",
     "output_type": "stream",
     "text": [
      "93158it [00:09, 9825.76it/s]\n"
     ]
    },
    {
     "name": "stdout",
     "output_type": "stream",
     "text": [
      "                                     precision    recall  f1-score   support\n",
      "\n",
      "               anatomical_structure      0.667     0.621     0.643      1435\n",
      "                          bacterium      0.658     0.708     0.682       106\n",
      "                  biologic_function      0.657     0.648     0.652      2976\n",
      "biomedical_occupation_or_discipline      0.500     0.289     0.367        38\n",
      "                     body_substance      0.638     0.468     0.540        79\n",
      "                        body_system      0.538     0.583     0.560        24\n",
      "                           chemical      0.706     0.748     0.726      2586\n",
      "                 clinical_attribute      0.539     0.417     0.471       115\n",
      "                          eukaryote      0.706     0.666     0.685       461\n",
      "                            finding      0.657     0.388     0.488      1093\n",
      "                               food      0.518     0.580     0.547        50\n",
      "               health_care_activity      0.610     0.608     0.609      1767\n",
      "                injury_or_poisoning      0.621     0.529     0.571       102\n",
      "               intellectual_product      0.576     0.555     0.565       728\n",
      "                     medical_device      0.609     0.673     0.640       153\n",
      "                       organization      0.454     0.560     0.502       141\n",
      "                   population_group      0.790     0.698     0.741       457\n",
      " professional_or_occupational_group      0.560     0.754     0.643       142\n",
      "                  research_activity      0.563     0.660     0.608       667\n",
      "                    spatial_concept      0.628     0.539     0.580       854\n",
      "                              virus      0.764     0.778     0.771       108\n",
      "\n",
      "                          micro avg      0.650     0.626     0.638     14082\n",
      "                          macro avg      0.617     0.594     0.600     14082\n",
      "                       weighted avg      0.651     0.626     0.635     14082\n",
      "\n"
     ]
    }
   ],
   "source": [
    "x, y, yhat = [], [], []\n",
    "xseq, yseq, yseq_hat = [], [], []\n",
    "for idx, seq in tqdm(train_mention_classification_preds_umlsbert.iterrows()):\n",
    "    if seq['Tokens'] not in ['[SEP]', '[CLS]']:\n",
    "        yseq.append(seq['Gold Label'])\n",
    "        yseq_hat.append(seq['Pred Label'])\n",
    "        xseq.append(seq['Tokens'])\n",
    "    else:\n",
    "        if seq['Tokens'] == '[SEP]':\n",
    "            y.append(yseq)\n",
    "            yhat.append(yseq_hat)\n",
    "            x.append(xseq)\n",
    "        elif seq['Tokens'] == '[CLS]':\n",
    "            xseq, yseq, yseq_hat = [], [], []\n",
    "            \n",
    "print(classification_report(y, yhat, digits=3, mode='strict', scheme=IOB2))"
   ]
  },
  {
   "cell_type": "markdown",
   "metadata": {},
   "source": [
    "### Test Data"
   ]
  },
  {
   "cell_type": "code",
   "execution_count": 13,
   "metadata": {
    "execution": {
     "iopub.execute_input": "2021-06-01T01:16:21.742879Z",
     "iopub.status.busy": "2021-06-01T01:16:21.742595Z",
     "iopub.status.idle": "2021-06-01T01:16:54.386154Z",
     "shell.execute_reply": "2021-06-01T01:16:54.384833Z",
     "shell.execute_reply.started": "2021-06-01T01:16:21.742851Z"
    }
   },
   "outputs": [
    {
     "name": "stderr",
     "output_type": "stream",
     "text": [
      "270657it [00:27, 9685.67it/s]\n"
     ]
    },
    {
     "name": "stdout",
     "output_type": "stream",
     "text": [
      "                                     precision    recall  f1-score   support\n",
      "\n",
      "               anatomical_structure      0.500     0.447     0.472      3768\n",
      "                          bacterium      0.496     0.470     0.483       449\n",
      "                  biologic_function      0.560     0.583     0.571      8102\n",
      "biomedical_occupation_or_discipline      0.370     0.224     0.279       196\n",
      "                     body_substance      0.548     0.566     0.557       212\n",
      "                        body_system      0.386     0.247     0.301        89\n",
      "                           chemical      0.611     0.657     0.633      7396\n",
      "                 clinical_attribute      0.592     0.489     0.536       323\n",
      "                          eukaryote      0.565     0.564     0.564      1748\n",
      "                            finding      0.478     0.256     0.334      3209\n",
      "                               food      0.445     0.329     0.379       322\n",
      "               health_care_activity      0.514     0.518     0.516      4784\n",
      "                injury_or_poisoning      0.520     0.483     0.501       352\n",
      "               intellectual_product      0.404     0.353     0.377      2364\n",
      "                     medical_device      0.229     0.273     0.249       355\n",
      "                       organization      0.393     0.495     0.438       382\n",
      "                   population_group      0.694     0.597     0.642      1263\n",
      " professional_or_occupational_group      0.436     0.661     0.525       360\n",
      "                  research_activity      0.521     0.619     0.566      1847\n",
      "                    spatial_concept      0.454     0.386     0.417      2406\n",
      "                              virus      0.512     0.715     0.597       172\n",
      "\n",
      "                          micro avg      0.534     0.516     0.525     40099\n",
      "                          macro avg      0.487     0.473     0.473     40099\n",
      "                       weighted avg      0.530     0.516     0.519     40099\n",
      "\n"
     ]
    }
   ],
   "source": [
    "x, y, yhat = [], [], []\n",
    "xseq, yseq, yseq_hat = [], [], []\n",
    "for idx, seq in tqdm(test_mention_classification_preds_umlsbert.iterrows()):\n",
    "    if seq['Tokens'] not in ['[SEP]', '[CLS]']:\n",
    "        yseq.append(seq['Gold Label'])\n",
    "        yseq_hat.append(seq['Pred Label'])\n",
    "        xseq.append(seq['Tokens'])\n",
    "    else:\n",
    "        if seq['Tokens'] == '[SEP]':\n",
    "            y.append(yseq)\n",
    "            yhat.append(yseq_hat)\n",
    "            x.append(xseq)\n",
    "        elif seq['Tokens'] == '[CLS]':\n",
    "            xseq, yseq, yseq_hat = [], [], []\n",
    "            \n",
    "print(classification_report(y, yhat, digits=3, mode='strict', scheme=IOB2))"
   ]
  },
  {
   "cell_type": "code",
   "execution_count": 14,
   "metadata": {
    "execution": {
     "iopub.execute_input": "2021-06-01T01:16:54.387839Z",
     "iopub.status.busy": "2021-06-01T01:16:54.387555Z",
     "iopub.status.idle": "2021-06-01T01:16:54.397970Z",
     "shell.execute_reply": "2021-06-01T01:16:54.396604Z",
     "shell.execute_reply.started": "2021-06-01T01:16:54.387810Z"
    }
   },
   "outputs": [
    {
     "name": "stdout",
     "output_type": "stream",
     "text": [
      "Token                               Gold                                     Prediction                              \n",
      "_____                               ____                                     __________                              \n",
      "in                                  O                                        O                                       \n",
      "fact                                O                                        O                                       \n",
      ",                                   O                                        O                                       \n",
      "both                                O                                        O                                       \n",
      "the                                 O                                        O                                       \n",
      "resistive                           O                                        O                                       \n",
      "and                                 O                                        O                                       \n",
      "elastic                             O                                        O                                       \n",
      "components                          O                                        O                                       \n",
      "of                                  O                                        O                                       \n",
      "the                                 O                                        O                                       \n",
      "work                                O                                        B-finding                               \n",
      "of                                  O                                        I-finding                               \n",
      "breathing                           B-biologic_function                      I-finding                               \n",
      "increase                            O                                        O                                       \n",
      "due                                 O                                        O                                       \n",
      "to                                  O                                        O                                       \n",
      "airway                              B-biologic_function                      B-anatomical_structure                  \n",
      "obstruction                         I-biologic_function                      I-biologic_function                     \n",
      "and                                 O                                        O                                       \n",
      "chest                               B-anatomical_structure                   B-anatomical_structure                  \n",
      "wall                                I-anatomical_structure                   I-anatomical_structure                  \n",
      "and                                 O                                        O                                       \n",
      "lung                                B-anatomical_structure                   B-anatomical_structure                  \n",
      "stiffening                          B-finding                                I-finding                               \n",
      ",                                   O                                        O                                       \n",
      "respectively                        O                                        O                                       \n",
      ".                                   O                                        O                                       \n"
     ]
    }
   ],
   "source": [
    "print(\"{0:35} {1:40} {2:40}\".format('Token', 'Gold', 'Prediction'))\n",
    "print(\"{0:35} {1:40} {2:40}\".format('_____', '____', '__________'))\n",
    "\n",
    "for x_, y_sample, yhat_sample in zip(x[2021], y[2021], yhat[2021]):\n",
    "    print(\"{0:35} {1:40} {2:40}\".format(x_, y_sample, yhat_sample))  "
   ]
  },
  {
   "cell_type": "markdown",
   "metadata": {},
   "source": [
    "# CODER-LSTM"
   ]
  },
  {
   "cell_type": "markdown",
   "metadata": {},
   "source": [
    "### Train Data"
   ]
  },
  {
   "cell_type": "code",
   "execution_count": 15,
   "metadata": {
    "execution": {
     "iopub.execute_input": "2021-06-01T01:16:54.400129Z",
     "iopub.status.busy": "2021-06-01T01:16:54.399659Z",
     "iopub.status.idle": "2021-06-01T01:17:05.710913Z",
     "shell.execute_reply": "2021-06-01T01:17:05.709942Z",
     "shell.execute_reply.started": "2021-06-01T01:16:54.400080Z"
    }
   },
   "outputs": [
    {
     "name": "stderr",
     "output_type": "stream",
     "text": [
      "93158it [00:09, 9742.88it/s]\n"
     ]
    },
    {
     "name": "stdout",
     "output_type": "stream",
     "text": [
      "                                     precision    recall  f1-score   support\n",
      "\n",
      "               anatomical_structure      0.767     0.775     0.771      1435\n",
      "                          bacterium      0.832     0.887     0.858       106\n",
      "                  biologic_function      0.744     0.758     0.751      2976\n",
      "biomedical_occupation_or_discipline      0.724     0.553     0.627        38\n",
      "                     body_substance      0.694     0.747     0.720        79\n",
      "                        body_system      0.913     0.875     0.894        24\n",
      "                           chemical      0.802     0.864     0.832      2586\n",
      "                 clinical_attribute      0.643     0.704     0.672       115\n",
      "                          eukaryote      0.834     0.829     0.831       461\n",
      "                            finding      0.668     0.522     0.586      1093\n",
      "                               food      0.672     0.820     0.739        50\n",
      "               health_care_activity      0.645     0.724     0.682      1767\n",
      "                injury_or_poisoning      0.617     0.696     0.654       102\n",
      "               intellectual_product      0.677     0.668     0.672       728\n",
      "                     medical_device      0.746     0.614     0.674       153\n",
      "                       organization      0.652     0.610     0.630       141\n",
      "                   population_group      0.780     0.823     0.801       457\n",
      " professional_or_occupational_group      0.771     0.852     0.809       142\n",
      "                  research_activity      0.632     0.724     0.675       667\n",
      "                    spatial_concept      0.653     0.708     0.680       854\n",
      "                              virus      0.856     0.935     0.894       108\n",
      "\n",
      "                          micro avg      0.727     0.751     0.739     14082\n",
      "                          macro avg      0.730     0.747     0.736     14082\n",
      "                       weighted avg      0.727     0.751     0.738     14082\n",
      "\n"
     ]
    }
   ],
   "source": [
    "x, y, yhat = [], [], []\n",
    "xseq, yseq, yseq_hat = [], [], []\n",
    "for idx, seq in tqdm(train_mention_classification_preds_coder.iterrows()):\n",
    "    if seq['Tokens'] not in ['[SEP]', '[CLS]']:\n",
    "        yseq.append(seq['Gold Label'])\n",
    "        yseq_hat.append(seq['Pred Label'])\n",
    "        xseq.append(seq['Tokens'])\n",
    "    else:\n",
    "        if seq['Tokens'] == '[SEP]':\n",
    "            y.append(yseq)\n",
    "            yhat.append(yseq_hat)\n",
    "            x.append(xseq)\n",
    "        elif seq['Tokens'] == '[CLS]':\n",
    "            xseq, yseq, yseq_hat = [], [], []\n",
    "            \n",
    "print(classification_report(y, yhat, digits=3, mode='strict', scheme=IOB2))"
   ]
  },
  {
   "cell_type": "markdown",
   "metadata": {},
   "source": [
    "### Test Data"
   ]
  },
  {
   "cell_type": "code",
   "execution_count": 16,
   "metadata": {
    "execution": {
     "iopub.execute_input": "2021-06-01T01:17:05.712527Z",
     "iopub.status.busy": "2021-06-01T01:17:05.712245Z",
     "iopub.status.idle": "2021-06-01T01:17:38.182051Z",
     "shell.execute_reply": "2021-06-01T01:17:38.180541Z",
     "shell.execute_reply.started": "2021-06-01T01:17:05.712499Z"
    }
   },
   "outputs": [
    {
     "name": "stderr",
     "output_type": "stream",
     "text": [
      "270657it [00:27, 9765.24it/s]\n"
     ]
    },
    {
     "name": "stdout",
     "output_type": "stream",
     "text": [
      "                                     precision    recall  f1-score   support\n",
      "\n",
      "               anatomical_structure      0.575     0.572     0.574      3768\n",
      "                          bacterium      0.664     0.670     0.667       449\n",
      "                  biologic_function      0.635     0.667     0.651      8102\n",
      "biomedical_occupation_or_discipline      0.418     0.337     0.373       196\n",
      "                     body_substance      0.603     0.679     0.639       212\n",
      "                        body_system      0.569     0.326     0.414        89\n",
      "                           chemical      0.712     0.774     0.741      7396\n",
      "                 clinical_attribute      0.543     0.588     0.565       323\n",
      "                          eukaryote      0.699     0.728     0.713      1748\n",
      "                            finding      0.474     0.330     0.389      3209\n",
      "                               food      0.487     0.481     0.484       322\n",
      "               health_care_activity      0.572     0.609     0.590      4784\n",
      "                injury_or_poisoning      0.559     0.594     0.576       352\n",
      "               intellectual_product      0.493     0.429     0.459      2364\n",
      "                     medical_device      0.472     0.310     0.374       355\n",
      "                       organization      0.544     0.565     0.555       382\n",
      "                   population_group      0.674     0.673     0.674      1263\n",
      " professional_or_occupational_group      0.576     0.739     0.647       360\n",
      "                  research_activity      0.573     0.666     0.616      1847\n",
      "                    spatial_concept      0.466     0.505     0.485      2406\n",
      "                              virus      0.589     0.709     0.644       172\n",
      "\n",
      "                          micro avg      0.605     0.615     0.610     40099\n",
      "                          macro avg      0.567     0.569     0.563     40099\n",
      "                       weighted avg      0.599     0.615     0.605     40099\n",
      "\n"
     ]
    }
   ],
   "source": [
    "x, y, yhat = [], [], []\n",
    "xseq, yseq, yseq_hat = [], [], []\n",
    "for idx, seq in tqdm(test_mention_classification_preds_coder.iterrows()):\n",
    "    if seq['Tokens'] not in ['[SEP]', '[CLS]']:\n",
    "        yseq.append(seq['Gold Label'])\n",
    "        yseq_hat.append(seq['Pred Label'])\n",
    "        xseq.append(seq['Tokens'])\n",
    "    else:\n",
    "        if seq['Tokens'] == '[SEP]':\n",
    "            y.append(yseq)\n",
    "            yhat.append(yseq_hat)\n",
    "            x.append(xseq)\n",
    "        elif seq['Tokens'] == '[CLS]':\n",
    "            xseq, yseq, yseq_hat = [], [], []\n",
    "            \n",
    "print(classification_report(y, yhat, digits=3, mode='strict', scheme=IOB2))"
   ]
  },
  {
   "cell_type": "code",
   "execution_count": 17,
   "metadata": {
    "execution": {
     "iopub.execute_input": "2021-06-01T01:17:38.183656Z",
     "iopub.status.busy": "2021-06-01T01:17:38.183373Z",
     "iopub.status.idle": "2021-06-01T01:17:38.192618Z",
     "shell.execute_reply": "2021-06-01T01:17:38.191576Z",
     "shell.execute_reply.started": "2021-06-01T01:17:38.183627Z"
    }
   },
   "outputs": [
    {
     "name": "stdout",
     "output_type": "stream",
     "text": [
      "Token                               Gold                                     Prediction                              \n",
      "_____                               ____                                     __________                              \n",
      "in                                  O                                        O                                       \n",
      "fact                                O                                        O                                       \n",
      ",                                   O                                        O                                       \n",
      "both                                O                                        O                                       \n",
      "the                                 O                                        O                                       \n",
      "resistive                           O                                        O                                       \n",
      "and                                 O                                        O                                       \n",
      "elastic                             O                                        O                                       \n",
      "components                          O                                        O                                       \n",
      "of                                  O                                        O                                       \n",
      "the                                 O                                        O                                       \n",
      "work                                O                                        O                                       \n",
      "of                                  O                                        I-finding                               \n",
      "breathing                           B-biologic_function                      I-finding                               \n",
      "increase                            O                                        O                                       \n",
      "due                                 O                                        O                                       \n",
      "to                                  O                                        O                                       \n",
      "airway                              B-biologic_function                      B-anatomical_structure                  \n",
      "obstruction                         I-biologic_function                      I-anatomical_structure                  \n",
      "and                                 O                                        O                                       \n",
      "chest                               B-anatomical_structure                   B-spatial_concept                       \n",
      "wall                                I-anatomical_structure                   I-anatomical_structure                  \n",
      "and                                 O                                        O                                       \n",
      "lung                                B-anatomical_structure                   B-anatomical_structure                  \n",
      "stiffening                          B-finding                                B-finding                               \n",
      ",                                   O                                        O                                       \n",
      "respectively                        O                                        O                                       \n",
      ".                                   O                                        O                                       \n"
     ]
    }
   ],
   "source": [
    "print(\"{0:35} {1:40} {2:40}\".format('Token', 'Gold', 'Prediction'))\n",
    "print(\"{0:35} {1:40} {2:40}\".format('_____', '____', '__________'))\n",
    "\n",
    "for x_, y_sample, yhat_sample in zip(x[2021], y[2021], yhat[2021]):\n",
    "    print(\"{0:35} {1:40} {2:40}\".format(x_, y_sample, yhat_sample))  "
   ]
  },
  {
   "cell_type": "markdown",
   "metadata": {},
   "source": [
    "# Combining LSTMs for Mention Classification\n",
    "\n",
    "\n",
    "We combine two BiLSTMs using the maximum softmax probability"
   ]
  },
  {
   "cell_type": "markdown",
   "metadata": {},
   "source": [
    "### Train Data"
   ]
  },
  {
   "cell_type": "code",
   "execution_count": 19,
   "metadata": {
    "execution": {
     "iopub.execute_input": "2021-06-01T01:20:06.780318Z",
     "iopub.status.busy": "2021-06-01T01:20:06.779792Z",
     "iopub.status.idle": "2021-06-01T01:20:07.015682Z",
     "shell.execute_reply": "2021-06-01T01:20:07.014361Z",
     "shell.execute_reply.started": "2021-06-01T01:20:06.780270Z"
    },
    "jupyter": {
     "source_hidden": true
    }
   },
   "outputs": [],
   "source": [
    "lstm_ensemble_labels, prob_ensemble_labels = [], []\n",
    "for yhat1, yhat2, prob1, prob2 in zip(train_mention_classification_preds_coder['Pred Label'], \n",
    "                                      train_mention_classification_preds_scibert['Pred Label'],\n",
    "                                      train_mention_classification_preds_coder['Pred Prob'], \n",
    "                                      train_mention_classification_preds_scibert['Pred Prob']):\n",
    "    if yhat1 == yhat2:\n",
    "        lstm_ensemble_labels.append(yhat1)\n",
    "        prob_ensemble_labels.append(max([prob1, prob2]))\n",
    "    else:\n",
    "        argmax = np.argmax([prob1, prob2])\n",
    "        if argmax == 0:\n",
    "            lstm_ensemble_labels.append(yhat1)\n",
    "            prob_ensemble_labels.append(prob1)\n",
    "        else:\n",
    "            lstm_ensemble_labels.append(yhat2)\n",
    "            prob_ensemble_labels.append(prob2)"
   ]
  },
  {
   "cell_type": "code",
   "execution_count": 20,
   "metadata": {
    "collapsed": true,
    "execution": {
     "iopub.execute_input": "2021-06-01T01:20:14.011066Z",
     "iopub.status.busy": "2021-06-01T01:20:14.010344Z",
     "iopub.status.idle": "2021-06-01T01:20:25.441446Z",
     "shell.execute_reply": "2021-06-01T01:20:25.440239Z",
     "shell.execute_reply.started": "2021-06-01T01:20:14.011001Z"
    },
    "jupyter": {
     "outputs_hidden": true,
     "source_hidden": true
    }
   },
   "outputs": [
    {
     "name": "stderr",
     "output_type": "stream",
     "text": [
      "93158it [00:09, 9646.47it/s]\n"
     ]
    },
    {
     "name": "stdout",
     "output_type": "stream",
     "text": [
      "                                     precision    recall  f1-score   support\n",
      "\n",
      "               anatomical_structure      0.769     0.792     0.780      1435\n",
      "                          bacterium      0.810     0.887     0.847       106\n",
      "                  biologic_function      0.751     0.769     0.760      2976\n",
      "biomedical_occupation_or_discipline      0.625     0.526     0.571        38\n",
      "                     body_substance      0.757     0.709     0.732        79\n",
      "                        body_system      0.880     0.917     0.898        24\n",
      "                           chemical      0.801     0.864     0.831      2586\n",
      "                 clinical_attribute      0.592     0.670     0.629       115\n",
      "                          eukaryote      0.835     0.824     0.830       461\n",
      "                            finding      0.707     0.532     0.608      1093\n",
      "                               food      0.695     0.820     0.752        50\n",
      "               health_care_activity      0.659     0.728     0.692      1767\n",
      "                injury_or_poisoning      0.667     0.647     0.657       102\n",
      "               intellectual_product      0.659     0.681     0.670       728\n",
      "                     medical_device      0.789     0.686     0.734       153\n",
      "                       organization      0.710     0.660     0.684       141\n",
      "                   population_group      0.775     0.842     0.807       457\n",
      " professional_or_occupational_group      0.826     0.866     0.845       142\n",
      "                  research_activity      0.630     0.726     0.675       667\n",
      "                    spatial_concept      0.661     0.684     0.672       854\n",
      "                              virus      0.828     0.935     0.878       108\n",
      "\n",
      "                          micro avg      0.734     0.757     0.745     14082\n",
      "                          macro avg      0.735     0.751     0.741     14082\n",
      "                       weighted avg      0.734     0.757     0.744     14082\n",
      "\n"
     ]
    }
   ],
   "source": [
    "train_mention_classification_preds_coder['Ensemble Labels'] = lstm_ensemble_labels\n",
    "train_mention_classification_preds_coder['Ensemble Prob'] = prob_ensemble_labels\n",
    "\n",
    "x, y, yhat = [], [], []\n",
    "xseq, yseq, yseq_hat = [], [], []\n",
    "\n",
    "for idx, seq in tqdm(train_mention_classification_preds_coder.iterrows()):\n",
    "    if seq['Tokens'] not in ['[SEP]', '[CLS]']:\n",
    "        yseq.append(seq['Gold Label'])\n",
    "        yseq_hat.append(seq['Ensemble Labels'])\n",
    "        xseq.append(seq['Tokens'])\n",
    "    else:\n",
    "        if seq['Tokens'] == '[SEP]':\n",
    "            y.append(yseq)\n",
    "            yhat.append(yseq_hat)\n",
    "            x.append(xseq)\n",
    "        elif seq['Tokens'] == '[CLS]':\n",
    "            xseq, yseq, yseq_hat = [], [], []\n",
    "            \n",
    "print(classification_report(y, yhat, digits=3, mode='strict', scheme=IOB2))"
   ]
  },
  {
   "cell_type": "markdown",
   "metadata": {},
   "source": [
    "### Test Data"
   ]
  },
  {
   "cell_type": "code",
   "execution_count": 21,
   "metadata": {
    "execution": {
     "iopub.execute_input": "2021-06-01T01:21:29.397127Z",
     "iopub.status.busy": "2021-06-01T01:21:29.396615Z",
     "iopub.status.idle": "2021-06-01T01:21:29.955242Z",
     "shell.execute_reply": "2021-06-01T01:21:29.953474Z",
     "shell.execute_reply.started": "2021-06-01T01:21:29.397081Z"
    },
    "jupyter": {
     "source_hidden": true
    }
   },
   "outputs": [],
   "source": [
    "lstm_ensemble_labels, prob_ensemble_labels = [], []\n",
    "for yhat1, yhat2, prob1, prob2 in zip(test_mention_classification_preds_coder['Pred Label'], \n",
    "                                      test_mention_classification_preds_scibert['Pred Label'],\n",
    "                                      test_mention_classification_preds_coder['Pred Prob'], \n",
    "                                      test_mention_classification_preds_scibert['Pred Prob']):\n",
    "    if yhat1 == yhat2:\n",
    "        lstm_ensemble_labels.append(yhat1)\n",
    "        prob_ensemble_labels.append(max([prob1, prob2]))\n",
    "    else:\n",
    "        argmax = np.argmax([prob1, prob2])\n",
    "        if argmax == 0:\n",
    "            lstm_ensemble_labels.append(yhat1)\n",
    "            prob_ensemble_labels.append(prob1)\n",
    "        else:\n",
    "            lstm_ensemble_labels.append(yhat2)\n",
    "            prob_ensemble_labels.append(prob2)"
   ]
  },
  {
   "cell_type": "code",
   "execution_count": 22,
   "metadata": {
    "collapsed": true,
    "execution": {
     "iopub.execute_input": "2021-06-01T01:21:33.138586Z",
     "iopub.status.busy": "2021-06-01T01:21:33.138149Z",
     "iopub.status.idle": "2021-06-01T01:22:05.881648Z",
     "shell.execute_reply": "2021-06-01T01:22:05.880722Z",
     "shell.execute_reply.started": "2021-06-01T01:21:33.138545Z"
    },
    "jupyter": {
     "outputs_hidden": true,
     "source_hidden": true
    }
   },
   "outputs": [
    {
     "name": "stderr",
     "output_type": "stream",
     "text": [
      "270657it [00:27, 9753.08it/s]\n"
     ]
    },
    {
     "name": "stdout",
     "output_type": "stream",
     "text": [
      "                                     precision    recall  f1-score   support\n",
      "\n",
      "               anatomical_structure      0.581     0.590     0.585      3768\n",
      "                          bacterium      0.665     0.699     0.682       449\n",
      "                  biologic_function      0.642     0.679     0.660      8102\n",
      "biomedical_occupation_or_discipline      0.477     0.378     0.422       196\n",
      "                     body_substance      0.613     0.679     0.644       212\n",
      "                        body_system      0.593     0.360     0.448        89\n",
      "                           chemical      0.724     0.784     0.753      7396\n",
      "                 clinical_attribute      0.516     0.588     0.550       323\n",
      "                          eukaryote      0.701     0.747     0.724      1748\n",
      "                            finding      0.504     0.333     0.401      3209\n",
      "                               food      0.520     0.475     0.497       322\n",
      "               health_care_activity      0.580     0.615     0.597      4784\n",
      "                injury_or_poisoning      0.582     0.577     0.579       352\n",
      "               intellectual_product      0.502     0.453     0.476      2364\n",
      "                     medical_device      0.509     0.324     0.396       355\n",
      "                       organization      0.542     0.552     0.547       382\n",
      "                   population_group      0.690     0.709     0.699      1263\n",
      " professional_or_occupational_group      0.589     0.742     0.657       360\n",
      "                  research_activity      0.579     0.690     0.630      1847\n",
      "                    spatial_concept      0.490     0.512     0.501      2406\n",
      "                              virus      0.612     0.797     0.692       172\n",
      "\n",
      "                          micro avg      0.616     0.627     0.622     40099\n",
      "                          macro avg      0.581     0.585     0.578     40099\n",
      "                       weighted avg      0.611     0.627     0.616     40099\n",
      "\n"
     ]
    }
   ],
   "source": [
    "test_mention_classification_preds_coder['Ensemble Labels'] = lstm_ensemble_labels\n",
    "test_mention_classification_preds_coder['Ensemble Prob'] = prob_ensemble_labels\n",
    "\n",
    "x, y, yhat = [], [], []\n",
    "xseq, yseq, yseq_hat = [], [], []\n",
    "\n",
    "for idx, seq in tqdm(test_mention_classification_preds_coder.iterrows()):\n",
    "    if seq['Tokens'] not in ['[SEP]', '[CLS]']:\n",
    "        yseq.append(seq['Gold Label'])\n",
    "        yseq_hat.append(seq['Ensemble Labels'])\n",
    "        xseq.append(seq['Tokens'])\n",
    "    else:\n",
    "        if seq['Tokens'] == '[SEP]':\n",
    "            y.append(yseq)\n",
    "            yhat.append(yseq_hat)\n",
    "            x.append(xseq)\n",
    "        elif seq['Tokens'] == '[CLS]':\n",
    "            xseq, yseq, yseq_hat = [], [], []\n",
    "            \n",
    "print(classification_report(y, yhat, digits=3, mode='strict', scheme=IOB2))"
   ]
  },
  {
   "cell_type": "markdown",
   "metadata": {},
   "source": [
    "### Train Data"
   ]
  },
  {
   "cell_type": "code",
   "execution_count": 26,
   "metadata": {
    "execution": {
     "iopub.execute_input": "2021-06-01T01:32:41.502549Z",
     "iopub.status.busy": "2021-06-01T01:32:41.502052Z",
     "iopub.status.idle": "2021-06-01T01:32:53.443684Z",
     "shell.execute_reply": "2021-06-01T01:32:53.442687Z",
     "shell.execute_reply.started": "2021-06-01T01:32:41.502498Z"
    }
   },
   "outputs": [
    {
     "name": "stderr",
     "output_type": "stream",
     "text": [
      "93158it [00:09, 9752.51it/s]\n"
     ]
    },
    {
     "name": "stdout",
     "output_type": "stream",
     "text": [
      "                                     precision    recall  f1-score   support\n",
      "\n",
      "               anatomical_structure      0.778     0.771     0.774      1435\n",
      "                          bacterium      0.817     0.887     0.851       106\n",
      "                  biologic_function      0.761     0.763     0.762      2976\n",
      "biomedical_occupation_or_discipline      0.704     0.500     0.585        38\n",
      "                     body_substance      0.841     0.671     0.746        79\n",
      "                        body_system      0.818     0.750     0.783        24\n",
      "                           chemical      0.795     0.868     0.830      2586\n",
      "                 clinical_attribute      0.692     0.643     0.667       115\n",
      "                          eukaryote      0.843     0.850     0.847       461\n",
      "                            finding      0.725     0.521     0.606      1093\n",
      "                               food      0.727     0.800     0.762        50\n",
      "               health_care_activity      0.671     0.723     0.696      1767\n",
      "                injury_or_poisoning      0.687     0.667     0.677       102\n",
      "               intellectual_product      0.674     0.651     0.662       728\n",
      "                     medical_device      0.798     0.673     0.730       153\n",
      "                       organization      0.682     0.638     0.659       141\n",
      "                   population_group      0.806     0.845     0.825       457\n",
      " professional_or_occupational_group      0.774     0.866     0.817       142\n",
      "                  research_activity      0.644     0.732     0.685       667\n",
      "                    spatial_concept      0.714     0.685     0.699       854\n",
      "                              virus      0.875     0.907     0.891       108\n",
      "\n",
      "                          micro avg      0.747     0.751     0.749     14082\n",
      "                          macro avg      0.754     0.734     0.741     14082\n",
      "                       weighted avg      0.746     0.751     0.746     14082\n",
      "\n"
     ]
    }
   ],
   "source": [
    "lstm_ensemble_labels, prob_ensemble_labels = [], []\n",
    "count = 0\n",
    "for yhat1, yhat2, yhat3, yhat4, yhat5 in zip(train_mention_classification_preds_coder['Pred Label'], \n",
    "                                             train_mention_classification_preds_scibert['Pred Label'],\n",
    "                                             train_mention_classification_preds_biobert['Pred Label'],\n",
    "                                             train_mention_classification_preds_umlsbert['Pred Label'],\n",
    "                                             train_nn_classification_preds_coder['Predicted Label']):\n",
    "    \n",
    "    preds_counter = Counter([yhat1, yhat2, yhat3, yhat4, yhat5])\n",
    "    most_common_pred = preds_counter.most_common(1)[0][0]\n",
    "    lstm_ensemble_labels.append(most_common_pred)\n",
    "    \n",
    "train_mention_classification_preds_coder['Ensemble Labels'] = lstm_ensemble_labels\n",
    "\n",
    "x, y, yhat = [], [], []\n",
    "xseq, yseq, yseq_hat = [], [], []\n",
    "\n",
    "for idx, seq in tqdm(train_mention_classification_preds_coder.iterrows()):\n",
    "    if seq['Tokens'] not in ['[SEP]', '[CLS]']:\n",
    "        yseq.append(seq['Gold Label'])\n",
    "        yseq_hat.append(seq['Ensemble Labels'])\n",
    "        xseq.append(seq['Tokens'])\n",
    "    else:\n",
    "        if seq['Tokens'] == '[SEP]':\n",
    "            y.append(yseq)\n",
    "            yhat.append(yseq_hat)\n",
    "            x.append(xseq)\n",
    "        elif seq['Tokens'] == '[CLS]':\n",
    "            xseq, yseq, yseq_hat = [], [], []\n",
    "            \n",
    "print(classification_report(y, yhat, digits=3, mode='strict', scheme=IOB2))"
   ]
  },
  {
   "cell_type": "markdown",
   "metadata": {},
   "source": [
    "### Test Data"
   ]
  },
  {
   "cell_type": "code",
   "execution_count": 24,
   "metadata": {
    "execution": {
     "iopub.execute_input": "2021-06-01T01:27:35.766989Z",
     "iopub.status.busy": "2021-06-01T01:27:35.766555Z",
     "iopub.status.idle": "2021-06-01T01:28:08.155530Z",
     "shell.execute_reply": "2021-06-01T01:28:08.154601Z",
     "shell.execute_reply.started": "2021-06-01T01:27:35.766948Z"
    }
   },
   "outputs": [
    {
     "name": "stderr",
     "output_type": "stream",
     "text": [
      "270657it [00:27, 9799.50it/s] \n"
     ]
    },
    {
     "name": "stdout",
     "output_type": "stream",
     "text": [
      "                                     precision    recall  f1-score   support\n",
      "\n",
      "               anatomical_structure      0.597     0.572     0.585      3768\n",
      "                          bacterium      0.696     0.677     0.686       449\n",
      "                  biologic_function      0.650     0.679     0.665      8102\n",
      "biomedical_occupation_or_discipline      0.514     0.383     0.439       196\n",
      "                     body_substance      0.650     0.693     0.671       212\n",
      "                        body_system      0.689     0.348     0.463        89\n",
      "                           chemical      0.715     0.796     0.753      7396\n",
      "                 clinical_attribute      0.625     0.594     0.610       323\n",
      "                          eukaryote      0.697     0.743     0.719      1748\n",
      "                            finding      0.531     0.332     0.409      3209\n",
      "                               food      0.542     0.438     0.485       322\n",
      "               health_care_activity      0.589     0.606     0.597      4784\n",
      "                injury_or_poisoning      0.591     0.554     0.572       352\n",
      "               intellectual_product      0.509     0.437     0.470      2364\n",
      "                     medical_device      0.494     0.335     0.399       355\n",
      "                       organization      0.560     0.573     0.567       382\n",
      "                   population_group      0.732     0.705     0.718      1263\n",
      " professional_or_occupational_group      0.578     0.728     0.645       360\n",
      "                  research_activity      0.590     0.679     0.631      1847\n",
      "                    spatial_concept      0.528     0.506     0.517      2406\n",
      "                              virus      0.641     0.808     0.715       172\n",
      "\n",
      "                          micro avg      0.628     0.624     0.626     40099\n",
      "                          macro avg      0.606     0.580     0.586     40099\n",
      "                       weighted avg      0.622     0.624     0.620     40099\n",
      "\n"
     ]
    }
   ],
   "source": [
    "from collections import Counter\n",
    "lstm_ensemble_labels, prob_ensemble_labels = [], []\n",
    "count = 0\n",
    "for yhat1, yhat2, yhat3, yhat4, yhat5 in zip(test_mention_classification_preds_coder['Pred Label'], \n",
    "                                             test_mention_classification_preds_scibert['Pred Label'],\n",
    "                                             test_mention_classification_preds_biobert['Pred Label'],\n",
    "                                             test_mention_classification_preds_umlsbert['Pred Label'],\n",
    "                                             test_nn_classification_preds_coder['Predicted Label']):\n",
    "    \n",
    "    preds_counter = Counter([yhat1, yhat2, yhat3, yhat4, yhat5])\n",
    "    most_common_pred = preds_counter.most_common(1)[0][0]\n",
    "    lstm_ensemble_labels.append(most_common_pred)\n",
    "\n",
    "test_mention_classification_preds_coder['Ensemble Labels'] = lstm_ensemble_labels\n",
    "\n",
    "x, y, yhat = [], [], []\n",
    "xseq, yseq, yseq_hat = [], [], []\n",
    "\n",
    "for idx, seq in tqdm(test_mention_classification_preds_coder.iterrows()):\n",
    "    if seq['Tokens'] not in ['[SEP]', '[CLS]']:\n",
    "        yseq.append(seq['Gold Label'])\n",
    "        yseq_hat.append(seq['Ensemble Labels'])\n",
    "        xseq.append(seq['Tokens'])\n",
    "    else:\n",
    "        if seq['Tokens'] == '[SEP]':\n",
    "            y.append(yseq)\n",
    "            yhat.append(yseq_hat)\n",
    "            x.append(xseq)\n",
    "        elif seq['Tokens'] == '[CLS]':\n",
    "            xseq, yseq, yseq_hat = [], [], []\n",
    "            \n",
    "print(classification_report(y, yhat, digits=3, mode='strict', scheme=IOB2))"
   ]
  },
  {
   "cell_type": "code",
   "execution_count": 30,
   "metadata": {
    "execution": {
     "iopub.execute_input": "2021-06-01T01:43:39.062171Z",
     "iopub.status.busy": "2021-06-01T01:43:39.061753Z",
     "iopub.status.idle": "2021-06-01T01:52:57.289153Z",
     "shell.execute_reply": "2021-06-01T01:52:57.288120Z",
     "shell.execute_reply.started": "2021-06-01T01:43:39.062134Z"
    }
   },
   "outputs": [
    {
     "name": "stderr",
     "output_type": "stream",
     "text": [
      "93158it [00:09, 9658.15it/s]\n"
     ]
    },
    {
     "name": "stdout",
     "output_type": "stream",
     "text": [
      "Cosine Similarity Threeshold:  0.89\n"
     ]
    },
    {
     "name": "stderr",
     "output_type": "stream",
     "text": [
      "93158it [00:09, 9697.21it/s]\n"
     ]
    },
    {
     "name": "stdout",
     "output_type": "stream",
     "text": [
      "Cosine Similarity Threeshold:  0.892\n"
     ]
    },
    {
     "name": "stderr",
     "output_type": "stream",
     "text": [
      "93158it [00:09, 9796.17it/s]\n"
     ]
    },
    {
     "name": "stdout",
     "output_type": "stream",
     "text": [
      "Cosine Similarity Threeshold:  0.894\n"
     ]
    },
    {
     "name": "stderr",
     "output_type": "stream",
     "text": [
      "93158it [00:09, 9685.79it/s]\n"
     ]
    },
    {
     "name": "stdout",
     "output_type": "stream",
     "text": [
      "Cosine Similarity Threeshold:  0.896\n"
     ]
    },
    {
     "name": "stderr",
     "output_type": "stream",
     "text": [
      "93158it [00:09, 9627.45it/s] \n"
     ]
    },
    {
     "name": "stdout",
     "output_type": "stream",
     "text": [
      "Cosine Similarity Threeshold:  0.898\n"
     ]
    },
    {
     "name": "stderr",
     "output_type": "stream",
     "text": [
      "93158it [00:09, 9544.72it/s]\n"
     ]
    },
    {
     "name": "stdout",
     "output_type": "stream",
     "text": [
      "Cosine Similarity Threeshold:  0.9\n"
     ]
    },
    {
     "name": "stderr",
     "output_type": "stream",
     "text": [
      "93158it [00:09, 9563.12it/s]\n"
     ]
    },
    {
     "name": "stdout",
     "output_type": "stream",
     "text": [
      "Cosine Similarity Threeshold:  0.902\n"
     ]
    },
    {
     "name": "stderr",
     "output_type": "stream",
     "text": [
      "93158it [00:09, 9764.19it/s]\n"
     ]
    },
    {
     "name": "stdout",
     "output_type": "stream",
     "text": [
      "Cosine Similarity Threeshold:  0.904\n"
     ]
    },
    {
     "name": "stderr",
     "output_type": "stream",
     "text": [
      "93158it [00:09, 9708.00it/s] \n"
     ]
    },
    {
     "name": "stdout",
     "output_type": "stream",
     "text": [
      "Cosine Similarity Threeshold:  0.906\n"
     ]
    },
    {
     "name": "stderr",
     "output_type": "stream",
     "text": [
      "93158it [00:09, 9743.79it/s] \n"
     ]
    },
    {
     "name": "stdout",
     "output_type": "stream",
     "text": [
      "Cosine Similarity Threeshold:  0.908\n"
     ]
    },
    {
     "name": "stderr",
     "output_type": "stream",
     "text": [
      "93158it [00:09, 9719.73it/s]\n"
     ]
    },
    {
     "name": "stdout",
     "output_type": "stream",
     "text": [
      "Cosine Similarity Threeshold:  0.91\n"
     ]
    },
    {
     "name": "stderr",
     "output_type": "stream",
     "text": [
      "93158it [00:09, 9675.89it/s]\n"
     ]
    },
    {
     "name": "stdout",
     "output_type": "stream",
     "text": [
      "Cosine Similarity Threeshold:  0.912\n"
     ]
    },
    {
     "name": "stderr",
     "output_type": "stream",
     "text": [
      "93158it [00:09, 9761.91it/s]\n"
     ]
    },
    {
     "name": "stdout",
     "output_type": "stream",
     "text": [
      "Cosine Similarity Threeshold:  0.914\n"
     ]
    },
    {
     "name": "stderr",
     "output_type": "stream",
     "text": [
      "93158it [00:09, 9452.05it/s]\n"
     ]
    },
    {
     "name": "stdout",
     "output_type": "stream",
     "text": [
      "Cosine Similarity Threeshold:  0.916\n"
     ]
    },
    {
     "name": "stderr",
     "output_type": "stream",
     "text": [
      "93158it [00:09, 9849.13it/s] \n"
     ]
    },
    {
     "name": "stdout",
     "output_type": "stream",
     "text": [
      "Cosine Similarity Threeshold:  0.918\n"
     ]
    },
    {
     "name": "stderr",
     "output_type": "stream",
     "text": [
      "93158it [00:09, 9705.34it/s]\n"
     ]
    },
    {
     "name": "stdout",
     "output_type": "stream",
     "text": [
      "Cosine Similarity Threeshold:  0.92\n"
     ]
    },
    {
     "name": "stderr",
     "output_type": "stream",
     "text": [
      "93158it [00:09, 9808.50it/s]\n"
     ]
    },
    {
     "name": "stdout",
     "output_type": "stream",
     "text": [
      "Cosine Similarity Threeshold:  0.922\n"
     ]
    },
    {
     "name": "stderr",
     "output_type": "stream",
     "text": [
      "93158it [00:09, 9780.41it/s]\n"
     ]
    },
    {
     "name": "stdout",
     "output_type": "stream",
     "text": [
      "Cosine Similarity Threeshold:  0.924\n"
     ]
    },
    {
     "name": "stderr",
     "output_type": "stream",
     "text": [
      "93158it [00:09, 9797.55it/s]\n"
     ]
    },
    {
     "name": "stdout",
     "output_type": "stream",
     "text": [
      "Cosine Similarity Threeshold:  0.926\n"
     ]
    },
    {
     "name": "stderr",
     "output_type": "stream",
     "text": [
      "93158it [00:09, 9825.04it/s] \n"
     ]
    },
    {
     "name": "stdout",
     "output_type": "stream",
     "text": [
      "Cosine Similarity Threeshold:  0.928\n"
     ]
    },
    {
     "name": "stderr",
     "output_type": "stream",
     "text": [
      "93158it [00:09, 9696.43it/s]\n"
     ]
    },
    {
     "name": "stdout",
     "output_type": "stream",
     "text": [
      "Cosine Similarity Threeshold:  0.93\n"
     ]
    },
    {
     "name": "stderr",
     "output_type": "stream",
     "text": [
      "93158it [00:09, 9752.46it/s]\n"
     ]
    },
    {
     "name": "stdout",
     "output_type": "stream",
     "text": [
      "Cosine Similarity Threeshold:  0.932\n"
     ]
    },
    {
     "name": "stderr",
     "output_type": "stream",
     "text": [
      "93158it [00:09, 9797.01it/s]\n"
     ]
    },
    {
     "name": "stdout",
     "output_type": "stream",
     "text": [
      "Cosine Similarity Threeshold:  0.934\n"
     ]
    },
    {
     "name": "stderr",
     "output_type": "stream",
     "text": [
      "93158it [00:09, 9802.67it/s] \n"
     ]
    },
    {
     "name": "stdout",
     "output_type": "stream",
     "text": [
      "Cosine Similarity Threeshold:  0.936\n"
     ]
    },
    {
     "name": "stderr",
     "output_type": "stream",
     "text": [
      "93158it [00:09, 9792.98it/s] \n"
     ]
    },
    {
     "name": "stdout",
     "output_type": "stream",
     "text": [
      "Cosine Similarity Threeshold:  0.9380000000000001\n"
     ]
    },
    {
     "name": "stderr",
     "output_type": "stream",
     "text": [
      "93158it [00:09, 9729.30it/s]\n"
     ]
    },
    {
     "name": "stdout",
     "output_type": "stream",
     "text": [
      "Cosine Similarity Threeshold:  0.9400000000000001\n"
     ]
    },
    {
     "name": "stderr",
     "output_type": "stream",
     "text": [
      "93158it [00:09, 9767.63it/s]\n"
     ]
    },
    {
     "name": "stdout",
     "output_type": "stream",
     "text": [
      "Cosine Similarity Threeshold:  0.9420000000000001\n"
     ]
    },
    {
     "name": "stderr",
     "output_type": "stream",
     "text": [
      "93158it [00:09, 9628.17it/s] \n"
     ]
    },
    {
     "name": "stdout",
     "output_type": "stream",
     "text": [
      "Cosine Similarity Threeshold:  0.9440000000000001\n"
     ]
    },
    {
     "name": "stderr",
     "output_type": "stream",
     "text": [
      "93158it [00:09, 9651.49it/s]\n"
     ]
    },
    {
     "name": "stdout",
     "output_type": "stream",
     "text": [
      "Cosine Similarity Threeshold:  0.9460000000000001\n"
     ]
    },
    {
     "name": "stderr",
     "output_type": "stream",
     "text": [
      "93158it [00:09, 9774.95it/s]\n"
     ]
    },
    {
     "name": "stdout",
     "output_type": "stream",
     "text": [
      "Cosine Similarity Threeshold:  0.9480000000000001\n"
     ]
    },
    {
     "name": "stderr",
     "output_type": "stream",
     "text": [
      "93158it [00:09, 9760.34it/s]\n"
     ]
    },
    {
     "name": "stdout",
     "output_type": "stream",
     "text": [
      "Cosine Similarity Threeshold:  0.9500000000000001\n"
     ]
    },
    {
     "name": "stderr",
     "output_type": "stream",
     "text": [
      "93158it [00:09, 9687.33it/s]\n"
     ]
    },
    {
     "name": "stdout",
     "output_type": "stream",
     "text": [
      "Cosine Similarity Threeshold:  0.9520000000000001\n"
     ]
    },
    {
     "name": "stderr",
     "output_type": "stream",
     "text": [
      "93158it [00:09, 9658.37it/s]\n"
     ]
    },
    {
     "name": "stdout",
     "output_type": "stream",
     "text": [
      "Cosine Similarity Threeshold:  0.9540000000000001\n"
     ]
    },
    {
     "name": "stderr",
     "output_type": "stream",
     "text": [
      "93158it [00:09, 9721.47it/s]\n"
     ]
    },
    {
     "name": "stdout",
     "output_type": "stream",
     "text": [
      "Cosine Similarity Threeshold:  0.9560000000000001\n"
     ]
    },
    {
     "name": "stderr",
     "output_type": "stream",
     "text": [
      "93158it [00:09, 9791.26it/s]\n"
     ]
    },
    {
     "name": "stdout",
     "output_type": "stream",
     "text": [
      "Cosine Similarity Threeshold:  0.9580000000000001\n"
     ]
    },
    {
     "name": "stderr",
     "output_type": "stream",
     "text": [
      "93158it [00:09, 9753.86it/s]\n"
     ]
    },
    {
     "name": "stdout",
     "output_type": "stream",
     "text": [
      "Cosine Similarity Threeshold:  0.96\n"
     ]
    },
    {
     "name": "stderr",
     "output_type": "stream",
     "text": [
      "93158it [00:09, 9773.15it/s]\n"
     ]
    },
    {
     "name": "stdout",
     "output_type": "stream",
     "text": [
      "Cosine Similarity Threeshold:  0.962\n"
     ]
    },
    {
     "name": "stderr",
     "output_type": "stream",
     "text": [
      "93158it [00:09, 9634.90it/s]\n"
     ]
    },
    {
     "name": "stdout",
     "output_type": "stream",
     "text": [
      "Cosine Similarity Threeshold:  0.964\n"
     ]
    },
    {
     "name": "stderr",
     "output_type": "stream",
     "text": [
      "93158it [00:09, 9449.92it/s]\n"
     ]
    },
    {
     "name": "stdout",
     "output_type": "stream",
     "text": [
      "Cosine Similarity Threeshold:  0.966\n"
     ]
    },
    {
     "name": "stderr",
     "output_type": "stream",
     "text": [
      "93158it [00:09, 9774.80it/s]\n"
     ]
    },
    {
     "name": "stdout",
     "output_type": "stream",
     "text": [
      "Cosine Similarity Threeshold:  0.968\n"
     ]
    },
    {
     "name": "stderr",
     "output_type": "stream",
     "text": [
      "93158it [00:09, 9812.93it/s] \n"
     ]
    },
    {
     "name": "stdout",
     "output_type": "stream",
     "text": [
      "Cosine Similarity Threeshold:  0.97\n"
     ]
    }
   ],
   "source": [
    "cosine_threesholds = range(890, 972, 2)\n",
    "cosine_threesholds = [three*0.001 for three in cosine_threesholds]\n",
    "prob_threeshold = 0.7\n",
    "f1_scores, precision_scores , recall_scores = [], [], []\n",
    "for three in cosine_threesholds:\n",
    "    new_labels = []\n",
    "    for yhat1, yhat2, cosine, prob in zip(train_mention_classification_preds_coder['Ensemble Labels'], \n",
    "                                train_nn_classification_preds_coder['Predicted Label'], \n",
    "                                train_nn_classification_preds_coder['Cosine Similarity'],\n",
    "                                train_mention_classification_preds_coder['Ensemble Prob']):\n",
    "    \n",
    "\n",
    "        if yhat1 == yhat2:\n",
    "            new_labels.append(yhat1)\n",
    "        else:\n",
    "            if cosine > three and prob < prob_threeshold:\n",
    "                new_labels.append(yhat2)\n",
    "            else:\n",
    "                new_labels.append(yhat1) \n",
    "                \n",
    "    train_mention_classification_preds_coder['New Labels'] = new_labels\n",
    "\n",
    "    x, y, yhat = [], [], []\n",
    "    xseq, yseq, yseq_hat = [], [], []\n",
    "    for idx, seq in tqdm(train_mention_classification_preds_coder.iterrows()):\n",
    "        if seq['Tokens'] not in ['[SEP]', '[CLS]']:\n",
    "            yseq.append(seq['Gold Label'])\n",
    "            yseq_hat.append(seq['New Labels'])\n",
    "            xseq.append(seq['Tokens'])\n",
    "        else:\n",
    "            if seq['Tokens'] == '[SEP]':\n",
    "                y.append(yseq)\n",
    "                yhat.append(yseq_hat)\n",
    "                x.append(xseq)\n",
    "            elif seq['Tokens'] == '[CLS]':\n",
    "                xseq, yseq, yseq_hat = [], [], []\n",
    "    \n",
    "    print(\"Cosine Similarity Threeshold: \", three)\n",
    "    f1_scores.append(f1_score(y, yhat, mode='strict', scheme=IOB2))\n",
    "    precision_scores.append(precision_score(y, yhat, mode='strict', scheme=IOB2))\n",
    "    recall_scores.append(recall_score(y, yhat, mode='strict', scheme=IOB2))"
   ]
  },
  {
   "cell_type": "code",
   "execution_count": 31,
   "metadata": {
    "execution": {
     "iopub.execute_input": "2021-06-01T01:58:04.008236Z",
     "iopub.status.busy": "2021-06-01T01:58:04.007749Z",
     "iopub.status.idle": "2021-06-01T01:58:04.553872Z",
     "shell.execute_reply": "2021-06-01T01:58:04.552304Z",
     "shell.execute_reply.started": "2021-06-01T01:58:04.008182Z"
    }
   },
   "outputs": [
    {
     "data": {
      "image/png": "[encoded data removed]",
      "text/plain": [
       "<Figure size 1800x1080 with 1 Axes>"
      ]
     },
     "metadata": {
      "needs_background": "light"
     },
     "output_type": "display_data"
    }
   ],
   "source": [
    "import math\n",
    "import matplotlib.pyplot as plt\n",
    "def make_plot():\n",
    "    plt.figure(figsize=(25,15))\n",
    "    plt.plot(cosine_threesholds, f1_scores,  label=\"F1\", linewidth=4)\n",
    "    plt.plot(cosine_threesholds, precision_scores, label=\"Precision\", linewidth=4)\n",
    "    plt.plot(cosine_threesholds, recall_scores, label=\"Recall\", linewidth=4)\n",
    "    plt.xlabel('Threesholds', fontsize=50)\n",
    "    plt.ylabel(\"Metrics\", fontsize=50)\n",
    "    plt.legend(fontsize=50)\n",
    "    plt.xticks(fontsize=50)\n",
    "    plt.yticks(fontsize=50)\n",
    "    plt.grid()\n",
    "    plt.tight_layout()\n",
    "    plt.savefig('scores_with_threeshold.pdf')\n",
    "    plt.show()\n",
    "    \n",
    "make_plot()"
   ]
  },
  {
   "cell_type": "markdown",
   "metadata": {},
   "source": [
    "## Using The optimal cosine similarity on test data"
   ]
  },
  {
   "cell_type": "code",
   "execution_count": 32,
   "metadata": {
    "execution": {
     "iopub.execute_input": "2021-06-01T01:58:23.266291Z",
     "iopub.status.busy": "2021-06-01T01:58:23.265830Z",
     "iopub.status.idle": "2021-06-01T01:58:56.343399Z",
     "shell.execute_reply": "2021-06-01T01:58:56.341944Z",
     "shell.execute_reply.started": "2021-06-01T01:58:23.266252Z"
    }
   },
   "outputs": [
    {
     "name": "stderr",
     "output_type": "stream",
     "text": [
      "270657it [00:28, 9660.53it/s]\n"
     ]
    },
    {
     "name": "stdout",
     "output_type": "stream",
     "text": [
      "                                     precision    recall  f1-score   support\n",
      "\n",
      "               anatomical_structure      0.603     0.578     0.590      3768\n",
      "                          bacterium      0.709     0.679     0.694       449\n",
      "                  biologic_function      0.657     0.685     0.671      8102\n",
      "biomedical_occupation_or_discipline      0.477     0.423     0.449       196\n",
      "                     body_substance      0.642     0.703     0.671       212\n",
      "                        body_system      0.689     0.348     0.463        89\n",
      "                           chemical      0.714     0.796     0.753      7396\n",
      "                 clinical_attribute      0.645     0.613     0.629       323\n",
      "                          eukaryote      0.696     0.749     0.721      1748\n",
      "                            finding      0.521     0.347     0.417      3209\n",
      "                               food      0.563     0.472     0.514       322\n",
      "               health_care_activity      0.585     0.609     0.597      4784\n",
      "                injury_or_poisoning      0.602     0.568     0.585       352\n",
      "               intellectual_product      0.501     0.445     0.471      2364\n",
      "                     medical_device      0.485     0.369     0.419       355\n",
      "                       organization      0.561     0.581     0.571       382\n",
      "                   population_group      0.736     0.713     0.724      1263\n",
      " professional_or_occupational_group      0.583     0.742     0.653       360\n",
      "                  research_activity      0.589     0.682     0.632      1847\n",
      "                    spatial_concept      0.527     0.517     0.522      2406\n",
      "                              virus      0.641     0.820     0.719       172\n",
      "\n",
      "                          micro avg      0.628     0.631     0.629     40099\n",
      "                          macro avg      0.606     0.592     0.593     40099\n",
      "                       weighted avg      0.622     0.631     0.624     40099\n",
      "\n"
     ]
    }
   ],
   "source": [
    "optimal_threeshold = 0.946 #0.92\n",
    "prob_threeshold = 0.6 #0.7\n",
    "new_labels = []\n",
    "for yhat1, yhat2, cosine, prob in zip(test_mention_classification_preds_coder['Ensemble Labels'], \n",
    "                                test_nn_classification_preds_coder['Predicted Label'], \n",
    "                                test_nn_classification_preds_coder['Cosine Similarity'],\n",
    "                                test_mention_classification_preds_coder['Ensemble Prob']):\n",
    "    \n",
    "    if yhat1 == yhat2:\n",
    "        new_labels.append(yhat1)\n",
    "    else:\n",
    "        if cosine > optimal_threeshold and prob < prob_threeshold:\n",
    "            new_labels.append(yhat2)\n",
    "        else:\n",
    "            new_labels.append(yhat1) \n",
    "\n",
    "test_mention_classification_preds_coder['New Labels'] = new_labels\n",
    "\n",
    "x, y, yhat = [], [], []\n",
    "xseq, yseq, yseq_hat = [], [], []\n",
    "\n",
    "for idx, seq in tqdm(test_mention_classification_preds_coder.iterrows()):\n",
    "    if seq['Tokens'] not in ['[SEP]', '[CLS]']:\n",
    "        yseq.append(seq['Gold Label'])\n",
    "        yseq_hat.append(seq['New Labels'])\n",
    "        xseq.append(seq['Tokens'])\n",
    "    else:\n",
    "        if seq['Tokens'] == '[SEP]':\n",
    "            y.append(yseq)\n",
    "            yhat.append(yseq_hat)\n",
    "            x.append(xseq)\n",
    "        elif seq['Tokens'] == '[CLS]':\n",
    "            xseq, yseq, yseq_hat = [], [], []\n",
    "            \n",
    "print(classification_report(y, yhat, digits=3, mode='strict', scheme=IOB2))"
   ]
  },
  {
   "cell_type": "code",
   "execution_count": 33,
   "metadata": {
    "execution": {
     "iopub.execute_input": "2021-06-01T02:00:45.015249Z",
     "iopub.status.busy": "2021-06-01T02:00:45.014878Z",
     "iopub.status.idle": "2021-06-01T02:00:45.025306Z",
     "shell.execute_reply": "2021-06-01T02:00:45.023900Z",
     "shell.execute_reply.started": "2021-06-01T02:00:45.015216Z"
    }
   },
   "outputs": [
    {
     "name": "stdout",
     "output_type": "stream",
     "text": [
      "Token                               Gold                                     Prediction                              \n",
      "_____                               ____                                     __________                              \n",
      "in                                  O                                        O                                       \n",
      "fact                                O                                        O                                       \n",
      ",                                   O                                        O                                       \n",
      "both                                O                                        O                                       \n",
      "the                                 O                                        O                                       \n",
      "resistive                           O                                        O                                       \n",
      "and                                 O                                        O                                       \n",
      "elastic                             O                                        O                                       \n",
      "components                          O                                        O                                       \n",
      "of                                  O                                        O                                       \n",
      "the                                 O                                        O                                       \n",
      "work                                O                                        I-biologic_function                     \n",
      "of                                  O                                        I-biologic_function                     \n",
      "breathing                           B-biologic_function                      I-biologic_function                     \n",
      "increase                            O                                        O                                       \n",
      "due                                 O                                        O                                       \n",
      "to                                  O                                        O                                       \n",
      "airway                              B-biologic_function                      B-anatomical_structure                  \n",
      "obstruction                         I-biologic_function                      I-biologic_function                     \n",
      "and                                 O                                        O                                       \n",
      "chest                               B-anatomical_structure                   B-anatomical_structure                  \n",
      "wall                                I-anatomical_structure                   I-anatomical_structure                  \n",
      "and                                 O                                        O                                       \n",
      "lung                                B-anatomical_structure                   B-anatomical_structure                  \n",
      "stiffening                          B-finding                                I-finding                               \n",
      ",                                   O                                        O                                       \n",
      "respectively                        O                                        O                                       \n",
      ".                                   O                                        O                                       \n"
     ]
    }
   ],
   "source": [
    "print(\"{0:35} {1:40} {2:40}\".format('Token', 'Gold', 'Prediction'))\n",
    "print(\"{0:35} {1:40} {2:40}\".format('_____', '____', '__________'))\n",
    "\n",
    "for x_, y_sample, yhat_sample in zip(x[2021], y[2021], yhat[2021]):\n",
    "    print(\"{0:35} {1:40} {2:40}\".format(x_, y_sample, yhat_sample))  "
   ]
  },
  {
   "cell_type": "markdown",
   "metadata": {},
   "source": [
    "+++++++++++++++++++++++++++++++++++++++++++++++++++++++++++++++++++++++++++++++++++++++++++++++++++++++++++++++++++++++++++++++++++++++++++++++++++++++++"
   ]
  },
  {
   "cell_type": "markdown",
   "metadata": {},
   "source": [
    "# LSTM Mention Detection Model Results"
   ]
  },
  {
   "cell_type": "markdown",
   "metadata": {},
   "source": [
    "## CODER LSTM"
   ]
  },
  {
   "cell_type": "markdown",
   "metadata": {},
   "source": [
    "### Train Data"
   ]
  },
  {
   "cell_type": "code",
   "execution_count": 34,
   "metadata": {
    "execution": {
     "iopub.execute_input": "2021-06-01T02:00:57.492734Z",
     "iopub.status.busy": "2021-06-01T02:00:57.492352Z",
     "iopub.status.idle": "2021-06-01T02:01:08.990868Z",
     "shell.execute_reply": "2021-06-01T02:01:08.989827Z",
     "shell.execute_reply.started": "2021-06-01T02:00:57.492683Z"
    }
   },
   "outputs": [
    {
     "name": "stderr",
     "output_type": "stream",
     "text": [
      "93158it [00:10, 9254.73it/s]\n"
     ]
    },
    {
     "name": "stdout",
     "output_type": "stream",
     "text": [
      "              precision    recall  f1-score   support\n",
      "\n",
      "      Entity      0.770     0.757     0.764     14082\n",
      "\n",
      "   micro avg      0.770     0.757     0.764     14082\n",
      "   macro avg      0.770     0.757     0.764     14082\n",
      "weighted avg      0.770     0.757     0.764     14082\n",
      "\n"
     ]
    }
   ],
   "source": [
    "x, y, yhat = [], [], []\n",
    "xseq, yseq, yseq_hat = [], [], []\n",
    "for idx, seq in tqdm(train_mention_detection_preds_coder.iterrows()):\n",
    "    if seq['Tokens'] not in ['[SEP]', '[CLS]']:\n",
    "        if seq['Gold Label'] == 'O':\n",
    "            yseq.append(seq['Gold Label'])\n",
    "        else:\n",
    "            yseq.append(seq['Gold Label'][:2]+'Entity')\n",
    "        yseq_hat.append(seq['Detection Prediction'])\n",
    "        xseq.append(seq['Tokens'])\n",
    "    else:\n",
    "        if seq['Tokens'] == '[SEP]':\n",
    "            y.append(yseq)\n",
    "            yhat.append(yseq_hat)\n",
    "            x.append(xseq)\n",
    "        elif seq['Tokens'] == '[CLS]':\n",
    "            xseq, yseq, yseq_hat = [], [], []\n",
    "            \n",
    "print(classification_report(y, yhat, digits=3, mode='strict', scheme=IOB2))"
   ]
  },
  {
   "cell_type": "markdown",
   "metadata": {},
   "source": [
    "### Test Data"
   ]
  },
  {
   "cell_type": "code",
   "execution_count": 35,
   "metadata": {
    "execution": {
     "iopub.execute_input": "2021-06-01T02:01:21.047824Z",
     "iopub.status.busy": "2021-06-01T02:01:21.047409Z",
     "iopub.status.idle": "2021-06-01T02:01:54.193913Z",
     "shell.execute_reply": "2021-06-01T02:01:54.192821Z",
     "shell.execute_reply.started": "2021-06-01T02:01:21.047789Z"
    }
   },
   "outputs": [
    {
     "name": "stderr",
     "output_type": "stream",
     "text": [
      "270657it [00:29, 9267.09it/s]\n"
     ]
    },
    {
     "name": "stdout",
     "output_type": "stream",
     "text": [
      "              precision    recall  f1-score   support\n",
      "\n",
      "      Entity      0.711     0.695     0.703     40099\n",
      "\n",
      "   micro avg      0.711     0.695     0.703     40099\n",
      "   macro avg      0.711     0.695     0.703     40099\n",
      "weighted avg      0.711     0.695     0.703     40099\n",
      "\n"
     ]
    }
   ],
   "source": [
    "x, y, yhat = [], [], []\n",
    "xseq, yseq, yseq_hat = [], [], []\n",
    "for idx, seq in tqdm(test_mention_detection_preds_coder.iterrows()):\n",
    "    if seq['Tokens'] not in ['[SEP]', '[CLS]']:\n",
    "        if seq['Gold Label'] == 'O':\n",
    "            yseq.append(seq['Gold Label'])\n",
    "        else:\n",
    "            yseq.append(seq['Gold Label'][:2]+'Entity')\n",
    "        yseq_hat.append(seq['Detection Prediction'])\n",
    "        xseq.append(seq['Tokens'])\n",
    "    else:\n",
    "        if seq['Tokens'] == '[SEP]':\n",
    "            y.append(yseq)\n",
    "            yhat.append(yseq_hat)\n",
    "            x.append(xseq)\n",
    "        elif seq['Tokens'] == '[CLS]':\n",
    "            xseq, yseq, yseq_hat = [], [], []\n",
    "            \n",
    "print(classification_report(y, yhat, digits=3, mode='strict', scheme=IOB2))"
   ]
  },
  {
   "cell_type": "code",
   "execution_count": 36,
   "metadata": {
    "execution": {
     "iopub.execute_input": "2021-06-01T02:02:51.907182Z",
     "iopub.status.busy": "2021-06-01T02:02:51.906677Z",
     "iopub.status.idle": "2021-06-01T02:02:51.919360Z",
     "shell.execute_reply": "2021-06-01T02:02:51.917905Z",
     "shell.execute_reply.started": "2021-06-01T02:02:51.907137Z"
    }
   },
   "outputs": [
    {
     "name": "stdout",
     "output_type": "stream",
     "text": [
      "Token                               Gold                                     Prediction                              \n",
      "_____                               ____                                     __________                              \n",
      "in                                  O                                        O                                       \n",
      "fact                                O                                        O                                       \n",
      ",                                   O                                        O                                       \n",
      "both                                O                                        O                                       \n",
      "the                                 O                                        O                                       \n",
      "resistive                           O                                        O                                       \n",
      "and                                 O                                        O                                       \n",
      "elastic                             O                                        O                                       \n",
      "components                          O                                        O                                       \n",
      "of                                  O                                        O                                       \n",
      "the                                 O                                        O                                       \n",
      "work                                O                                        O                                       \n",
      "of                                  O                                        I-Entity                                \n",
      "breathing                           B-Entity                                 I-Entity                                \n",
      "increase                            O                                        O                                       \n",
      "due                                 O                                        O                                       \n",
      "to                                  O                                        O                                       \n",
      "airway                              B-Entity                                 B-Entity                                \n",
      "obstruction                         I-Entity                                 I-Entity                                \n",
      "and                                 O                                        O                                       \n",
      "chest                               B-Entity                                 B-Entity                                \n",
      "wall                                I-Entity                                 I-Entity                                \n",
      "and                                 O                                        O                                       \n",
      "lung                                B-Entity                                 B-Entity                                \n",
      "stiffening                          B-Entity                                 I-Entity                                \n",
      ",                                   O                                        O                                       \n",
      "respectively                        O                                        O                                       \n",
      ".                                   O                                        O                                       \n"
     ]
    }
   ],
   "source": [
    "print(\"{0:35} {1:40} {2:40}\".format('Token', 'Gold', 'Prediction'))\n",
    "print(\"{0:35} {1:40} {2:40}\".format('_____', '____', '__________'))\n",
    "\n",
    "for x_, y_sample, yhat_sample in zip(x[2021], y[2021], yhat[2021]):\n",
    "    print(\"{0:35} {1:40} {2:40}\".format(x_, y_sample, yhat_sample))  "
   ]
  },
  {
   "cell_type": "markdown",
   "metadata": {},
   "source": [
    "## SciBERT LSTM"
   ]
  },
  {
   "cell_type": "markdown",
   "metadata": {},
   "source": [
    "### Train Data"
   ]
  },
  {
   "cell_type": "code",
   "execution_count": 37,
   "metadata": {
    "execution": {
     "iopub.execute_input": "2021-06-01T02:03:01.302162Z",
     "iopub.status.busy": "2021-06-01T02:03:01.301631Z",
     "iopub.status.idle": "2021-06-01T02:03:12.911931Z",
     "shell.execute_reply": "2021-06-01T02:03:12.910870Z",
     "shell.execute_reply.started": "2021-06-01T02:03:01.302117Z"
    }
   },
   "outputs": [
    {
     "name": "stderr",
     "output_type": "stream",
     "text": [
      "93158it [00:10, 9160.50it/s]\n"
     ]
    },
    {
     "name": "stdout",
     "output_type": "stream",
     "text": [
      "              precision    recall  f1-score   support\n",
      "\n",
      "      Entity      0.743     0.758     0.751     14082\n",
      "\n",
      "   micro avg      0.743     0.758     0.751     14082\n",
      "   macro avg      0.743     0.758     0.751     14082\n",
      "weighted avg      0.743     0.758     0.751     14082\n",
      "\n"
     ]
    }
   ],
   "source": [
    "x, y, yhat = [], [], []\n",
    "xseq, yseq, yseq_hat = [], [], []\n",
    "for idx, seq in tqdm(train_mention_detection_preds_scibert.iterrows()):\n",
    "    if seq['Tokens'] not in ['[SEP]', '[CLS]']:\n",
    "        if seq['Gold Label'] == 'O':\n",
    "            yseq.append(seq['Gold Label'])\n",
    "        else:\n",
    "            yseq.append(seq['Gold Label'][:2]+'Entity')\n",
    "        yseq_hat.append(seq['Detection Prediction'])\n",
    "        xseq.append(seq['Tokens'])\n",
    "    else:\n",
    "        if seq['Tokens'] == '[SEP]':\n",
    "            y.append(yseq)\n",
    "            yhat.append(yseq_hat)\n",
    "            x.append(xseq)\n",
    "        elif seq['Tokens'] == '[CLS]':\n",
    "            xseq, yseq, yseq_hat = [], [], []\n",
    "            \n",
    "print(classification_report(y, yhat, digits=3, mode='strict', scheme=IOB2))"
   ]
  },
  {
   "cell_type": "markdown",
   "metadata": {},
   "source": [
    "### Test Data"
   ]
  },
  {
   "cell_type": "code",
   "execution_count": 38,
   "metadata": {
    "execution": {
     "iopub.execute_input": "2021-06-01T02:04:11.526872Z",
     "iopub.status.busy": "2021-06-01T02:04:11.526478Z",
     "iopub.status.idle": "2021-06-01T02:04:44.873381Z",
     "shell.execute_reply": "2021-06-01T02:04:44.872334Z",
     "shell.execute_reply.started": "2021-06-01T02:04:11.526831Z"
    }
   },
   "outputs": [
    {
     "name": "stderr",
     "output_type": "stream",
     "text": [
      "270657it [00:29, 9264.53it/s]\n"
     ]
    },
    {
     "name": "stdout",
     "output_type": "stream",
     "text": [
      "              precision    recall  f1-score   support\n",
      "\n",
      "      Entity      0.694     0.708     0.701     40099\n",
      "\n",
      "   micro avg      0.694     0.708     0.701     40099\n",
      "   macro avg      0.694     0.708     0.701     40099\n",
      "weighted avg      0.694     0.708     0.701     40099\n",
      "\n"
     ]
    }
   ],
   "source": [
    "x, y, yhat = [], [], []\n",
    "xseq, yseq, yseq_hat = [], [], []\n",
    "for idx, seq in tqdm(test_mention_detection_preds_scibert.iterrows()):\n",
    "    if seq['Tokens'] not in ['[SEP]', '[CLS]']:\n",
    "        if seq['Gold Label'] == 'O':\n",
    "            yseq.append(seq['Gold Label'])\n",
    "        else:\n",
    "            yseq.append(seq['Gold Label'][:2]+'Entity')\n",
    "        yseq_hat.append(seq['Detection Prediction'])\n",
    "        xseq.append(seq['Tokens'])\n",
    "    else:\n",
    "        if seq['Tokens'] == '[SEP]':\n",
    "            y.append(yseq)\n",
    "            yhat.append(yseq_hat)\n",
    "            x.append(xseq)\n",
    "        elif seq['Tokens'] == '[CLS]':\n",
    "            xseq, yseq, yseq_hat = [], [], []\n",
    "            \n",
    "print(classification_report(y, yhat, digits=3, mode='strict', scheme=IOB2))"
   ]
  },
  {
   "cell_type": "code",
   "execution_count": 39,
   "metadata": {
    "execution": {
     "iopub.execute_input": "2021-06-01T02:06:29.170634Z",
     "iopub.status.busy": "2021-06-01T02:06:29.170120Z",
     "iopub.status.idle": "2021-06-01T02:06:29.179440Z",
     "shell.execute_reply": "2021-06-01T02:06:29.178010Z",
     "shell.execute_reply.started": "2021-06-01T02:06:29.170593Z"
    }
   },
   "outputs": [
    {
     "name": "stdout",
     "output_type": "stream",
     "text": [
      "Token                               Gold                                     Prediction                              \n",
      "_____                               ____                                     __________                              \n",
      "in                                  O                                        O                                       \n",
      "fact                                O                                        O                                       \n",
      ",                                   O                                        O                                       \n",
      "both                                O                                        O                                       \n",
      "the                                 O                                        O                                       \n",
      "resistive                           O                                        O                                       \n",
      "and                                 O                                        O                                       \n",
      "elastic                             O                                        O                                       \n",
      "components                          O                                        O                                       \n",
      "of                                  O                                        O                                       \n",
      "the                                 O                                        O                                       \n",
      "work                                O                                        O                                       \n",
      "of                                  O                                        I-Entity                                \n",
      "breathing                           B-Entity                                 I-Entity                                \n",
      "increase                            O                                        O                                       \n",
      "due                                 O                                        O                                       \n",
      "to                                  O                                        O                                       \n",
      "airway                              B-Entity                                 B-Entity                                \n",
      "obstruction                         I-Entity                                 I-Entity                                \n",
      "and                                 O                                        O                                       \n",
      "chest                               B-Entity                                 B-Entity                                \n",
      "wall                                I-Entity                                 I-Entity                                \n",
      "and                                 O                                        O                                       \n",
      "lung                                B-Entity                                 B-Entity                                \n",
      "stiffening                          B-Entity                                 I-Entity                                \n",
      ",                                   O                                        O                                       \n",
      "respectively                        O                                        O                                       \n",
      ".                                   O                                        O                                       \n"
     ]
    }
   ],
   "source": [
    "print(\"{0:35} {1:40} {2:40}\".format('Token', 'Gold', 'Prediction'))\n",
    "print(\"{0:35} {1:40} {2:40}\".format('_____', '____', '__________'))\n",
    "\n",
    "for x_, y_sample, yhat_sample in zip(x[2021], y[2021], yhat[2021]):\n",
    "    print(\"{0:35} {1:40} {2:40}\".format(x_, y_sample, yhat_sample))  "
   ]
  },
  {
   "cell_type": "markdown",
   "metadata": {},
   "source": [
    "## Ensemble the Two detection models"
   ]
  },
  {
   "cell_type": "code",
   "execution_count": 40,
   "metadata": {
    "execution": {
     "iopub.execute_input": "2021-06-01T02:06:35.661224Z",
     "iopub.status.busy": "2021-06-01T02:06:35.660671Z",
     "iopub.status.idle": "2021-06-01T02:06:36.195390Z",
     "shell.execute_reply": "2021-06-01T02:06:36.194270Z",
     "shell.execute_reply.started": "2021-06-01T02:06:35.661174Z"
    }
   },
   "outputs": [],
   "source": [
    "lstm_ensemble_labels, prob_ensemble_labels = [], []\n",
    "for yhat1, yhat2, prob1, prob2 in zip(test_mention_detection_preds_coder['Detection Prediction'], \n",
    "                                      test_mention_detection_preds_scibert['Detection Prediction'],\n",
    "                                      test_mention_detection_preds_coder['Detect Prob'], \n",
    "                                      test_mention_detection_preds_scibert['Detect Prob']):\n",
    "    if yhat1 == yhat2:\n",
    "        lstm_ensemble_labels.append(yhat1)\n",
    "        prob_ensemble_labels.append(max([prob1, prob2]))\n",
    "    else:\n",
    "        argmax = np.argmax([prob1, prob2])\n",
    "        if argmax == 0:\n",
    "            lstm_ensemble_labels.append(yhat1)\n",
    "            prob_ensemble_labels.append(prob1)\n",
    "        else:\n",
    "            lstm_ensemble_labels.append(yhat2)\n",
    "            prob_ensemble_labels.append(prob2)"
   ]
  },
  {
   "cell_type": "code",
   "execution_count": 41,
   "metadata": {
    "execution": {
     "iopub.execute_input": "2021-06-01T02:06:43.105009Z",
     "iopub.status.busy": "2021-06-01T02:06:43.104629Z",
     "iopub.status.idle": "2021-06-01T02:07:17.397585Z",
     "shell.execute_reply": "2021-06-01T02:07:17.396818Z",
     "shell.execute_reply.started": "2021-06-01T02:06:43.104977Z"
    }
   },
   "outputs": [
    {
     "name": "stderr",
     "output_type": "stream",
     "text": [
      "270657it [00:30, 8963.42it/s]\n"
     ]
    },
    {
     "name": "stdout",
     "output_type": "stream",
     "text": [
      "              precision    recall  f1-score   support\n",
      "\n",
      "      Entity      0.717     0.709     0.713     40099\n",
      "\n",
      "   micro avg      0.717     0.709     0.713     40099\n",
      "   macro avg      0.717     0.709     0.713     40099\n",
      "weighted avg      0.717     0.709     0.713     40099\n",
      "\n"
     ]
    }
   ],
   "source": [
    "test_mention_detection_preds_coder['Ensemble Labels'] = lstm_ensemble_labels\n",
    "test_mention_detection_preds_coder['Ensemble Prob'] = prob_ensemble_labels\n",
    "\n",
    "x, y, yhat = [], [], []\n",
    "xseq, yseq, yseq_hat = [], [], []\n",
    "\n",
    "for idx, seq in tqdm(test_mention_detection_preds_coder.iterrows()):\n",
    "    if seq['Tokens'] not in ['[SEP]', '[CLS]']:\n",
    "        if seq['Gold Label'] == 'O':\n",
    "            yseq.append(seq['Gold Label'])\n",
    "        else:\n",
    "            yseq.append(seq['Gold Label'][:2]+'Entity')\n",
    "        yseq_hat.append(seq['Ensemble Labels'])\n",
    "        xseq.append(seq['Tokens'])\n",
    "    else:\n",
    "        if seq['Tokens'] == '[SEP]':\n",
    "            y.append(yseq)\n",
    "            yhat.append(yseq_hat)\n",
    "            x.append(xseq)\n",
    "        elif seq['Tokens'] == '[CLS]':\n",
    "            xseq, yseq, yseq_hat = [], [], []\n",
    "            \n",
    "print(classification_report(y, yhat, digits=3, mode='strict', scheme=IOB2))"
   ]
  }
 ],
 "metadata": {
  "kernelspec": {
   "display_name": "Python 3",
   "language": "python",
   "name": "python3"
  },
  "language_info": {
   "codemirror_mode": {
    "name": "ipython",
    "version": 3
   },
   "file_extension": ".py",
   "mimetype": "text/x-python",
   "name": "python",
   "nbconvert_exporter": "python",
   "pygments_lexer": "ipython3",
   "version": "3.7.4"
  }
 },
 "nbformat": 4,
 "nbformat_minor": 4
}
