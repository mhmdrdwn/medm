{
  "nbformat": 4,
  "nbformat_minor": 0,
  "metadata": {
    "colab": {
      "name": "Untitled1.ipynb",
      "provenance": [],
      "collapsed_sections": []
    },
    "kernelspec": {
      "name": "python3",
      "display_name": "Python 3"
    }
  },
  "cells": [
    {
      "cell_type": "code",
      "metadata": {
        "colab": {
          "base_uri": "https://localhost:8080/"
        },
        "id": "_7YyLBXio-kM",
        "outputId": "b4fcc9c2-a19f-4a99-bc4e-34886a3ef60c"
      },
      "source": [
        "from google.colab import drive\n",
        "\n",
        "drive.mount(\"/content/drive\")"
      ],
      "execution_count": 1,
      "outputs": [
        {
          "output_type": "stream",
          "text": [
            "Mounted at /content/drive\n"
          ],
          "name": "stdout"
        }
      ]
    },
    {
      "cell_type": "markdown",
      "metadata": {
        "id": "b32knCS-5afG"
      },
      "source": [
        "### Number of articles in this file"
      ]
    },
    {
      "cell_type": "code",
      "metadata": {
        "colab": {
          "base_uri": "https://localhost:8080/"
        },
        "id": "M0mzxNx1p5Km",
        "outputId": "0c5a3446-de46-496e-e61c-3fbf295b61c7"
      },
      "source": [
        "import json\n",
        "\n",
        "# Opening a file \n",
        "file = open(\"/content/drive/My Drive/thesis/pdf_parses_0_filtered.jsonl\",\"r\")\n",
        "Counter = 0\n",
        "\n",
        "# Reading from file \n",
        "Content = file.read()\n",
        "CoList = Content.split(\"\\n\")\n",
        "\n",
        "for i in CoList:\n",
        "    if i:\n",
        "        Counter += 1\n",
        "\n",
        "print(Counter)"
      ],
      "execution_count": 9,
      "outputs": [
        {
          "output_type": "stream",
          "text": [
            "This is the number of lines in the file\n",
            "51058\n"
          ],
          "name": "stdout"
        }
      ]
    },
    {
      "cell_type": "code",
      "metadata": {
        "colab": {
          "base_uri": "https://localhost:8080/"
        },
        "id": "GDdgCfjkqZwk",
        "outputId": "ccce1270-f23e-47a9-99b6-0a576455b60e"
      },
      "source": [
        "len(CoList)"
      ],
      "execution_count": 11,
      "outputs": [
        {
          "output_type": "execute_result",
          "data": {
            "text/plain": [
              "51059"
            ]
          },
          "metadata": {
            "tags": []
          },
          "execution_count": 11
        }
      ]
    },
    {
      "cell_type": "markdown",
      "metadata": {
        "id": "01XFzWpo5oui"
      },
      "source": [
        "### json structure"
      ]
    },
    {
      "cell_type": "code",
      "metadata": {
        "colab": {
          "base_uri": "https://localhost:8080/"
        },
        "id": "iCaKZnr9rqcD",
        "outputId": "0472d293-b02b-4f09-f5e6-ccffd67a47c9"
      },
      "source": [
        "json.loads(CoList[0]).keys()"
      ],
      "execution_count": 54,
      "outputs": [
        {
          "output_type": "execute_result",
          "data": {
            "text/plain": [
              "dict_keys(['paper_id', '_pdf_hash', 'abstract', 'body_text', 'bib_entries', 'ref_entries'])"
            ]
          },
          "metadata": {
            "tags": []
          },
          "execution_count": 54
        }
      ]
    },
    {
      "cell_type": "code",
      "metadata": {
        "colab": {
          "base_uri": "https://localhost:8080/",
          "height": 106
        },
        "id": "qpMnl1WmsIHW",
        "outputId": "8c99c165-d392-4feb-cac3-762de9b39f1d"
      },
      "source": [
        "json.loads(CoList[0])['abstract'][0]['text']"
      ],
      "execution_count": 62,
      "outputs": [
        {
          "output_type": "execute_result",
          "data": {
            "application/vnd.google.colaboratory.intrinsic+json": {
              "type": "string"
            },
            "text/plain": [
              "'This technical note studies Markov decision processes under parameter uncertainty. We adapt the distributionally robust optimization framework, assume that the uncertain parameters are random variables following an unknown distribution, and seek the strategy which maximizes the expected performance under the most adversarial distribution. In particular, we generalize a previous study [1] which concentrates on distribution sets with very special structure to a considerably more generic class of distribution sets, and show that the optimal strategy can be obtained efficiently under mild technical conditions. This significantly extends the applicability of distributionally robust MDPs by incorporating probabilistic information of uncertainty in a more flexible way.'"
            ]
          },
          "metadata": {
            "tags": []
          },
          "execution_count": 62
        }
      ]
    },
    {
      "cell_type": "markdown",
      "metadata": {
        "id": "JkU0ysHi5yyp"
      },
      "source": [
        "### body text"
      ]
    },
    {
      "cell_type": "code",
      "metadata": {
        "colab": {
          "base_uri": "https://localhost:8080/"
        },
        "id": "AEVq0Z5832p7",
        "outputId": "33f84796-03fa-4d69-faee-6555ea499573"
      },
      "source": [
        "json.loads(CoList[0])['body_text']"
      ],
      "execution_count": 65,
      "outputs": [
        {
          "output_type": "execute_result",
          "data": {
            "text/plain": [
              "[{'cite_spans': [],\n",
              "  'ref_spans': [],\n",
              "  'section': '',\n",
              "  'text': '. Illustration of the confidence sets.'},\n",
              " {'cite_spans': [],\n",
              "  'ref_spans': [],\n",
              "  'section': '',\n",
              "  'text': 'optimizing variable and ξ is the unknown parameter, distributionally robust optimization solves max x∈X [inf μ∈C E ξ∼μ u(x, ξ)], where C is an a priori known set of distributions.'},\n",
              " {'cite_spans': [{'end': 52, 'ref_id': 'BIBREF0', 'start': 49, 'text': '[1]'},\n",
              "   {'end': 61, 'ref_id': 'BIBREF0', 'start': 58, 'text': '[1]'},\n",
              "   {'end': 849, 'ref_id': 'BIBREF17', 'start': 845, 'text': '[18]'}],\n",
              "  'ref_spans': [{'end': 346,\n",
              "    'ref_id': 'FIGREF2',\n",
              "    'start': 337,\n",
              "    'text': 'Fig. 1(a)'},\n",
              "   {'end': 1175, 'ref_id': 'FIGREF2', 'start': 1166, 'text': 'Fig. 1(b)'}],\n",
              "  'section': '',\n",
              "  'text': 'We highlight our contributions by comparing with [1] . In [1] the state-wise ambiguity set is restricted to the following form:C s = {μ s |μ s (O i s ) ≥ α i s ∀ i = 1, . . . , n s }, where α i s ≤ α j s and O i s is a proper set of uncertain parameters with a \"nested-set\" structure, i.e., satisfying O i s ⊆ O j s , for all i < j [see Fig. 1(a) ]. This setup can effectively model distributions with a single mode (such as a Gaussian distribution), but less so when modeling multi-mode distributions such as a mixture Gaussian distribution. Moreover, other probabilistic information such as mean, variance etc. cannot be incorporated. Thus, in this technical note, we extend the distributionally robust MDP approach to handle ambiguity sets with more general structures. In particular, we consider a class of ambiguity sets, first proposed in [18] as a unifying framework for modeling and solving distributionally robust single-stage optimization problems, and embed them into the distributionally robust MDPs setup. These ambiguity sets are considerably more general: they are characterized by a class of O i s which can either be nested or disjoint [as shown in Fig. 1(b) ], and moreover, additional linear constraints are allowed to define the ambiguity set, which can be used to incorporate probabilistic information such as mean, covariance or other variation measures. We show that, under this more general class of ambiguity sets, the resulting distributionally robust MDPs remain tractable under mild technical conditions, and often outperform previous methods thanks to the fact that it can model uncertainty in a more flexible way.'},\n",
              " {'cite_spans': [],\n",
              "  'ref_spans': [],\n",
              "  'section': 'II. PRELIMINARIES',\n",
              "  'text': 'Throughout the technical note, we use capital letters to denote matrices, and bold face letters to denote column vectors. We use e i (m) to denote the ith elementary vector of length m, and use R n + to denote the nonnegative orthant of R n . If C is the set of joint probability distributions of three random vectors a, b, and c, then (a,b) C denotes the set of marginal distributions of (a, b). We use ⊕ to represent mixture distribution: given two probability distributions F 1 , F 2 and a Bernoulli random variable x which takes value 1 w.p. p, xF 1 ⊕ (1 − x)F 2 is a random variable such that it follows distribution F 1 w.p. p, and follows F 2 w.p. 1 − p. We use N (m, σ 2 ) to represent a Gaussian distribution with mean m and variance σ 2 .'},\n",
              " {'cite_spans': [],\n",
              "  'ref_spans': [],\n",
              "  'section': 'II. PRELIMINARIES',\n",
              "  'text': 'A (finite) Markov Decision Process (MDP) is defined as a 6-tuple T, γ, S, A, p, r . Here, T is the (possibly infinite) decision horizon; 0018-9286 © 2015 IEEE. Personal use is permitted, but republication/redistribution requires IEEE permission.'},\n",
              " {'cite_spans': [],\n",
              "  'ref_spans': [],\n",
              "  'section': 'II. PRELIMINARIES',\n",
              "  'text': 'See http://www.ieee.org/publications_standards/publications/rights/index.html for more information.'},\n",
              " {'cite_spans': [{'end': 353,\n",
              "    'ref_id': 'BIBREF1',\n",
              "    'start': 350,\n",
              "    'text': '[2]'}],\n",
              "  'ref_spans': [],\n",
              "  'section': 'II. PRELIMINARIES',\n",
              "  'text': 'γ ∈ (0, 1] is the discount factor; S is the state set and A s is the action set of state s ∈ S, both assumed to be finite. The parameter p and r are the transition probability and the expected reward, respectively. That is, for s ∈ S and a ∈ A s , r(s, a) is the expected reward and p(s |s, a) is the probability that the next state is s . Following [2] , we denote the set of all history-dependent randomized strategies by Π HR . We use subscript s to denote the value associated with the state s: e.g., r s denotes the vector form of the rewards associated with the state s, and π s is the (randomized) action chosen at state s for strategy π.'},\n",
              " {'cite_spans': [],\n",
              "  'ref_spans': [],\n",
              "  'section': 'II. PRELIMINARIES',\n",
              "  'text': 'The elements in the vector p s are listed in the following way: the transition probabilities of the same action are arranged in the same block, and inside each block they are listed according to the order of the next state. We use s to denote the (random) state following s, and Δ(s) to denote the probability simplex on A s . We use to represent Cartesian product, e.g., p = s∈S p s . For a given strategy π ∈ Π HR , we denote the expected (discounted) total-reward under parameters pair (p, r) as u(π, p, r)'},\n",
              " {'cite_spans': [],\n",
              "  'ref_spans': [],\n",
              "  'section': 'II. PRELIMINARIES',\n",
              "  'text': 'A Distributionally Ambiguous MDP (DAMDP) is defined as a tuple T, γ, S, A,C S , where the transition probability p and the expected reward r are unknown. Instead, they are assumed to obey a joint distribution μ 0 (also unknown) that belongs to a known ambiguity set'},\n",
              " {'cite_spans': [{'end': 125,\n",
              "    'ref_id': 'BIBREF0',\n",
              "    'start': 122,\n",
              "    'text': '[1]'},\n",
              "   {'end': 132, 'ref_id': 'BIBREF18', 'start': 128, 'text': '[19]'}],\n",
              "  'ref_spans': [],\n",
              "  'section': 'II. PRELIMINARIES',\n",
              "  'text': 'While the DAMDP framework can be very general, mostC S result in formulations that are computationally intractable (e.g., [1] , [19] ). Hence, we make the following requirement ofC S such that the parameters among different states are independent.'},\n",
              " {'cite_spans': [],\n",
              "  'ref_spans': [],\n",
              "  'section': 'II. PRELIMINARIES',\n",
              "  'text': 'Assumption 1: The ambiguity setC S has the following property:'},\n",
              " {'cite_spans': [{'end': 232,\n",
              "    'ref_id': 'BIBREF15',\n",
              "    'start': 228,\n",
              "    'text': '[16]'},\n",
              "   {'end': 314, 'ref_id': 'BIBREF19', 'start': 310, 'text': '[20]'}],\n",
              "  'ref_spans': [],\n",
              "  'section': 'II. PRELIMINARIES',\n",
              "  'text': 'where \"state-wise ambiguity set\"C s is a set of distributions of parameters of state s. By the definition ofC S , the state-wise property applies to C S as well. This property is the same as the concept of \"s-rectangularity\" in [16] , and is essential for reducing DAMDP to robust MDP in Lemma 1. In addition, [20] showed that the robust MDP with coupled uncertainty sets is computationally challenging, which implies solving DAMDP with nonrectangular ambiguity sets is even harder.'},\n",
              " {'cite_spans': [{'end': 142,\n",
              "    'ref_id': 'BIBREF17',\n",
              "    'start': 138,\n",
              "    'text': '[18]'}],\n",
              "  'ref_spans': [],\n",
              "  'section': 'II. PRELIMINARIES',\n",
              "  'text': 'We now discuss the admissible state-wise ambiguity set. Our formulation of the state-wise ambiguity set follows the unifying framework of [18] . In specific, given s ∈ S, the state-wise ambiguity set is representable with the following standard form:'},\n",
              " {'cite_spans': [{'end': 472,\n",
              "    'ref_id': 'BIBREF0',\n",
              "    'start': 469,\n",
              "    'text': '[1]'},\n",
              "   {'end': 479, 'ref_id': 'BIBREF18', 'start': 475, 'text': '[19]'},\n",
              "   {'end': 486, 'ref_id': 'BIBREF21', 'start': 482, 'text': '[21]'},\n",
              "   {'end': 827, 'ref_id': 'BIBREF22', 'start': 823, 'text': '[22,'}],\n",
              "  'ref_spans': [],\n",
              "  'section': 'II. PRELIMINARIES',\n",
              "  'text': 'are the lower and upper bounds of the probability that parameters belong to a confidence set. Thus, each confidence set O i s provides an estimation of the uncertain parameters pair (p s , r s ,ũ s ) subject to a different confidence level. Ambiguity setsC s contain prescribed conic representable confidence sets and mean values residing on an affine manifold, which is rich enough to encompass and extend several ambiguity sets considered in recent literature (e.g., [1] , [19] , [21] ). The set of joint distribution of (p s , r s ) is hence C s Δ = (ps ,rs)C s . Notice that a classical technique called \"lifting\" is used here: We introduce an auxiliary random vectorũ, so that some non-linear relationship can be modeled linearly. For example, a constraint on the variance can be modeled using this standard form (see [22, Example 2] ), which is otherwise impossible without the auxiliary variable. This lifting technique thus allows us to model a rich variety of structural information about the marginal distribution of (p, r) in a unified manner. Note when the ambiguity set only contains the support of random variables, i.e.,'},\n",
              " {'cite_spans': [],\n",
              "  'ref_spans': [],\n",
              "  'section': 'II. PRELIMINARIES',\n",
              "  'text': 'where the a-priori information of unknown parameters is that they belong to an uncertainty set.'},\n",
              " {'cite_spans': [{'end': 86,\n",
              "    'ref_id': 'BIBREF17',\n",
              "    'start': 82,\n",
              "    'text': '[18]'}],\n",
              "  'ref_spans': [],\n",
              "  'section': 'II. PRELIMINARIES',\n",
              "  'text': 'Assumptions 2 to 4 are standard requirements for the confidence sets, proposed in [18] . The first one asserts the relationship between different confidence sets.'},\n",
              " {'cite_spans': [],\n",
              "  'ref_spans': [{'end': 49,\n",
              "    'ref_id': 'FIGREF2',\n",
              "    'start': 40,\n",
              "    'text': 'Fig. 1(b)'}],\n",
              "  'section': 'II. PRELIMINARIES',\n",
              "  'text': 'The nesting condition is illustrated in Fig. 1(b) . Next, for any s ∈ S we require thatC s satisfies the following regularity condition.'},\n",
              " {'cite_spans': [],\n",
              "  'ref_spans': [],\n",
              "  'section': 'Assumption 3 (Regularity Conditions forC s ):',\n",
              "  'text': '1) The confidence set O ns s is bounded and has probability one, that is, '},\n",
              " {'cite_spans': [],\n",
              "  'ref_spans': [],\n",
              "  'section': 'Assumption 3 (Regularity Conditions forC s ):',\n",
              "  'text': 's are proper cones (i.e., a closed, convex and pointed cone with nonempty interior).'},\n",
              " {'cite_spans': [{'end': 319,\n",
              "    'ref_id': 'BIBREF0',\n",
              "    'start': 316,\n",
              "    'text': '[1]'}],\n",
              "  'ref_spans': [],\n",
              "  'section': 'III. FINITE HORIZON DISTRIBUTIONALLY ROBUST MDPS',\n",
              "  'text': 'This section focuses on DAMDP with a finite number of decision stages. We show that a strategy defined through backward induction, which we call S-robust strategy, is distributionally robust. We further show such a strategy is solvable in polynomial time under mild technical conditions. This generalizes results in [1] to a significantly more general class of ambiguity sets.'},\n",
              " {'cite_spans': [{'end': 15,\n",
              "    'ref_id': 'BIBREF9',\n",
              "    'start': 11,\n",
              "    'text': '[10]'}],\n",
              "  'ref_spans': [],\n",
              "  'section': 'III. FINITE HORIZON DISTRIBUTIONALLY ROBUST MDPS',\n",
              "  'text': 'Similar to [10] , we assume that when a state is visited multiple times, each time it can take a different parameter realization (nonstationary model). This assumption is justified mainly because the stationary model is generally intractable and a lower-bound of it is given by the non-stationary model. Therefore, multiple visits to a state can be treated as visiting different states. By introducing dummy states as in [1, Assumption 2.2], for finite horizon DAMDP we make the following assumption without loss of generality. This will simplify our exposition.'},\n",
              " {'cite_spans': [],\n",
              "  'ref_spans': [],\n",
              "  'section': 'III. FINITE HORIZON DISTRIBUTIONALLY ROBUST MDPS',\n",
              "  'text': 'Assumption 5: 1) Each state belongs to only one stage.'},\n",
              " {'cite_spans': [],\n",
              "  'ref_spans': [],\n",
              "  'section': 'III. FINITE HORIZON DISTRIBUTIONALLY ROBUST MDPS',\n",
              "  'text': '2) The terminal reward equals zero.'},\n",
              " {'cite_spans': [],\n",
              "  'ref_spans': [],\n",
              "  'section': 'III. FINITE HORIZON DISTRIBUTIONALLY ROBUST MDPS',\n",
              "  'text': '3) The first stage only contains one state s ini .'},\n",
              " {'cite_spans': [],\n",
              "  'ref_spans': [],\n",
              "  'section': 'III. FINITE HORIZON DISTRIBUTIONALLY ROBUST MDPS',\n",
              "  'text': 'Using the condition 1 of Assumption 5, we partition S according to the stage each state belongs to. That is, we let S t be the set of states belong to tth stage.'},\n",
              " {'cite_spans': [],\n",
              "  'ref_spans': [],\n",
              "  'section': 'III. FINITE HORIZON DISTRIBUTIONALLY ROBUST MDPS',\n",
              "  'text': 'For π ∈ Π HR and μ ∈ C S , we denote the expected performance of a DAMDP as w π, μ, (s ini ) Δ = E (p,r)∼μ {u(π, p, r)} = u(π, p, r)dμ(p, r).'},\n",
              " {'cite_spans': [],\n",
              "  'ref_spans': [],\n",
              "  'section': 'III. FINITE HORIZON DISTRIBUTIONALLY ROBUST MDPS',\n",
              "  'text': 'In words, each strategy is evaluated by its expected performance under the (respective) most adversarial distribution of the uncertain parameters, and a distributionally robust strategy is the optimal strategy according to this metric. The main focus of this section is deriving approaches to solve the distributionally robust strategy. To this end, we need the following definition.'},\n",
              " {'cite_spans': [],\n",
              "  'ref_spans': [],\n",
              "  'section': 'III. FINITE HORIZON DISTRIBUTIONALLY ROBUST MDPS',\n",
              "  'text': 'Definition 2: Given a DAMDP T, γ, S, A,C S , we define the Srobust strategy as follows'},\n",
              " {'cite_spans': [],\n",
              "  'ref_spans': [],\n",
              "  'section': 'III. FINITE HORIZON DISTRIBUTIONALLY ROBUST MDPS',\n",
              "  'text': '3) A strategyπ * is a Srobust strategy if ∀ s ∈ S, and every history h that ends at s, we haveπ * s , conditioned on history h, is a S-robust action.'},\n",
              " {'cite_spans': [],\n",
              "  'ref_spans': [],\n",
              "  'section': 'III. FINITE HORIZON DISTRIBUTIONALLY ROBUST MDPS',\n",
              "  'text': 'The definition requires that the strategy must be robust w.r.t. each sub-problem, and hence the name \"S-robust.\" The following theorem shows any S-robust strategy π * is distributionally robust, and is the main result of this technical note.'},\n",
              " {'cite_spans': [],\n",
              "  'ref_spans': [],\n",
              "  'section': 'III. FINITE HORIZON DISTRIBUTIONALLY ROBUST MDPS',\n",
              "  'text': 'Theorem 1: Let T < ∞. Under Assumptions 1, 2, 4, and 5, if π * is a S-robust strategy, then 1) π * is a distributionally robust strategy with respect to C S . 2) There exists μ * ∈ C s such that (π * , μ * ) is a saddle point. That is'},\n",
              " {'cite_spans': [],\n",
              "  'ref_spans': [],\n",
              "  'section': 'III. FINITE HORIZON DISTRIBUTIONALLY ROBUST MDPS',\n",
              "  'text': 'Proof: We first state a Lemma from [1, Lemma 3.2] without proof.'},\n",
              " {'cite_spans': [],\n",
              "  'ref_spans': [],\n",
              "  'section': 'III. FINITE HORIZON DISTRIBUTIONALLY ROBUST MDPS',\n",
              "  'text': 'Lemma 1: Under Assumption 1, fix π ∈ Π HR and μ ∈ C S , denote p = E μ (p) and r = E μ (r). We have w(π, μ, (s ini )) = u(π, p, r).'},\n",
              " {'cite_spans': [],\n",
              "  'ref_spans': [],\n",
              "  'section': 'III. FINITE HORIZON DISTRIBUTIONALLY ROBUST MDPS',\n",
              "  'text': 'Lemma 1 means for any strategy, the expected performance under an admissible distribution μ only depends on the expected value of parameters under μ. Thus, the distributionally robust MDPs reduce to robust MDPs. Next we characterize the set of expected value of the parameters.'},\n",
              " {'cite_spans': [],\n",
              "  'ref_spans': [],\n",
              "  'section': 'III. FINITE HORIZON DISTRIBUTIONALLY ROBUST MDPS',\n",
              "  'text': 'Lemma 2: For s ∈ S and π s ∈ Δ(s), we define the set Z s = {E μs (p s , r s )|μ s ∈ C s }. Then set Z s is convex and compact.'},\n",
              " {'cite_spans': [{'end': 222,\n",
              "    'ref_id': 'BIBREF22',\n",
              "    'start': 218,\n",
              "    'text': '[22]'}],\n",
              "  'ref_spans': [],\n",
              "  'section': 'III. FINITE HORIZON DISTRIBUTIONALLY ROBUST MDPS',\n",
              "  'text': 'Proof: First, we show that, for s ∈ S and π s ∈ Δ(s), the set defined asZ s = {E μs (p s , r s ,ũ s )|μ s ∈C s } is convex and compact. The convexity can be easily shown, which is omitted due to space constraints (see [22] for details). To show the compactness, notice thatC s is weakly closed (i.e., closed w.r.t. to the weak topology) since the feasible set of each of constraint is weakly closed which implies their intersection is also weakly closed. Thus,Z s is closed since it is the image ofC s under expectation (which is a continuous function). This impliesZ s is compact since O ns s is bounded and henceZ s is bounded. Finally, since Z s is the projection onto the first two coordinates of set Z s , its convexity and compactness thus follow.'},\n",
              " {'cite_spans': [{'end': 239,\n",
              "    'ref_id': 'BIBREF9',\n",
              "    'start': 235,\n",
              "    'text': '[10]'},\n",
              "   {'end': 246, 'ref_id': 'BIBREF10', 'start': 242, 'text': '[11]'},\n",
              "   {'end': 421, 'ref_id': 'BIBREF22', 'start': 417, 'text': '[22]'}],\n",
              "  'ref_spans': [],\n",
              "  'section': 'III. FINITE HORIZON DISTRIBUTIONALLY ROBUST MDPS',\n",
              "  'text': 'Lemma 2 implies that, for s ∈ S and π s ∈ Δ(s), there exists (p * s , r * s ) ∈ Z s that satisfies inf (ps,rs)∈Zs u(π s , p s , r s ) = u(π s , p * s , r * s ). Since saddle point of the minimax objective exists for robust MDPs (e.g., [10] , [11] ), we can complete the proof of part 2) following a similar procedure as the last portion of proof for [1, Theorem 3.1]. We omit the details due to space constraint (see [22] for details). Part 1) then follows part 2) immediately.'},\n",
              " {'cite_spans': [],\n",
              "  'ref_spans': [],\n",
              "  'section': 'III. FINITE HORIZON DISTRIBUTIONALLY ROBUST MDPS',\n",
              "  'text': 'We now investigate the computational aspect of finding the S-robust action.'},\n",
              " {'cite_spans': [{'end': 234,\n",
              "    'ref_id': 'BIBREF17',\n",
              "    'start': 230,\n",
              "    'text': '[18]'},\n",
              "   {'end': 274, 'ref_id': 'BIBREF23', 'start': 270, 'text': '[23]'},\n",
              "   {'end': 320, 'ref_id': 'BIBREF22', 'start': 316, 'text': '[22]'}],\n",
              "  'ref_spans': [],\n",
              "  'section': 'III. FINITE HORIZON DISTRIBUTIONALLY ROBUST MDPS',\n",
              "  'text': 'Theorem 2: Under Assumption 2, 3, 4, and 5, for s ∈ S t where t < T , the S-robust action is the optimal solution of the following optimization problem (termed Srobust problem hereafter): Proof: The proof essentially follows from [18] and duality of convex optimization [23] , and can be found in the longer version [22] of this technical note.'},\n",
              " {'cite_spans': [],\n",
              "  'ref_spans': [],\n",
              "  'section': 'III. FINITE HORIZON DISTRIBUTIONALLY ROBUST MDPS',\n",
              "  'text': 'Thus, since for s ∈ S t , Δ(s) is compact, we can solve the S-robust action in polynomial time if all K i s are \"easy\" cones such as linear, conic quadratic or semidefinite cones. Moreover, using Theorem 1, by backward induction, we can obtain the S-robust strategy efficiently.'},\n",
              " {'cite_spans': [{'end': 146,\n",
              "    'ref_id': 'BIBREF0',\n",
              "    'start': 143,\n",
              "    'text': '(1)'},\n",
              "   {'end': 214, 'ref_id': 'BIBREF22', 'start': 210, 'text': '[22]'}],\n",
              "  'ref_spans': [],\n",
              "  'section': 'III. FINITE HORIZON DISTRIBUTIONALLY ROBUST MDPS',\n",
              "  'text': 'By virtue of the lifting technique [18, Theorem 5], we show below several widely used ambiguity sets are indeed special cases ofC s defined in (1) . We further derive their corresponding S-robust problems. See [22] for additional examples (variance and expected Huber loss function). '},\n",
              " {'cite_spans': [],\n",
              "  'ref_spans': [],\n",
              "  'section': 'III. FINITE HORIZON DISTRIBUTIONALLY ROBUST MDPS',\n",
              "  'text': 'This example can also be treated via \"classical\" robust optimization by virtue of Lemma 1.'},\n",
              " {'cite_spans': [{'end': 263,\n",
              "    'ref_id': 'BIBREF0',\n",
              "    'start': 260,\n",
              "    'text': '[1]'},\n",
              "   {'end': 288, 'ref_id': 'BIBREF22', 'start': 284, 'text': '[22]'}],\n",
              "  'ref_spans': [],\n",
              "  'section': 'III. FINITE HORIZON DISTRIBUTIONALLY ROBUST MDPS',\n",
              "  'text': 'The finite horizon DAMDP can be easily extended to discountedreward infinite horizon setup. We can generalize the notion of S-robust strategy, which turns to be distributionally robust in both stationary and non-stationary models. This extension is similar to [1] and can be found in [22] .'},\n",
              " {'cite_spans': [{'end': 447,\n",
              "    'ref_id': 'BIBREF24',\n",
              "    'start': 443,\n",
              "    'text': '[24]'}],\n",
              "  'ref_spans': [],\n",
              "  'section': 'IV. SIMULATION',\n",
              "  'text': 'In this section, we study two synthetic numerical examples: a machine replacement problem and a path planning problem. In the machine replacement problem, the reward parameters are uncertain; whereas in the path planning problem, the transition probabilities are uncertain. All results were generated on desktop with Intel Core i5-3570 CPU of 3.40 GHz clock speed and 8 GB RAM. The S-robust problems are solved in Matlab using the CVX package [24] .'},\n",
              " {'cite_spans': [{'end': 68,\n",
              "    'ref_id': 'BIBREF11',\n",
              "    'start': 64,\n",
              "    'text': '[12]'}],\n",
              "  'ref_spans': [],\n",
              "  'section': 'A. Reward Uncertainty in the Machine Replacement Problem',\n",
              "  'text': 'We consider a machine replacement problem similar to the one in [12] . Consider the repair cost incurred by a factory that holds a large number of machines, given that each of these machines is modeled with a same underlying MDP for which rewards are subject to uncertainty.'},\n",
              " {'cite_spans': [{'end': 903,\n",
              "    'ref_id': 'BIBREF22',\n",
              "    'start': 899,\n",
              "    'text': '[22]'}],\n",
              "  'ref_spans': [{'end': 254,\n",
              "    'ref_id': 'FIGREF3',\n",
              "    'start': 245,\n",
              "    'text': 'Fig. 2(a)'},\n",
              "   {'end': 324, 'ref_id': 'FIGREF1', 'start': 309, 'text': 'cost N (130, 1)'},\n",
              "   {'end': 569, 'ref_id': 'FIGREF1', 'start': 553, 'text': 'cost N (130, 10)'},\n",
              "   {'end': 1210, 'ref_id': 'FIGREF3', 'start': 1201, 'text': 'Fig. 2(a)'}],\n",
              "  'section': '1) Machine Replacement as a MDP With Gaussian Rewards:',\n",
              "  'text': 'We first consider a machine replacement problem with 50 states, 2 actions (\"repair\" and \"not repair\") for each state, deterministic transitions, a discount factor of 0.8, and uncertain rewards following Gaussian distributions independently [see Fig. 2(a) ]: For the first 48 states, the \"repair\" action has a cost N (130, 1) . The 49th and 50th states of the machine\\'s life are designed to be risky: not repairing at state 50 incurs a highly uncertain cost N (100, 800), while repairing at both states is a more secure but still uncertain option with a cost N (130, 10) . The detailed implementation is as follows: We use the mean value of uncertain rewards to compute the nominal strategy. For both robust and distributionally robust strategy, we construct confidence sets usinĝ m ± 3σ for the first 49 states, andm ± 4σ for state 50 wherem andσ 2 are mean and variance estimated from samples (see [22] for details), as it is more risky and thus hard to estimate. In addition, we construct an extra confidence set (centered at the mean) with 60%-70% confidence level (i.e., α 1 50 = 0.6, α 1 50 = 0.7) for distributionally robust strategy. The optimal paths followed by three strategies are shown in Fig. 2(a) .'},\n",
              " {'cite_spans': [],\n",
              "  'ref_spans': [{'end': 141,\n",
              "    'ref_id': 'FIGREF1',\n",
              "    'start': 135,\n",
              "    'text': 'Fig. 3'},\n",
              "   {'end': 239, 'ref_id': 'TABREF0', 'start': 232, 'text': 'Table I'},\n",
              "   {'end': 414, 'ref_id': 'FIGREF3', 'start': 408, 'text': 'Fig. 2'},\n",
              "   {'end': 474, 'ref_id': 'FIGREF3', 'start': 465, 'text': 'Fig. 2(a)'},\n",
              "   {'end': 533, 'ref_id': 'FIGREF3', 'start': 524, 'text': 'Fig. 2(b)'},\n",
              "   {'end': 1406, 'ref_id': 'FIGREF0', 'start': 1400, 'text': 'Fig. 4'}],\n",
              "  'section': '1) Machine Replacement as a MDP With Gaussian Rewards:',\n",
              "  'text': 'The performance of the strategies obtained by using the nominal, the robust and the distributionally robust approaches is presented in Fig. 3 . The corresponding average total discounted rewards and computational times are shown in Table I . The nominal strategy results in the highest average total discounted rewards. This is well expected as we are using the exact mean value of the reward as the nominal Fig. 2 . Two instances of a machine replacement problem. Fig. 2(a) shows Gaussian uncertainty in the rewards, while Fig. 2(b) shows mixed Gaussian uncertainty in the rewards. parameter. However, the nominal strategy is highly risky: it cannot prevent bad performance (e.g., −0.025) from happening, which is undesirable. While the nominal strategy, blind to any form of risk, finds no advantage in ever repairing, the robust strategy ends up following a highly conservative policy (repairing the machine at state 49 to avoid state 50). In contrast, the distributionally robust optimal strategy makes use of more distributional information and handles the risk efficiently by waiting until state 50 and then repair the machine. Therefore, this strategy beats the nominal and robust strategies in that it strikes a good tradeoff between high mean reward and low variance over 10,000 different trials. These results coincide with what one would typically expect from the three solution concepts. Fig. 4 . Illustration of the confidence sets for two distributionally robust strategies.'},\n",
              " {'cite_spans': [{'end': 373,\n",
              "    'ref_id': 'BIBREF0',\n",
              "    'start': 370,\n",
              "    'text': '[1]'},\n",
              "   {'end': 755, 'ref_id': 'BIBREF22', 'start': 751, 'text': '[22]'},\n",
              "   {'end': 832, 'ref_id': 'BIBREF0', 'start': 829, 'text': '[1]'}],\n",
              "  'ref_spans': [{'end': 178,\n",
              "    'ref_id': 'FIGREF3',\n",
              "    'start': 169,\n",
              "    'text': 'Fig. 2(b)'},\n",
              "   {'end': 279, 'ref_id': 'FIGREF2', 'start': 273, 'text': 'Fig. 1'},\n",
              "   {'end': 918, 'ref_id': 'FIGREF0', 'start': 909, 'text': 'Fig. 4(a)'},\n",
              "   {'end': 1164, 'ref_id': 'FIGREF0', 'start': 1158, 'text': 'Fig. 4'},\n",
              "   {'end': 1466, 'ref_id': 'FIGREF3', 'start': 1457, 'text': 'Fig. 2(b)'}],\n",
              "  'section': '2) Machine Replacement as a MDP With Mixed Gaussian Rewards:',\n",
              "  'text': 'The second experiment has a similar setup as the previous one, except that not repairing at the 50th state has a reward which follows a mixed Gaussian distribution [see Fig. 2(b) ]. This experiment illustrates the effect of the two different nested-set structures shown in Fig. 1 . In specific, we apply the two different distributionally robust approaches (proposed in [1] and this technical note respectively), and show that our method outperforms. The detailed implementation is as follows: For the robust and two distributionally robust strategies, we construct uncertainty set corresponding to 99% probability support of the rewards for the first 49 states, and 99.9% for the 50th state that is more risky, using estimated mean and variance (see [22] for details). For the first distributionally robust strategy proposed in [1] , we construct two additional nested confidence sets O 1 50 and O 2 50 [see Fig. 4(a) ], which w.p. 40%-50% and 60%-70% respectively the uncertain rewards belong to. In contrast, for the second distributionally robust strategy proposed in this technical note, we construct two disjoint confidence sets O 1 50 and O 2 50 [see Fig. 4 (b)] with 70%-80% and 0%-10% confidence level, respectively. Specifically, we select these two intervals around the peaks of the two Gaussian elements [i.e., N (100, 10) and N (140, 2)] to better model this mixed distribution. The optimal paths followed for the three strategies are shown in Fig. 2(b) .'},\n",
              " {'cite_spans': [],\n",
              "  'ref_spans': [{'end': 71,\n",
              "    'ref_id': 'FIGREF5',\n",
              "    'start': 65,\n",
              "    'text': 'Fig. 5'},\n",
              "   {'end': 170, 'ref_id': 'TABREF0', 'start': 162, 'text': 'Table II'}],\n",
              "  'section': '2) Machine Replacement as a MDP With Mixed Gaussian Rewards:',\n",
              "  'text': 'The performance of the three strategies obtained is presented in Fig. 5 . The corresponding average total discounted rewards and computational times are shown in Table II . As expected, the robust strategy ends up following a highly conservative policy repairing the machine at state 49 to avoid state 50. The first distributionally robust strategy, not modeling the mixture Gaussian distribution well, finds it advantageous to repair at the 50th state. In contrast, capable of capturing the distribution information in a more flexible way, the second distributionally robust strategy better models the uncertainty and finds not repairing the machine at state 50 is optimal. The performance comparison clearly shows the second distributionally robust strategy is more desirable, which highlights the distributionally robust approach with general structure of confidence sets can be beneficial in practice.'},\n",
              " {'cite_spans': [{'end': 546,\n",
              "    'ref_id': 'BIBREF25',\n",
              "    'start': 542,\n",
              "    'text': '[25]'},\n",
              "   {'end': 555, 'ref_id': 'BIBREF26', 'start': 551, 'text': '[26]'}],\n",
              "  'ref_spans': [],\n",
              "  'section': '2) Machine Replacement as a MDP With Mixed Gaussian Rewards:',\n",
              "  'text': 'We remark that, in practice, one can obtain the modality structure of uncertain parameters in a data-driven way by applying clustering algorithms to an initial primitive data set. For example, one may check the histogram of historical observations. If the data concentrates on several distinct and disjoint bins, our multi-model DAMDP approach can be applied. Moreover, we note that networked control systems (NCSs) have recently emerged as a topic of significant interest in the control community. A typical application of NCSs is in modern [25] and [26] proposed a novel two-layer structure to solve the setpoints compensation problem for industrial processes under network-based environment.'},\n",
              " {'cite_spans': [{'end': 76, 'ref_id': 'BIBREF0', 'start': 73, 'text': '[1]'}],\n",
              "  'ref_spans': [{'end': 135,\n",
              "    'ref_id': 'FIGREF6',\n",
              "    'start': 126,\n",
              "    'text': 'Fig. 6(a)'}],\n",
              "  'section': 'B. Transition Uncertainty in the Path Planning Problem',\n",
              "  'text': 'We now consider a path planning problem, similar to the one presented in [1] : an agent wants to exit a 4 × 21 maze [shown in Fig. 6(a) ] using the least possible time. Starting from the upper-left corner, the agent can move up, down, left and right, but can only exit the grid at the lower-right corner. Here, a white box stands for a normal place where the agent needs one time unit to pass through. A shaded box represents a \"shaky\" place: if an agent reaches a \"shaky\" place, then he may risk jumping to the starting point (\"reboot\"). The true transition probability of the jump follows a distribution'},\n",
              " {'cite_spans': [],\n",
              "  'ref_spans': [],\n",
              "  'section': 'B. Transition Uncertainty in the Path Planning Problem',\n",
              "  'text': 'The four approaches are implemented as follows: The nominal approach neglects this random jump. The robust approach takes a worst-case analysis, i.e., it assumes that with 30%, the whole probability support of transition, the agent will jump to the spot with the highest costto-go. The first distributionally robust approach takes into account an additional information by using two nested confidence sets: the jump probability parameter belonging to 9%-11% is of a confidence 1 − λ. The second distributionally robust approach, which is proposed in this technical note, incorporates more information. In specific, we construct an extra confidence interval disjoint with the above 9%-11% interval. It states that the chance of jumping with probability 20% is λ.'},\n",
              " {'cite_spans': [],\n",
              "  'ref_spans': [{'end': 125,\n",
              "    'ref_id': 'FIGREF6',\n",
              "    'start': 116,\n",
              "    'text': 'Fig. 6(b)'},\n",
              "   {'end': 496, 'ref_id': 'FIGREF6', 'start': 487, 'text': 'Fig. 6(a)'},\n",
              "   {'end': 559, 'ref_id': 'FIGREF6', 'start': 550, 'text': 'Fig. 6(b)'}],\n",
              "  'section': 'B. Transition Uncertainty in the Path Planning Problem',\n",
              "  'text': 'The performance of strategies of the nominal, the robust and the two distributionally robust approaches is shown in Fig. 6(b) , where the error bars show the standard error of the expected time to exit. The CPU times of computing optimal policies for four strategies are 0.461, 549, 642, and 654 seconds, respectively. The second distributionally robust approach achieves the best performance over virtually the whole spectrum of λ. This is well expected, since additional probabilistic Fig. 6(a) illustrates the maze for the path plawnning problem. Fig. 6(b) shows the performance comparisons between nominal, robust and two distributionally robust strategies over 3,000 runs of the path planning problem.'},\n",
              " {'cite_spans': [],\n",
              "  'ref_spans': [],\n",
              "  'section': 'B. Transition Uncertainty in the Path Planning Problem',\n",
              "  'text': 'information is available to and incorporated by the second distributionally robust approach which considers ambiguity sets with more general structures.'},\n",
              " {'cite_spans': [{'end': 162,\n",
              "    'ref_id': 'BIBREF0',\n",
              "    'start': 159,\n",
              "    'text': '[1]'},\n",
              "   {'end': 222, 'ref_id': 'BIBREF17', 'start': 218, 'text': '[18]'}],\n",
              "  'ref_spans': [],\n",
              "  'section': 'V. CONCLUSION',\n",
              "  'text': 'In this technical note, we considered Markov decision problems with uncertainty. Specifically, we generalized the distributionally robust approach proposed in [1] to incorporate more general ambiguity sets proposed in [18] to model a-priori probabilistic information of the uncertain parameters. We proposed a way to compute the distributionally robust strategy through a Bellman type backward induction. We showed that the strategy, which achieves maximum expected utility under the worst admissible distributions of uncertain parameters, can be solved in polynomial time under some mild technical conditions. We believe that many important problems that are usually addressed using standard MDP models could be revisited and better resolved using the proposed models when parameter uncertainty exists, as this formulation naturally enables the decision maker to account for more general parameter uncertainty.'}]"
            ]
          },
          "metadata": {
            "tags": []
          },
          "execution_count": 65
        }
      ]
    },
    {
      "cell_type": "code",
      "metadata": {
        "colab": {
          "base_uri": "https://localhost:8080/"
        },
        "id": "iIfe77-152lw",
        "outputId": "9445c5f6-8f33-42ee-8b15-c2c7ed2b16c0"
      },
      "source": [
        "len(json.loads(CoList[0])['body_text'])"
      ],
      "execution_count": 69,
      "outputs": [
        {
          "output_type": "execute_result",
          "data": {
            "text/plain": [
              "55"
            ]
          },
          "metadata": {
            "tags": []
          },
          "execution_count": 69
        }
      ]
    },
    {
      "cell_type": "code",
      "metadata": {
        "colab": {
          "base_uri": "https://localhost:8080/",
          "height": 88
        },
        "id": "MJ3Gm4Kp6STO",
        "outputId": "53610914-9ae4-4898-d9d1-dfdb8e1058a5"
      },
      "source": [
        "json.loads(CoList[0])['body_text'][6]['text']"
      ],
      "execution_count": 75,
      "outputs": [
        {
          "output_type": "execute_result",
          "data": {
            "application/vnd.google.colaboratory.intrinsic+json": {
              "type": "string"
            },
            "text/plain": [
              "'γ ∈ (0, 1] is the discount factor; S is the state set and A s is the action set of state s ∈ S, both assumed to be finite. The parameter p and r are the transition probability and the expected reward, respectively. That is, for s ∈ S and a ∈ A s , r(s, a) is the expected reward and p(s |s, a) is the probability that the next state is s . Following [2] , we denote the set of all history-dependent randomized strategies by Π HR . We use subscript s to denote the value associated with the state s: e.g., r s denotes the vector form of the rewards associated with the state s, and π s is the (randomized) action chosen at state s for strategy π.'"
            ]
          },
          "metadata": {
            "tags": []
          },
          "execution_count": 75
        }
      ]
    }
  ]
}