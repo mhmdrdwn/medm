{
  "nbformat": 4,
  "nbformat_minor": 0,
  "metadata": {
    "colab": {
      "name": "vis.ipynb",
      "provenance": [],
      "collapsed_sections": []
    },
    "kernelspec": {
      "name": "python3",
      "display_name": "Python 3"
    }
  },
  "cells": [
    {
      "cell_type": "code",
      "metadata": {
        "colab": {
          "base_uri": "https://localhost:8080/"
        },
        "id": "_7YyLBXio-kM",
        "outputId": "97dc969d-a718-48b3-d6d2-29328ed8e748"
      },
      "source": [
        "from google.colab import drive\n",
        "\n",
        "drive.mount(\"/content/drive\", force_remount=True)"
      ],
      "execution_count": 1,
      "outputs": [
        {
          "output_type": "stream",
          "text": [
            "Mounted at /content/drive\n"
          ],
          "name": "stdout"
        }
      ]
    },
    {
      "cell_type": "markdown",
      "metadata": {
        "id": "b32knCS-5afG"
      },
      "source": [
        "### Number of articles in this file"
      ]
    },
    {
      "cell_type": "code",
      "metadata": {
        "colab": {
          "base_uri": "https://localhost:8080/"
        },
        "id": "M0mzxNx1p5Km",
        "outputId": "22b2fd9a-5a09-40a3-c016-4c952cb6485c"
      },
      "source": [
        "import json\n",
        "\n",
        "def counter():\n",
        "  # Opening a file \n",
        "  file = open(\"/content/drive/My Drive/thesis/pdf_parses_0_filtered.jsonl\",\"r\")\n",
        "  Counter = 0\n",
        "\n",
        "  # Reading from file \n",
        "  Content = file.read()\n",
        "  CoList = Content.split(\"\\n\")\n",
        "\n",
        "  for i in CoList:\n",
        "    if i:\n",
        "        Counter += 1\n",
        "\n",
        "  print(Counter)\n",
        "\n",
        "  del Content\n",
        "  \n",
        "  return CoList\n",
        "\n",
        "CoList = counter()"
      ],
      "execution_count": 2,
      "outputs": [
        {
          "output_type": "stream",
          "text": [
            "99218\n"
          ],
          "name": "stdout"
        }
      ]
    },
    {
      "cell_type": "markdown",
      "metadata": {
        "id": "01XFzWpo5oui"
      },
      "source": [
        "### json structure"
      ]
    },
    {
      "cell_type": "code",
      "metadata": {
        "colab": {
          "base_uri": "https://localhost:8080/"
        },
        "id": "iCaKZnr9rqcD",
        "outputId": "29981543-5540-4666-93d5-3fac01f01535"
      },
      "source": [
        "json.loads(CoList[0]).keys()"
      ],
      "execution_count": 3,
      "outputs": [
        {
          "output_type": "execute_result",
          "data": {
            "text/plain": [
              "dict_keys(['paper_id', '_pdf_hash', 'abstract', 'body_text', 'bib_entries', 'ref_entries'])"
            ]
          },
          "metadata": {
            "tags": []
          },
          "execution_count": 3
        }
      ]
    },
    {
      "cell_type": "code",
      "metadata": {
        "colab": {
          "base_uri": "https://localhost:8080/",
          "height": 125
        },
        "id": "qpMnl1WmsIHW",
        "outputId": "889eb67e-75b2-4f8b-b466-2fb65adb4509"
      },
      "source": [
        "json.loads(CoList[0])['abstract'][0]['text']"
      ],
      "execution_count": 4,
      "outputs": [
        {
          "output_type": "execute_result",
          "data": {
            "application/vnd.google.colaboratory.intrinsic+json": {
              "type": "string"
            },
            "text/plain": [
              "'The purpose of this study is to evaluate the effects of teriparatide administration on fracture healing after intramedullary nailing in atypical femoral fractures. Materials and Methods: We retrospectively reviewed 26 patients (26 cases) with atypical femoral fracture who were treated using intramedullary nailing between January 2009 and December 2013. Teriparatide was not administered to 15 patients (non-injection group) and was administered to 11 patients after surgery (injection group). Clinical results were assessed using the Nakajima score and the visual analogue scale (VAS). Radiographic results were compared for the time of callus formation, callus bridge formation, and bone union between the groups. Results: Time to recover walking ability and to decrease pain in the surgery region (VAS≤2) were significantly shorter in the injection group than in the non-injection group. The time of callus formation, callus bridge formation, and bone union was significantly shorter in the injection group than in the non-injection group. There were 5 cases of delayed bone union (33.3%) and 1 case of none union (6.7%) in the non-injection group and all cases obtained bone union in injection group. Conclusion: The injection group showed better clinical and radiographic results than the non-injection group after intramedullary nailing in atypical femoral fracture. Therefore, we think that teriparatide administration after intramedullary nailing could be a useful treatment option to promote bone union.'"
            ]
          },
          "metadata": {
            "tags": []
          },
          "execution_count": 4
        }
      ]
    },
    {
      "cell_type": "markdown",
      "metadata": {
        "id": "JkU0ysHi5yyp"
      },
      "source": [
        "### body text"
      ]
    },
    {
      "cell_type": "code",
      "metadata": {
        "colab": {
          "base_uri": "https://localhost:8080/"
        },
        "id": "AEVq0Z5832p7",
        "outputId": "fd944287-fb2e-417a-b263-1edace1693e3"
      },
      "source": [
        "json.loads(CoList[0])['body_text']"
      ],
      "execution_count": 5,
      "outputs": [
        {
          "output_type": "execute_result",
          "data": {
            "text/plain": [
              "[{'cite_spans': [],\n",
              "  'ref_spans': [],\n",
              "  'section': '',\n",
              "  'text': 'Values are presented as number only or median (range). '},\n",
              " {'cite_spans': [],\n",
              "  'ref_spans': [],\n",
              "  'section': 'CONFLICTS OF INTEREST',\n",
              "  'text': 'The authors have nothing to disclose. '}]"
            ]
          },
          "metadata": {
            "tags": []
          },
          "execution_count": 5
        }
      ]
    },
    {
      "cell_type": "code",
      "metadata": {
        "colab": {
          "base_uri": "https://localhost:8080/"
        },
        "id": "iIfe77-152lw",
        "outputId": "38c04705-43c2-431f-84b2-dc107ed16404"
      },
      "source": [
        "len(json.loads(CoList[0])['body_text'])"
      ],
      "execution_count": 6,
      "outputs": [
        {
          "output_type": "execute_result",
          "data": {
            "text/plain": [
              "2"
            ]
          },
          "metadata": {
            "tags": []
          },
          "execution_count": 6
        }
      ]
    },
    {
      "cell_type": "code",
      "metadata": {
        "colab": {
          "base_uri": "https://localhost:8080/",
          "height": 36
        },
        "id": "MJ3Gm4Kp6STO",
        "outputId": "2e1849f1-c911-4b24-c3f5-5601448224a5"
      },
      "source": [
        "json.loads(CoList[0])['body_text'][1]['text']"
      ],
      "execution_count": 7,
      "outputs": [
        {
          "output_type": "execute_result",
          "data": {
            "application/vnd.google.colaboratory.intrinsic+json": {
              "type": "string"
            },
            "text/plain": [
              "'The authors have nothing to disclose. '"
            ]
          },
          "metadata": {
            "tags": []
          },
          "execution_count": 7
        }
      ]
    },
    {
      "cell_type": "code",
      "metadata": {
        "id": "N2cPcvPHb_i2"
      },
      "source": [
        "del CoList"
      ],
      "execution_count": 8,
      "outputs": []
    },
    {
      "cell_type": "markdown",
      "metadata": {
        "id": "DJU5ieA10dBG"
      },
      "source": [
        "### Convert to Dataframe"
      ]
    },
    {
      "cell_type": "code",
      "metadata": {
        "id": "6BApzi8X0gB8"
      },
      "source": [
        "import pandas as pd\n",
        "data = []\n",
        "for line in open('/content/drive/My Drive/thesis/pdf_parses_0_filtered.jsonl', 'r'):\n",
        "    data.append(json.loads(line))\n",
        "df = pd.DataFrame(data)\n",
        "del data"
      ],
      "execution_count": 9,
      "outputs": []
    },
    {
      "cell_type": "markdown",
      "metadata": {
        "id": "kbdGbf14DTNo"
      },
      "source": [
        "### Metadata"
      ]
    },
    {
      "cell_type": "code",
      "metadata": {
        "colab": {
          "base_uri": "https://localhost:8080/",
          "height": 293
        },
        "id": "fN9cQG0I0nki",
        "outputId": "3a0ca1bd-0727-4d15-a35d-7f65057c03e8"
      },
      "source": [
        "df.head()"
      ],
      "execution_count": 10,
      "outputs": [
        {
          "output_type": "execute_result",
          "data": {
            "text/html": [
              "<div>\n",
              "<style scoped>\n",
              "    .dataframe tbody tr th:only-of-type {\n",
              "        vertical-align: middle;\n",
              "    }\n",
              "\n",
              "    .dataframe tbody tr th {\n",
              "        vertical-align: top;\n",
              "    }\n",
              "\n",
              "    .dataframe thead th {\n",
              "        text-align: right;\n",
              "    }\n",
              "</style>\n",
              "<table border=\"1\" class=\"dataframe\">\n",
              "  <thead>\n",
              "    <tr style=\"text-align: right;\">\n",
              "      <th></th>\n",
              "      <th>paper_id</th>\n",
              "      <th>_pdf_hash</th>\n",
              "      <th>abstract</th>\n",
              "      <th>body_text</th>\n",
              "      <th>bib_entries</th>\n",
              "      <th>ref_entries</th>\n",
              "    </tr>\n",
              "  </thead>\n",
              "  <tbody>\n",
              "    <tr>\n",
              "      <th>0</th>\n",
              "      <td>77499681</td>\n",
              "      <td>11f281316fe4638843a83cf559ce4f60aade00f8</td>\n",
              "      <td>[{'section': 'Abstract', 'text': 'The purpose ...</td>\n",
              "      <td>[{'section': '', 'text': 'Values are presented...</td>\n",
              "      <td>{'BIBREF0': {'title': 'Bone health and osteopo...</td>\n",
              "      <td>{'FIGREF0': {'text': '비스포스포네이트를 장기간 복용한 골다공증 환...</td>\n",
              "    </tr>\n",
              "    <tr>\n",
              "      <th>1</th>\n",
              "      <td>18980463</td>\n",
              "      <td>ac3a8d3545ca7c673ddbfbf2f503e40f6317eb6f</td>\n",
              "      <td>[{'section': 'Abstract', 'text': 'Although dev...</td>\n",
              "      <td>[{'section': '', 'text': 'In spite of the morp...</td>\n",
              "      <td>{'BIBREF0': {'title': 'pannier and pointedP2 a...</td>\n",
              "      <td>{'FIGREF0': {'text': 'Figure 1. Development of...</td>\n",
              "    </tr>\n",
              "    <tr>\n",
              "      <th>2</th>\n",
              "      <td>18981201</td>\n",
              "      <td>e99a17163d9cd7b8e55f1687f2608091573c5bae</td>\n",
              "      <td>[]</td>\n",
              "      <td>[]</td>\n",
              "      <td>{'BIBREF0': {'title': 'The time course of repe...</td>\n",
              "      <td>{}</td>\n",
              "    </tr>\n",
              "    <tr>\n",
              "      <th>3</th>\n",
              "      <td>18981358</td>\n",
              "      <td>95af4fe4e7795a89d3528600e77e1997169109bf</td>\n",
              "      <td>[{'section': 'Abstract', 'text': 'Background: ...</td>\n",
              "      <td>[{'section': 'INTRODUCTION', 'text': 'Spinal c...</td>\n",
              "      <td>{'BIBREF0': {'title': 'Anomalous double sensat...</td>\n",
              "      <td>{'FIGREF0': {'text': 'FIGURE 1 | Materials (A)...</td>\n",
              "    </tr>\n",
              "    <tr>\n",
              "      <th>4</th>\n",
              "      <td>18982114</td>\n",
              "      <td>5671677ddee95d06777b3f63d493faaedb204eb2</td>\n",
              "      <td>[{'section': 'Abstract', 'text': 'Background. ...</td>\n",
              "      <td>[{'section': '', 'text': 'The population in th...</td>\n",
              "      <td>{'BIBREF0': {'title': 'Intensive care 1980-199...</td>\n",
              "      <td>{'TABREF0': {'text': 'Baseline characteristics...</td>\n",
              "    </tr>\n",
              "  </tbody>\n",
              "</table>\n",
              "</div>"
            ],
            "text/plain": [
              "   paper_id  ...                                        ref_entries\n",
              "0  77499681  ...  {'FIGREF0': {'text': '비스포스포네이트를 장기간 복용한 골다공증 환...\n",
              "1  18980463  ...  {'FIGREF0': {'text': 'Figure 1. Development of...\n",
              "2  18981201  ...                                                 {}\n",
              "3  18981358  ...  {'FIGREF0': {'text': 'FIGURE 1 | Materials (A)...\n",
              "4  18982114  ...  {'TABREF0': {'text': 'Baseline characteristics...\n",
              "\n",
              "[5 rows x 6 columns]"
            ]
          },
          "metadata": {
            "tags": []
          },
          "execution_count": 10
        }
      ]
    },
    {
      "cell_type": "code",
      "metadata": {
        "id": "-vZ5K4Dk1DNb",
        "colab": {
          "base_uri": "https://localhost:8080/",
          "height": 293
        },
        "outputId": "2e82b345-90f8-4d06-d96b-4d4c9cbc7607"
      },
      "source": [
        "#drop all rows that have empty ref_enteries\n",
        "clean_df = df[df.ref_entries != {}]\n",
        "clean_df.head()"
      ],
      "execution_count": 11,
      "outputs": [
        {
          "output_type": "execute_result",
          "data": {
            "text/html": [
              "<div>\n",
              "<style scoped>\n",
              "    .dataframe tbody tr th:only-of-type {\n",
              "        vertical-align: middle;\n",
              "    }\n",
              "\n",
              "    .dataframe tbody tr th {\n",
              "        vertical-align: top;\n",
              "    }\n",
              "\n",
              "    .dataframe thead th {\n",
              "        text-align: right;\n",
              "    }\n",
              "</style>\n",
              "<table border=\"1\" class=\"dataframe\">\n",
              "  <thead>\n",
              "    <tr style=\"text-align: right;\">\n",
              "      <th></th>\n",
              "      <th>paper_id</th>\n",
              "      <th>_pdf_hash</th>\n",
              "      <th>abstract</th>\n",
              "      <th>body_text</th>\n",
              "      <th>bib_entries</th>\n",
              "      <th>ref_entries</th>\n",
              "    </tr>\n",
              "  </thead>\n",
              "  <tbody>\n",
              "    <tr>\n",
              "      <th>0</th>\n",
              "      <td>77499681</td>\n",
              "      <td>11f281316fe4638843a83cf559ce4f60aade00f8</td>\n",
              "      <td>[{'section': 'Abstract', 'text': 'The purpose ...</td>\n",
              "      <td>[{'section': '', 'text': 'Values are presented...</td>\n",
              "      <td>{'BIBREF0': {'title': 'Bone health and osteopo...</td>\n",
              "      <td>{'FIGREF0': {'text': '비스포스포네이트를 장기간 복용한 골다공증 환...</td>\n",
              "    </tr>\n",
              "    <tr>\n",
              "      <th>1</th>\n",
              "      <td>18980463</td>\n",
              "      <td>ac3a8d3545ca7c673ddbfbf2f503e40f6317eb6f</td>\n",
              "      <td>[{'section': 'Abstract', 'text': 'Although dev...</td>\n",
              "      <td>[{'section': '', 'text': 'In spite of the morp...</td>\n",
              "      <td>{'BIBREF0': {'title': 'pannier and pointedP2 a...</td>\n",
              "      <td>{'FIGREF0': {'text': 'Figure 1. Development of...</td>\n",
              "    </tr>\n",
              "    <tr>\n",
              "      <th>3</th>\n",
              "      <td>18981358</td>\n",
              "      <td>95af4fe4e7795a89d3528600e77e1997169109bf</td>\n",
              "      <td>[{'section': 'Abstract', 'text': 'Background: ...</td>\n",
              "      <td>[{'section': 'INTRODUCTION', 'text': 'Spinal c...</td>\n",
              "      <td>{'BIBREF0': {'title': 'Anomalous double sensat...</td>\n",
              "      <td>{'FIGREF0': {'text': 'FIGURE 1 | Materials (A)...</td>\n",
              "    </tr>\n",
              "    <tr>\n",
              "      <th>4</th>\n",
              "      <td>18982114</td>\n",
              "      <td>5671677ddee95d06777b3f63d493faaedb204eb2</td>\n",
              "      <td>[{'section': 'Abstract', 'text': 'Background. ...</td>\n",
              "      <td>[{'section': '', 'text': 'The population in th...</td>\n",
              "      <td>{'BIBREF0': {'title': 'Intensive care 1980-199...</td>\n",
              "      <td>{'TABREF0': {'text': 'Baseline characteristics...</td>\n",
              "    </tr>\n",
              "    <tr>\n",
              "      <th>5</th>\n",
              "      <td>18982460</td>\n",
              "      <td>0d8e5c189896d5814d870098583766fcca6a41cb</td>\n",
              "      <td>[{'section': 'Abstract', 'text': 'Background: ...</td>\n",
              "      <td>[{'section': 'Introduction', 'text': 'Benign p...</td>\n",
              "      <td>{'BIBREF0': {'title': 'The cost of treating th...</td>\n",
              "      <td>{'FIGREF0': {'text': 'Figure 1. The clinical c...</td>\n",
              "    </tr>\n",
              "  </tbody>\n",
              "</table>\n",
              "</div>"
            ],
            "text/plain": [
              "   paper_id  ...                                        ref_entries\n",
              "0  77499681  ...  {'FIGREF0': {'text': '비스포스포네이트를 장기간 복용한 골다공증 환...\n",
              "1  18980463  ...  {'FIGREF0': {'text': 'Figure 1. Development of...\n",
              "3  18981358  ...  {'FIGREF0': {'text': 'FIGURE 1 | Materials (A)...\n",
              "4  18982114  ...  {'TABREF0': {'text': 'Baseline characteristics...\n",
              "5  18982460  ...  {'FIGREF0': {'text': 'Figure 1. The clinical c...\n",
              "\n",
              "[5 rows x 6 columns]"
            ]
          },
          "metadata": {
            "tags": []
          },
          "execution_count": 11
        }
      ]
    },
    {
      "cell_type": "code",
      "metadata": {
        "colab": {
          "base_uri": "https://localhost:8080/"
        },
        "id": "UcSPFUTheAC1",
        "outputId": "d31d1d93-553f-4368-d3f2-0c38a8ecffae"
      },
      "source": [
        "clean_df.shape"
      ],
      "execution_count": 13,
      "outputs": [
        {
          "output_type": "execute_result",
          "data": {
            "text/plain": [
              "(55349, 6)"
            ]
          },
          "metadata": {
            "tags": []
          },
          "execution_count": 13
        }
      ]
    },
    {
      "cell_type": "code",
      "metadata": {
        "id": "B_eJSHSFDe-c"
      },
      "source": [
        "metadata = []\n",
        "for line in open('/content/drive/My Drive/thesis/metadata_0_filtered.jsonl', 'r'):\n",
        "    metadata.append(json.loads(line))\n",
        "metadata_df = pd.DataFrame(metadata)"
      ],
      "execution_count": null,
      "outputs": []
    },
    {
      "cell_type": "code",
      "metadata": {
        "colab": {
          "base_uri": "https://localhost:8080/",
          "height": 323
        },
        "id": "bQ0fzPx1Ea-r",
        "outputId": "b47e17c2-f0de-4a9a-b491-1a573b5124aa"
      },
      "source": [
        "metadata_df.head(2)"
      ],
      "execution_count": null,
      "outputs": [
        {
          "output_type": "execute_result",
          "data": {
            "text/html": [
              "<div>\n",
              "<style scoped>\n",
              "    .dataframe tbody tr th:only-of-type {\n",
              "        vertical-align: middle;\n",
              "    }\n",
              "\n",
              "    .dataframe tbody tr th {\n",
              "        vertical-align: top;\n",
              "    }\n",
              "\n",
              "    .dataframe thead th {\n",
              "        text-align: right;\n",
              "    }\n",
              "</style>\n",
              "<table border=\"1\" class=\"dataframe\">\n",
              "  <thead>\n",
              "    <tr style=\"text-align: right;\">\n",
              "      <th></th>\n",
              "      <th>paper_id</th>\n",
              "      <th>title</th>\n",
              "      <th>authors</th>\n",
              "      <th>abstract</th>\n",
              "      <th>year</th>\n",
              "      <th>arxiv_id</th>\n",
              "      <th>acl_id</th>\n",
              "      <th>pmc_id</th>\n",
              "      <th>pubmed_id</th>\n",
              "      <th>doi</th>\n",
              "      <th>venue</th>\n",
              "      <th>journal</th>\n",
              "      <th>has_pdf_body_text</th>\n",
              "      <th>mag_id</th>\n",
              "      <th>mag_field_of_study</th>\n",
              "      <th>outbound_citations</th>\n",
              "      <th>inbound_citations</th>\n",
              "      <th>has_outbound_citations</th>\n",
              "      <th>has_inbound_citations</th>\n",
              "      <th>has_pdf_parse</th>\n",
              "      <th>has_pdf_parsed_abstract</th>\n",
              "      <th>has_pdf_parsed_body_text</th>\n",
              "      <th>has_pdf_parsed_bib_entries</th>\n",
              "      <th>has_pdf_parsed_ref_entries</th>\n",
              "      <th>s2_url</th>\n",
              "    </tr>\n",
              "  </thead>\n",
              "  <tbody>\n",
              "    <tr>\n",
              "      <th>0</th>\n",
              "      <td>18980380</td>\n",
              "      <td>Distributionally Robust Counterpart in Markov ...</td>\n",
              "      <td>[{'first': 'Pengqian', 'middle': [], 'last': '...</td>\n",
              "      <td>This technical note studies Markov decision pr...</td>\n",
              "      <td>2016.0</td>\n",
              "      <td>1501.07418</td>\n",
              "      <td>None</td>\n",
              "      <td>None</td>\n",
              "      <td>None</td>\n",
              "      <td>10.1109/TAC.2015.2495174</td>\n",
              "      <td>IEEE Transactions on Automatic Control</td>\n",
              "      <td>IEEE Transactions on Automatic Control</td>\n",
              "      <td>True</td>\n",
              "      <td>2952813233,1849856029,2962850106</td>\n",
              "      <td>[Mathematics, Computer Science]</td>\n",
              "      <td>[7229756, 57464058, 9166388, 10603007, 2474018...</td>\n",
              "      <td>[18980380, 2557260, 202130625, 12287826, 19531...</td>\n",
              "      <td>True</td>\n",
              "      <td>True</td>\n",
              "      <td>True</td>\n",
              "      <td>True</td>\n",
              "      <td>True</td>\n",
              "      <td>True</td>\n",
              "      <td>True</td>\n",
              "      <td>https://api.semanticscholar.org/CorpusID:18980380</td>\n",
              "    </tr>\n",
              "    <tr>\n",
              "      <th>1</th>\n",
              "      <td>18981111</td>\n",
              "      <td>Exploration of Unknown Spaces by People Who Ar...</td>\n",
              "      <td>[{'first': 'Orly', 'middle': [], 'last': 'Laha...</td>\n",
              "      <td>Exploration of unknown spaces is essential for...</td>\n",
              "      <td>2004.0</td>\n",
              "      <td>None</td>\n",
              "      <td>None</td>\n",
              "      <td>None</td>\n",
              "      <td>None</td>\n",
              "      <td>10.1177/016264340401900302</td>\n",
              "      <td>None</td>\n",
              "      <td>Journal of Special Education Technology</td>\n",
              "      <td>True</td>\n",
              "      <td>274045197</td>\n",
              "      <td>[Computer Science]</td>\n",
              "      <td>[1098608, 106791123, 59663322, 1490396, 141144...</td>\n",
              "      <td>[209453616, 6869367, 24873259, 19911224, 69173...</td>\n",
              "      <td>True</td>\n",
              "      <td>True</td>\n",
              "      <td>True</td>\n",
              "      <td>False</td>\n",
              "      <td>True</td>\n",
              "      <td>True</td>\n",
              "      <td>True</td>\n",
              "      <td>https://api.semanticscholar.org/CorpusID:18981111</td>\n",
              "    </tr>\n",
              "  </tbody>\n",
              "</table>\n",
              "</div>"
            ],
            "text/plain": [
              "   paper_id  ...                                             s2_url\n",
              "0  18980380  ...  https://api.semanticscholar.org/CorpusID:18980380\n",
              "1  18981111  ...  https://api.semanticscholar.org/CorpusID:18981111\n",
              "\n",
              "[2 rows x 25 columns]"
            ]
          },
          "metadata": {
            "tags": []
          },
          "execution_count": 12
        }
      ]
    },
    {
      "cell_type": "code",
      "metadata": {
        "colab": {
          "base_uri": "https://localhost:8080/"
        },
        "id": "Csl0fYlA4vf0",
        "outputId": "e0e824e8-4daa-4fbd-ae18-622bf524e2be"
      },
      "source": [
        "# number of sections in each article body text\n",
        "sections = []\n",
        "for row in clean_df.body_text:\n",
        "    sections.append(len(row))\n",
        "print(sections)"
      ],
      "execution_count": 14,
      "outputs": [
        {
          "output_type": "stream",
          "text": [
            "[2, 35, 41, 19, 17, 20, 23, 17, 37, 19, 33, 26, 19, 64, 4, 32, 6, 29, 19, 24, 35, 25, 24, 29, 27, 58, 19, 40, 12, 57, 21, 18, 78, 19, 12, 17, 37, 41, 43, 76, 45, 48, 38, 22, 21, 19, 25, 31, 32, 31, 29, 23, 40, 7, 1, 27, 17, 41, 64, 46, 20, 10, 1, 2, 36, 28, 36, 21, 16, 22, 67, 24, 21, 32, 5, 26, 18, 31, 2, 58, 44, 10, 40, 25, 42, 22, 38, 59, 37, 14, 12, 35, 20, 10, 41, 29, 12, 29, 13, 29, 11, 10, 29, 33, 5, 68, 25, 25, 20, 100, 17, 15, 27, 29, 41, 33, 76, 25, 12, 12, 10, 21, 49, 20, 19, 22, 2, 3, 23, 3, 34, 5, 1, 23, 11, 14, 53, 26, 44, 15, 9, 50, 30, 36, 48, 39, 31, 28, 30, 45, 25, 17, 28, 16, 5, 25, 52, 18, 31, 31, 59, 27, 30, 43, 1, 21, 19, 19, 23, 23, 12, 15, 25, 1, 24, 11, 84, 30, 42, 1, 24, 15, 45, 6, 29, 24, 21, 7, 29, 27, 38, 13, 15, 19, 72, 28, 24, 49, 19, 21, 4, 31, 3, 40, 6, 5, 23, 39, 29, 32, 9, 29, 30, 27, 23, 30, 46, 31, 42, 12, 40, 65, 25, 1, 1, 1, 1, 1, 1, 1, 1, 2, 3, 25, 44, 1, 1, 1, 1, 1, 4, 1, 1, 22, 1, 1, 1, 1, 1, 21, 1, 1, 1, 2, 1, 1, 1, 1, 1, 34, 3, 1, 23, 13, 18, 19, 57, 34, 20, 8, 26, 35, 42, 30, 36, 11, 65, 48, 4, 21, 10, 37, 36, 50, 25, 19, 87, 22, 11, 55, 29, 52, 13, 17, 81, 1, 15, 25, 15, 1, 5, 11, 20, 14, 31, 12, 20, 7, 4, 41, 15, 135, 36, 18, 2, 35, 52, 22, 63, 21, 1, 20, 37, 32, 32, 24, 1, 45, 21, 23, 21, 26, 22, 23, 20, 49, 28, 33, 37, 35, 27, 31, 28, 5, 18, 43, 37, 29, 23, 14, 1, 40, 31, 118, 18, 34, 11, 86, 17, 32, 1, 30, 27, 23, 29, 23, 37, 55, 35, 25, 40, 21, 20, 38, 39, 28, 15, 56, 28, 24, 10, 35, 1, 26, 23, 33, 25, 34, 40, 24, 10, 13, 29, 22, 6, 20, 11, 13, 8, 47, 30, 45, 6, 25, 21, 17, 11, 28, 39, 22, 61, 37, 50, 5, 16, 19, 40, 20, 17, 76, 45, 7, 38, 28, 31, 9, 28, 23, 7, 20, 39, 10, 37, 50, 29, 35, 17, 17, 43, 30, 19, 41, 39, 29, 8, 15, 31, 62, 6, 18, 24, 27, 8, 38, 2, 6, 12, 24, 30, 40, 18, 36, 35, 30, 56, 18, 77, 12, 33, 41, 20, 34, 13, 27, 21, 40, 19, 7, 35, 40, 17, 16, 13, 20, 10, 38, 48, 40, 13, 12, 10, 3, 45, 14, 23, 38, 45, 41, 11, 84, 10, 35, 6, 36, 22, 29, 41, 36, 47, 23, 70, 12, 30, 34, 18, 28, 18, 1, 20, 33, 58, 26, 15, 53, 44, 34, 29, 52, 44, 56, 16, 46, 38, 4, 11, 38, 15, 38, 20, 8, 3, 9, 18, 17, 44, 34, 23, 31, 29, 53, 38, 38, 64, 13, 29, 27, 37, 37, 27, 17, 20, 24, 4, 12, 57, 21, 28, 13, 9, 48, 38, 22, 47, 21, 34, 20, 30, 15, 37, 15, 23, 31, 38, 41, 15, 25, 22, 14, 24, 45, 44, 22, 41, 55, 25, 30, 31, 28, 27, 33, 80, 39, 41, 9, 43, 29, 22, 49, 6, 22, 23, 5, 48, 34, 31, 26, 31, 42, 28, 18, 4, 28, 33, 59, 5, 32, 19, 20, 29, 71, 34, 40, 46, 45, 20, 19, 25, 53, 20, 30, 27, 5, 27, 37, 34, 32, 31, 8, 32, 18, 32, 20, 21, 27, 22, 22, 14, 20, 22, 8, 19, 41, 31, 14, 24, 6, 37, 32, 51, 7, 28, 23, 11, 33, 23, 26, 32, 14, 43, 5, 11, 24, 56, 29, 20, 25, 20, 25, 47, 35, 19, 27, 38, 62, 49, 50, 45, 23, 24, 17, 99, 28, 161, 52, 31, 49, 32, 10, 71, 42, 25, 36, 21, 36, 33, 19, 37, 17, 41, 40, 21, 38, 26, 25, 25, 25, 44, 67, 29, 19, 31, 70, 31, 17, 17, 17, 41, 24, 47, 45, 17, 37, 49, 25, 42, 54, 17, 36, 19, 46, 22, 27, 28, 23, 10, 6, 40, 35, 73, 24, 29, 36, 22, 13, 40, 89, 9, 22, 12, 20, 109, 23, 19, 53, 32, 32, 22, 24, 8, 35, 35, 60, 11, 30, 40, 24, 28, 31, 32, 28, 38, 28, 87, 32, 32, 47, 47, 32, 78, 25, 5, 49, 32, 20, 18, 13, 31, 24, 9, 71, 57, 37, 37, 29, 22, 45, 25, 24, 87, 13, 25, 32, 117, 2, 25, 28, 91, 27, 3, 97, 16, 4, 32, 45, 32, 27, 28, 37, 30, 23, 29, 26, 17, 38, 28, 34, 41, 23, 59, 58, 20, 23, 88, 43, 19, 11, 45, 35, 8, 28, 24, 15, 29, 21, 6, 22, 31, 19, 3, 33, 2, 18, 9, 19, 23, 21, 35, 1, 20, 30, 2, 40, 57, 40, 18, 11, 51, 31, 22, 27, 28, 35, 22, 30, 22, 24, 22, 16, 28, 17, 29, 33, 2, 42, 26, 26, 17, 34, 43, 37, 31, 16, 26, 45, 1, 16, 26, 36, 40, 29, 49, 26, 15, 29, 46, 49, 74, 17, 51, 27, 25, 28, 17, 16, 30, 41, 34, 6, 30, 24, 25, 18, 10, 37, 18, 49, 16, 35, 33, 53, 18, 25, 10, 7, 26, 37, 24, 26, 25, 32, 35, 40, 23, 46, 25, 66, 2, 37, 27, 15, 31, 45, 13, 8, 22, 44, 34, 27, 41, 28, 50, 19, 30, 35, 29, 19, 24, 34, 25, 12, 28, 9, 39, 12, 29, 31, 5, 19, 15, 29, 31, 27, 25, 40, 38, 28, 19, 18, 75, 32, 34, 17, 16, 11, 33, 10, 29, 68, 55, 19, 30, 16, 48, 15, 8, 26, 24, 26, 29, 58, 44, 16, 21, 35, 8, 38, 8, 34, 20, 12, 31, 44, 14, 19, 16, 29, 24, 37, 17, 32, 31, 13, 23, 25, 17, 7, 12, 48, 24, 43, 14, 13, 7, 17, 24, 31, 41, 6, 1, 47, 25, 17, 27, 10, 35, 52, 10, 15, 20, 13, 10, 8, 30, 31, 56, 36, 14, 10, 48, 26, 51, 17, 24, 20, 3, 26, 26, 28, 18, 10, 29, 17, 69, 31, 8, 49, 34, 21, 28, 30, 69, 40, 35, 13, 16, 13, 25, 27, 14, 4, 10, 4, 23, 16, 20, 26, 29, 21, 48, 24, 15, 56, 31, 26, 27, 23, 22, 40, 18, 36, 38, 38, 52, 28, 41, 10, 34, 17, 44, 44, 28, 27, 17, 35, 51, 1, 25, 22, 24, 39, 8, 23, 56, 19, 24, 73, 45, 41, 5, 6, 28, 25, 35, 31, 17, 30, 62, 41, 40, 55, 19, 12, 26, 22, 53, 57, 3, 4, 38, 73, 30, 28, 20, 16, 11, 29, 187, 56, 39, 27, 41, 22, 37, 11, 8, 21, 17, 30, 24, 43, 28, 10, 29, 31, 88, 26, 24, 25, 1, 25, 13, 29, 57, 21, 13, 48, 25, 9, 29, 57, 31, 6, 53, 16, 27, 16, 27, 41, 32, 34, 39, 45, 10, 35, 34, 58, 19, 31, 14, 19, 9, 14, 17, 11, 47, 37, 25, 1, 5, 70, 16, 28, 32, 33, 46, 78, 17, 32, 3, 37, 7, 40, 40, 11, 19, 30, 18, 29, 56, 1, 30, 245, 24, 26, 29, 31, 43, 20, 21, 44, 32, 32, 7, 34, 23, 41, 16, 13, 3, 13, 40, 35, 11, 24, 28, 84, 24, 17, 32, 33, 63, 8, 37, 35, 15, 21, 32, 6, 6, 12, 7, 8, 17, 16, 13, 27, 41, 13, 184, 25, 27, 41, 73, 32, 31, 29, 88, 13, 43, 14, 33, 13, 14, 11, 20, 24, 10, 53, 18, 12, 26, 39, 17, 21, 19, 3, 24, 7, 18, 35, 24, 111, 61, 2, 1, 38, 1, 1, 45, 19, 27, 43, 34, 20, 33, 13, 13, 43, 35, 27, 12, 16, 18, 51, 30, 15, 48, 21, 40, 27, 18, 1, 22, 7, 17, 28, 47, 131, 32, 26, 23, 38, 24, 46, 8, 30, 70, 16, 10, 26, 13, 43, 25, 32, 51, 42, 22, 16, 49, 19, 14, 16, 30, 9, 24, 27, 36, 40, 59, 36, 23, 21, 24, 40, 36, 25, 39, 8, 37, 6, 21, 13, 4, 22, 27, 9, 21, 22, 15, 30, 15, 11, 1, 40, 10, 21, 32, 40, 5, 39, 23, 16, 10, 39, 12, 27, 10, 26, 37, 70, 52, 38, 29, 33, 30, 54, 37, 17, 21, 11, 29, 23, 8, 41, 26, 42, 18, 6, 54, 24, 1, 4, 10, 21, 1, 16, 12, 13, 27, 24, 13, 5, 16, 32, 17, 24, 14, 13, 27, 2, 36, 20, 30, 17, 7, 9, 50, 1, 34, 14, 59, 26, 25, 26, 20, 4, 31, 46, 14, 35, 12, 40, 17, 38, 7, 26, 15, 28, 20, 20, 43, 36, 41, 38, 37, 54, 47, 1, 4, 50, 17, 20, 37, 27, 39, 34, 19, 19, 6, 24, 27, 5, 7, 8, 1, 35, 44, 35, 26, 17, 53, 13, 14, 35, 5, 21, 146, 14, 24, 37, 22, 15, 17, 4, 9, 17, 23, 11, 53, 31, 2, 33, 20, 47, 24, 38, 49, 23, 42, 28, 24, 7, 30, 42, 82, 28, 30, 21, 27, 17, 11, 5, 6, 1, 58, 21, 32, 37, 21, 34, 29, 26, 3, 27, 36, 50, 26, 22, 49, 11, 11, 21, 17, 24, 94, 19, 29, 12, 51, 17, 34, 18, 35, 1, 22, 55, 25, 8, 10, 37, 27, 11, 1, 47, 12, 25, 38, 29, 26, 20, 21, 39, 22, 50, 18, 22, 33, 25, 28, 36, 12, 9, 22, 8, 26, 30, 24, 20, 44, 24, 46, 1, 29, 34, 20, 32, 7, 16, 13, 9, 25, 11, 13, 48, 12, 27, 46, 82, 7, 18, 62, 20, 17, 22, 21, 31, 32, 35, 13, 28, 67, 10, 1, 33, 35, 34, 33, 40, 18, 27, 105, 17, 30, 45, 19, 34, 72, 34, 2, 24, 7, 24, 11, 14, 30, 87, 30, 28, 24, 15, 26, 47, 13, 9, 2, 29, 30, 16, 32, 10, 35, 22, 4, 8, 5, 21, 9, 87, 8, 21, 39, 15, 53, 41, 36, 12, 9, 26, 31, 7, 15, 32, 6, 4, 52, 28, 32, 4, 47, 33, 23, 15, 66, 35, 1, 20, 38, 18, 14, 29, 36, 1, 72, 17, 11, 13, 36, 72, 107, 21, 59, 32, 1, 22, 4, 26, 41, 3, 6, 46, 39, 23, 33, 25, 17, 21, 87, 10, 46, 33, 48, 6, 1, 7, 18, 24, 67, 14, 10, 22, 24, 25, 39, 57, 40, 27, 25, 26, 28, 27, 9, 12, 34, 62, 35, 33, 18, 33, 93, 28, 41, 9, 42, 3, 19, 48, 13, 27, 26, 32, 22, 46, 28, 41, 24, 22, 2, 11, 54, 35, 81, 28, 31, 57, 16, 33, 33, 18, 26, 20, 23, 28, 23, 8, 13, 21, 18, 23, 32, 11, 38, 28, 41, 38, 39, 18, 14, 40, 21, 10, 72, 21, 37, 41, 17, 16, 20, 34, 26, 42, 19, 26, 33, 21, 32, 39, 9, 18, 25, 23, 15, 41, 24, 24, 38, 20, 34, 23, 83, 28, 35, 24, 33, 29, 114, 37, 22, 27, 43, 34, 23, 39, 41, 29, 39, 30, 60, 6, 44, 16, 25, 31, 21, 23, 34, 21, 5, 18, 5, 36, 35, 15, 9, 1, 25, 11, 25, 8, 32, 22, 101, 14, 20, 29, 2, 22, 25, 22, 16, 9, 40, 20, 43, 25, 16, 24, 1, 13, 19, 7, 69, 61, 21, 38, 8, 8, 22, 40, 34, 46, 12, 31, 27, 10, 39, 33, 27, 31, 26, 13, 7, 35, 33, 46, 38, 18, 29, 25, 8, 41, 18, 28, 4, 21, 13, 36, 16, 17, 39, 24, 27, 20, 33, 56, 12, 37, 16, 50, 8, 24, 6, 41, 12, 30, 22, 23, 29, 21, 10, 39, 20, 7, 7, 10, 8, 24, 33, 27, 30, 12, 27, 83, 21, 47, 31, 17, 15, 10, 7, 58, 12, 26, 27, 4, 15, 18, 35, 14, 18, 32, 26, 45, 14, 9, 32, 7, 35, 19, 48, 12, 14, 17, 17, 46, 23, 11, 33, 38, 24, 36, 26, 4, 30, 30, 30, 37, 36, 33, 72, 22, 26, 26, 37, 3, 20, 39, 21, 18, 31, 45, 10, 24, 26, 26, 59, 29, 20, 77, 26, 3, 31, 28, 37, 40, 49, 34, 1, 18, 30, 22, 31, 40, 29, 20, 69, 5, 46, 54, 31, 34, 32, 5, 24, 18, 4, 38, 30, 19, 9, 29, 1, 21, 25, 16, 33, 41, 39, 39, 22, 22, 27, 27, 28, 27, 12, 30, 37, 27, 7, 26, 30, 10, 41, 24, 15, 42, 20, 29, 43, 8, 30, 23, 22, 25, 35, 27, 41, 1, 12, 10, 10, 49, 30, 1, 4, 15, 8, 21, 19, 20, 30, 32, 36, 34, 14, 24, 10, 34, 50, 6, 35, 34, 3, 14, 1, 21, 27, 35, 47, 37, 30, 24, 38, 32, 44, 16, 34, 35, 28, 12, 39, 43, 8, 24, 34, 22, 13, 23, 25, 50, 33, 33, 23, 25, 28, 35, 15, 21, 95, 19, 39, 12, 24, 35, 25, 19, 31, 14, 67, 14, 26, 37, 21, 12, 94, 7, 20, 22, 15, 9, 7, 18, 19, 45, 9, 12, 16, 43, 18, 39, 21, 32, 23, 30, 37, 32, 2, 10, 34, 19, 38, 33, 21, 38, 26, 27, 22, 5, 7, 21, 26, 33, 40, 2, 21, 20, 12, 10, 18, 42, 36, 33, 36, 28, 34, 23, 38, 42, 66, 24, 25, 28, 20, 61, 17, 15, 30, 21, 14, 20, 20, 38, 20, 14, 20, 93, 28, 48, 13, 21, 37, 28, 24, 18, 25, 35, 34, 45, 36, 23, 65, 10, 27, 27, 18, 48, 22, 1, 29, 12, 20, 25, 10, 29, 26, 19, 19, 23, 40, 15, 6, 7, 25, 12, 20, 15, 18, 5, 19, 15, 22, 18, 38, 45, 31, 13, 66, 34, 9, 9, 17, 110, 38, 27, 37, 25, 27, 27, 15, 21, 34, 46, 21, 25, 15, 26, 23, 27, 44, 9, 27, 2, 57, 24, 34, 36, 165, 50, 30, 20, 26, 28, 45, 38, 54, 78, 36, 37, 18, 27, 30, 33, 29, 38, 23, 2, 1, 40, 18, 48, 15, 20, 21, 34, 21, 22, 31, 39, 25, 38, 78, 48, 48, 23, 11, 17, 12, 26, 7, 3, 17, 15, 7, 19, 13, 62, 1, 13, 40, 36, 36, 30, 35, 15, 18, 20, 8, 7, 39, 49, 46, 30, 15, 35, 33, 12, 25, 3, 11, 22, 117, 37, 1, 8, 7, 1, 35, 10, 6, 35, 89, 15, 11, 54, 30, 40, 52, 15, 36, 52, 30, 5, 35, 44, 17, 15, 21, 73, 46, 19, 53, 43, 6, 4, 16, 48, 64, 24, 31, 25, 29, 11, 28, 41, 38, 34, 18, 25, 28, 39, 49, 32, 22, 9, 34, 60, 22, 51, 18, 30, 75, 19, 19, 7, 15, 23, 29, 15, 23, 32, 29, 3, 25, 9, 11, 25, 6, 35, 21, 17, 36, 25, 59, 7, 12, 5, 43, 43, 20, 29, 24, 32, 24, 45, 46, 50, 12, 51, 18, 29, 39, 10, 24, 16, 9, 117, 7, 141, 8, 10, 26, 10, 17, 64, 1, 30, 10, 26, 20, 58, 41, 54, 75, 1, 33, 50, 12, 82, 32, 14, 31, 27, 11, 16, 4, 11, 6, 3, 19, 16, 16, 20, 13, 18, 26, 19, 55, 9, 52, 27, 30, 10, 25, 22, 39, 22, 32, 28, 24, 9, 22, 29, 11, 27, 36, 8, 9, 38, 25, 11, 24, 18, 24, 37, 21, 36, 17, 93, 12, 32, 20, 39, 25, 35, 29, 25, 26, 44, 29, 31, 28, 19, 10, 46, 17, 45, 18, 27, 43, 34, 28, 23, 19, 62, 33, 58, 41, 38, 21, 47, 14, 17, 36, 23, 30, 30, 42, 30, 34, 25, 40, 22, 21, 13, 30, 1, 25, 53, 39, 9, 12, 19, 8, 17, 28, 12, 8, 13, 23, 30, 19, 7, 57, 46, 5, 27, 47, 65, 25, 24, 11, 25, 32, 30, 18, 28, 9, 52, 1, 26, 46, 12, 54, 21, 35, 29, 28, 19, 30, 49, 13, 23, 32, 31, 28, 32, 11, 22, 10, 1, 2, 17, 17, 27, 19, 30, 30, 34, 88, 29, 27, 42, 10, 6, 41, 33, 20, 33, 8, 29, 16, 13, 26, 23, 7, 1, 11, 214, 11, 12, 38, 30, 29, 31, 26, 20, 12, 27, 15, 37, 1, 12, 29, 28, 75, 39, 12, 19, 36, 51, 17, 30, 9, 71, 32, 30, 47, 29, 21, 41, 49, 25, 29, 39, 32, 39, 18, 69, 13, 28, 29, 13, 33, 40, 26, 22, 19, 26, 22, 9, 39, 26, 35, 28, 22, 30, 11, 12, 47, 30, 34, 44, 31, 8, 50, 40, 20, 27, 14, 28, 38, 19, 23, 6, 23, 13, 32, 17, 23, 6, 28, 34, 7, 23, 1, 37, 3, 26, 3, 20, 10, 1, 16, 73, 17, 15, 32, 11, 10, 39, 27, 32, 32, 17, 50, 30, 30, 61, 47, 40, 25, 96, 42, 11, 2, 25, 1, 38, 30, 69, 40, 40, 27, 27, 25, 54, 41, 21, 34, 9, 29, 38, 38, 6, 42, 56, 16, 20, 64, 52, 20, 24, 45, 14, 9, 35, 36, 25, 22, 38, 18, 21, 24, 37, 15, 33, 55, 27, 63, 38, 8, 1, 57, 6, 24, 57, 13, 21, 7, 8, 25, 10, 1, 26, 50, 20, 18, 27, 24, 23, 20, 17, 45, 16, 12, 36, 20, 22, 8, 16, 22, 24, 30, 8, 29, 19, 46, 17, 28, 54, 24, 10, 21, 12, 36, 19, 46, 55, 29, 18, 23, 51, 12, 24, 34, 12, 7, 31, 22, 7, 38, 21, 1, 21, 19, 29, 17, 23, 42, 12, 9, 37, 30, 25, 12, 47, 26, 31, 38, 35, 27, 18, 53, 32, 30, 10, 68, 19, 36, 30, 44, 34, 28, 28, 45, 25, 25, 17, 15, 30, 30, 43, 24, 23, 12, 69, 32, 8, 10, 15, 20, 4, 109, 23, 47, 29, 18, 8, 12, 14, 3, 5, 19, 47, 20, 20, 12, 12, 15, 54, 15, 22, 20, 21, 12, 48, 58, 42, 61, 39, 41, 28, 9, 22, 48, 56, 21, 26, 25, 38, 51, 21, 22, 23, 29, 35, 27, 28, 21, 35, 4, 18, 11, 38, 44, 31, 18, 22, 65, 25, 42, 40, 9, 24, 39, 47, 61, 23, 64, 58, 9, 11, 17, 25, 39, 25, 21, 36, 66, 52, 31, 37, 25, 8, 162, 9, 26, 32, 1, 42, 52, 26, 83, 7, 63, 54, 31, 19, 21, 16, 24, 19, 7, 29, 27, 35, 16, 12, 46, 3, 61, 10, 43, 32, 13, 34, 42, 28, 19, 70, 37, 20, 35, 29, 35, 21, 46, 28, 46, 13, 35, 42, 44, 6, 42, 22, 39, 51, 44, 10, 7, 21, 24, 36, 35, 16, 4, 49, 16, 23, 24, 67, 25, 12, 28, 56, 5, 12, 29, 29, 66, 13, 20, 23, 24, 68, 14, 7, 52, 27, 87, 33, 63, 70, 58, 35, 31, 2, 7, 42, 40, 15, 31, 164, 13, 12, 20, 41, 12, 42, 20, 35, 16, 27, 27, 26, 51, 31, 21, 11, 61, 27, 55, 8, 8, 28, 19, 28, 9, 4, 15, 17, 12, 40, 16, 22, 43, 8, 17, 32, 8, 8, 98, 6, 31, 32, 41, 24, 33, 20, 22, 22, 33, 28, 44, 25, 35, 15, 7, 18, 9, 9, 19, 10, 13, 11, 25, 32, 26, 38, 10, 23, 55, 10, 13, 33, 59, 7, 16, 55, 22, 32, 5, 15, 14, 40, 61, 37, 21, 46, 36, 25, 37, 48, 28, 21, 39, 47, 50, 25, 32, 24, 33, 17, 30, 22, 31, 15, 23, 22, 40, 76, 15, 19, 37, 35, 11, 36, 84, 33, 21, 24, 10, 24, 32, 50, 7, 83, 6, 17, 58, 24, 22, 25, 8, 28, 46, 17, 4, 28, 40, 41, 25, 33, 9, 32, 1, 1, 6, 36, 16, 21, 96, 15, 15, 27, 55, 4, 4, 22, 8, 27, 25, 41, 34, 32, 43, 40, 21, 22, 40, 13, 15, 18, 25, 13, 26, 37, 29, 21, 45, 19, 31, 30, 4, 15, 17, 18, 9, 45, 7, 15, 56, 47, 17, 16, 34, 29, 39, 24, 1, 23, 31, 31, 34, 20, 15, 35, 22, 1, 17, 26, 13, 30, 12, 16, 40, 27, 26, 25, 5, 10, 13, 38, 41, 26, 15, 31, 39, 2, 34, 27, 8, 25, 48, 13, 49, 20, 26, 20, 16, 18, 90, 34, 52, 25, 18, 20, 13, 24, 53, 15, 36, 27, 75, 22, 22, 75, 15, 16, 9, 12, 32, 25, 29, 34, 23, 25, 23, 6, 18, 31, 285, 23, 20, 31, 25, 17, 24, 40, 21, 77, 71, 15, 21, 27, 43, 30, 27, 31, 35, 8, 14, 30, 39, 13, 17, 55, 25, 44, 18, 51, 30, 28, 25, 46, 21, 27, 26, 13, 34, 52, 20, 38, 33, 28, 27, 10, 44, 41, 62, 32, 53, 35, 43, 19, 31, 15, 48, 37, 15, 63, 19, 26, 42, 82, 27, 20, 31, 8, 21, 22, 6, 44, 71, 29, 35, 9, 36, 37, 34, 12, 12, 11, 19, 20, 23, 39, 50, 32, 17, 9, 40, 23, 22, 45, 44, 37, 24, 31, 3, 24, 43, 102, 9, 20, 2, 34, 43, 46, 93, 35, 4, 29, 28, 21, 27, 9, 31, 31, 7, 28, 35, 18, 29, 15, 4, 31, 15, 26, 48, 23, 12, 57, 31, 30, 11, 12, 26, 24, 46, 19, 24, 5, 18, 45, 99, 29, 15, 32, 61, 38, 1, 44, 51, 31, 22, 25, 42, 19, 20, 32, 54, 12, 33, 16, 31, 37, 5, 68, 52, 8, 42, 19, 8, 22, 38, 26, 50, 21, 13, 31, 42, 26, 29, 30, 21, 31, 24, 49, 79, 33, 11, 14, 54, 26, 35, 18, 18, 24, 26, 28, 37, 65, 29, 41, 39, 7, 23, 33, 87, 154, 15, 15, 22, 13, 21, 29, 18, 31, 1, 20, 43, 30, 26, 28, 1, 25, 15, 9, 39, 27, 29, 10, 23, 13, 36, 18, 24, 13, 26, 44, 33, 29, 3, 27, 32, 67, 13, 13, 15, 50, 10, 38, 10, 23, 25, 26, 64, 21, 53, 52, 19, 24, 20, 35, 59, 16, 16, 18, 7, 34, 27, 20, 49, 8, 29, 24, 38, 35, 42, 27, 28, 29, 58, 35, 31, 13, 19, 14, 9, 21, 38, 14, 17, 1, 21, 5, 22, 8, 28, 36, 73, 38, 24, 20, 14, 19, 22, 16, 4, 53, 10, 34, 48, 24, 14, 22, 32, 46, 20, 8, 34, 81, 14, 22, 16, 25, 104, 22, 20, 24, 88, 16, 21, 14, 23, 25, 10, 38, 27, 43, 15, 29, 29, 27, 23, 10, 11, 31, 12, 4, 22, 75, 21, 10, 26, 10, 45, 24, 38, 5, 32, 25, 23, 17, 19, 21, 30, 28, 13, 26, 32, 24, 18, 41, 18, 22, 22, 33, 10, 45, 6, 8, 21, 17, 31, 26, 47, 18, 17, 1, 46, 16, 24, 33, 20, 8, 31, 17, 25, 63, 49, 56, 13, 21, 34, 28, 31, 14, 20, 27, 10, 31, 35, 28, 21, 32, 47, 23, 30, 11, 42, 1, 38, 32, 37, 26, 105, 26, 70, 78, 2, 34, 11, 29, 35, 66, 56, 31, 25, 28, 23, 26, 22, 20, 67, 29, 21, 19, 81, 79, 61, 47, 38, 45, 17, 36, 29, 48, 39, 34, 29, 5, 34, 29, 95, 23, 14, 23, 29, 33, 34, 43, 31, 46, 28, 92, 42, 40, 16, 18, 24, 59, 46, 34, 18, 20, 80, 32, 36, 1, 46, 21, 53, 20, 26, 44, 22, 21, 29, 15, 11, 36, 4, 19, 30, 18, 19, 19, 26, 18, 36, 19, 16, 44, 35, 37, 54, 39, 47, 17, 33, 14, 20, 4, 4, 30, 22, 41, 32, 37, 17, 33, 83, 28, 5, 18, 26, 39, 21, 42, 28, 17, 23, 35, 27, 37, 24, 17, 26, 15, 57, 51, 48, 53, 58, 27, 57, 23, 17, 26, 7, 19, 32, 25, 16, 76, 28, 13, 15, 24, 34, 27, 45, 30, 52, 69, 22, 49, 27, 110, 25, 16, 24, 19, 36, 39, 29, 31, 20, 33, 86, 28, 24, 18, 68, 54, 51, 25, 34, 41, 33, 8, 8, 33, 40, 30, 12, 30, 14, 25, 19, 36, 49, 78, 1, 32, 36, 59, 35, 45, 13, 32, 10, 13, 17, 24, 17, 40, 14, 18, 24, 26, 36, 38, 10, 39, 31, 21, 15, 44, 36, 4, 23, 1, 9, 30, 22, 9, 22, 17, 32, 22, 1, 34, 59, 41, 32, 20, 34, 41, 38, 46, 37, 45, 10, 20, 1, 31, 31, 85, 16, 31, 23, 28, 21, 29, 1, 33, 43, 30, 15, 28, 32, 38, 24, 69, 42, 19, 33, 16, 13, 18, 23, 31, 39, 36, 18, 32, 36, 7, 13, 48, 50, 35, 67, 61, 25, 33, 35, 20, 39, 28, 44, 21, 26, 98, 45, 18, 17, 49, 1, 35, 106, 34, 23, 1, 26, 39, 21, 24, 23, 23, 22, 31, 22, 3, 38, 15, 5, 6, 6, 42, 20, 12, 59, 23, 18, 39, 16, 23, 62, 38, 25, 20, 11, 11, 34, 20, 51, 49, 27, 22, 43, 44, 38, 18, 22, 22, 6, 16, 46, 21, 18, 22, 14, 34, 27, 20, 44, 54, 33, 34, 23, 55, 20, 24, 20, 36, 90, 29, 21, 25, 19, 28, 44, 28, 31, 17, 39, 41, 28, 26, 14, 40, 38, 35, 46, 80, 34, 11, 47, 3, 36, 1, 30, 4, 4, 9, 21, 17, 2, 31, 11, 34, 17, 9, 21, 18, 28, 38, 32, 12, 39, 32, 12, 21, 37, 43, 24, 34, 58, 25, 25, 22, 20, 22, 26, 26, 24, 16, 21, 12, 21, 35, 25, 32, 3, 16, 16, 39, 39, 33, 22, 47, 46, 10, 44, 66, 46, 25, 24, 13, 59, 25, 40, 28, 6, 41, 33, 31, 19, 66, 26, 43, 41, 37, 23, 1, 5, 24, 10, 1, 22, 30, 58, 44, 34, 32, 17, 16, 33, 29, 10, 65, 11, 82, 23, 38, 11, 35, 43, 33, 51, 29, 14, 27, 27, 25, 27, 21, 5, 27, 27, 16, 5, 26, 8, 19, 13, 19, 10, 13, 60, 55, 22, 66, 44, 23, 39, 69, 36, 24, 43, 22, 24, 1, 28, 67, 37, 22, 39, 19, 11, 1, 21, 60, 18, 1, 4, 51, 29, 47, 22, 40, 24, 35, 39, 29, 45, 7, 29, 25, 31, 30, 33, 12, 48, 18, 10, 40, 30, 33, 18, 44, 25, 13, 8, 9, 69, 33, 8, 15, 9, 25, 25, 33, 45, 5, 15, 66, 42, 15, 21, 9, 26, 52, 31, 11, 6, 22, 28, 1, 12, 8, 22, 16, 25, 4, 17, 67, 14, 1, 40, 10, 6, 22, 6, 35, 34, 25, 20, 43, 72, 10, 14, 15, 44, 19, 8, 13, 10, 243, 42, 45, 34, 7, 12, 35, 48, 10, 12, 24, 41, 18, 34, 38, 21, 76, 32, 42, 17, 19, 37, 21, 30, 7, 3, 17, 36, 26, 9, 22, 7, 21, 23, 11, 24, 65, 65, 34, 38, 24, 17, 30, 10, 16, 35, 39, 10, 18, 27, 9, 50, 10, 19, 9, 30, 21, 17, 29, 57, 60, 44, 85, 39, 41, 47, 27, 18, 34, 9, 95, 56, 64, 27, 16, 35, 27, 114, 23, 59, 37, 23, 29, 51, 35, 10, 21, 24, 36, 30, 21, 26, 32, 38, 29, 8, 13, 9, 21, 72, 20, 15, 18, 28, 25, 17, 36, 1, 18, 18, 9, 7, 20, 25, 29, 12, 24, 20, 43, 22, 11, 1, 1, 38, 30, 26, 8, 29, 52, 42, 6, 20, 30, 32, 17, 18, 39, 21, 62, 32, 45, 13, 32, 40, 31, 43, 48, 28, 19, 31, 2, 26, 34, 48, 58, 24, 64, 31, 24, 55, 13, 2, 36, 11, 25, 1, 1, 50, 1, 1, 1, 6, 1, 1, 1, 5, 1, 1, 2, 1, 1, 2, 1, 1, 1, 42, 1, 1, 1, 2, 1, 1, 1, 12, 1, 1, 1, 37, 1, 1, 1, 1, 1, 4, 1, 1, 1, 1, 1, 1, 1, 40, 14, 94, 55, 38, 159, 27, 25, 32, 41, 46, 68, 28, 3, 60, 25, 100, 28, 11, 29, 18, 18, 30, 24, 30, 34, 35, 23, 171, 77, 21, 19, 8, 18, 26, 10, 30, 4, 26, 23, 20, 27, 17, 18, 61, 25, 42, 14, 27, 43, 41, 34, 16, 18, 9, 21, 10, 9, 8, 33, 1, 2, 67, 15, 13, 20, 19, 10, 2, 30, 26, 39, 62, 19, 16, 52, 1, 44, 27, 40, 17, 25, 47, 38, 22, 36, 18, 74, 2, 19, 48, 24, 23, 15, 29, 27, 24, 17, 24, 31, 53, 19, 3, 9, 3, 13, 15, 20, 13, 33, 31, 36, 45, 43, 17, 27, 90, 37, 11, 36, 109, 26, 13, 30, 22, 9, 26, 23, 27, 26, 21, 11, 35, 46, 38, 47, 33, 61, 45, 18, 29, 6, 17, 16, 11, 46, 24, 31, 11, 30, 33, 11, 12, 35, 25, 27, 31, 29, 21, 44, 6, 25, 20, 15, 82, 27, 22, 7, 67, 33, 8, 27, 29, 23, 68, 56, 22, 16, 18, 29, 14, 28, 79, 56, 19, 24, 38, 29, 15, 13, 31, 28, 30, 32, 19, 40, 20, 18, 28, 9, 14, 26, 17, 24, 11, 16, 31, 11, 15, 29, 24, 93, 40, 32, 20, 29, 13, 21, 11, 47, 96, 41, 83, 42, 37, 45, 54, 57, 33, 91, 13, 11, 19, 21, 17, 25, 15, 19, 30, 13, 23, 55, 65, 35, 19, 91, 25, 23, 107, 18, 28, 36, 29, 27, 19, 36, 61, 48, 62, 38, 28, 19, 17, 28, 2, 13, 55, 7, 55, 10, 1, 29, 65, 38, 33, 17, 31, 33, 9, 13, 17, 8, 27, 32, 19, 1, 38, 21, 27, 39, 58, 4, 26, 55, 21, 55, 8, 1, 31, 47, 2, 28, 43, 29, 16, 2, 33, 29, 29, 16, 6, 48, 23, 10, 47, 41, 35, 9, 8, 15, 32, 24, 21, 42, 24, 17, 26, 24, 17, 20, 23, 28, 38, 19, 28, 16, 35, 15, 6, 17, 67, 6, 42, 18, 14, 25, 29, 14, 16, 23, 13, 23, 7, 34, 26, 47, 13, 11, 36, 9, 15, 18, 44, 28, 17, 29, 56, 32, 12, 26, 33, 23, 1, 23, 16, 20, 26, 23, 15, 25, 7, 47, 32, 24, 29, 25, 25, 42, 24, 34, 21, 18, 95, 15, 12, 22, 43, 25, 9, 61, 17, 47, 25, 8, 25, 23, 19, 33, 38, 22, 8, 61, 23, 8, 5, 14, 25, 17, 50, 26, 1, 1, 26, 44, 16, 20, 23, 27, 14, 7, 53, 36, 24, 25, 1, 59, 6, 22, 4, 13, 34, 40, 6, 98, 7, 16, 27, 42, 22, 29, 17, 9, 17, 13, 25, 30, 20, 30, 24, 11, 20, 12, 20, 37, 5, 19, 18, 34, 57, 45, 54, 28, 14, 24, 41, 24, 27, 38, 8, 27, 27, 10, 6, 36, 42, 30, 35, 22, 27, 45, 36, 14, 30, 32, 8, 17, 16, 37, 25, 19, 26, 5, 1, 4, 8, 9, 25, 94, 26, 11, 1, 26, 19, 24, 16, 11, 17, 17, 7, 28, 29, 39, 35, 22, 19, 37, 53, 70, 20, 52, 15, 49, 26, 16, 38, 23, 28, 29, 25, 47, 15, 58, 30, 13, 17, 37, 24, 53, 15, 69, 49, 18, 42, 21, 38, 33, 22, 14, 29, 8, 29, 31, 35, 42, 39, 5, 19, 33, 39, 37, 47, 75, 40, 11, 40, 26, 28, 35, 36, 25, 26, 29, 35, 27, 11, 45, 40, 35, 19, 25, 25, 47, 25, 30, 20, 39, 17, 29, 14, 17, 12, 35, 20, 9, 24, 20, 21, 40, 26, 36, 19, 10, 36, 15, 7, 37, 21, 28, 51, 32, 25, 6, 10, 10, 22, 5, 34, 30, 18, 9, 17, 26, 14, 44, 26, 24, 17, 10, 19, 55, 21, 27, 28, 41, 53, 13, 26, 33, 19, 18, 24, 11, 30, 22, 4, 34, 6, 14, 49, 28, 3, 32, 33, 69, 26, 27, 19, 41, 8, 18, 29, 17, 11, 40, 23, 7, 8, 39, 14, 40, 9, 22, 22, 24, 15, 40, 12, 18, 28, 28, 20, 32, 16, 4, 16, 33, 64, 2, 49, 33, 25, 54, 3, 22, 139, 24, 26, 40, 121, 11, 31, 21, 45, 23, 45, 9, 59, 26, 17, 20, 51, 64, 33, 38, 13, 25, 83, 83, 32, 21, 1, 35, 23, 32, 45, 1, 26, 21, 30, 15, 61, 44, 11, 35, 40, 6, 1, 14, 15, 32, 33, 31, 28, 55, 21, 22, 42, 199, 35, 47, 35, 32, 27, 19, 20, 17, 34, 33, 1, 22, 13, 27, 31, 32, 14, 15, 2, 1, 53, 15, 5, 28, 2, 10, 25, 17, 51, 49, 20, 25, 38, 27, 14, 34, 37, 19, 37, 18, 57, 121, 24, 49, 35, 41, 32, 46, 35, 20, 32, 27, 22, 11, 21, 36, 29, 47, 85, 55, 96, 21, 60, 44, 50, 42, 111, 34, 43, 28, 37, 17, 38, 26, 30, 50, 26, 38, 30, 25, 29, 5, 13, 31, 53, 52, 48, 10, 29, 6, 48, 15, 33, 27, 30, 33, 23, 16, 55, 37, 25, 22, 22, 55, 31, 12, 20, 27, 21, 13, 37, 12, 16, 2, 57, 17, 27, 41, 26, 45, 39, 16, 20, 25, 17, 17, 39, 27, 28, 5, 39, 19, 25, 52, 30, 9, 8, 32, 30, 70, 34, 19, 67, 29, 1, 38, 50, 21, 39, 45, 86, 16, 44, 5, 45, 29, 91, 67, 22, 1, 10, 37, 22, 7, 49, 23, 31, 34, 9, 63, 18, 8, 20, 7, 12, 18, 31, 17, 29, 36, 32, 14, 65, 39, 23, 48, 26, 40, 13, 23, 60, 33, 46, 34, 33, 16, 34, 14, 9, 54, 19, 7, 73, 25, 23, 22, 23, 28, 21, 39, 13, 27, 44, 10, 36, 59, 23, 35, 8, 33, 67, 29, 23, 46, 19, 32, 19, 36, 42, 25, 33, 35, 26, 29, 14, 22, 44, 11, 32, 17, 19, 29, 17, 15, 22, 32, 29, 25, 15, 24, 29, 11, 21, 32, 4, 7, 15, 39, 15, 13, 22, 17, 7, 31, 28, 1, 58, 37, 12, 19, 11, 9, 21, 30, 78, 29, 9, 13, 20, 29, 43, 43, 11, 23, 28, 7, 7, 16, 7, 60, 21, 39, 29, 57, 48, 30, 25, 22, 12, 31, 27, 120, 28, 19, 29, 3, 15, 16, 11, 17, 40, 47, 20, 46, 17, 15, 23, 25, 34, 21, 67, 29, 12, 67, 22, 26, 28, 29, 24, 45, 7, 9, 16, 3, 6, 6, 17, 28, 27, 18, 21, 12, 10, 29, 12, 19, 30, 3, 23, 36, 18, 1, 1, 1, 1, 1, 1, 1, 45, 1, 24, 44, 25, 40, 36, 50, 2, 47, 26, 22, 6, 15, 13, 38, 28, 1, 35, 22, 34, 17, 31, 20, 32, 25, 16, 25, 14, 46, 38, 32, 29, 28, 17, 16, 8, 33, 7, 8, 36, 18, 21, 20, 28, 21, 37, 9, 36, 1, 20, 37, 22, 6, 23, 2, 33, 22, 17, 31, 24, 28, 33, 39, 19, 42, 32, 15, 17, 35, 33, 42, 48, 28, 24, 31, 40, 3, 43, 23, 15, 25, 44, 49, 22, 12, 26, 18, 37, 24, 75, 15, 29, 82, 21, 41, 5, 45, 142, 69, 56, 39, 18, 19, 23, 15, 54, 24, 17, 32, 37, 16, 11, 12, 34, 43, 18, 16, 12, 50, 61, 26, 44, 15, 30, 34, 9, 32, 35, 34, 50, 15, 8, 30, 28, 8, 122, 60, 47, 70, 23, 33, 36, 22, 12, 19, 44, 41, 19, 20, 45, 30, 39, 26, 21, 58, 75, 21, 51, 35, 43, 2, 15, 34, 19, 17, 49, 18, 33, 15, 26, 7, 29, 2, 11, 50, 15, 28, 31, 17, 19, 12, 34, 69, 4, 34, 57, 35, 32, 27, 12, 7, 34, 25, 36, 45, 23, 11, 18, 14, 67, 21, 37, 39, 40, 25, 37, 33, 21, 60, 31, 56, 38, 37, 35, 24, 29, 46, 27, 16, 60, 37, 59, 29, 52, 13, 11, 9, 21, 15, 32, 14, 27, 32, 41, 11, 14, 54, 13, 3, 17, 43, 53, 24, 17, 24, 10, 18, 23, 26, 10, 24, 14, 31, 23, 18, 22, 26, 67, 17, 18, 19, 74, 34, 30, 25, 37, 55, 11, 25, 6, 25, 15, 39, 21, 41, 21, 7, 4, 25, 21, 27, 10, 115, 37, 32, 42, 33, 10, 16, 35, 29, 39, 56, 19, 19, 37, 22, 1, 27, 19, 31, 39, 107, 40, 123, 77, 11, 19, 35, 23, 17, 19, 64, 5, 24, 51, 28, 33, 16, 20, 46, 37, 24, 29, 17, 5, 17, 1, 23, 31, 5, 34, 70, 49, 11, 21, 8, 23, 38, 29, 15, 15, 11, 37, 46, 9, 23, 30, 27, 38, 53, 38, 65, 25, 18, 39, 24, 47, 44, 7, 1, 16, 33, 25, 13, 15, 26, 30, 22, 7, 55, 19, 27, 66, 25, 41, 1, 29, 5, 15, 62, 33, 12, 17, 14, 42, 61, 56, 19, 27, 46, 34, 82, 8, 15, 11, 14, 20, 16, 25, 12, 9, 13, 24, 41, 48, 38, 58, 22, 25, 25, 48, 35, 44, 30, 15, 36, 31, 20, 31, 30, 23, 36, 48, 24, 26, 28, 16, 5, 29, 16, 26, 120, 24, 32, 38, 78, 131, 42, 48, 31, 27, 86, 33, 13, 53, 23, 39, 36, 34, 5, 10, 12, 35, 18, 29, 21, 21, 14, 17, 21, 38, 69, 6, 18, 40, 29, 24, 21, 21, 56, 76, 30, 26, 1, 37, 57, 18, 39, 50, 6, 14, 20, 23, 30, 30, 33, 5, 11, 16, 40, 29, 12, 27, 30, 1, 40, 30, 27, 30, 31, 27, 28, 35, 30, 35, 23, 16, 32, 1, 32, 26, 27, 10, 19, 12, 5, 1, 37, 9, 9, 43, 19, 10, 7, 7, 10, 8, 7, 12, 9, 8, 9, 7, 11, 16, 8, 29, 6, 25, 3, 50, 8, 13, 20, 15, 23, 10, 19, 22, 37, 88, 80, 37, 30, 10, 22, 20, 43, 35, 33, 15, 19, 30, 36, 37, 3, 69, 21, 28, 37, 22, 64, 40, 19, 28, 25, 57, 27, 37, 14, 35, 33, 47, 32, 40, 52, 21, 46, 11, 18, 74, 40, 6, 8, 26, 35, 99, 4, 28, 1, 10, 9, 6, 15, 28, 26, 22, 34, 28, 9, 27, 4, 3, 13, 17, 16, 47, 43, 10, 62, 61, 29, 14, 33, 42, 37, 35, 27, 100, 29, 53, 21, 54, 39, 21, 27, 35, 34, 19, 45, 41, 10, 41, 11, 25, 20, 53, 9, 24, 73, 44, 33, 7, 34, 20, 37, 25, 26, 16, 21, 49, 7, 20, 38, 43, 51, 78, 21, 19, 48, 23, 8, 4, 28, 19, 31, 41, 18, 27, 10, 1, 23, 1, 21, 14, 45, 24, 36, 6, 24, 59, 58, 41, 49, 9, 17, 49, 26, 20, 28, 46, 17, 77, 17, 48, 73, 4, 24, 28, 19, 8, 38, 27, 40, 60, 11, 4, 5, 1, 16, 10, 33, 25, 32, 70, 3, 10, 54, 14, 34, 24, 20, 21, 27, 34, 8, 35, 15, 27, 6, 27, 32, 27, 48, 39, 36, 19, 3, 29, 28, 12, 29, 18, 12, 9, 6, 24, 35, 50, 22, 31, 26, 4, 19, 35, 4, 28, 31, 26, 52, 23, 21, 25, 88, 30, 52, 29, 52, 27, 48, 25, 34, 21, 49, 12, 42, 37, 18, 44, 35, 25, 46, 28, 9, 57, 47, 25, 37, 36, 1, 84, 44, 11, 33, 37, 75, 33, 2, 18, 7, 49, 3, 25, 19, 21, 27, 13, 33, 64, 5, 50, 26, 7, 30, 31, 22, 36, 28, 30, 45, 15, 18, 57, 16, 12, 25, 7, 21, 30, 12, 15, 48, 16, 1, 26, 19, 4, 25, 1, 30, 38, 41, 44, 8, 51, 19, 25, 41, 14, 18, 24, 19, 7, 32, 25, 36, 50, 11, 35, 41, 1, 24, 1, 1, 1, 9, 1, 4, 2, 55, 22, 21, 40, 35, 9, 19, 22, 11, 20, 8, 17, 19, 30, 31, 17, 24, 18, 14, 27, 66, 28, 8, 41, 19, 1, 8, 22, 19, 20, 21, 36, 19, 15, 29, 27, 44, 32, 5, 17, 41, 87, 60, 84, 20, 61, 31, 21, 26, 58, 32, 15, 9, 4, 16, 1, 6, 22, 29, 10, 1, 22, 33, 1, 38, 32, 18, 10, 20, 68, 21, 10, 6, 1, 24, 28, 14, 1, 18, 45, 22, 7, 69, 24, 33, 1, 34, 33, 48, 3, 3, 6, 1, 5, 17, 18, 31, 23, 26, 24, 25, 9, 11, 39, 35, 38, 29, 26, 41, 18, 27, 20, 37, 25, 10, 51, 31, 21, 40, 26, 42, 34, 12, 27, 32, 36, 1, 26, 57, 21, 37, 25, 56, 8, 33, 32, 6, 38, 40, 32, 22, 36, 35, 18, 31, 36, 35, 48, 34, 9, 25, 7, 39, 14, 29, 50, 26, 38, 27, 48, 23, 32, 13, 34, 6, 9, 37, 59, 22, 113, 29, 33, 18, 30, 21, 21, 19, 35, 2, 29, 3, 27, 7, 14, 18, 28, 1, 3, 25, 29, 47, 32, 24, 40, 25, 33, 47, 30, 12, 36, 16, 38, 25, 8, 35, 23, 7, 14, 10, 12, 35, 63, 22, 13, 13, 50, 15, 4, 34, 8, 36, 25, 50, 27, 30, 23, 23, 42, 8, 23, 14, 30, 36, 52, 52, 7, 43, 27, 26, 24, 59, 47, 76, 5, 8, 3, 13, 9, 5, 10, 29, 1, 35, 54, 2, 5, 17, 45, 43, 16, 16, 22, 79, 17, 59, 34, 40, 64, 21, 24, 20, 40, 14, 12, 20, 33, 75, 17, 113, 21, 84, 36, 30, 42, 46, 14, 57, 29, 24, 26, 21, 20, 38, 5, 12, 11, 1, 33, 53, 29, 16, 69, 8, 8, 18, 38, 16, 16, 46, 7, 11, 49, 11, 32, 6, 20, 26, 13, 35, 16, 21, 6, 28, 32, 29, 23, 56, 18, 28, 22, 27, 41, 27, 8, 36, 21, 5, 28, 9, 26, 30, 32, 33, 14, 13, 101, 40, 25, 16, 45, 11, 29, 27, 10, 52, 145, 12, 5, 1, 12, 8, 12, 13, 40, 27, 31, 11, 50, 16, 12, 14, 44, 6, 24, 23, 15, 21, 10, 7, 31, 22, 21, 25, 31, 39, 42, 54, 15, 15, 16, 50, 26, 13, 34, 36, 38, 4, 63, 17, 31, 7, 14, 32, 16, 34, 6, 13, 18, 20, 32, 22, 13, 37, 38, 37, 31, 23, 24, 29, 31, 34, 13, 33, 31, 20, 33, 58, 47, 41, 6, 42, 41, 21, 25, 38, 39, 32, 44, 53, 62, 25, 53, 37, 15, 4, 36, 12, 26, 46, 27, 39, 38, 6, 6, 33, 32, 14, 29, 20, 33, 19, 38, 31, 43, 25, 16, 9, 13, 26, 21, 38, 34, 9, 6, 19, 34, 2, 26, 22, 9, 14, 24, 25, 42, 23, 28, 40, 31, 34, 25, 19, 12, 32, 23, 37, 10, 23, 26, 36, 22, 23, 22, 40, 42, 183, 112, 12, 6, 5, 4, 44, 17, 9, 7, 28, 14, 8, 32, 26, 26, 9, 6, 34, 38, 21, 40, 28, 2, 26, 52, 31, 22, 17, 24, 37, 9, 29, 30, 25, 41, 16, 21, 62, 11, 21, 30, 10, 80, 29, 30, 88, 49, 63, 7, 50, 34, 29, 29, 28, 52, 38, 20, 23, 11, 43, 36, 18, 28, 15, 1, 16, 36, 16, 21, 33, 19, 59, 31, 41, 24, 22, 3, 18, 37, 22, 18, 24, 16, 2, 31, 9, 34, 24, 30, 24, 18, 21, 27, 36, 26, 34, 62, 38, 21, 52, 40, 23, 34, 20, 12, 1, 5, 65, 9, 40, 17, 41, 26, 18, 43, 21, 9, 22, 20, 23, 52, 77, 25, 22, 22, 20, 66, 28, 27, 44, 38, 1, 68, 58, 21, 26, 61, 49, 30, 1, 63, 1, 43, 56, 37, 25, 1, 18, 27, 30, 24, 12, 44, 49, 36, 27, 32, 34, 36, 54, 39, 59, 35, 39, 26, 25, 36, 19, 18, 11, 24, 16, 20, 33, 9, 32, 40, 1, 1, 32, 2, 13, 27, 28, 27, 52, 19, 29, 15, 61, 54, 27, 41, 40, 80, 38, 43, 20, 33, 19, 1, 23, 5, 35, 15, 21, 52, 18, 1, 38, 19, 30, 32, 68, 15, 57, 50, 17, 19, 5, 36, 20, 69, 36, 34, 16, 75, 34, 28, 22, 26, 12, 20, 63, 44, 45, 39, 18, 39, 13, 14, 26, 52, 40, 32, 35, 31, 36, 9, 19, 53, 46, 14, 1, 1, 41, 20, 35, 21, 24, 9, 21, 13, 14, 19, 7, 12, 7, 39, 14, 24, 28, 16, 18, 6, 24, 7, 4, 5, 17, 22, 8, 16, 20, 12, 21, 49, 40, 28, 35, 35, 48, 9, 32, 182, 28, 1, 32, 22, 22, 71, 26, 15, 11, 24, 36, 32, 23, 30, 46, 31, 37, 20, 20, 22, 26, 30, 25, 16, 41, 32, 42, 29, 7, 28, 45, 21, 22, 23, 1, 32, 8, 42, 33, 19, 25, 9, 18, 37, 40, 46, 25, 29, 105, 1, 32, 49, 15, 54, 67, 70, 33, 13, 38, 37, 31, 37, 17, 29, 16, 29, 18, 23, 48, 29, 44, 32, 21, 39, 24, 27, 29, 24, 18, 14, 31, 49, 39, 51, 53, 44, 40, 40, 30, 24, 41, 12, 21, 12, 47, 33, 4, 32, 11, 2, 59, 19, 18, 29, 15, 20, 5, 13, 6, 5, 52, 33, 80, 70, 54, 13, 34, 32, 24, 81, 35, 25, 25, 33, 23, 1, 23, 43, 21, 9, 28, 16, 17, 13, 3, 38, 18, 11, 6, 127, 27, 22, 25, 29, 14, 52, 44, 29, 28, 25, 36, 23, 34, 59, 50, 1, 1, 13, 9, 53, 21, 32, 28, 67, 47, 36, 37, 16, 32, 18, 28, 15, 36, 5, 75, 20, 34, 29, 65, 28, 11, 33, 62, 47, 94, 35, 33, 50, 16, 20, 77, 21, 15, 7, 42, 29, 59, 5, 14, 32, 36, 18, 14, 32, 34, 23, 11, 19, 45, 17, 22, 41, 36, 37, 10, 28, 79, 15, 47, 37, 28, 22, 28, 85, 5, 17, 45, 34, 20, 21, 1, 21, 30, 22, 41, 6, 17, 30, 11, 12, 10, 9, 8, 42, 28, 17, 32, 36, 8, 86, 17, 44, 60, 57, 56, 4, 27, 87, 34, 40, 17, 1, 21, 25, 32, 42, 40, 28, 11, 39, 2, 46, 43, 62, 39, 61, 70, 32, 35, 30, 42, 26, 6, 16, 67, 298, 25, 37, 35, 55, 29, 63, 18, 26, 2, 19, 18, 1, 17, 11, 10, 87, 21, 36, 27, 11, 38, 42, 32, 11, 7, 25, 22, 20, 24, 32, 38, 31, 8, 29, 6, 16, 26, 2, 34, 26, 7, 26, 50, 40, 44, 31, 14, 13, 43, 25, 27, 16, 14, 19, 32, 15, 43, 34, 24, 25, 25, 67, 49, 13, 100, 45, 34, 28, 31, 34, 71, 19, 44, 13, 19, 38, 1, 12, 26, 34, 26, 27, 28, 20, 46, 47, 40, 27, 22, 31, 26, 7, 49, 20, 21, 33, 1, 21, 34, 12, 29, 28, 9, 14, 30, 31, 14, 4, 27, 24, 25, 8, 84, 48, 130, 31, 60, 29, 31, 20, 30, 38, 28, 26, 34, 45, 65, 49, 21, 10, 22, 17, 49, 54, 1, 64, 19, 23, 11, 98, 26, 41, 11, 48, 65, 22, 33, 17, 73, 40, 58, 23, 58, 13, 26, 14, 8, 33, 40, 22, 54, 8, 53, 43, 23, 25, 4, 19, 17, 56, 35, 12, 23, 13, 14, 41, 57, 31, 55, 29, 10, 26, 39, 54, 28, 20, 41, 1, 38, 22, 34, 28, 27, 39, 22, 46, 37, 16, 20, 12, 12, 28, 24, 23, 34, 30, 33, 54, 25, 26, 21, 29, 36, 15, 19, 56, 68, 33, 12, 28, 21, 29, 30, 3, 36, 11, 27, 25, 18, 36, 24, 6, 22, 39, 34, 59, 16, 22, 40, 33, 12, 41, 16, 45, 12, 58, 23, 1, 24, 38, 61, 21, 30, 13, 12, 35, 17, 80, 40, 73, 18, 34, 25, 37, 26, 45, 37, 2, 28, 29, 16, 33, 33, 42, 21, 31, 59, 46, 51, 20, 13, 1, 51, 13, 10, 23, 25, 33, 19, 29, 20, 12, 17, 27, 42, 51, 27, 3, 35, 97, 33, 40, 2, 13, 10, 28, 12, 27, 56, 12, 27, 8, 13, 45, 46, 20, 19, 35, 4, 8, 70, 40, 76, 4, 6, 3, 10, 38, 12, 204, 40, 35, 6, 32, 22, 40, 30, 38, 25, 5, 33, 15, 25, 35, 28, 26, 28, 64, 22, 26, 66, 40, 25, 29, 22, 29, 24, 15, 5, 16, 11, 27, 45, 33, 40, 32, 28, 16, 12, 23, 36, 9, 39, 49, 34, 23, 38, 7, 23, 24, 25, 17, 36, 20, 12, 36, 27, 8, 80, 17, 13, 14, 72, 13, 2, 23, 20, 29, 22, 31, 34, 30, 9, 26, 31, 8, 11, 25, 34, 14, 15, 24, 20, 13, 37, 41, 23, 34, 53, 34, 26, 64, 47, 10, 12, 36, 17, 23, 22, 43, 37, 31, 58, 24, 25, 33, 15, 10, 34, 4, 24, 30, 14, 13, 28, 17, 23, 28, 28, 37, 1, 16, 34, 25, 64, 70, 26, 41, 25, 105, 23, 11, 8, 29, 4, 24, 9, 25, 76, 15, 39, 39, 67, 8, 61, 41, 42, 22, 56, 29, 49, 23, 6, 27, 24, 34, 6, 11, 15, 20, 8, 26, 123, 42, 8, 17, 11, 1, 15, 39, 24, 22, 32, 28, 32, 23, 17, 12, 12, 55, 33, 25, 42, 13, 24, 41, 114, 16, 4, 38, 17, 30, 29, 22, 6, 74, 16, 25, 41, 36, 39, 29, 57, 35, 37, 7, 31, 29, 4, 18, 46, 20, 14, 27, 13, 33, 26, 22, 11, 41, 21, 7, 39, 8, 26, 154, 40, 52, 19, 20, 5, 24, 26, 14, 15, 5, 23, 17, 2, 35, 6, 48, 10, 8, 18, 28, 1, 37, 24, 23, 24, 23, 2, 58, 21, 22, 21, 20, 44, 47, 44, 23, 17, 33, 14, 23, 55, 24, 31, 6, 26, 13, 41, 38, 37, 43, 27, 38, 24, 32, 29, 42, 22, 8, 22, 15, 35, 54, 46, 52, 65, 7, 16, 27, 10, 32, 51, 19, 14, 52, 28, 44, 25, 19, 27, 1, 23, 25, 17, 34, 51, 40, 42, 39, 24, 27, 45, 31, 46, 19, 39, 6, 18, 78, 45, 20, 23, 35, 7, 8, 27, 19, 46, 4, 29, 42, 23, 53, 34, 22, 32, 4, 10, 25, 20, 27, 60, 44, 7, 33, 23, 16, 33, 15, 15, 38, 14, 40, 5, 11, 23, 29, 36, 37, 13, 24, 38, 15, 46, 4, 16, 23, 22, 22, 20, 22, 29, 17, 16, 17, 25, 39, 4, 102, 24, 39, 120, 53, 27, 22, 18, 23, 24, 32, 38, 21, 24, 29, 53, 62, 49, 23, 30, 45, 48, 69, 58, 6, 18, 27, 34, 32, 12, 29, 87, 63, 29, 17, 2, 1, 23, 7, 31, 3, 22, 47, 67, 41, 44, 11, 15, 32, 39, 59, 5, 27, 27, 45, 27, 19, 24, 1, 37, 15, 3, 24, 31, 9, 27, 40, 18, 21, 42, 14, 10, 31, 14, 24, 27, 24, 44, 28, 34, 27, 5, 2, 35, 43, 62, 35, 36, 19, 55, 93, 26, 33, 47, 46, 17, 11, 25, 41, 52, 1, 47, 19, 101, 18, 21, 38, 24, 39, 46, 50, 25, 11, 36, 10, 4, 2, 35, 36, 42, 1, 17, 17, 8, 42, 28, 66, 42, 3, 32, 42, 18, 25, 12, 11, 30, 57, 22, 47, 16, 30, 18, 32, 20, 15, 24, 5, 11, 65, 15, 11, 18, 12, 24, 35, 26, 30, 41, 33, 50, 24, 44, 32, 14, 40, 30, 36, 7, 41, 21, 42, 18, 27, 13, 26, 55, 24, 22, 26, 8, 30, 31, 15, 48, 32, 2, 27, 38, 38, 44, 31, 45, 23, 29, 67, 39, 126, 13, 31, 23, 21, 26, 29, 7, 17, 14, 48, 27, 13, 22, 31, 9, 39, 18, 8, 31, 14, 43, 12, 26, 8, 51, 22, 17, 13, 12, 22, 6, 26, 25, 29, 37, 31, 36, 29, 32, 40, 22, 44, 15, 27, 28, 33, 57, 30, 28, 35, 8, 69, 70, 19, 12, 23, 72, 88, 27, 40, 7, 11, 13, 28, 30, 20, 22, 70, 48, 4, 18, 32, 48, 33, 9, 28, 63, 22, 24, 59, 33, 52, 112, 45, 22, 37, 12, 26, 29, 23, 16, 38, 13, 43, 29, 34, 13, 31, 24, 33, 26, 25, 34, 27, 5, 53, 25, 31, 56, 39, 33, 38, 6, 17, 25, 8, 13, 1, 42, 44, 43, 42, 20, 25, 6, 25, 25, 5, 58, 16, 8, 64, 34, 41, 13, 21, 9, 39, 44, 27, 23, 46, 1, 15, 16, 23, 6, 30, 13, 26, 35, 27, 164, 9, 43, 32, 59, 25, 37, 43, 6, 30, 18, 81, 31, 31, 23, 27, 4, 20, 3, 34, 76, 34, 31, 23, 39, 29, 11, 51, 17, 24, 29, 23, 9, 5, 1, 35, 29, 50, 32, 25, 62, 53, 33, 38, 11, 30, 38, 75, 44, 25, 24, 43, 119, 15, 54, 26, 37, 19, 29, 42, 8, 22, 27, 1, 32, 5, 21, 54, 4, 47, 23, 65, 40, 32, 19, 96, 23, 49, 44, 32, 28, 15, 24, 38, 24, 28, 35, 30, 48, 10, 30, 141, 66, 19, 21, 24, 45, 55, 28, 21, 28, 17, 8, 50, 16, 5, 71, 39, 22, 21, 10, 2, 23, 24, 29, 36, 6, 45, 96, 8, 1, 58, 2, 7, 8, 24, 17, 3, 5, 48, 30, 24, 1, 13, 15, 33, 20, 35, 30, 9, 17, 16, 25, 26, 10, 31, 12, 6, 11, 17, 49, 6, 73, 29, 37, 16, 20, 17, 3, 23, 1, 61, 34, 27, 57, 31, 29, 24, 13, 32, 31, 28, 22, 20, 21, 52, 46, 15, 17, 31, 1, 17, 6, 87, 34, 21, 38, 19, 20, 16, 20, 6, 5, 8, 19, 33, 26, 37, 30, 12, 13, 19, 24, 19, 46, 7, 16, 24, 20, 27, 31, 29, 36, 9, 44, 28, 30, 93, 28, 21, 23, 7, 36, 23, 38, 128, 42, 40, 36, 22, 1, 10, 11, 2, 16, 28, 36, 34, 20, 29, 14, 26, 41, 21, 22, 36, 31, 37, 56, 2, 17, 7, 100, 35, 29, 13, 50, 26, 67, 30, 25, 33, 68, 70, 43, 26, 31, 30, 7, 20, 34, 25, 13, 30, 23, 41, 107, 31, 36, 25, 10, 39, 26, 26, 54, 40, 17, 13, 47, 22, 32, 33, 61, 23, 29, 21, 26, 77, 14, 43, 1, 36, 7, 39, 35, 11, 75, 1, 15, 28, 32, 14, 41, 18, 41, 8, 27, 40, 32, 22, 30, 44, 35, 14, 25, 7, 15, 17, 22, 44, 20, 32, 37, 31, 20, 43, 5, 15, 15, 38, 40, 32, 39, 12, 24, 33, 41, 15, 15, 24, 31, 43, 31, 19, 36, 35, 15, 17, 21, 28, 18, 19, 28, 15, 29, 29, 49, 3, 6, 5, 39, 23, 32, 18, 46, 39, 25, 11, 36, 40, 9, 31, 22, 55, 30, 28, 35, 44, 44, 48, 19, 51, 26, 28, 26, 30, 28, 28, 26, 28, 34, 15, 53, 28, 26, 22, 40, 18, 27, 60, 31, 1, 51, 25, 30, 35, 38, 40, 42, 27, 28, 25, 17, 13, 46, 18, 24, 22, 3, 45, 19, 21, 32, 7, 22, 5, 5, 1, 26, 6, 1, 11, 3, 43, 12, 17, 20, 29, 101, 17, 13, 36, 19, 62, 30, 26, 28, 9, 20, 26, 2, 39, 75, 17, 51, 21, 33, 22, 26, 5, 15, 17, 7, 22, 7, 47, 21, 13, 30, 1, 25, 29, 36, 25, 15, 35, 56, 23, 25, 27, 53, 44, 57, 136, 52, 11, 7, 18, 45, 26, 12, 15, 26, 38, 19, 43, 4, 38, 8, 31, 49, 73, 16, 20, 127, 6, 39, 6, 16, 18, 24, 20, 5, 55, 9, 15, 11, 1, 95, 22, 44, 17, 20, 36, 30, 22, 45, 8, 21, 29, 6, 20, 19, 23, 59, 7, 20, 42, 21, 22, 44, 27, 37, 59, 17, 24, 51, 68, 36, 24, 29, 53, 54, 10, 48, 7, 38, 65, 10, 35, 32, 55, 41, 27, 135, 32, 20, 2, 14, 16, 8, 53, 23, 48, 17, 11, 21, 36, 55, 33, 15, 34, 27, 37, 31, 31, 27, 41, 41, 12, 24, 41, 36, 58, 29, 35, 23, 25, 20, 42, 21, 22, 10, 33, 48, 8, 14, 40, 8, 19, 57, 20, 20, 15, 26, 8, 31, 45, 30, 45, 25, 11, 11, 4, 47, 19, 16, 58, 35, 20, 20, 3, 16, 33, 23, 47, 8, 128, 15, 15, 31, 19, 6, 35, 12, 20, 8, 29, 9, 20, 36, 10, 2, 1, 34, 27, 41, 26, 66, 21, 44, 8, 43, 21, 15, 52, 24, 31, 8, 25, 28, 8, 36, 34, 8, 51, 45, 19, 20, 11, 69, 5, 21, 46, 32, 25, 42, 26, 35, 10, 31, 26, 72, 34, 27, 27, 123, 21, 29, 42, 15, 35, 25, 43, 12, 36, 58, 10, 40, 27, 29, 29, 39, 25, 22, 3, 39, 40, 32, 1, 19, 38, 59, 34, 35, 21, 35, 40, 31, 30, 6, 36, 31, 34, 28, 13, 41, 20, 41, 69, 6, 32, 46, 24, 23, 21, 68, 24, 49, 20, 34, 25, 53, 31, 2, 9, 62, 17, 27, 36, 44, 9, 38, 12, 30, 28, 54, 38, 86, 10, 9, 30, 8, 8, 48, 5, 15, 16, 30, 38, 33, 13, 20, 29, 20, 54, 7, 50, 41, 19, 11, 21, 16, 20, 4, 18, 46, 36, 24, 29, 48, 21, 18, 14, 19, 18, 30, 5, 26, 17, 29, 27, 38, 71, 48, 29, 33, 31, 27, 14, 29, 10, 28, 18, 79, 35, 46, 21, 30, 36, 21, 11, 26, 13, 13, 7, 22, 28, 32, 35, 48, 19, 27, 8, 16, 11, 8, 8, 13, 13, 20, 34, 24, 17, 37, 41, 12, 58, 32, 48, 45, 51, 24, 58, 30, 32, 25, 34, 18, 22, 34, 30, 17, 13, 22, 13, 24, 22, 28, 135, 22, 16, 59, 21, 8, 29, 30, 34, 32, 42, 54, 20, 62, 31, 52, 23, 22, 15, 8, 28, 29, 25, 1, 38, 54, 25, 35, 35, 45, 16, 48, 25, 8, 7, 29, 22, 35, 33, 10, 17, 12, 16, 19, 24, 21, 32, 21, 38, 38, 41, 25, 27, 41, 20, 28, 3, 33, 22, 72, 17, 47, 33, 73, 66, 26, 62, 44, 30, 38, 35, 1, 23, 9, 22, 38, 25, 15, 18, 1, 34, 28, 12, 26, 4, 58, 24, 12, 25, 28, 31, 1, 36, 58, 25, 1, 32, 29, 29, 20, 26, 40, 80, 21, 22, 21, 17, 35, 10, 22, 42, 13, 14, 40, 17, 60, 46, 9, 24, 7, 26, 27, 15, 13, 20, 41, 9, 27, 29, 6, 24, 14, 14, 17, 27, 24, 34, 52, 19, 14, 41, 55, 27, 54, 37, 19, 56, 38, 67, 45, 29, 14, 21, 30, 30, 55, 80, 17, 1, 1, 3, 3, 2, 1, 1, 1, 1, 1, 1, 1, 1, 31, 1, 1, 1, 1, 2, 1, 1, 1, 1, 1, 15, 1, 1, 1, 2, 1, 2, 1, 3, 1, 1, 1, 2, 1, 1, 1, 35, 1, 1, 1, 1, 1, 1, 18, 1, 1, 1, 1, 1, 10, 3, 29, 32, 34, 29, 54, 51, 35, 33, 30, 66, 21, 17, 40, 31, 14, 43, 34, 31, 27, 34, 23, 22, 43, 41, 23, 32, 10, 63, 37, 5, 18, 25, 24, 55, 18, 38, 28, 10, 17, 40, 34, 58, 21, 20, 7, 18, 16, 20, 6, 8, 35, 7, 14, 31, 17, 35, 27, 29, 44, 16, 29, 8, 1, 16, 45, 18, 27, 19, 26, 30, 34, 13, 9, 32, 36, 27, 23, 51, 29, 24, 14, 38, 10, 49, 10, 14, 32, 23, 13, 12, 11, 14, 17, 15, 32, 24, 14, 46, 23, 10, 11, 8, 25, 46, 33, 13, 34, 29, 27, 47, 13, 3, 36, 30, 14, 21, 10, 25, 17, 21, 35, 23, 26, 29, 58, 4, 20, 1, 29, 13, 15, 37, 129, 14, 21, 29, 12, 30, 24, 29, 22, 25, 28, 28, 42, 15, 12, 38, 10, 20, 33, 34, 18, 10, 26, 24, 75, 35, 24, 7, 2, 69, 68, 55, 56, 22, 26, 22, 33, 46, 26, 25, 36, 56, 26, 43, 31, 31, 14, 51, 21, 25, 47, 27, 8, 14, 50, 1, 27, 5, 5, 5, 30, 32, 26, 27, 36, 44, 46, 18, 112, 24, 52, 31, 33, 15, 8, 19, 2, 14, 48, 11, 37, 26, 12, 33, 23, 33, 20, 29, 20, 32, 12, 27, 59, 42, 57, 19, 14, 9, 12, 28, 56, 40, 23, 6, 27, 32, 12, 22, 23, 64, 38, 34, 38, 15, 22, 3, 21, 77, 35, 26, 22, 32, 20, 47, 13, 53, 32, 14, 32, 17, 30, 25, 48, 43, 38, 25, 28, 40, 27, 2, 24, 15, 23, 1, 2, 55, 13, 36, 54, 26, 32, 98, 15, 29, 1, 7, 9, 18, 26, 16, 31, 62, 5, 1, 55, 19, 29, 32, 70, 24, 21, 25, 8, 18, 19, 45, 11, 33, 30, 33, 6, 41, 46, 31, 16, 12, 26, 17, 22, 28, 46, 22, 29, 23, 25, 25, 16, 21, 19, 25, 14, 18, 47, 19, 8, 8, 9, 29, 10, 35, 12, 34, 11, 12, 18, 34, 11, 12, 26, 35, 41, 34, 24, 35, 7, 14, 19, 19, 50, 24, 17, 11, 18, 22, 18, 29, 49, 3, 39, 22, 16, 1, 12, 20, 32, 24, 15, 6, 18, 33, 35, 24, 12, 1, 1, 6, 39, 44, 35, 22, 31, 21, 35, 39, 32, 10, 21, 14, 8, 18, 27, 8, 46, 42, 20, 22, 12, 44, 22, 46, 30, 6, 8, 28, 3, 27, 64, 54, 17, 37, 26, 21, 1, 23, 20, 38, 20, 64, 50, 1, 46, 27, 30, 17, 13, 42, 44, 56, 2, 26, 6, 35, 41, 34, 25, 37, 71, 63, 9, 19, 36, 15, 23, 33, 22, 16, 24, 10, 3, 21, 49, 16, 46, 19, 22, 8, 8, 4, 14, 26, 29, 26, 23, 35, 5, 18, 68, 25, 17, 23, 49, 20, 33, 28, 39, 20, 18, 24, 6, 63, 28, 32, 31, 17, 25, 32, 92, 60, 27, 33, 33, 22, 14, 53, 15, 30, 44, 25, 53, 28, 36, 28, 36, 25, 49, 32, 27, 13, 17, 35, 23, 21, 4, 50, 19, 33, 17, 26, 51, 17, 19, 14, 28, 7, 54, 46, 42, 36, 70, 28, 49, 49, 24, 12, 53, 16, 52, 37, 12, 6, 39, 32, 19, 16, 8, 37, 27, 47, 14, 39, 29, 25, 29, 23, 49, 17, 32, 19, 30, 25, 51, 35, 42, 27, 37, 42, 21, 33, 47, 16, 69, 14, 4, 24, 5, 38, 41, 32, 40, 80, 23, 19, 4, 21, 8, 39, 55, 26, 35, 38, 43, 15, 23, 4, 25, 48, 26, 37, 3, 25, 23, 70, 19, 26, 20, 14, 26, 23, 48, 50, 25, 43, 45, 17, 27, 12, 34, 6, 15, 5, 22, 26, 48, 25, 2, 31, 22, 37, 29, 20, 33, 13, 1, 24, 21, 29, 29, 26, 31, 42, 37, 32, 59, 53, 19, 23, 75, 25, 13, 21, 41, 12, 42, 36, 17, 43, 28, 45, 16, 26, 12, 29, 24, 30, 19, 39, 19, 3, 26, 19, 24, 24, 1, 29, 19, 4, 27, 21, 9, 8, 17, 41, 21, 20, 32, 28, 39, 22, 25, 11, 23, 6, 15, 21, 16, 61, 41, 34, 34, 27, 26, 39, 23, 22, 36, 23, 14, 36, 28, 38, 87, 12, 2, 23, 62, 14, 32, 15, 20, 36, 27, 29, 28, 20, 67, 58, 68, 39, 61, 27, 33, 23, 24, 25, 25, 20, 25, 23, 26, 48, 24, 11, 30, 92, 19, 51, 45, 76, 21, 29, 23, 16, 59, 37, 6, 16, 12, 27, 23, 43, 22, 25, 33, 29, 24, 40, 29, 6, 17, 41, 47, 33, 30, 35, 20, 3, 2, 26, 4, 22, 46, 14, 40, 36, 40, 4, 42, 25, 24, 189, 4, 10, 40, 9, 46, 26, 17, 24, 29, 20, 16, 9, 30, 20, 19, 11, 14, 15, 20, 28, 46, 58, 33, 36, 5, 26, 17, 33, 10, 26, 62, 20, 13, 30, 31, 48, 23, 2, 16, 36, 25, 6, 39, 24, 19, 13, 28, 46, 41, 35, 27, 31, 44, 24, 83, 18, 12, 42, 19, 31, 28, 38, 86, 21, 33, 54, 15, 5, 5, 36, 41, 19, 97, 155, 48, 14, 31, 19, 29, 32, 23, 19, 1, 23, 21, 6, 3, 9, 13, 23, 61, 11, 3, 16, 35, 29, 23, 43, 24, 26, 37, 30, 27, 7, 51, 36, 26, 16, 19, 3, 34, 12, 5, 15, 3, 4, 34, 18, 18, 13, 14, 8, 9, 40, 33, 35, 1, 31, 23, 20, 22, 8, 51, 6, 41, 37, 20, 9, 5, 25, 12, 20, 6, 28, 29, 94, 51, 22, 54, 30, 16, 54, 20, 24, 28, 47, 63, 24, 33, 16, 41, 14, 10, 21, 22, 42, 40, 23, 26, 14, 25, 9, 43, 44, 46, 26, 11, 12, 16, 24, 9, 30, 4, 21, 29, 21, 46, 10, 90, 9, 15, 20, 11, 37, 8, 23, 36, 13, 23, 7, 16, 71, 22, 27, 71, 15, 31, 11, 10, 4, 35, 16, 32, 18, 27, 24, 9, 11, 36, 15, 21, 21, 40, 26, 64, 16, 18, 6, 33, 21, 85, 38, 28, 47, 31, 21, 146, 31, 23, 42, 30, 13, 20, 5, 56, 32, 36, 26, 2, 3, 25, 32, 35, 19, 32, 17, 6, 12, 18, 38, 19, 16, 21, 19, 37, 9, 33, 11, 25, 10, 38, 27, 26, 29, 33, 13, 49, 1, 23, 23, 31, 20, 32, 58, 34, 8, 36, 54, 47, 21, 12, 14, 45, 18, 83, 24, 30, 36, 27, 24, 40, 10, 11, 29, 43, 36, 9, 26, 45, 25, 21, 35, 32, 2, 1, 4, 1, 24, 1, 1, 1, 19, 4, 36, 16, 23, 10, 51, 38, 21, 1, 30, 5, 82, 23, 6, 32, 31, 22, 25, 17, 37, 35, 14, 43, 23, 20, 35, 13, 37, 36, 44, 5, 25, 34, 12, 21, 27, 29, 21, 79, 26, 23, 5, 53, 38, 24, 24, 27, 39, 29, 14, 21, 10, 24, 40, 42, 28, 15, 36, 22, 46, 25, 24, 13, 36, 27, 47, 25, 5, 25, 16, 6, 25, 31, 19, 39, 32, 43, 22, 7, 42, 2, 8, 5, 88, 2, 48, 28, 11, 4, 23, 29, 11, 11, 44, 2, 6, 56, 41, 10, 18, 41, 36, 23, 18, 69, 33, 34, 35, 21, 1, 2, 9, 28, 21, 17, 31, 37, 35, 50, 50, 47, 43, 32, 1, 41, 24, 32, 33, 67, 39, 35, 3, 9, 38, 15, 27, 27, 25, 35, 5, 43, 24, 24, 12, 57, 16, 28, 31, 1, 27, 7, 32, 29, 11, 48, 19, 15, 1, 1, 38, 12, 30, 30, 19, 23, 42, 23, 21, 25, 70, 3, 69, 27, 3, 6, 16, 15, 27, 23, 32, 159, 25, 39, 67, 33, 13, 7, 23, 66, 21, 45, 45, 14, 26, 34, 44, 30, 75, 7, 30, 14, 33, 48, 25, 34, 22, 35, 66, 25, 6, 17, 12, 9, 14, 15, 56, 18, 7, 19, 22, 1, 34, 36, 22, 8, 37, 21, 31, 41, 26, 41, 13, 26, 35, 20, 97, 26, 20, 19, 28, 36, 3, 37, 52, 21, 32, 22, 30, 9, 18, 9, 24, 40, 12, 8, 41, 29, 28, 28, 22, 21, 18, 8, 19, 27, 34, 29, 28, 14, 16, 121, 48, 38, 45, 26, 12, 84, 41, 40, 27, 9, 24, 84, 17, 33, 49, 37, 49, 21, 15, 29, 28, 38, 24, 25, 13, 71, 5, 64, 19, 33, 10, 31, 30, 20, 25, 18, 10, 20, 32, 24, 20, 33, 18, 37, 33, 54, 26, 24, 7, 18, 20, 22, 62, 18, 32, 19, 87, 64, 39, 9, 10, 21, 4, 4, 17, 16, 29, 20, 30, 21, 32, 44, 13, 51, 34, 7, 35, 35, 18, 13, 17, 25, 24, 19, 6, 18, 41, 30, 30, 38, 29, 38, 21, 29, 1, 31, 37, 14, 32, 19, 18, 8, 25, 28, 22, 14, 7, 9, 34, 29, 16, 4, 15, 1, 30, 2, 8, 1, 64, 38, 16, 24, 31, 37, 37, 21, 15, 227, 43, 14, 4, 16, 6, 10, 20, 20, 20, 1, 5, 39, 1, 2, 1, 28, 4, 23, 1, 1, 1, 1, 1, 72, 6, 3, 5, 3, 5, 1, 1, 3, 1, 1, 3, 3, 1, 2, 1, 4, 1, 3, 1, 1, 1, 2, 1, 2, 38, 1, 1, 18, 1, 12, 2, 1, 2, 56, 27, 18, 4, 29, 29, 6, 27, 18, 14, 15, 15, 42, 26, 36, 32, 38, 18, 87, 33, 25, 29, 27, 9, 13, 17, 1, 25, 11, 13, 30, 69, 31, 8, 72, 24, 29, 11, 15, 9, 17, 32, 56, 17, 29, 46, 26, 25, 34, 25, 23, 24, 36, 14, 25, 24, 19, 21, 41, 25, 21, 3, 21, 10, 34, 25, 24, 34, 14, 9, 23, 29, 31, 25, 55, 3, 35, 39, 29, 44, 91, 20, 28, 48, 17, 2, 2, 12, 45, 11, 27, 37, 35, 11, 10, 14, 13, 22, 40, 41, 48, 36, 40, 28, 42, 36, 28, 75, 13, 22, 21, 1, 24, 23, 5, 23, 30, 20, 3, 28, 1, 58, 53, 25, 25, 35, 16, 18, 24, 15, 25, 21, 40, 13, 34, 42, 43, 14, 24, 16, 33, 3, 11, 23, 57, 74, 34, 45, 16, 20, 10, 31, 9, 28, 12, 25, 15, 5, 10, 47, 22, 9, 29, 17, 56, 19, 45, 56, 38, 9, 13, 9, 21, 27, 20, 41, 10, 11, 30, 16, 34, 44, 35, 40, 55, 12, 20, 27, 8, 25, 28, 37, 23, 51, 16, 24, 18, 17, 39, 17, 41, 19, 34, 16, 13, 15, 101, 38, 6, 10, 47, 50, 27, 19, 21, 52, 57, 22, 17, 26, 28, 25, 30, 32, 12, 21, 14, 44, 36, 20, 23, 26, 56, 69, 5, 61, 15, 17, 1, 17, 19, 9, 31, 22, 48, 35, 10, 35, 15, 25, 11, 39, 28, 45, 29, 37, 27, 22, 1, 41, 15, 11, 35, 39, 11, 23, 14, 10, 4, 28, 20, 9, 22, 27, 12, 31, 34, 33, 32, 82, 22, 39, 10, 14, 6, 23, 23, 36, 19, 11, 47, 33, 39, 22, 7, 27, 47, 39, 16, 25, 25, 25, 24, 25, 19, 36, 11, 10, 9, 25, 16, 1, 18, 46, 53, 29, 1, 27, 52, 17, 32, 40, 18, 24, 15, 7, 34, 43, 10, 24, 9, 29, 12, 41, 44, 16, 37, 9, 11, 27, 71, 26, 32, 23, 25, 25, 15, 3, 53, 28, 6, 18, 13, 13, 9, 16, 10, 31, 24, 40, 42, 7, 11, 32, 61, 45, 64, 13, 23, 39, 30, 33, 15, 7, 30, 18, 28, 17, 19, 2, 19, 29, 32, 27, 9, 7, 2, 24, 6, 4, 33, 84, 38, 36, 29, 19, 20, 26, 44, 29, 54, 32, 29, 10, 4, 30, 18, 14, 39, 35, 30, 7, 20, 17, 1, 20, 5, 38, 28, 25, 57, 92, 54, 24, 31, 15, 6, 28, 38, 20, 7, 87, 23, 52, 11, 19, 27, 22, 23, 7, 31, 33, 34, 25, 27, 15, 36, 15, 57, 36, 10, 41, 14, 19, 57, 22, 8, 15, 105, 41, 25, 33, 14, 22, 16, 57, 36, 81, 39, 26, 84, 38, 21, 30, 14, 20, 1, 9, 26, 24, 30, 38, 1, 41, 23, 23, 44, 26, 4, 28, 16, 29, 8, 4, 50, 44, 36, 31, 25, 2, 5, 23, 36, 5, 19, 12, 76, 23, 16, 16, 19, 25, 16, 7, 20, 33, 11, 30, 1, 1, 1, 1, 1, 1, 1, 1, 1, 38, 1, 1, 1, 2, 1, 1, 1, 2, 3, 12, 1, 1, 2, 1, 1, 1, 1, 44, 1, 1, 1, 1, 10, 48, 9, 18, 21, 4, 16, 50, 19, 30, 6, 19, 39, 8, 5, 32, 2, 26, 45, 41, 19, 3, 24, 55, 23, 74, 47, 57, 68, 32, 69, 37, 17, 23, 27, 7, 18, 29, 36, 17, 27, 24, 8, 30, 29, 38, 33, 142, 36, 12, 39, 28, 16, 53, 23, 34, 34, 23, 20, 8, 13, 26, 7, 18, 15, 19, 49, 24, 30, 1, 36, 15, 27, 21, 46, 34, 25, 12, 13, 31, 24, 14, 29, 11, 27, 12, 16, 50, 32, 10, 69, 9, 27, 25, 25, 26, 10, 30, 44, 39, 25, 33, 57, 10, 3, 4, 22, 13, 45, 41, 16, 28, 4, 22, 16, 13, 28, 29, 58, 60, 40, 44, 25, 44, 38, 59, 26, 15, 31, 33, 42, 26, 6, 26, 13, 19, 24, 5, 9, 37, 28, 10, 28, 19, 35, 30, 21, 23, 31, 39, 14, 34, 34, 45, 27, 19, 20, 51, 19, 30, 17, 46, 11, 5, 17, 40, 17, 16, 15, 9, 31, 15, 24, 10, 16, 10, 3, 30, 26, 12, 32, 8, 52, 4, 7, 34, 57, 29, 22, 29, 42, 32, 10, 55, 22, 22, 46, 49, 22, 31, 9, 32, 13, 30, 26, 58, 6, 19, 31, 39, 33, 19, 17, 33, 53, 9, 19, 29, 20, 17, 9, 14, 26, 19, 33, 24, 4, 1, 43, 34, 29, 40, 18, 46, 34, 77, 92, 37, 20, 60, 30, 9, 5, 33, 30, 2, 9, 13, 30, 2, 16, 8, 18, 28, 1, 41, 53, 24, 61, 13, 73, 17, 24, 30, 24, 71, 1, 36, 28, 26, 18, 19, 51, 14, 26, 21, 34, 36, 29, 67, 31, 75, 28, 4, 27, 15, 47, 44, 11, 28, 22, 45, 13, 33, 20, 30, 18, 26, 24, 28, 17, 19, 31, 23, 33, 26, 80, 9, 18, 18, 45, 7, 5, 28, 13, 23, 3, 17, 3, 39, 22, 30, 26, 18, 21, 44, 63, 7, 46, 19, 22, 4, 9, 42, 37, 19, 52, 27, 24, 34, 24, 21, 27, 10, 30, 34, 23, 30, 28, 3, 39, 15, 22, 58, 13, 21, 44, 81, 13, 27, 48, 25, 17, 36, 40, 19, 25, 22, 29, 6, 1, 4, 26, 39, 26, 31, 31, 19, 12, 42, 24, 39, 32, 50, 30, 24, 9, 55, 5, 19, 22, 46, 24, 18, 32, 17, 9, 25, 70, 13, 9, 13, 32, 27, 14, 16, 37, 1, 20, 26, 38, 14, 23, 24, 1, 18, 31, 15, 26, 49, 49, 14, 13, 20, 40, 52, 33, 20, 2, 37, 1, 18, 38, 39, 11, 16, 30, 31, 26, 31, 23, 20, 7, 16, 14, 5, 37, 25, 19, 16, 20, 8, 8, 1, 30, 18, 37, 25, 26, 34, 38, 56, 28, 27, 59, 48, 50, 43, 23, 41, 29, 37, 8, 48, 28, 10, 17, 24, 29, 4, 58, 20, 38, 27, 31, 25, 13, 36, 2, 15, 38, 43, 40, 24, 35, 30, 52, 45, 1, 48, 29, 49, 34, 12, 21, 17, 11, 5, 31, 25, 20, 13, 56, 26, 22, 3, 44, 12, 33, 40, 45, 48, 44, 37, 22, 7, 10, 62, 37, 32, 19, 34, 22, 20, 43, 20, 13, 20, 11, 17, 23, 42, 17, 31, 32, 18, 26, 23, 44, 14, 58, 17, 13, 62, 68, 29, 89, 45, 23, 14, 15, 29, 12, 44, 9, 1, 38, 12, 20, 86, 23, 34, 25, 12, 4, 52, 22, 24, 41, 31, 31, 9, 26, 29, 32, 38, 5, 35, 8, 7, 32, 22, 18, 16, 17, 38, 20, 41, 2, 39, 11, 66, 3, 26, 42, 9, 1, 45, 48, 15, 30, 23, 3, 24, 9, 6, 40, 12, 51, 57, 26, 11, 6, 29, 4, 25, 18, 58, 25, 65, 5, 3, 13, 47, 17, 33, 51, 9, 55, 21, 50, 1, 44, 7, 27, 20, 72, 27, 46, 21, 35, 22, 29, 20, 23, 19, 24, 11, 84, 73, 2, 17, 41, 27, 19, 25, 8, 20, 7, 22, 39, 19, 10, 16, 89, 20, 25, 20, 15, 33, 110, 39, 20, 30, 39, 13, 21, 23, 31, 49, 19, 22, 52, 26, 34, 42, 7, 30, 48, 14, 13, 22, 43, 29, 22, 16, 35, 34, 20, 38, 13, 32, 26, 44, 31, 28, 9, 21, 29, 9, 10, 1, 22, 24, 74, 28, 26, 12, 57, 8, 39, 51, 45, 3, 10, 17, 43, 44, 69, 11, 16, 66, 35, 6, 39, 22, 38, 45, 24, 12, 55, 14, 50, 22, 19, 21, 64, 35, 25, 1, 35, 2, 10, 30, 17, 27, 30, 8, 19, 12, 45, 20, 42, 13, 30, 51, 6, 14, 54, 15, 42, 31, 21, 34, 54, 20, 34, 38, 31, 34, 24, 23, 46, 19, 15, 16, 10, 91, 30, 32, 17, 15, 56, 31, 17, 41, 25, 27, 10, 11, 1, 1, 44, 16, 16, 28, 3, 3, 20, 7, 46, 35, 18, 44, 34, 19, 32, 38, 39, 16, 14, 32, 20, 32, 27, 63, 39, 17, 24, 12, 21, 23, 32, 28, 37, 33, 50, 41, 37, 1, 33, 22, 22, 17, 23, 27, 36, 31, 17, 27, 28, 17, 34, 40, 48, 29, 42, 4, 38, 10, 36, 27, 27, 11, 106, 30, 39, 29, 12, 39, 23, 31, 27, 51, 31, 57, 23, 16, 37, 31, 30, 1, 18, 35, 1, 26, 8, 45, 19, 19, 27, 33, 22, 61, 57, 24, 29, 24, 11, 48, 30, 22, 10, 30, 35, 38, 24, 92, 78, 39, 23, 28, 37, 32, 9, 5, 39, 28, 50, 10, 25, 22, 65, 27, 4, 47, 25, 42, 11, 86, 15, 54, 5, 11, 11, 32, 7, 34, 24, 3, 8, 22, 25, 14, 9, 27, 24, 28, 33, 20, 17, 27, 30, 42, 39, 35, 24, 65, 28, 62, 44, 15, 14, 36, 17, 30, 54, 26, 24, 11, 9, 30, 1, 10, 26, 25, 10, 21, 31, 9, 16, 19, 6, 38, 53, 31, 3, 30, 23, 21, 35, 15, 6, 11, 2, 28, 15, 47, 6, 15, 30, 20, 36, 57, 1, 20, 8, 7, 25, 69, 1, 99, 30, 30, 50, 23, 49, 35, 24, 64, 76, 1, 9, 1, 31, 29, 37, 30, 20, 12, 14, 38, 26, 41, 113, 34, 13, 24, 23, 30, 20, 32, 3, 26, 15, 40, 23, 1, 1, 25, 41, 12, 3, 24, 1, 33, 22, 23, 21, 4, 55, 24, 40, 37, 21, 36, 24, 30, 15, 20, 21, 17, 34, 15, 26, 42, 2, 26, 48, 42, 25, 28, 6, 34, 42, 22, 32, 35, 1, 30, 31, 30, 37, 54, 9, 7, 7, 49, 43, 35, 26, 22, 32, 39, 122, 38, 14, 37, 18, 16, 37, 15, 27, 27, 12, 56, 41, 27, 32, 1, 31, 21, 11, 15, 32, 2, 22, 18, 47, 53, 58, 19, 21, 26, 18, 53, 42, 5, 45, 24, 34, 43, 27, 21, 29, 34, 24, 23, 11, 24, 12, 26, 20, 2, 4, 31, 28, 2, 37, 8, 48, 28, 50, 16, 44, 17, 25, 13, 27, 6, 25, 8, 30, 2, 46, 69, 53, 17, 37, 43, 32, 47, 43, 25, 6, 1, 46, 35, 28, 36, 23, 17, 42, 15, 54, 18, 44, 14, 13, 10, 16, 26, 5, 10, 21, 37, 22, 20, 22, 42, 27, 43, 19, 49, 52, 21, 31, 33, 19, 12, 10, 24, 22, 49, 21, 24, 2, 11, 26, 25, 16, 18, 28, 13, 40, 34, 27, 27, 47, 51, 27, 16, 45, 22, 23, 27, 24, 24, 27, 25, 15, 21, 20, 123, 31, 17, 25, 29, 23, 13, 20, 28, 11, 11, 41, 6, 5, 24, 7, 60, 10, 32, 20, 66, 28, 30, 65, 4, 21, 24, 50, 33, 36, 31, 25, 12, 26, 33, 17, 34, 46, 34, 24, 42, 19, 37, 34, 34, 36, 10, 1, 13, 28, 3, 43, 26, 9, 32, 32, 24, 29, 13, 5, 28, 8, 30, 15, 9, 20, 12, 5, 45, 28, 32, 1, 1, 27, 31, 53, 51, 13, 29, 8, 29, 5, 29, 25, 18, 59, 10, 30, 16, 15, 14, 105, 40, 21, 215, 15, 1, 3, 21, 3, 46, 49, 21, 63, 24, 27, 54, 18, 17, 16, 55, 21, 49, 29, 30, 9, 22, 12, 16, 30, 9, 36, 11, 28, 26, 42, 24, 31, 22, 3, 25, 23, 34, 19, 21, 19, 55, 25, 4, 5, 13, 25, 19, 13, 26, 8, 70, 16, 26, 26, 33, 75, 8, 16, 16, 21, 39, 25, 22, 14, 11, 25, 49, 18, 23, 8, 7, 16, 8, 62, 21, 19, 14, 17, 55, 38, 15, 37, 23, 27, 25, 41, 32, 13, 21, 33, 29, 47, 29, 28, 24, 52, 15, 3, 38, 43, 29, 33, 8, 18, 12, 13, 23, 12, 48, 10, 17, 25, 29, 40, 22, 24, 13, 67, 22, 34, 32, 16, 35, 18, 40, 15, 54, 36, 31, 25, 9, 60, 59, 22, 16, 31, 23, 50, 26, 28, 29, 27, 28, 41, 64, 19, 25, 25, 29, 34, 2, 37, 28, 61, 20, 35, 10, 46, 20, 15, 25, 15, 20, 6, 10, 52, 14, 23, 20, 22, 27, 46, 48, 24, 9, 15, 39, 31, 25, 34, 30, 42, 15, 16, 13, 70, 22, 36, 18, 9, 8, 12, 9, 16, 25, 18, 20, 21, 12, 22, 36, 12, 29, 22, 30, 23, 28, 82, 8, 27, 30, 34, 5, 23, 26, 15, 20, 11, 27, 37, 18, 28, 50, 30, 22, 29, 30, 15, 6, 91, 31, 33, 29, 16, 41, 27, 25, 8, 34, 35, 64, 33, 53, 57, 3, 82, 4, 24, 1, 47, 23, 28, 6, 21, 40, 23, 41, 23, 20, 32, 19, 45, 29, 9, 35, 10, 10, 3, 18, 20, 14, 15, 15, 15, 9, 24, 14, 18, 19, 24, 38, 30, 86, 8, 26, 1, 58, 7, 3, 142, 29, 7, 7, 34, 42, 37, 36, 50, 10, 28, 3, 44, 37, 44, 47, 26, 37, 46, 23, 25, 39, 36, 28, 28, 42, 24, 1, 21, 22, 42, 2, 18, 10, 56, 38, 52, 41, 22, 32, 29, 53, 39, 26, 8, 38, 11, 7, 13, 15, 50, 2, 23, 35, 11, 37, 6, 24, 28, 34, 23, 26, 20, 15, 32, 41, 24, 24, 36, 40, 36, 41, 14, 63, 34, 27, 41, 151, 36, 7, 33, 7, 23, 19, 27, 57, 16, 12, 31, 41, 46, 22, 23, 64, 23, 1, 11, 24, 30, 46, 27, 38, 55, 28, 58, 32, 34, 12, 53, 6, 30, 27, 22, 10, 3, 16, 28, 20, 47, 69, 20, 24, 9, 59, 6, 7, 6, 50, 15, 22, 22, 6, 53, 18, 30, 37, 26, 33, 50, 1, 36, 28, 14, 14, 34, 46, 66, 12, 4, 71, 13, 36, 27, 35, 6, 68, 11, 17, 35, 31, 13, 15, 14, 38, 4, 5, 54, 12, 72, 19, 22, 37, 23, 38, 35, 39, 45, 26, 47, 1, 45, 30, 19, 14, 1, 41, 10, 1, 19, 9, 38, 21, 20, 64, 28, 50, 18, 27, 14, 8, 26, 35, 49, 5, 1, 1, 11, 29, 42, 24, 29, 20, 10, 26, 64, 7, 23, 59, 23, 7, 35, 5, 23, 1, 38, 39, 13, 33, 28, 26, 76, 25, 31, 11, 24, 17, 41, 30, 14, 25, 58, 12, 20, 17, 36, 13, 35, 28, 70, 24, 66, 33, 57, 1, 1, 26, 9, 20, 60, 30, 9, 16, 25, 41, 16, 34, 55, 34, 20, 52, 23, 12, 32, 20, 27, 43, 37, 20, 6, 17, 19, 4, 17, 16, 6, 14, 8, 53, 8, 41, 43, 28, 82, 56, 36, 38, 9, 23, 10, 51, 6, 24, 25, 58, 39, 7, 8, 2, 1, 32, 22, 9, 19, 35, 18, 48, 47, 76, 17, 11, 37, 26, 24, 22, 67, 22, 1, 15, 13, 24, 8, 23, 6, 7, 26, 13, 3, 37, 22, 3, 34, 25, 26, 10, 20, 18, 44, 9, 15, 46, 22, 54, 26, 32, 2, 24, 12, 25, 32, 1, 26, 34, 18, 27, 13, 22, 52, 39, 27, 36, 20, 37, 25, 50, 34, 34, 38, 15, 15, 13, 10, 120, 26, 38, 30, 17, 67, 25, 49, 32, 11, 22, 31, 87, 26, 40, 73, 31, 42, 5, 28, 10, 27, 46, 23, 30, 41, 26, 31, 9, 29, 27, 37, 12, 7, 31, 38, 17, 5, 26, 34, 19, 13, 14, 28, 17, 1, 6, 22, 21, 11, 7, 23, 34, 15, 28, 20, 29, 17, 31, 28, 35, 27, 19, 26, 6, 40, 28, 37, 34, 35, 59, 28, 30, 11, 34, 7, 29, 21, 37, 32, 48, 45, 32, 59, 7, 41, 30, 8, 39, 23, 20, 43, 43, 30, 32, 32, 27, 11, 20, 40, 43, 6, 28, 33, 16, 16, 11, 21, 34, 29, 24, 25, 20, 29, 28, 3, 11, 83, 30, 34, 3, 20, 29, 13, 30, 16, 11, 14, 27, 42, 9, 33, 32, 15, 46, 14, 6, 1, 35, 21, 1, 14, 45, 1, 47, 1, 5, 3, 33, 1, 2, 1, 28, 9, 1, 19, 44, 1, 35, 17, 15, 26, 19, 35, 25, 22, 11, 44, 19, 32, 14, 15, 21, 48, 35, 36, 17, 10, 7, 35, 27, 24, 42, 24, 31, 39, 32, 14, 26, 25, 40, 12, 21, 36, 39, 24, 4, 34, 47, 17, 20, 46, 30, 6, 16, 15, 27, 21, 32, 15, 43, 27, 18, 88, 22, 44, 41, 24, 33, 9, 11, 2, 8, 34, 18, 5, 34, 16, 2, 32, 23, 17, 26, 11, 28, 27, 57, 13, 9, 15, 49, 46, 1, 93, 35, 8, 32, 8, 26, 7, 20, 38, 10, 28, 10, 26, 7, 16, 1, 36, 12, 28, 74, 17, 19, 46, 36, 1, 15, 1, 23, 2, 33, 8, 32, 53, 42, 35, 31, 5, 24, 41, 16, 46, 21, 33, 39, 16, 23, 20, 29, 38, 41, 13, 35, 14, 16, 13, 1, 28, 12, 30, 6, 23, 39, 18, 28, 8, 88, 28, 46, 27, 47, 42, 26, 1, 9, 8, 3, 41, 48, 30, 20, 25, 16, 23, 36, 31, 9, 38, 30, 42, 25, 31, 187, 18, 24, 25, 9, 16, 9, 20, 49, 26, 18, 24, 40, 20, 50, 40, 28, 17, 9, 15, 28, 8, 22, 1, 22, 19, 24, 8, 40, 9, 22, 35, 35, 23, 49, 29, 66, 16, 65, 10, 44, 53, 12, 29, 26, 10, 13, 42, 49, 35, 27, 20, 5, 12, 34, 46, 28, 43, 11, 38, 59, 11, 24, 33, 28, 26, 31, 25, 60, 31, 28, 54, 18, 7, 27, 32, 22, 28, 51, 45, 13, 11, 14, 32, 26, 45, 30, 34, 36, 12, 35, 25, 25, 25, 57, 33, 65, 62, 21, 20, 4, 18, 9, 36, 121, 76, 17, 41, 21, 9, 41, 21, 21, 25, 31, 6, 44, 38, 31, 17, 24, 6, 24, 30, 28, 10, 41, 48, 73, 21, 1, 26, 34, 31, 28, 76, 19, 27, 1, 31, 69, 14, 27, 36, 41, 47, 12, 22, 26, 51, 28, 23, 25, 51, 9, 20, 6, 26, 25, 34, 29, 7, 47, 24, 9, 39, 29, 33, 12, 37, 20, 30, 68, 41, 28, 17, 27, 21, 45, 21, 55, 28, 26, 65, 12, 22, 6, 18, 37, 54, 53, 30, 8, 32, 12, 35, 45, 23, 14, 21, 25, 30, 15, 33, 92, 37, 32, 4, 22, 24, 29, 22, 15, 37, 18, 44, 23, 48, 17, 12, 28, 10, 12, 30, 32, 28, 1, 27, 6, 11, 7, 20, 19, 18, 23, 19, 16, 7, 20, 3, 48, 32, 44, 1, 30, 6, 31, 3, 1, 14, 18, 5, 5, 11, 2, 6, 14, 25, 6, 20, 64, 40, 11, 26, 19, 73, 44, 17, 31, 8, 24, 14, 24, 44, 40, 37, 19, 27, 28, 23, 27, 13, 31, 18, 26, 16, 39, 28, 12, 20, 38, 13, 11, 6, 41, 46, 27, 31, 19, 48, 26, 61, 33, 32, 44, 1, 20, 53, 45, 19, 25, 10, 16, 40, 15, 25, 24, 12, 14, 32, 22, 28, 13, 27, 43, 5, 37, 52, 34, 51, 9, 22, 9, 30, 46, 21, 29, 33, 43, 13, 26, 5, 9, 18, 13, 2, 32, 1, 10, 18, 18, 25, 33, 1, 29, 47, 46, 25, 14, 26, 3, 5, 30, 26, 7, 11, 34, 52, 26, 35, 35, 32, 61, 19, 28, 39, 65, 24, 21, 21, 25, 32, 11, 29, 47, 41, 23, 22, 23, 45, 15, 48, 51, 26, 6, 13, 53, 94, 26, 24, 48, 9, 27, 13, 6, 35, 43, 11, 56, 38, 1, 44, 65, 27, 47, 10, 13, 27, 22, 45, 18, 48, 17, 33, 7, 11, 27, 26, 11, 54, 4, 53, 68, 21, 9, 38, 26, 29, 31, 20, 33, 40, 32, 20, 35, 31, 27, 16, 31, 46, 5, 10, 18, 7, 19, 39, 22, 33, 20, 25, 21, 21, 6, 28, 40, 43, 120, 33, 51, 15, 21, 24, 23, 12, 2, 46, 39, 8, 4, 31, 36, 31, 72, 21, 7, 61, 34, 35, 10, 21, 1, 93, 86, 22, 20, 34, 37, 11, 33, 10, 23, 15, 24, 23, 38, 37, 67, 23, 59, 24, 25, 62, 19, 4, 20, 4, 35, 93, 10, 26, 37, 19, 14, 37, 72, 13, 28, 47, 1, 16, 17, 13, 42, 30, 26, 50, 89, 21, 22, 3, 11, 20, 8, 46, 10, 30, 18, 2, 6, 25, 51, 49, 57, 41, 16, 30, 9, 33, 33, 58, 31, 4, 46, 16, 34, 26, 7, 29, 29, 22, 22, 95, 21, 59, 3, 36, 65, 70, 22, 39, 32, 30, 25, 24, 15, 66, 21, 27, 29, 28, 31, 30, 8, 36, 13, 28, 7, 42, 33, 38, 28, 12, 27, 7, 28, 28, 19, 24, 10, 4, 1, 19, 34, 31, 21, 42, 31, 5, 20, 30, 43, 36, 20, 39, 21, 5, 115, 25, 26, 4, 34, 6, 10, 19, 40, 33, 51, 33, 24, 27, 35, 22, 8, 30, 14, 29, 41, 36, 27, 18, 37, 9, 11, 15, 19, 40, 29, 45, 2, 5, 1, 37, 25, 25, 48, 6, 79, 37, 13, 34, 6, 21, 34, 42, 22, 57, 5, 47, 12, 40, 37, 20, 34, 24, 37, 35, 22, 19, 132, 40, 1, 2, 15, 11, 12, 32, 29, 33, 13, 49, 11, 38, 30, 42, 22, 16, 25, 21, 9, 40, 32, 18, 41, 13, 1, 30, 1, 18, 26, 34, 21, 25, 74, 4, 18, 26, 1, 24, 118, 13, 25, 15, 13, 43, 28, 17, 7, 48, 42, 22, 1, 56, 2, 34, 23, 34, 17, 18, 18, 41, 36, 22, 11, 2, 30, 48, 17, 21, 26, 10, 24, 30, 5, 39, 45, 33, 37, 42, 10, 38, 28, 1, 36, 12, 35, 33, 29, 9, 49, 30, 48, 14, 24, 18, 25, 6, 10, 33, 13, 27, 31, 1, 26, 19, 9, 14, 8, 11, 31, 30, 14, 34, 26, 11, 75, 21, 41, 52, 35, 26, 16, 25, 20, 28, 24, 4, 30, 21, 24, 34, 35, 32, 15, 20, 26, 55, 20, 35, 27, 9, 40, 14, 74, 20, 31, 6, 28, 30, 34, 2, 13, 56, 4, 21, 6, 32, 11, 28, 20, 15, 43, 14, 27, 7, 49, 29, 45, 33, 17, 28, 26, 26, 14, 106, 57, 12, 37, 22, 28, 39, 28, 20, 27, 32, 14, 80, 32, 73, 34, 24, 40, 21, 28, 17, 19, 20, 7, 15, 1, 8, 18, 13, 25, 38, 24, 52, 11, 18, 13, 47, 63, 36, 27, 31, 31, 9, 12, 21, 35, 56, 37, 40, 25, 21, 38, 39, 24, 27, 74, 22, 10, 32, 72, 21, 76, 21, 20, 50, 12, 9, 17, 12, 24, 1, 19, 64, 35, 21, 11, 37, 36, 33, 1, 45, 32, 35, 37, 39, 19, 33, 3, 7, 22, 8, 23, 4, 29, 23, 23, 52, 21, 1, 1, 25, 19, 1, 39, 20, 37, 34, 24, 22, 26, 35, 46, 50, 30, 22, 18, 33, 27, 10, 13, 20, 22, 21, 22, 45, 21, 5, 27, 42, 29, 32, 19, 50, 56, 29, 34, 18, 11, 16, 24, 18, 38, 30, 36, 28, 32, 19, 37, 15, 26, 28, 1, 4, 2, 102, 43, 30, 14, 36, 52, 74, 55, 24, 20, 50, 20, 45, 9, 27, 27, 14, 3, 1, 16, 28, 3, 4, 20, 1, 11, 6, 8, 33, 35, 18, 6, 21, 19, 95, 21, 5, 26, 21, 55, 38, 34, 22, 23, 7, 32, 38, 6, 50, 26, 33, 58, 26, 25, 10, 40, 33, 36, 45, 11, 52, 49, 33, 6, 52, 40, 30, 23, 82, 31, 36, 19, 16, 28, 37, 51, 18, 47, 16, 32, 29, 43, 35, 12, 21, 90, 7, 24, 2, 37, 9, 27, 19, 49, 2, 21, 21, 2, 41, 50, 18, 29, 13, 7, 64, 32, 30, 1, 9, 13, 37, 20, 42, 21, 86, 64, 19, 21, 42, 15, 21, 28, 18, 17, 18, 16, 84, 32, 37, 69, 21, 14, 14, 21, 45, 27, 29, 26, 22, 6, 50, 62, 29, 29, 145, 46, 24, 11, 46, 53, 21, 25, 13, 22, 65, 27, 27, 24, 1, 34, 41, 35, 25, 29, 25, 17, 30, 21, 58, 26, 32, 34, 11, 31, 19, 22, 38, 28, 102, 36, 1, 30, 32, 30, 41, 15, 35, 15, 15, 3, 5, 14, 75, 14, 7, 3, 34, 27, 31, 71, 46, 6, 21, 15, 42, 40, 30, 28, 22, 20, 24, 25, 57, 30, 67, 10, 18, 5, 39, 3, 6, 19, 24, 21, 61, 14, 9, 17, 33, 33, 43, 6, 31, 31, 30, 21, 25, 28, 38, 17, 36, 13, 20, 1, 37, 9, 9, 29, 20, 21, 19, 1, 21, 21, 13, 37, 1, 25, 12, 22, 54, 18, 52, 27, 29, 1, 7, 23, 14, 51, 45, 40, 76, 34, 8, 26, 46, 35, 35, 17, 21, 46, 37, 31, 30, 29, 26, 22, 42, 20, 35, 35, 28, 49, 64, 12, 22, 56, 22, 27, 13, 37, 23, 54, 22, 31, 57, 51, 17, 5, 7, 41, 33, 49, 27, 40, 47, 27, 36, 24, 1, 21, 1, 11, 16, 12, 32, 8, 24, 67, 9, 55, 19, 17, 1, 52, 10, 8, 9, 31, 42, 24, 20, 34, 62, 21, 18, 26, 21, 1, 14, 9, 18, 30, 32, 43, 8, 34, 13, 48, 35, 13, 55, 3, 57, 37, 4, 16, 13, 18, 65, 35, 5, 20, 12, 24, 8, 48, 22, 19, 18, 4, 29, 15, 35, 76, 35, 19, 32, 32, 58, 39, 52, 17, 21, 1, 36, 62, 46, 14, 21, 34, 16, 22, 12, 2, 36, 79, 43, 26, 29, 5, 22, 13, 20, 12, 16, 11, 15, 21, 31, 18, 18, 31, 24, 55, 66, 52, 15, 6, 9, 37, 33, 35, 8, 53, 33, 32, 1, 22, 24, 51, 33, 15, 66, 38, 11, 7, 14, 24, 45, 23, 15, 10, 15, 18, 16, 43, 35, 33, 25, 36, 38, 34, 52, 12, 13, 22, 11, 32, 14, 3, 17, 53, 20, 40, 18, 1, 9, 25, 8, 5, 36, 18, 34, 35, 1, 25, 57, 60, 29, 15, 1, 15, 21, 69, 61, 14, 18, 19, 50, 67, 47, 16, 36, 21, 7, 27, 24, 4, 25, 23, 49, 27, 30, 9, 25, 1, 24, 30, 8, 15, 10, 17, 43, 27, 3, 14, 10, 28, 9, 35, 4, 39, 17, 20, 12, 28, 30, 92, 1, 10, 38, 13, 23, 36, 38, 37, 9, 25, 21, 33, 45, 28, 43, 24, 16, 25, 8, 26, 29, 40, 33, 33, 16, 33, 12, 28, 21, 32, 21, 35, 24, 28, 26, 6, 22, 5, 42, 46, 20, 12, 32, 35, 8, 28, 7, 42, 36, 42, 17, 21, 13, 18, 1, 27, 18, 8, 39, 21, 24, 37, 17, 54, 78, 28, 40, 68, 20, 47, 27, 47, 26, 12, 9, 37, 28, 1, 67, 30, 18, 8, 21, 32, 32, 29, 23, 27, 34, 27, 14, 47, 4, 111, 43, 14, 84, 43, 47, 26, 30, 28, 23, 31, 12, 18, 110, 29, 20, 1, 64, 21, 26, 28, 64, 14, 30, 25, 28, 20, 14, 51, 49, 8, 10, 11, 17, 68, 53, 37, 17, 28, 30, 24, 38, 20, 3, 14, 35, 25, 27, 42, 17, 41, 49, 20, 27, 138, 25, 24, 22, 35, 19, 3, 35, 53, 12, 17, 14, 32, 48, 30, 30, 59, 33, 7, 5, 11, 22, 7, 17, 24, 14, 21, 63, 15, 14, 34, 40, 37, 71, 23, 19, 9, 2, 40, 1, 15, 29, 45, 7, 19, 40, 16, 20, 30, 7, 24, 51, 8, 37, 15, 13, 13, 165, 18, 37, 30, 22, 8, 57, 95, 11, 28, 46, 18, 27, 21, 16, 35, 29, 21, 5, 23, 45, 22, 43, 5, 16, 15, 35, 22, 31, 30, 9, 2, 28, 34, 42, 35, 31, 7, 33, 11, 34, 29, 3, 12, 8, 19, 62, 45, 36, 65, 12, 21, 35, 32, 36, 23, 36, 22, 5, 19, 8, 9, 20, 29, 9, 16, 46, 40, 18, 12, 24, 1, 38, 18, 32, 31, 21, 34, 12, 18, 54, 35, 7, 3, 25, 28, 15, 43, 21, 12, 19, 38, 26, 16, 24, 28, 20, 2, 30, 31, 36, 23, 40, 60, 49, 31, 30, 75, 32, 33, 7, 27, 32, 6, 32, 20, 26, 30, 30, 15, 61, 38, 7, 19, 48, 31, 28, 30, 39, 36, 19, 106, 12, 7, 29, 70, 31, 17, 56, 26, 52, 49, 26, 26, 37, 37, 29, 10, 60, 23, 6, 25, 34, 26, 54, 16, 16, 15, 85, 31, 23, 27, 27, 4, 44, 17, 24, 47, 71, 8, 32, 25, 26, 1, 41, 30, 34, 16, 37, 34, 1, 33, 51, 41, 34, 27, 24, 6, 8, 55, 21, 34, 45, 24, 15, 11, 45, 27, 44, 8, 25, 3, 2, 1, 25, 33, 45, 18, 22, 44, 30, 34, 21, 40, 18, 19, 32, 48, 52, 11, 62, 40, 27, 16, 31, 25, 19, 31, 60, 15, 22, 27, 43, 41, 13, 18, 16, 22, 20, 17, 40, 13, 19, 38, 23, 33, 14, 25, 31, 26, 6, 30, 32, 35, 47, 6, 36, 31, 13, 40, 14, 26, 26, 21, 17, 63, 21, 77, 50, 15, 35, 30, 32, 40, 29, 37, 67, 19, 31, 62, 1, 2, 27, 49, 4, 8, 25, 30, 11, 62, 15, 1, 31, 18, 24, 43, 32, 3, 6, 57, 45, 12, 49, 27, 21, 80, 6, 7, 24, 23, 6, 22, 113, 36, 18, 79, 22, 65, 28, 18, 14, 2, 29, 29, 15, 9, 27, 22, 9, 24, 21, 62, 35, 37, 21, 36, 14, 6, 24, 21, 1, 21, 144, 30, 22, 39, 12, 12, 17, 44, 23, 25, 37, 16, 30, 52, 64, 6, 22, 22, 28, 16, 2, 9, 10, 21, 22, 24, 25, 12, 41, 52, 37, 28, 17, 40, 39, 19, 35, 61, 15, 17, 11, 34, 45, 37, 46, 21, 25, 55, 15, 26, 46, 24, 19, 40, 19, 18, 28, 9, 25, 1, 24, 49, 28, 36, 39, 29, 14, 22, 16, 30, 35, 23, 33, 11, 29, 14, 29, 11, 2, 21, 4, 11, 25, 34, 36, 14, 15, 18, 10, 20, 17, 38, 24, 40, 28, 27, 14, 36, 40, 24, 17, 25, 38, 43, 12, 36, 36, 30, 65, 20, 55, 25, 28, 13, 26, 21, 29, 36, 15, 35, 9, 25, 42, 11, 9, 21, 15, 25, 22, 20, 30, 29, 35, 29, 28, 24, 16, 25, 20, 27, 48, 57, 28, 20, 14, 25, 32, 23, 59, 15, 33, 26, 16, 26, 64, 27, 31, 20, 20, 22, 29, 30, 34, 20, 31, 62, 24, 1, 16, 1, 10, 21, 37, 13, 28, 21, 24, 43, 23, 10, 28, 74, 9, 48, 19, 16, 8, 12, 33, 8, 31, 37, 28, 34, 8, 28, 39, 28, 50, 30, 10, 33, 27, 12, 33, 9, 5, 12, 31, 36, 48, 28, 17, 35, 29, 1, 8, 8, 52, 21, 15, 2, 11, 19, 18, 45, 30, 41, 14, 6, 29, 56, 34, 37, 67, 9, 6, 31, 27, 22, 114, 16, 86, 14, 29, 19, 31, 62, 20, 77, 18, 29, 37, 7, 30, 35, 71, 27, 1, 20, 61, 19, 51, 20, 22, 14, 20, 11, 33, 20, 36, 24, 25, 17, 22, 24, 25, 33, 25, 3, 31, 27, 1, 3, 1, 1, 47, 1, 1, 29, 1, 3, 1, 8, 45, 8, 2, 2, 10, 20, 36, 81, 18, 25, 5, 25, 51, 44, 36, 14, 29, 8, 24, 35, 65, 10, 11, 42, 6, 35, 75, 37, 15, 35, 28, 41, 71, 7, 6, 65, 44, 16, 37, 20, 56, 17, 27, 22, 48, 25, 28, 35, 37, 13, 29, 39, 42, 32, 12, 20, 5, 3, 33, 10, 14, 73, 20, 8, 24, 4, 8, 35, 17, 31, 26, 38, 2, 8, 37, 11, 4, 29, 18, 13, 17, 21, 28, 8, 29, 21, 29, 14, 53, 21, 14, 21, 32, 35, 25, 10, 20, 54, 22, 35, 21, 27, 13, 62, 26, 34, 31, 1, 1, 1, 1, 45, 2, 2, 1, 26, 1, 9, 53, 69, 42, 64, 72, 37, 37, 14, 19, 29, 20, 19, 47, 22, 23, 39, 12, 28, 9, 10, 4, 11, 23, 24, 18, 35, 25, 30, 22, 30, 23, 19, 26, 26, 17, 30, 46, 7, 36, 3, 14, 22, 64, 24, 91, 43, 33, 50, 40, 16, 14, 31, 119, 27, 59, 33, 6, 19, 37, 36, 12, 36, 15, 1, 53, 38, 48, 34, 50, 35, 10, 20, 42, 28, 50, 15, 18, 57, 13, 14, 44, 13, 21, 42, 40, 45, 5, 26, 53, 6, 14, 83, 54, 28, 21, 22, 33, 80, 26, 62, 46, 44, 15, 23, 29, 34, 8, 44, 23, 17, 9, 64, 20, 50, 20, 28, 23, 19, 32, 40, 28, 15, 48, 42, 16, 44, 13, 81, 23, 81, 12, 1, 34, 27, 79, 24, 21, 128, 41, 15, 16, 20, 2, 18, 27, 18, 15, 46, 22, 34, 42, 11, 15, 12, 22, 16, 36, 8, 11, 24, 19, 29, 23, 6, 10, 31, 27, 20, 15, 54, 6, 38, 22, 11, 53, 26, 5, 25, 23, 36, 43, 32, 47, 35, 32, 37, 28, 11, 15, 33, 49, 25, 15, 22, 31, 14, 43, 13, 15, 26, 9, 33, 1, 32, 20, 17, 32, 25, 3, 20, 33, 23, 42, 16, 16, 22, 5, 42, 20, 38, 28, 50, 19, 21, 25, 27, 31, 25, 51, 14, 27, 41, 26, 36, 3, 32, 20, 19, 38, 44, 43, 50, 24, 22, 45, 31, 24, 42, 42, 59, 25, 30, 12, 45, 9, 19, 39, 26, 14, 23, 13, 14, 19, 12, 60, 33, 44, 27, 40, 24, 47, 23, 17, 20, 6, 20, 40, 137, 45, 25, 24, 32, 21, 39, 20, 4, 27, 19, 37, 40, 2, 20, 8, 3, 24, 44, 7, 17, 24, 36, 58, 1, 13, 8, 27, 27, 14, 9, 52, 17, 30, 32, 14, 9, 25, 19, 55, 6, 6, 11, 4, 20, 20, 38, 36, 23, 29, 23, 30, 25, 16, 19, 18, 30, 19, 44, 22, 118, 23, 81, 54, 30, 77, 55, 38, 7, 11, 20, 44, 34, 17, 7, 39, 38, 23, 23, 7, 9, 33, 51, 51, 21, 27, 31, 67, 48, 26, 34, 10, 14, 37, 20, 13, 30, 9, 25, 13, 23, 32, 48, 45, 49, 21, 64, 5, 22, 28, 20, 21, 16, 55, 9, 19, 40, 32, 62, 28, 15, 32, 13, 61, 27, 51, 26, 17, 25, 29, 31, 111, 14, 26, 73, 21, 6, 14, 9, 9, 1, 25, 24, 9, 30, 16, 28, 41, 30, 61, 23, 36, 41, 94, 4, 34, 34, 24, 35, 1, 40, 23, 37, 30, 3, 40, 29, 23, 26, 36, 36, 69, 28, 19, 14, 12, 8, 9, 4, 3, 14, 9, 12, 10, 14, 13, 5, 13, 16, 10, 13, 9, 12, 12, 16, 5, 12, 9, 7, 20, 89, 57, 45, 15, 32, 26, 27, 72, 19, 13, 34, 23, 32, 5, 22, 33, 2, 32, 34, 19, 17, 53, 40, 57, 17, 91, 41, 38, 27, 20, 24, 41, 26, 71, 30, 32, 24, 31, 50, 30, 24, 31, 13, 22, 76, 33, 12, 87, 39, 29, 34, 34, 32, 12, 18, 18, 31, 54, 18, 35, 30, 31, 32, 2, 14, 53, 19, 2, 27, 17, 4, 16, 13, 7, 38, 7, 34, 35, 1, 18, 12, 9, 20, 2, 11, 3, 6, 26, 38, 39, 19, 18, 18, 29, 26, 28, 27, 71, 38, 34, 6, 33, 30, 32, 10, 11, 31, 25, 26, 32, 34, 1, 22, 32, 32, 33, 7, 12, 38, 21, 10, 46, 27, 45, 24, 12, 16, 18, 22, 24, 21, 24, 12, 7, 39, 54, 39, 10, 37, 35, 20, 1, 6, 40, 24, 20, 23, 60, 7, 20, 16, 35, 14, 22, 44, 25, 16, 99, 106, 25, 7, 17, 31, 49, 19, 17, 3, 41, 63, 26, 41, 21, 31, 21, 30, 25, 25, 46, 18, 50, 35, 9, 3, 9, 17, 17, 78, 20, 9, 30, 15, 25, 48, 64, 21, 23, 24, 17, 13, 39, 35, 27, 26, 20, 55, 43, 31, 31, 43, 20, 64, 29, 11, 16, 8, 23, 22, 24, 37, 24, 11, 22, 27, 30, 20, 3, 33, 36, 8, 13, 18, 26, 13, 31, 42, 48, 49, 39, 34, 10, 9, 15, 20, 11, 1, 20, 27, 22, 51, 9, 27, 121, 1, 32, 33, 19, 10, 20, 48, 35, 24, 31, 27, 29, 14, 31, 28, 35, 20, 87, 30, 32, 14, 1, 118, 35, 30, 41, 20, 39, 37, 20, 6, 36, 51, 15, 22, 44, 21, 42, 26, 32, 38, 8, 13, 129, 51, 11, 2, 19, 30, 14, 21, 37, 33, 23, 33, 58, 39, 10, 30, 39, 22, 39, 36, 31, 56, 51, 24, 48, 81, 9, 52, 66, 19, 30, 26, 37, 21, 19, 17, 25, 22, 26, 18, 17, 10, 33, 33, 54, 31, 29, 40, 18, 14, 26, 7, 10, 7, 21, 42, 11, 13, 20, 6, 6, 77, 27, 38, 43, 25, 35, 58, 25, 24, 12, 24, 25, 21, 26, 16, 40, 42, 28, 29, 25, 19, 9, 23, 27, 39, 35, 31, 24, 31, 43, 28, 48, 10, 28, 21, 24, 30, 37, 15, 6, 50, 30, 50, 24, 2, 20, 36, 5, 22, 53, 18, 12, 35, 61, 6, 28, 101, 55, 27, 27, 5, 41, 25, 27, 21, 75, 35, 19, 25, 25, 10, 26, 17, 16, 52, 49, 20, 14, 45, 29, 26, 4, 10, 33, 47, 73, 55, 33, 50, 88, 15, 1, 36, 18, 1, 69, 52, 22, 53, 4, 34, 36, 31, 35, 17, 29, 34, 45, 35, 41, 14, 17, 87, 30, 69, 30, 36, 39, 26, 23, 9, 30, 78, 32, 30, 67, 27, 3, 51, 24, 26, 14, 19, 35, 28, 28, 39, 15, 208, 15, 7, 14, 15, 35, 13, 28, 34, 30, 1, 1, 51, 81, 32, 26, 27, 41, 34, 49, 28, 22, 55, 19, 30, 12, 15, 15, 31, 24, 45, 48, 9, 31, 30, 18, 51, 15, 34, 10, 34, 53, 44, 11, 21, 26, 39, 27, 14, 9, 10, 21, 34, 33, 45, 17, 11, 60, 28, 41, 19, 15, 56, 62, 42, 30, 40, 10, 36, 29, 11, 5, 33, 17, 44, 10, 26, 26, 3, 25, 6, 35, 29, 20, 25, 28, 73, 34, 39, 51, 31, 18, 38, 30, 23, 28, 33, 15, 27, 44, 10, 47, 22, 23, 17, 25, 28, 21, 58, 1, 38, 23, 49, 50, 17, 71, 28, 15, 22, 25, 22, 10, 36, 52, 2, 20, 28, 13, 46, 24, 66, 16, 9, 40, 10, 43, 22, 26, 16, 12, 20, 18, 45, 4, 16, 34, 20, 40, 13, 5, 1, 24, 35, 31, 19, 29, 25, 23, 28, 25, 33, 22, 34, 50, 103, 17, 5, 29, 51, 28, 21, 16, 3, 7, 1, 3, 47, 33, 42, 17, 24, 24, 22, 116, 30, 17, 19, 24, 13, 76, 15, 10, 10, 1, 26, 29, 8, 7, 2, 5, 29, 17, 7, 36, 36, 32, 33, 42, 30, 24, 38, 34, 26, 111, 69, 29, 34, 45, 29, 5, 23, 58, 2, 14, 20, 54, 63, 35, 26, 29, 38, 24, 12, 76, 11, 36, 9, 38, 22, 15, 27, 13, 62, 31, 44, 12, 30, 29, 36, 22, 109, 61, 53, 21, 35, 31, 27, 13, 16, 1, 50, 20, 47, 24, 36, 12, 46, 24, 13, 23, 17, 20, 17, 28, 23, 37, 29, 31, 9, 21, 20, 3, 20, 57, 26, 15, 26, 53, 24, 10, 32, 10, 20, 55, 3, 18, 29, 31, 37, 6, 18, 39, 31, 40, 43, 33, 43, 19, 32, 26, 60, 34, 39, 71, 13, 55, 23, 26, 7, 28, 33, 23, 45, 32, 28, 31, 32, 23, 38, 30, 38, 4, 29, 32, 13, 12, 40, 38, 63, 4, 36, 38, 36, 23, 6, 29, 68, 23, 29, 21, 34, 40, 42, 4, 20, 15, 23, 20, 91, 21, 17, 40, 18, 56, 74, 10, 22, 7, 26, 68, 32, 17, 43, 33, 11, 13, 5, 29, 5, 1, 16, 24, 25, 48, 41, 38, 49, 23, 46, 88, 4, 43, 22, 53, 25, 27, 19, 80, 27, 26, 14, 109, 32, 20, 6, 42, 9, 34, 13, 17, 37, 25, 32, 13, 25, 23, 38, 3, 46, 49, 41, 25, 8, 30, 11, 41, 7, 27, 32, 23, 26, 39, 8, 27, 11, 10, 26, 15, 39, 36, 42, 40, 19, 80, 16, 31, 12, 29, 13, 9, 34, 26, 14, 17, 2, 37, 2, 72, 30, 41, 50, 37, 36, 16, 34, 32, 37, 9, 26, 47, 14, 21, 47, 34, 21, 74, 30, 22, 39, 38, 15, 36, 8, 7, 22, 34, 26, 19, 27, 9, 26, 16, 30, 62, 26, 14, 63, 13, 15, 32, 8, 51, 32, 12, 19, 17, 26, 21, 1, 22, 3, 26, 40, 27, 24, 41, 11, 47, 5, 21, 4, 34, 23, 50, 11, 31, 29, 20, 13, 33, 29, 72, 32, 30, 25, 37, 25, 16, 26, 25, 22, 21, 21, 19, 31, 26, 14, 29, 48, 23, 39, 49, 1, 13, 32, 17, 27, 66, 43, 36, 70, 36, 34, 54, 44, 11, 23, 10, 10, 21, 55, 43, 34, 36, 54, 26, 27, 31, 9, 18, 24, 38, 9, 28, 34, 32, 4, 37, 26, 12, 26, 26, 14, 42, 25, 17, 22, 42, 39, 11, 27, 36, 20, 11, 43, 31, 18, 13, 23, 31, 26, 19, 56, 59, 24, 53, 96, 26, 139, 16, 1, 41, 42, 13, 71, 44, 4, 22, 19, 72, 26, 22, 28, 29, 39, 1, 18, 21, 66, 27, 42, 24, 26, 30, 61, 18, 3, 12, 22, 3, 28, 17, 31, 18, 89, 32, 14, 18, 30, 16, 65, 27, 19, 55, 6, 17, 6, 10, 26, 25, 29, 32, 51, 28, 29, 2, 35, 6, 47, 37, 27, 18, 31, 12, 45, 114, 41, 5, 47, 19, 15, 22, 65, 20, 106, 33, 2, 12, 17, 17, 21, 10, 59, 65, 27, 9, 24, 16, 29, 11, 54, 10, 26, 23, 46, 25, 20, 4, 33, 20, 17, 20, 27, 34, 28, 8, 33, 33, 41, 21, 36, 4, 13, 37, 32, 26, 2, 31, 10, 13, 82, 48, 27, 40, 28, 33, 7, 24, 81, 11, 10, 21, 38, 17, 35, 34, 10, 25, 29, 34, 17, 28, 12, 43, 39, 14, 53, 22, 27, 33, 7, 32, 3, 20, 71, 2, 12, 10, 11, 34, 1, 34, 7, 31, 34, 33, 29, 13, 18, 57, 2, 39, 23, 24, 34, 22, 12, 24, 37, 28, 11, 24, 9, 36, 4, 9, 1, 150, 14, 33, 9, 10, 49, 2, 36, 22, 30, 32, 13, 40, 16, 23, 35, 83, 38, 42, 43, 22, 46, 9, 23, 22, 40, 151, 64, 16, 35, 35, 13, 34, 65, 17, 20, 59, 16, 1, 19, 30, 40, 41, 55, 11, 21, 25, 12, 13, 42, 29, 27, 18, 24, 20, 10, 49, 44, 27, 24, 25, 19, 61, 24, 35, 67, 59, 23, 9, 3, 12, 6, 40, 27, 37, 1, 31, 42, 21, 4, 15, 23, 54, 28, 68, 50, 24, 17, 35, 32, 1, 9, 44, 28, 12, 53, 29, 13, 21, 39, 31, 33, 48, 35, 32, 47, 53, 4, 54, 37, 33, 32, 8, 49, 41, 80, 31, 12, 110, 41, 11, 27, 39, 36, 9, 23, 18, 40, 8, 14, 19, 11, 11, 4, 3, 101, 23, 46, 13, 13, 21, 42, 90, 47, 3, 11, 24, 50, 22, 24, 40, 14, 43, 17, 18, 34, 21, 36, 40, 24, 12, 27, 19, 31, 46, 20, 8, 32, 1, 29, 49, 74, 16, 34, 43, 20, 9, 46, 29, 26, 31, 41, 48, 28, 17, 36, 38, 80, 26, 29, 52, 20, 56, 12, 37, 54, 20, 35, 27, 28, 18, 18, 16, 3, 44, 34, 15, 22, 37, 46, 38, 21, 35, 41, 36, 93, 34, 43, 23, 34, 33, 1, 6, 27, 9, 49, 15, 11, 33, 15, 94, 23, 53, 31, 3, 41, 16, 72, 71, 22, 14, 14, 1, 14, 21, 43, 53, 27, 36, 70, 28, 37, 6, 18, 25, 23, 22, 10, 36, 63, 27, 33, 13, 40, 12, 60, 19, 23, 14, 25, 1, 35, 30, 28, 31, 23, 6, 16, 21, 39, 51, 30, 12, 54, 24, 37, 2, 21, 11, 20, 23, 13, 34, 25, 53, 24, 5, 79, 29, 19, 2, 50, 18, 28, 37, 5, 15, 46, 25, 48, 48, 33, 37, 23, 14, 6, 62, 53, 17, 26, 4, 11, 32, 1, 25, 43, 27, 31, 27, 26, 29, 52, 74, 8, 6, 14, 49, 36, 38, 21, 31, 37, 31, 8, 25, 4, 30, 38, 24, 19, 28, 44, 24, 19, 4, 33, 41, 9, 35, 41, 26, 27, 6, 69, 15, 44, 26, 18, 33, 27, 8, 13, 1, 37, 7, 37, 20, 17, 7, 15, 12, 14, 4, 21, 26, 1, 19, 56, 15, 29, 47, 70, 6, 62, 29, 40, 19, 41, 21, 1, 26, 62, 32, 25, 24, 30, 62, 27, 8, 7, 27, 16, 5, 37, 30, 39, 12, 31, 46, 29, 8, 28, 10, 29, 35, 21, 12, 47, 23, 35, 52, 18, 23, 33, 31, 27, 40, 18, 23, 35, 29, 47, 23, 14, 9, 58, 18, 15, 21, 1, 38, 19, 50, 25, 22, 22, 15, 33, 26, 25, 43, 40, 14, 32, 17, 38, 44, 102, 26, 27, 12, 13, 34, 7, 12, 43, 29, 34, 63, 29, 7, 25, 51, 30, 48, 11, 32, 16, 62, 50, 17, 27, 47, 38, 34, 14, 25, 28, 23, 35, 20, 31, 45, 7, 29, 129, 15, 20, 9, 54, 26, 34, 27, 34, 31, 39, 29, 38, 19, 37, 26, 46, 41, 15, 51, 21, 26, 33, 11, 23, 43, 19, 30, 10, 33, 22, 37, 38, 9, 43, 8, 48, 21, 8, 25, 19, 40, 25, 6, 6, 10, 20, 16, 9, 16, 11, 8, 10, 8, 27, 15, 48, 26, 123, 8, 11, 42, 36, 6, 72, 30, 19, 29, 62, 28, 1, 26, 5, 10, 9, 41, 11, 38, 20, 37, 37, 31, 36, 45, 1, 61, 38, 22, 22, 44, 20, 11, 40, 68, 64, 20, 31, 25, 27, 34, 32, 12, 49, 10, 9, 50, 20, 15, 40, 56, 6, 15, 19, 31, 38, 26, 29, 1, 7, 30, 18, 15, 7, 21, 71, 35, 39, 18, 12, 14, 15, 65, 30, 22, 27, 29, 1, 8, 1, 27, 18, 26, 15, 28, 21, 74, 22, 23, 13, 52, 64, 12, 50, 29, 35, 19, 32, 36, 20, 26, 22, 10, 29, 25, 45, 32, 22, 43, 27, 17, 51, 4, 35, 24, 20, 28, 25, 42, 31, 21, 41, 23, 1, 8, 17, 60, 11, 17, 47, 1, 12, 18, 17, 12, 26, 5, 15, 70, 37, 20, 6, 5, 2, 5, 43, 31, 39, 19, 2, 13, 29, 37, 50, 113, 17, 33, 32, 12, 24, 30, 59, 21, 16, 53, 26, 23, 1, 57, 23, 20, 13, 127, 27, 21, 10, 20, 24, 1, 38, 32, 19, 24, 18, 13, 35, 24, 34, 50, 11, 43, 21, 24, 21, 57, 42, 6, 7, 22, 26, 28, 12, 16, 34, 22, 25, 13, 35, 49, 35, 23, 11, 89, 18, 26, 27, 60, 21, 12, 28, 21, 5, 13, 17, 16, 32, 115, 8, 27, 39, 18, 60, 32, 14, 14, 24, 95, 25, 78, 65, 58, 23, 20, 34, 19, 32, 78, 32, 41, 1, 38, 49, 47, 1, 9, 29, 38, 38, 32, 7, 28, 35, 22, 28, 28, 13, 77, 13, 29, 21, 19, 28, 22, 31, 25, 49, 12, 14, 20, 25, 54, 33, 39, 37, 46, 31, 22, 31, 18, 20, 12, 11, 3, 110, 20, 15, 25, 14, 40, 23, 40, 22, 7, 3, 9, 46, 40, 34, 36, 60, 34, 22, 30, 7, 23, 12, 20, 52, 74, 11, 20, 8, 9, 17, 39, 66, 38, 24, 32, 8, 47, 35, 29, 52, 20, 31, 16, 9, 11, 7, 25, 37, 13, 15, 1, 8, 15, 63, 73, 16, 30, 14, 35, 30, 30, 35, 28, 22, 31, 26, 36, 31, 20, 6, 25, 32, 5, 1, 22, 29, 4, 20, 10, 24, 17, 37, 100, 79, 24, 13, 43, 27, 21, 27, 21, 15, 17, 24, 17, 18, 33, 30, 28, 25, 34, 24, 5, 29, 5, 27, 21, 30, 22, 26, 21, 40, 3, 10, 27, 41, 19, 24, 36, 26, 13, 68, 1, 19, 9, 3, 42, 19, 36, 41, 13, 27, 15, 28, 15, 24, 21, 25, 8, 93, 22, 40, 27, 57, 10, 84, 26, 48, 31, 7, 16, 26, 39, 47, 32, 41, 49, 51, 21, 43, 29, 3, 32, 14, 17, 30, 34, 27, 15, 28, 48, 5, 19, 3, 32, 34, 15, 15, 21, 28, 19, 40, 9, 27, 18, 50, 24, 15, 38, 5, 28, 14, 24, 20, 16, 12, 64, 12, 19, 25, 8, 17, 36, 25, 35, 50, 37, 109, 61, 25, 28, 25, 36, 29, 44, 43, 42, 63, 47, 36, 44, 1, 24, 21, 20, 18, 51, 8, 25, 28, 23, 24, 24, 67, 24, 31, 29, 31, 11, 19, 48, 9, 39, 39, 65, 21, 17, 18, 21, 22, 14, 66, 39, 24, 38, 36, 24, 32, 22, 36, 69, 46, 41, 36, 25, 23, 54, 38, 5, 8, 31, 100, 22, 23, 22, 35, 6, 23, 55, 31, 12, 24, 53, 13, 22, 49, 8, 100, 94, 17, 37, 36, 133, 14, 16, 12, 36, 54, 31, 48, 32, 69, 22, 47, 23, 33, 39, 54, 56, 33, 48, 23, 33, 60, 70, 3, 17, 34, 1, 8, 31, 7, 5, 25, 67, 15, 5, 1, 56, 40, 36, 33, 30, 33, 40, 1, 24, 4, 7, 14, 24, 36, 23, 17, 11, 15, 8, 56, 24, 31, 12, 22, 40, 23, 40, 39, 27, 19, 21, 8, 22, 27, 21, 28, 24, 28, 23, 16, 27, 42, 15, 35, 19, 1, 44, 85, 2, 36, 20, 10, 35, 142, 31, 75, 34, 36, 24, 7, 50, 24, 6, 7, 66, 24, 24, 5, 21, 8, 29, 12, 30, 20, 10, 33, 27, 36, 34, 46, 32, 31, 31, 62, 16, 37, 17, 61, 5, 21, 11, 28, 29, 28, 28, 21, 33, 27, 8, 14, 18, 26, 39, 51, 19, 45, 17, 21, 10, 11, 38, 22, 3, 27, 1, 20, 39, 64, 19, 15, 3, 38, 36, 14, 31, 8, 1, 33, 83, 19, 21, 6, 17, 7, 5, 28, 21, 26, 35, 36, 26, 5, 25, 26, 23, 20, 32, 9, 44, 14, 42, 4, 70, 22, 1, 25, 1, 52, 9, 17, 1, 26, 38, 19, 7, 19, 30, 3, 80, 32, 29, 16, 41, 13, 15, 43, 64, 34, 60, 58, 50, 102, 22, 30, 32, 30, 21, 24, 34, 37, 24, 39, 22, 1, 28, 24, 16, 27, 11, 39, 24, 45, 41, 27, 16, 35, 33, 34, 36, 37, 18, 80, 5, 29, 81, 7, 24, 28, 23, 26, 39, 34, 45, 17, 33, 33, 34, 39, 18, 49, 32, 24, 28, 20, 15, 1, 40, 33, 27, 17, 72, 22, 36, 38, 11, 44, 29, 17, 49, 4, 7, 44, 30, 35, 31, 42, 101, 38, 27, 154, 29, 63, 22, 21, 38, 25, 19, 19, 11, 7, 2, 53, 45, 16, 26, 21, 27, 1, 2, 22, 23, 30, 36, 24, 21, 39, 28, 75, 12, 5, 112, 11, 58, 37, 32, 21, 26, 38, 69, 29, 33, 14, 27, 25, 14, 25, 17, 93, 2, 29, 19, 36, 28, 26, 32, 57, 1, 8, 30, 32, 70, 33, 27, 17, 45, 30, 32, 23, 21, 33, 23, 42, 23, 24, 32, 30, 48, 22, 33, 24, 30, 9, 31, 16, 24, 10, 30, 14, 20, 2, 54, 33, 54, 33, 51, 5, 14, 6, 4, 26, 50, 12, 8, 1, 21, 22, 20, 20, 28, 57, 35, 12, 8, 18, 35, 18, 1, 27, 60, 15, 34, 29, 5, 9, 43, 33, 16, 16, 25, 28, 23, 40, 74, 27, 12, 28, 22, 22, 12, 21, 32, 53, 22, 36, 8, 16, 35, 46, 15, 9, 11, 27, 14, 53, 32, 9, 23, 39, 23, 8, 24, 26, 30, 9, 12, 30, 30, 26, 29, 18, 18, 38, 41, 8, 3, 14, 18, 30, 26, 17, 38, 46, 54, 8, 42, 36, 58, 34, 28, 32, 36, 8, 18, 10, 35, 52, 19, 46, 16, 34, 88, 13, 19, 28, 19, 21, 18, 33, 32, 4, 23, 4, 13, 29, 8, 21, 7, 19, 12, 32, 62, 19, 54, 32, 7, 26, 29, 29, 37, 44, 51, 30, 13, 19, 23, 9, 34, 22, 18, 45, 37, 15, 5, 31, 33, 44, 41, 12, 42, 25, 20, 27, 11, 37, 28, 37, 4, 25, 36, 22, 20, 6, 18, 25, 18, 1, 25, 22, 31, 95, 22, 18, 77, 35, 39, 58, 25, 15, 39, 18, 20, 74, 28, 19, 54, 36, 37, 20, 26, 28, 29, 31, 11, 20, 21, 33, 24, 31, 25, 28, 43, 35, 35, 34, 65, 7, 34, 41, 45, 9, 24, 6, 27, 33, 18, 21, 14, 23, 18, 19, 2, 21, 7, 17, 37, 25, 28, 23, 1, 16, 14, 33, 29, 8, 34, 13, 11, 18, 21, 14, 3, 39, 6, 46, 33, 22, 55, 58, 97, 32, 30, 10, 30, 35, 16, 33, 1, 11, 97, 14, 29, 39, 35, 21, 22, 29, 32, 18, 20, 26, 39, 41, 46, 20, 27, 49, 14, 38, 19, 27, 39, 32, 22, 20, 29, 24, 45, 28, 38, 32, 50, 36, 16, 24, 18, 30, 19, 33, 24, 34, 50, 40, 28, 29, 38, 22, 31, 25, 28, 20, 85, 27, 45, 18, 49, 22, 51, 27, 27, 35, 37, 27, 1, 27, 1, 37, 39, 41, 21, 25, 26, 33, 28, 19, 24, 9, 29, 23, 15, 101, 19, 20, 43, 36, 85, 43, 42, 31, 26, 40, 25, 58, 49, 33, 108, 11, 62, 40, 21, 14, 24, 32, 26, 39, 14, 37, 36, 52, 92, 21, 14, 35, 90, 20, 22, 8, 48, 25, 24, 44, 25, 37, 23, 25, 33, 19, 44, 35, 29, 40, 33, 21, 22, 35, 89, 27, 8, 9, 34, 23, 69, 36, 6, 22, 9, 32, 56, 46, 53, 14, 16, 31, 15, 37, 31, 21, 16, 8, 47, 2, 18, 34, 52, 51, 31, 40, 63, 10, 16, 30, 40, 25, 34, 15, 27, 7, 47, 66, 31, 27, 18, 71, 1, 12, 24, 3, 26, 6, 29, 1, 27, 28, 23, 34, 25, 44, 68, 35, 21, 13, 23, 30, 24, 32, 13, 29, 34, 108, 27, 32, 14, 16, 8, 71, 8, 37, 25, 21, 19, 35, 15, 25, 26, 14, 10, 21, 47, 22, 22, 37, 8, 23, 1, 28, 13, 18, 40, 2, 40, 20, 13, 19, 24, 8, 18, 46, 49, 40, 22, 36, 28, 35, 57, 15, 30, 45, 26, 43, 40, 49, 21, 6, 2, 55, 28, 45, 16, 26, 14, 37, 50, 32, 23, 7, 24, 39, 35, 13, 13, 51, 35, 15, 21, 20, 15, 40, 26, 16, 36, 34, 22, 19, 1, 23, 7, 27, 27, 18, 35, 35, 44, 35, 6, 36, 14, 19, 26, 6, 23, 30, 38, 30, 18, 48, 26, 19, 45, 53, 27, 40, 47, 15, 39, 54, 28, 40, 36, 17, 33, 5, 35, 51, 1, 27, 9, 27, 5, 8, 6, 36, 30, 43, 38, 30, 26, 18, 35, 57, 34, 45, 21, 4, 67, 13, 26, 49, 6, 3, 20, 28, 29, 34, 15, 7, 35, 32, 14, 58, 44, 52, 31, 27, 22, 25, 20, 2, 22, 14, 6, 9, 36, 28, 33, 19, 3, 45, 1, 29, 16, 32, 88, 19, 38, 27, 33, 32, 9, 19, 36, 27, 21, 19, 24, 20, 28, 41, 30, 57, 61, 16, 12, 27, 51, 19, 15, 24, 21, 44, 24, 20, 30, 47, 28, 49, 2, 38, 40, 32, 13, 30, 19, 51, 58, 18, 30, 1, 5, 7, 83, 41, 15, 13, 16, 18, 30, 27, 10, 15, 23, 24, 43, 25, 28, 8, 21, 25, 77, 38, 96, 35, 8, 39, 27, 27, 28, 26, 34, 15, 26, 12, 10, 17, 21, 32, 23, 25, 12, 17, 44, 16, 21, 16, 26, 47, 18, 8, 33, 22, 8, 62, 13, 2, 35, 23, 16, 12, 53, 4, 12, 45, 26, 109, 10, 30, 24, 85, 26, 20, 22, 22, 14, 21, 12, 16, 24, 30, 70, 7, 1, 26, 17, 28, 13, 1, 22, 17, 15, 6, 36, 113, 15, 9, 15, 20, 2, 27, 26, 5, 53, 14, 27, 13, 40, 32, 35, 37, 15, 16, 16, 46, 40, 5, 14, 7, 15, 20, 23, 19, 24, 25, 46, 22, 162, 25, 55, 63, 38, 54, 25, 30, 3, 31, 31, 59, 62, 29, 36, 29, 6, 24, 27, 1, 24, 5, 13, 31, 36, 7, 6, 35, 35, 24, 29, 15, 1, 44, 2, 32, 29, 12, 26, 7, 47, 36, 45, 13, 13, 8, 23, 27, 60, 54, 23, 17, 27, 49, 9, 34, 32, 34, 3, 11, 26, 56, 31, 38, 46, 59, 140, 56, 16, 9, 25, 114, 46, 5, 13, 20, 40, 41, 13, 36, 60, 73, 14, 23, 5, 6, 18, 20, 28, 41, 32, 5, 26, 22, 30, 17, 1, 123, 66, 5, 17, 27, 48, 8, 23, 12, 54, 25, 37, 31, 45, 67, 26, 34, 31, 31, 46, 81, 22, 29, 25, 26, 28, 29, 21, 18, 39, 27, 23, 56, 23, 15, 135, 26, 29, 20, 17, 51, 44, 21, 64, 42, 14, 47, 14, 49, 44, 23, 15, 1, 55, 13, 27, 30, 19, 26, 51, 37, 17, 21, 34, 23, 5, 54, 21, 31, 27, 8, 31, 22, 25, 39, 12, 47, 35, 11, 26, 32, 11, 38, 18, 4, 36, 49, 32, 23, 6, 27, 17, 28, 16, 69, 51, 35, 30, 22, 22, 4, 20, 40, 32, 16, 30, 29, 31, 52, 18, 27, 14, 27, 26, 38, 30, 38, 15, 23, 34, 7, 19, 19, 25, 29, 74, 38, 1, 8, 21, 5, 24, 21, 45, 47, 21, 26, 55, 5, 28, 47, 22, 58, 36, 24, 56, 42, 52, 40, 1, 87, 20, 19, 17, 18, 16, 14, 11, 22, 21, 10, 24, 22, 2, 47, 49, 32, 30, 59, 32, 2, 4, 21, 11, 77, 4, 5, 10, 30, 39, 24, 29, 3, 8, 27, 24, 69, 23, 41, 31, 39, 22, 29, 19, 76, 28, 29, 22, 35, 1, 27, 74, 33, 9, 1, 33, 102, 12, 13, 2, 44, 97, 5, 8, 3, 8, 84, 37, 78, 63, 29, 23, 32, 40, 3, 40, 42, 33, 21, 16, 33, 22, 46, 25, 8, 26, 10, 61, 32, 21, 38, 56, 66, 85, 35, 19, 25, 7, 28, 12, 25, 27, 22, 62, 43, 31, 56, 33, 24, 28, 28, 20, 47, 16, 26, 38, 46, 44, 13, 38, 47, 8, 13, 41, 28, 25, 29, 26, 7, 29, 24, 25, 31, 50, 41, 32, 19, 13, 6, 13, 27, 15, 1, 1, 7, 45, 22, 34, 32, 39, 25, 1, 12, 49, 16, 26, 24, 10, 46, 24, 33, 6, 30, 18, 24, 38, 22, 19, 36, 38, 37, 21, 13, 28, 11, 29, 7, 18, 2, 36, 37, 50, 12, 8, 39, 29, 14, 10, 10, 1, 27, 27, 14, 9, 22, 5, 28, 21, 36, 120, 28, 42, 51, 33, 1, 18, 12, 33, 26, 32, 21, 40, 44, 37, 52, 42, 68, 39, 11, 35, 36, 4, 16, 19, 14, 47, 47, 13, 42, 38, 23, 31, 35, 47, 31, 9, 38, 36, 18, 32, 18, 39, 14, 69, 12, 8, 60, 13, 16, 12, 30, 24, 22, 48, 29, 19, 15, 29, 21, 32, 109, 32, 34, 1, 10, 33, 38, 30, 28, 43, 20, 45, 21, 8, 3, 27, 42, 14, 30, 31, 45, 47, 18, 2, 32, 17, 11, 42, 30, 34, 27, 24, 10, 25, 7, 4, 18, 11, 18, 58, 72, 93, 3, 24, 48, 16, 9, 6, 65, 8, 16, 42, 1, 17, 3, 12, 24, 54, 22, 14, 26, 28, 24, 50, 18, 14, 22, 6, 33, 40, 109, 31, 21, 8, 20, 23, 43, 34, 1, 35, 12, 44, 42, 34, 61, 53, 18, 33, 33, 6, 20, 42, 25, 48, 34, 1, 18, 27, 38, 37, 11, 34, 23, 15, 8, 11, 37, 34, 74, 13, 46, 61, 4, 42, 9, 1, 1, 27, 24, 22, 23, 30, 17, 5, 26, 21, 27, 68, 68, 25, 39, 46, 44, 58, 25, 23, 12, 43, 51, 26, 7, 25, 22, 42, 18, 24, 45, 46, 67, 69, 20, 5, 38, 47, 3, 32, 15, 6, 82, 18, 24, 37, 9, 35, 12, 7, 46, 15, 54, 34, 42, 21, 29, 9, 21, 55, 35, 22, 9, 20, 7, 21, 15, 42, 2, 34, 13, 16, 45, 35, 42, 1, 41, 35, 16, 18, 42, 35, 37, 22, 29, 19, 25, 33, 34, 3, 41, 42, 21, 48, 43, 60, 17, 18, 12, 43, 34, 20, 24, 28, 25, 20, 15, 38, 21, 74, 48, 27, 38, 37, 5, 15, 7, 5, 16, 19, 25, 23, 13, 28, 34, 28, 27, 24, 33, 17, 22, 12, 43, 32, 17, 26, 56, 12, 3, 10, 6, 51, 31, 44, 45, 8, 31, 26, 30, 15, 21, 2, 58, 40, 22, 35, 40, 10, 58, 54, 7, 13, 1, 37, 19, 35, 6, 34, 45, 12, 28, 36, 35, 16, 24, 13, 1, 10, 84, 18, 25, 17, 27, 44, 18, 24, 63, 24, 33, 16, 31, 37, 44, 22, 85, 10, 8, 41, 10, 30, 13, 43, 9, 10, 14, 25, 30, 21, 57, 41, 18, 7, 20, 16, 19, 17, 60, 9, 14, 48, 1, 96, 1, 8, 37, 1, 29, 88, 29, 13, 24, 31, 35, 31, 36, 93, 20, 22, 25, 20, 12, 27, 53, 35, 21, 17, 45, 11, 54, 36, 36, 50, 30, 27, 54, 25, 46, 70, 47, 20, 21, 20, 69, 88, 21, 71, 33, 28, 23, 31, 44, 7, 35, 27, 22, 37, 45, 108, 8, 22, 35, 22, 25, 24, 9, 25, 6, 47, 27, 33, 94, 15, 20, 12, 27, 16, 24, 28, 12, 30, 12, 34, 29, 13, 26, 27, 46, 24, 20, 23, 33, 34, 35, 26, 14, 39, 30, 96, 30, 13, 13, 16, 11, 45, 20, 33, 18, 11, 36, 43, 36, 36, 43, 30, 20, 13, 34, 32, 21, 35, 16, 8, 28, 26, 28, 40, 28, 33, 58, 17, 66, 34, 43, 51, 67, 41, 26, 54, 52, 8, 12, 20, 31, 8, 17, 31, 14, 19, 7, 47, 34, 39, 44, 32, 10, 18, 37, 31, 16, 6, 14, 5, 4, 18, 11, 13, 2, 1, 50, 15, 50, 153, 33, 37, 52, 38, 37, 23, 17, 21, 28, 26, 38, 15, 29, 15, 24, 45, 43, 38, 40, 26, 64, 53, 32, 55, 33, 64, 25, 40, 31, 41, 29, 23, 45, 5, 3, 14, 35, 31, 34, 31, 10, 37, 26, 47, 30, 11, 6, 1, 11, 19, 62, 25, 18, 28, 5, 23, 5, 23, 28, 30, 33, 25, 17, 1, 13, 27, 30, 34, 13, 23, 16, 45, 2, 47, 3, 16, 33, 44, 36, 19, 1, 25, 22, 20, 49, 27, 10, 20, 9, 27, 29, 11, 29, 24, 36, 22, 16, 17, 47, 29, 13, 21, 56, 16, 66, 31, 20, 30, 43, 27, 33, 26, 67, 45, 10, 15, 23, 20, 28, 34, 19, 20, 40, 28, 18, 20, 30, 28, 14, 18, 11, 35, 21, 10, 20, 7, 10, 22, 43, 38, 49, 30, 35, 22, 10, 33, 36, 24, 40, 10, 23, 39, 31, 13, 42, 24, 65, 30, 6, 14, 61, 11, 21, 51, 26, 24, 66, 33, 19, 40, 58, 50, 20, 35, 31, 52, 25, 28, 50, 20, 39, 48, 36, 4, 25, 25, 19, 11, 23, 66, 14, 46, 16, 83, 27, 17, 28, 26, 1, 23, 32, 6, 25, 10, 68, 16, 15, 64, 28, 33, 6, 46, 40, 17, 27, 25, 26, 36, 26, 25, 10, 34, 58, 49, 6, 53, 23, 22, 2, 19, 48, 12, 33, 32, 20, 28, 15, 55, 42, 35, 10, 17, 29, 24, 61, 16, 37, 6, 20, 34, 22, 67, 22, 18, 24, 34, 34, 11, 23, 26, 23, 33, 14, 8, 24, 20, 43, 29, 40, 13, 5, 28, 49, 46, 38, 67, 21, 8, 129, 12, 58, 52, 33, 38, 42, 33, 16, 26, 6, 28, 7, 30, 3, 5, 41, 36, 29, 16, 65, 13, 25, 47, 127, 23, 33, 30, 14, 41, 27, 17, 29, 36, 24, 16, 9, 41, 42, 15, 2, 14, 36, 10, 38, 4, 25, 13, 24, 19, 25, 68, 20, 24, 48, 16, 22, 19, 7, 28, 34, 19, 14, 36, 9, 39, 26, 24, 9, 17, 22, 36, 49, 34, 18, 24, 20, 26, 26, 18, 18, 18, 37, 8, 36, 18, 36, 18, 50, 22, 38, 18, 40, 25, 12, 11, 13, 15, 28, 8, 8, 41, 5, 31, 17, 31, 18, 70, 22, 31, 37, 6, 43, 20, 6, 6, 18, 63, 16, 68, 14, 7, 2, 19, 24, 34, 26, 36, 27, 15, 30, 34, 10, 10, 50, 18, 2, 43, 36, 34, 34, 23, 41, 6, 38, 3, 38, 22, 16, 16, 27, 7, 18, 20, 44, 50, 51, 23, 35, 30, 47, 32, 24, 37, 14, 39, 26, 23, 96, 7, 21, 77, 74, 41, 8, 15, 17, 42, 1, 28, 5, 11, 13, 17, 18, 11, 40, 9, 34, 14, 35, 11, 10, 32, 13, 77, 8, 36, 24, 18, 24, 31, 9, 36, 13, 34, 18, 47, 29, 31, 30, 26, 47, 30, 43, 26, 37, 5, 16, 45, 32, 86, 8, 39, 28, 23, 151, 30, 9, 43, 24, 15, 1, 22, 25, 27, 50, 29, 18, 19, 36, 2, 16, 1, 1, 1, 1, 22, 1, 1, 1, 2, 1, 1, 1, 1, 1, 4, 1, 1, 1, 1, 1, 1, 1, 18, 1, 1, 1, 1, 42, 1, 1, 1, 1, 1, 24, 1, 1, 2, 1, 1, 38, 17, 1, 2, 1, 1, 1, 29, 21, 44, 23, 26, 11, 22, 26, 104, 17, 20, 84, 44, 25, 33, 24, 47, 36, 38, 37, 17, 1, 22, 34, 33, 33, 24, 74, 18, 15, 17, 25, 19, 12, 19, 25, 9, 30, 36, 57, 10, 16, 26, 1, 33, 18, 38, 38, 2, 18, 38, 26, 16, 1, 26, 15, 40, 40, 34, 23, 20, 5, 42, 36, 23, 21, 54, 40, 78, 33, 9, 28, 25, 18, 23, 24, 36, 85, 30, 58, 39, 25, 1, 17, 14, 26, 25, 32, 25, 45, 29, 27, 51, 16, 41, 26, 29, 14, 28, 29, 27, 40, 32, 18, 11, 44, 17, 26, 44, 10, 33, 15, 35, 57, 25, 50, 59, 40, 54, 98, 45, 9, 27, 14, 9, 21, 11, 31, 11, 19, 12, 35, 41, 19, 26, 42, 32, 23, 1, 63, 1, 15, 32, 21, 29, 11, 11, 54, 19, 51, 43, 21, 36, 12, 27, 11, 18, 38, 15, 21, 29, 4, 26, 14, 28, 34, 25, 20, 15, 85, 17, 52, 17, 51, 43, 9, 18, 13, 7, 47, 39, 25, 31, 27, 57, 22, 47, 20, 33, 47, 26, 33, 22, 21, 52, 30, 7, 50, 36, 41, 3, 20, 22, 24, 29, 43, 40, 40, 45, 30, 13, 25, 16, 54, 67, 15, 29, 79, 37, 28, 40, 8, 20, 73, 45, 34, 26, 24, 93, 26, 37, 31, 30, 12, 47, 29, 38, 20, 9, 20, 44, 27, 10, 39, 51, 49, 43, 32, 12, 47, 72, 22, 22, 41, 45, 21, 28, 48, 26, 9, 53, 58, 21, 168, 19, 50, 30, 23, 7, 13, 26, 39, 33, 39, 25, 21, 22, 23, 37, 35, 63, 21, 8, 11, 4, 38, 14, 56, 27, 5, 39, 28, 28, 30, 10, 43, 30, 36, 26, 33, 14, 47, 31, 30, 281, 41, 22, 46, 24, 16, 33, 52, 35, 89, 37, 47, 15, 33, 59, 6, 61, 7, 27, 18, 40, 25, 13, 55, 21, 26, 39, 35, 26, 16, 4, 4, 27, 11, 24, 13, 11, 4, 26, 10, 46, 18, 3, 1, 28, 1, 1, 29, 1, 1, 34, 29, 3, 1, 1, 2, 1, 19, 10, 39, 1, 1, 1, 13, 3, 21, 9, 32, 14, 10, 19, 63, 44, 132, 31, 35, 19, 30, 34, 33, 17, 20, 10, 35, 98, 17, 3, 29, 28, 50, 21, 29, 13, 6, 19, 1, 27, 23, 25, 32, 43, 80, 53, 20, 48, 37, 28, 33, 24, 27, 18, 21, 38, 23, 10, 63, 4, 23, 45, 32, 19, 44, 42, 41, 24, 35, 46, 17, 17, 57, 38, 16, 24, 15, 13, 18, 28, 11, 51, 28, 25, 32, 22, 25, 49, 34, 13, 30, 19, 29, 32, 30, 2, 35, 34, 27, 9, 1, 19, 13, 5, 26, 58, 70, 18, 33, 21, 23, 18, 22, 2, 44, 31, 24, 61, 23, 53, 50, 27, 29, 42, 16, 22, 19, 35, 11, 9, 21, 31, 35, 34, 81, 20, 19, 57, 28, 1, 7, 26, 15, 42, 25, 39, 46, 44, 44, 4, 59, 35, 38, 17, 67, 20, 20, 50, 25, 15, 1, 31, 20, 44, 17, 8, 17, 44, 37, 18, 17, 19, 75, 44, 34, 36, 44, 43, 34, 7, 23, 40, 30, 34, 33, 44, 11, 29, 27, 31, 33, 8, 25, 27, 11, 50, 71, 21, 14, 5, 1, 20, 21, 38, 19, 13, 21, 17, 32, 4, 27, 38, 31, 26, 12, 30, 30, 43, 33, 16, 24, 34, 68, 25, 26, 17, 13, 19, 91, 19, 19, 13, 42, 35, 24, 44, 16, 25, 29, 33, 26, 23, 13, 17, 36, 19, 64, 23, 18, 13, 22, 26, 59, 12, 59, 32, 29, 4, 107, 32, 22, 58, 22, 25, 54, 58, 25, 32, 22, 15, 19, 5, 30, 22, 15, 61, 35, 3, 28, 32, 25, 48, 21, 20, 5, 1, 26, 17, 8, 29, 3, 32, 4, 12, 29, 17, 10, 4, 16, 31, 28, 31, 49, 29, 15, 41, 54, 43, 39, 22, 38, 24, 31, 31, 14, 7, 19, 27, 50, 34, 47, 20, 19, 37, 18, 92, 31, 10, 25, 6, 18, 24, 48, 13, 2, 34, 19, 24, 8, 18, 17, 63, 26, 48, 20, 26, 18, 21, 11, 26, 23, 37, 17, 35, 3, 35, 37, 65, 27, 17, 16, 35, 26, 21, 9, 38, 23, 48, 23, 18, 20, 23, 20, 39, 66, 1, 27, 9, 22, 23, 8, 17, 67, 30, 1, 20, 41, 6, 34, 12, 36, 22, 47, 11, 21, 29, 6, 20, 26, 11, 89, 13, 8, 27, 20, 32, 2, 19, 39, 27, 43, 19, 16, 16, 16, 19, 6, 14, 22, 80, 18, 17, 3, 25, 24, 3, 40, 14, 18, 30, 22, 43, 36, 31, 25, 18, 48, 33, 23, 20, 32, 8, 41, 31, 12, 40, 4, 35, 18, 14, 5, 15, 18, 27, 1, 18, 32, 35, 31, 43, 13, 63, 16, 34, 37, 22, 54, 6, 8, 7, 28, 20, 25, 6, 39, 38, 24, 29, 16, 43, 50, 33, 21, 21, 28, 28, 6, 23, 38, 14, 24, 31, 28, 28, 2, 14, 40, 13, 22, 36, 25, 37, 6, 29, 46, 1, 9, 58, 1, 34, 13, 30, 7, 7, 43, 73, 8, 39, 1, 25, 25, 35, 4, 46, 49, 27, 11, 22, 79, 28, 7, 25, 78, 24, 42, 53, 19, 29, 27, 54, 33, 54, 7, 24, 3, 16, 40, 22, 1, 15, 37, 25, 6, 16, 24, 23, 32, 23, 35, 25, 6, 40, 33, 27, 24, 1, 16, 33, 16, 20, 29, 15, 60, 36, 38, 61, 111, 55, 52, 11, 28, 17, 23, 24, 40, 31, 67, 9, 24, 34, 24, 72, 46, 34, 21, 28, 18, 36, 34, 50, 39, 15, 35, 27, 42, 23, 22, 64, 76, 53, 27, 63, 23, 13, 42, 47, 60, 17, 32, 19, 1, 26, 19, 9, 53, 28, 17, 90, 28, 15, 16, 8, 3, 8, 34, 41, 19, 9, 35, 27, 34, 30, 42, 12, 52, 20, 36, 15, 26, 46, 33, 43, 25, 10, 4, 14, 24, 1, 1, 22, 21, 19, 25, 47, 5, 42, 26, 5, 1, 12, 57, 32, 48, 29, 14, 14, 7, 90, 21, 28, 21, 27, 14, 40, 26, 64, 21, 38, 51, 37, 17, 58, 16, 34, 22, 20, 25, 48, 61, 73, 38, 11, 96, 30, 12, 41, 25, 16, 28, 36, 63, 1, 12, 20, 80, 24, 42, 25, 33, 33, 56, 6, 32, 29, 15, 27, 41, 34, 29, 40, 35, 26, 20, 29, 7, 24, 36, 35, 33, 22, 33, 22, 35, 41, 7, 26, 1, 33, 42, 19, 20, 34, 32, 24, 25, 14, 59, 19, 17, 5, 13, 8, 27, 26, 15, 16, 26, 32, 92, 31, 4, 36, 1, 21, 37, 51, 6, 38, 3, 34, 29, 36, 74, 8, 55, 54, 20, 20, 35, 30, 30, 9, 37, 18, 35, 16, 43, 32, 40, 30, 57, 23, 20, 40, 24, 1, 69, 1, 14, 101, 22, 33, 11, 4, 20, 18, 32, 22, 26, 23, 16, 28, 20, 16, 30, 33, 10, 20, 7, 27, 23, 49, 34, 30, 35, 32, 13, 12, 41, 15, 11, 40, 18, 30, 13, 19, 17, 36, 40, 11, 25, 1, 19, 50, 35, 43, 47, 23, 26, 20, 16, 46, 47, 29, 21, 25, 15, 14, 63, 29, 28, 5, 4, 36, 29, 35, 4, 21, 44, 33, 14, 16, 23, 19, 9, 33, 35, 7, 73, 5, 9, 15, 71, 11, 4, 23, 27, 52, 23, 25, 54, 14, 16, 18, 28, 15, 40, 14, 10, 18, 23, 21, 25, 64, 19, 61, 38, 7, 16, 29, 20, 29, 28, 38, 43, 9, 15, 73, 49, 35, 1, 14, 19, 78, 29, 38, 12, 24, 10, 32, 5, 16, 25, 26, 47, 15, 16, 24, 29, 261, 28, 15, 59, 20, 4, 26, 38, 11, 7, 19, 58, 21, 6, 22, 19, 1, 18, 84, 11, 59, 2, 38, 52, 33, 27, 8, 16, 8, 109, 34, 29, 28, 19, 17, 47, 3, 7, 17, 22, 50, 13, 45, 14, 44, 35, 5, 30, 124, 30, 50, 37, 4, 18, 41, 18, 52, 15, 13, 26, 38, 64, 34, 19, 26, 49, 9, 15, 27, 43, 23, 16, 28, 15, 46, 2, 6, 31, 2, 30, 28, 21, 36, 6, 16, 31, 12, 7, 26, 13, 7, 26, 23, 6, 12, 11, 20, 20, 12, 10, 16, 15, 18, 50, 22, 21, 37, 20, 32, 23, 54, 21, 19, 51, 26, 50, 25, 32, 20, 24, 19, 38, 24, 29, 28, 8, 21, 18, 47, 11, 32, 40, 27, 52, 43, 18, 31, 26, 10, 45, 23, 13, 30, 11, 29, 16, 23, 10, 16, 30, 22, 14, 24, 14, 29, 27, 54, 41, 20, 44, 20, 3, 24, 45, 12, 24, 8, 32, 38, 15, 58, 6, 13, 36, 84, 19, 20, 16, 27, 13, 1, 2, 1, 8, 27, 18, 29, 17, 55, 32, 34, 22, 39, 31, 39, 75, 23, 14, 28, 17, 58, 1, 23, 25, 23, 20, 32, 32, 1, 19, 48, 38, 10, 28, 32, 17, 15, 29, 17, 10, 49, 40, 28, 20, 15, 31, 15, 13, 4, 70, 37, 25, 24, 12, 25, 46, 22, 16, 6, 28, 20, 30, 28, 28, 28, 36, 44, 21, 35, 44, 22, 49, 66, 2, 23, 23, 29, 50, 11, 33, 46, 39, 43, 70, 20, 14, 60, 1, 33, 4, 14, 17, 22, 4, 26, 14, 33, 46, 38, 6, 3, 67, 33, 14, 43, 4, 25, 20, 11, 11, 26, 20, 25, 40, 21, 15, 11, 46, 34, 12, 16, 41, 23, 44, 1, 30, 1, 2, 1, 1, 71, 10, 108, 5, 33, 30, 26, 23, 17, 27, 4, 17, 33, 35, 33, 20, 29, 32, 25, 3, 37, 20, 44, 44, 32, 37, 38, 29, 31, 39, 34, 28, 28, 19, 12, 14, 26, 10, 35, 11, 15, 41, 51, 31, 37, 33, 42, 8, 25, 35, 26, 15, 30, 22, 32, 20, 44, 25, 27, 20, 42, 19, 27, 29, 46, 47, 32, 55, 87, 11, 41, 25, 31, 12, 41, 33, 27, 17, 40, 21, 18, 37, 32, 18, 41, 35, 6, 45, 40, 26, 22, 41, 29, 24, 17, 30, 36, 22, 44, 57, 11, 41, 11, 43, 32, 38, 30, 36, 19, 29, 29, 26, 30, 27, 13, 24, 22, 33, 49, 36, 12, 8, 14, 26, 32, 26, 38, 31, 38, 60, 35, 22, 3, 7, 16, 25, 22, 16, 26, 10, 17, 49, 23, 42, 14, 36, 52, 36, 4, 27, 46, 23, 28, 21, 24, 16, 24, 17, 40, 44, 67, 39, 48, 30, 15, 18, 18, 8, 9, 36, 26, 16, 30, 17, 26, 3, 98, 35, 73, 59, 28, 28, 32, 26, 31, 33, 15, 1, 33, 32, 29, 47, 22, 31, 19, 18, 27, 41, 35, 16, 60, 10, 18, 5, 18, 24, 37, 36, 39, 17, 23, 27, 39, 23, 70, 45, 17, 37, 30, 24, 24, 40, 51, 28, 13, 32, 49, 25, 38, 49, 48, 59, 26, 26, 35, 35, 33, 19, 16, 4, 12, 21, 22, 28, 28, 55, 23, 22, 45, 46, 94, 35, 36, 33, 39, 16, 11, 34, 32, 20, 37, 31, 9, 34, 30, 40, 25, 12, 25, 15, 32, 32, 23, 19, 32, 21, 4, 19, 41, 56, 43, 58, 44, 49, 25, 18, 35, 43, 34, 6, 9, 3, 69, 28, 10, 16, 16, 23, 28, 26, 14, 17, 18, 17, 43, 68, 27, 30, 22, 29, 22, 12, 38, 32, 18, 23, 36, 22, 1, 14, 61, 39, 18, 37, 39, 27, 50, 21, 45, 16, 28, 20, 20, 16, 11, 13, 23, 6, 28, 23, 18, 33, 21, 20, 21, 30, 27, 30, 37, 9, 33, 34, 37, 23, 24, 32, 42, 7, 56, 23, 53, 19, 14, 8, 58, 7, 32, 28, 21, 26, 43, 15, 39, 22, 44, 47, 49, 12, 22, 42, 24, 22, 2, 46, 1, 1, 1, 1, 1, 1, 2, 1, 1, 2, 1, 28, 22, 38, 102, 6, 15, 24, 29, 3, 40, 3, 3, 14, 29, 14, 41, 22, 36, 2, 37, 27, 8, 9, 7, 33, 42, 28, 38, 17, 34, 19, 34, 14, 22, 33, 42, 20, 15, 16, 21, 16, 65, 27, 26, 51, 35, 34, 12, 15, 32, 47, 17, 48, 34, 18, 27, 30, 43, 9, 88, 49, 33, 9, 15, 30, 24, 54, 47, 26, 11, 28, 23, 28, 46, 40, 26, 15, 47, 11, 17, 39, 34, 20, 23, 43, 25, 30, 19, 47, 54, 19, 7, 21, 30, 23, 1, 34, 26, 25, 31, 66, 11, 30, 69, 43, 27, 12, 31, 25, 17, 20, 21, 4, 40, 9, 10, 6, 11, 16, 80, 21, 57, 25, 38, 35, 23, 41, 35, 24, 38, 37, 31, 27, 44, 11, 24, 34, 16, 16, 44, 22, 9, 15, 25, 17, 24, 21, 21, 29, 16, 18, 38, 26, 24, 8, 34, 24, 44, 55, 10, 10, 15, 31, 16, 27, 43, 28, 55, 11, 28, 58, 32, 54, 22, 30, 32, 31, 20, 27, 21, 12, 6, 11, 23, 29, 12, 1, 5, 25, 22, 31, 37, 52, 19, 24, 17, 27, 20, 21, 20, 40, 20, 30, 12, 23, 61, 6, 25, 70, 26, 31, 22, 19, 31, 18, 26, 47, 6, 7, 24, 3, 29, 59, 14, 61, 28, 24, 23, 22, 4, 27, 38, 46, 24, 36, 48, 15, 24, 24, 9, 30, 27, 49, 22, 11, 59, 16, 2, 1, 19, 50, 22, 49, 10, 5, 21, 18, 22, 24, 11, 21, 23, 26, 8, 17, 36, 10, 31, 26, 47, 18, 17, 7, 60, 50, 30, 18, 23, 25, 19, 22, 28, 17, 29, 26, 13, 92, 11, 25, 16, 27, 38, 18, 27, 14, 19, 15, 76, 33, 23, 11, 23, 24, 18, 16, 4, 37, 20, 27, 36, 36, 21, 24, 29, 29, 25, 4, 15, 11, 27, 10, 5, 34, 28, 49, 29, 33, 29, 48, 25, 15, 37, 53, 48, 60, 37, 70, 36, 62, 24, 25, 44, 7, 13, 92, 14, 11, 15, 13, 26, 43, 21, 22, 9, 56, 21, 11, 22, 3, 9, 6, 9, 22, 22, 8, 1, 27, 25, 22, 20, 23, 9, 10, 20, 33, 41, 20, 34, 28, 6, 45, 9, 20, 42, 7, 29, 27, 62, 32, 63, 13, 24, 49, 20, 14, 21, 24, 15, 19, 27, 33, 40, 23, 28, 28, 37, 16, 47, 18, 21, 5, 15, 26, 20, 30, 54, 12, 40, 18, 33, 42, 22, 44, 12, 17, 28, 18, 32, 25, 18, 25, 40, 12, 40, 19, 46, 35, 9, 31, 27, 19, 1, 24, 20, 5, 10, 21, 49, 13, 35, 39, 66, 45, 21, 22, 35, 24, 37, 38, 27, 20, 24, 31, 10, 8, 42, 121, 7, 43, 21, 47, 9, 27, 6, 129, 50, 25, 8, 38, 38, 9, 29, 9, 28, 31, 2, 23, 26, 25, 25, 9, 45, 28, 8, 40, 54, 21, 19, 29, 36, 21, 34, 39, 29, 3, 34, 52, 26, 36, 37, 41, 50, 22, 1, 25, 31, 36, 38, 23, 74, 31, 2, 24, 10, 26, 11, 4, 9, 15, 10, 8, 10, 11, 56, 26, 27, 41, 18, 30, 14, 40, 14, 7, 13, 13, 28, 32, 24, 8, 16, 17, 12, 12, 11, 65, 25, 21, 44, 17, 1, 37, 27, 1, 22, 26, 28, 20, 35, 30, 37, 22, 25, 24, 30, 33, 1, 37, 30, 33, 17, 22, 35, 24, 33, 22, 29, 95, 17, 30, 31, 18, 22, 30, 27, 39, 24, 35, 8, 26, 19, 27, 28, 24, 24, 18, 30, 31, 47, 39, 27, 7, 21, 22, 52, 22, 14, 36, 22, 25, 9, 15, 14, 11, 23, 29, 21, 39, 49, 27, 24, 39, 175, 86, 27, 37, 33, 33, 33, 28, 28, 27, 20, 21, 57, 24, 28, 32, 18, 31, 11, 55, 29, 7, 17, 26, 78, 31, 4, 15, 12, 4, 18, 27, 26, 5, 4, 44, 59, 27, 15, 37, 53, 1, 6, 25, 25, 26, 11, 31, 57, 37, 67, 3, 19, 16, 15, 27, 31, 27, 30, 31, 20, 15, 43, 31, 12, 15, 7, 44, 37, 9, 10, 11, 16, 6, 19, 30, 21, 50, 27, 26, 20, 11, 40, 17, 54, 33, 24, 10, 27, 29, 39, 39, 13, 30, 13, 23, 23, 34, 26, 39, 22, 37, 2, 14, 19, 29, 27, 1, 38, 36, 31, 19, 33, 1, 18, 45, 54, 27, 23, 28, 48, 30, 21, 1, 1, 1, 2, 1, 1, 64, 5, 1, 28, 23, 9, 17, 1, 27, 28, 47, 32, 36, 71, 73, 45, 32, 30, 45, 24, 36, 21, 19, 26, 32, 5, 104, 32, 27, 17, 16, 20, 59, 35, 22, 18, 39, 26, 6, 18, 34, 20, 18, 39, 19, 3, 46, 77, 23, 20, 29, 30, 22, 27, 5, 19, 63, 23, 24, 38, 1, 54, 23, 40, 49, 18, 10, 43, 6, 147, 30, 15, 19, 28, 3, 14, 28, 11, 40, 24, 24, 36, 23, 19, 72, 27, 27, 18, 56, 21, 38, 35, 31, 28, 1, 44, 55, 36, 3, 56, 20, 4, 1, 1, 2, 29, 27, 1, 1, 1, 1, 9, 1, 1, 31, 6, 1, 1, 25, 14, 1, 3, 1, 1, 93, 1, 20, 2, 1, 1, 11, 1, 2, 2, 22, 1, 1, 4, 2, 22, 10, 65, 13, 3, 5, 4, 50, 56, 50, 7, 8, 13, 29, 30, 40, 8, 32, 29, 52, 12, 4, 28, 76, 42, 54, 17, 21, 45, 25, 34, 5, 6, 38, 31, 26, 15, 11, 31, 58, 64, 48, 43, 52, 1, 36, 34, 39, 37, 21, 28, 43, 23, 4, 1, 49, 2, 19, 5, 15, 26, 7, 59, 19, 43, 53, 15, 32, 36, 18, 26, 21, 21, 98, 37, 29, 30, 20, 24, 61, 40, 52, 26, 97, 20, 56, 29, 41, 37, 52, 18, 34, 42, 31, 27, 28, 39, 18, 14, 195, 19, 49, 23, 26, 46, 18, 45, 29, 9, 27, 11, 10, 9, 24, 71, 28, 13, 8, 31, 55, 27, 10, 20, 14, 25, 23, 21, 25, 15, 1, 40, 30, 21, 40, 14, 24, 45, 41, 14, 10, 33, 29, 39, 26, 24, 12, 28, 36, 25, 27, 48, 14, 25, 47, 1, 18, 36, 43, 28, 24, 18, 26, 21, 36, 39, 69, 22, 4, 21, 22, 61, 12, 51, 5, 5, 39, 30, 28, 21, 27, 28, 28, 51, 45, 20, 22, 28, 23, 26, 15, 48, 25, 21, 8, 12, 68, 2, 54, 48, 16, 17, 40, 16, 11, 8, 23, 32, 46, 9, 21, 25, 12, 9, 7, 10, 8, 17, 17, 20, 16, 15, 33, 39, 15, 38, 26, 5, 22, 30, 22, 21, 102, 20, 13, 33, 25, 34, 20, 48, 20, 1, 27, 14, 6, 1, 3, 21, 15, 9, 29, 27, 25, 14, 61, 60, 53, 46, 25, 28, 29, 14, 17, 101, 18, 11, 53, 36, 24, 33, 22, 42, 7, 6, 8, 27, 40, 1, 1, 56, 8, 33, 21, 10, 10, 46, 7, 30, 48, 32, 22, 38, 14, 20, 45, 40, 33, 19, 7, 21, 51, 32, 52, 20, 17, 15, 24, 26, 6, 28, 36, 8, 28, 40, 17, 47, 27, 11, 29, 9, 90, 39, 41, 28, 27, 24, 12, 33, 15, 37, 19, 30, 20, 64, 9, 25, 1, 48, 52, 50, 22, 68, 30, 39, 20, 26, 27, 26, 17, 13, 57, 20, 21, 19, 9, 101, 15, 41, 30, 11, 30, 44, 20, 38, 34, 3, 27, 2, 28, 32, 29, 7, 34, 90, 20, 23, 33, 27, 2, 23, 40, 23, 223, 31, 42, 56, 25, 5, 32, 23, 13, 38, 14, 25, 4, 13, 59, 15, 32, 28, 18, 36, 18, 32, 36, 22, 21, 90, 46, 22, 30, 11, 3, 27, 30, 23, 40, 20, 32, 20, 21, 24, 21, 34, 17, 9, 13, 26, 21, 22, 64, 16, 32, 21, 33, 33, 48, 20, 31, 90, 41, 29, 121, 38, 14, 18, 1, 13, 12, 55, 19, 11, 19, 23, 20, 41, 18, 32, 35, 35, 21, 29, 9, 18, 56, 34, 6, 25, 12, 13, 1, 37, 28, 47, 43, 18, 33, 40, 13, 18, 44, 23, 22, 41, 51, 61, 32, 21, 17, 47, 72, 79, 23, 7, 17, 28, 23, 24, 36, 21, 11, 32, 2, 34, 36, 9, 30, 11, 14, 8, 21, 1, 47, 74, 17, 23, 23, 19, 9, 27, 20, 29, 30, 47, 23, 55, 18, 35, 1, 52, 34, 37, 83, 8, 55, 53, 70, 28, 37, 3, 18, 35, 10, 22, 84, 54, 8, 28, 31, 33, 22, 82, 28, 23, 45, 26, 15, 22, 26, 23, 91, 34, 72, 35, 21, 42, 3, 47, 8, 8, 16, 11, 58, 21, 21, 13, 42, 63, 49, 42, 24, 43, 33, 37, 47, 23, 30, 30, 33, 25, 41, 40, 13, 26, 27, 38, 22, 24, 29, 25, 15, 34, 12, 108, 31, 43, 9, 36, 9, 55, 34, 32, 2, 27, 26, 26, 29, 31, 4, 1, 33, 21, 51, 30, 12, 30, 31, 16, 2, 23, 30, 19, 29, 50, 20, 11, 41, 20, 23, 18, 69, 10, 22, 19, 2, 111, 1, 27, 52, 27, 16, 30, 4, 23, 8, 10, 33, 25, 22, 34, 24, 7, 41, 27, 9, 40, 96, 22, 13, 26, 23, 7, 60, 13, 161, 20, 53, 36, 30, 11, 11, 9, 30, 37, 29, 31, 34, 48, 25, 13, 52, 22, 7, 24, 27, 14, 33, 15, 12, 39, 17, 9, 11, 13, 1, 11, 30, 5, 13, 30, 19, 18, 9, 40, 23, 16, 32, 4, 42, 37, 31, 34, 40, 11, 34, 10, 20, 21, 51, 34, 34, 38, 52, 39, 27, 30, 41, 16, 6, 36, 24, 66, 14, 19, 26, 20, 30, 20, 32, 44, 35, 43, 21, 46, 31, 20, 7, 31, 26, 37, 52, 41, 25, 34, 18, 21, 24, 28, 30, 16, 21, 34, 30, 19, 19, 22, 12, 78, 15, 26, 24, 34, 51, 7, 25, 13, 43, 30, 31, 253, 3, 84, 9, 1, 16, 14, 27, 28, 34, 17, 55, 9, 60, 43, 85, 53, 25, 22, 9, 42, 15, 17, 12, 364, 2, 22, 40, 42, 28, 34, 46, 37, 20, 25, 16, 17, 20, 53, 35, 17, 25, 5, 40, 34, 32, 56, 9, 33, 52, 20, 15, 35, 20, 31, 34, 21, 3, 11, 16, 25, 13, 14, 13, 12, 6, 25, 3, 48, 27, 23, 15, 10, 20, 11, 13, 82, 40, 24, 61, 45, 24, 13, 27, 35, 28, 30, 29, 17, 16, 19, 97, 29, 27, 32, 41, 36, 17, 19, 9, 4, 29, 19, 10, 38, 7, 26, 26, 1, 25, 12, 6, 3, 24, 34, 33, 38, 21, 42, 21, 23, 16, 37, 30, 28, 26, 23, 33, 5, 29, 1, 51, 21, 26, 27, 30, 26, 36, 14, 24, 9, 11, 19, 28, 28, 1, 1, 36, 16, 43, 30, 15, 27, 37, 31, 7, 16, 49, 17, 12, 11, 8, 39, 19, 14, 42, 56, 45, 36, 68, 17, 19, 15, 13, 21, 33, 65, 104, 37, 4, 9, 71, 55, 20, 20, 1, 34, 15, 17, 25, 20, 19, 20, 2, 25, 93, 1, 23, 22, 23, 36, 34, 56, 25, 35, 32, 56, 8, 13, 40, 45, 34, 10, 41, 37, 65, 6, 13, 24, 12, 29, 50, 17, 2, 34, 80, 103, 32, 29, 20, 12, 17, 26, 7, 15, 46, 19, 57, 34, 49, 50, 2, 40, 70, 30, 2, 23, 12, 17, 40, 21, 28, 40, 18, 47, 34, 59, 24, 34, 30, 26, 44, 28, 34, 56, 54, 47, 16, 15, 12, 40, 8, 25, 17, 22, 28, 3, 48, 84, 4, 39, 33, 5, 35, 39, 32, 25, 30, 26, 33, 27, 23, 48, 29, 33, 7, 23, 30, 21, 1, 35, 63, 122, 21, 18, 42, 5, 1, 14, 7, 9, 49, 35, 26, 29, 24, 9, 25, 47, 27, 14, 54, 58, 27, 10, 26, 17, 71, 19, 32, 30, 27, 23, 14, 42, 53, 34, 15, 37, 17, 20, 37, 55, 7, 42, 19, 31, 19, 70, 40, 31, 29, 16, 18, 23, 57, 8, 11, 35, 14, 10, 35, 16, 14, 56, 15, 23, 49, 36, 12, 1, 40, 22, 41, 20, 13, 38, 14, 47, 25, 62, 31, 35, 47, 43, 25, 17, 20, 19, 39, 12, 20, 28, 30, 26, 43, 55, 25, 1, 16, 36, 28, 23, 21, 22, 30, 11, 27, 25, 35, 8, 12, 40, 32, 92, 43, 39, 2, 29, 58, 9, 55, 27, 5, 46, 28, 34, 24, 8, 23, 49, 50, 23, 40, 21, 25, 15, 54, 38, 32, 21, 34, 20, 22, 19, 37, 14, 10, 28, 34, 60, 37, 11, 9, 39, 19, 37, 20, 16, 31, 38, 23, 18, 52, 31, 16, 10, 29, 23, 15, 34, 26, 25, 15, 21, 29, 51, 47, 25, 75, 23, 31, 46, 42, 34, 22, 1, 29, 51, 18, 26, 41, 29, 22, 5, 8, 11, 28, 17, 39, 4, 46, 19, 28, 10, 8, 8, 11, 16, 15, 81, 13, 5, 9, 2, 29, 29, 31, 14, 7, 28, 2, 34, 189, 28, 31, 7, 64, 18, 34, 47, 10, 15, 1, 30, 8, 6, 23, 6, 8, 16, 11, 23, 26, 25, 48, 37, 40, 33, 24, 41, 32, 27, 11, 21, 19, 12, 17, 21, 11, 87, 45, 13, 31, 17, 23, 27, 35, 19, 8, 43, 12, 20, 25, 42, 17, 61, 31, 16, 7, 19, 32, 25, 24, 20, 25, 24, 22, 15, 33, 29, 36, 61, 19, 27, 50, 25, 29, 37, 4, 21, 35, 22, 22, 39, 20, 17, 25, 32, 44, 51, 10, 23, 32, 47, 8, 34, 25, 24, 13, 48, 40, 18, 35, 101, 37, 34, 22, 49, 50, 103, 4, 23, 13, 33, 5, 10, 88, 41, 23, 48, 29, 54, 23, 95, 30, 43, 20, 27, 22, 34, 37, 11, 34, 13, 89, 14, 1, 19, 11, 28, 26, 19, 1, 38, 34, 28, 27, 21, 23, 44, 24, 24, 40, 33, 33, 34, 8, 146, 4, 36, 47, 28, 39, 28, 26, 21, 34, 24, 89, 59, 16, 20, 18, 70, 24, 12, 7, 20, 29, 14, 42, 52, 6, 22, 27, 8, 40, 26, 1, 66, 14, 26, 30, 36, 30, 23, 30, 36, 10, 33, 24, 35, 10, 25, 3, 28, 34, 26, 15, 22, 19, 78, 24, 74, 17, 23, 22, 18, 15, 21, 39, 31, 22, 19, 49, 53, 24, 46, 68, 28, 19, 18, 58, 7, 2, 22, 13, 35, 29, 40, 4, 14, 4, 110, 19, 35, 11, 51, 33, 1, 15, 34, 30, 26, 47, 22, 17, 38, 51, 31, 20, 24, 34, 20, 108, 19, 30, 30, 46, 31, 23, 15, 24, 59, 13, 45, 12, 13, 17, 41, 43, 40, 17, 46, 44, 51, 32, 45, 11, 53, 42, 51, 35, 16, 44, 23, 78, 59, 49, 14, 34, 44, 37, 32, 15, 65, 38, 56, 76, 23, 31, 38, 56, 33, 20, 5, 24, 1, 6, 20, 13, 18, 46, 55, 27, 19, 48, 15, 10, 19, 56, 14, 3, 24, 31, 34, 10, 42, 25, 20, 25, 18, 10, 69, 17, 20, 49, 27, 5, 38, 54, 26, 15, 31, 71, 20, 52, 21, 29, 29, 41, 36, 43, 10, 6, 51, 105, 31, 23, 36, 28, 50, 30, 26, 32, 25, 36, 29, 42, 23, 43, 12, 26, 28, 20, 16, 14, 41, 17, 33, 42, 22, 26, 14, 33, 22, 30, 20, 49, 32, 31, 88, 83, 43, 46, 37, 1, 132, 49, 5, 11, 24, 25, 43, 37, 93, 28, 23, 79, 30, 20, 63, 38, 27, 25, 19, 8, 18, 83, 49, 23, 10, 34, 16, 39, 20, 6, 34, 26, 33, 22, 21, 38, 4, 14, 39, 34, 10, 33, 35, 10, 46, 43, 13, 26, 24, 18, 18, 11, 9, 29, 19, 19, 32, 23, 38, 37, 29, 29, 16, 18, 21, 1, 7, 4, 22, 32, 20, 33, 63, 57, 7, 29, 33, 45, 23, 21, 35, 32, 44, 39, 9, 40, 44, 14, 22, 30, 24, 24, 27, 9, 45, 3, 10, 22, 30, 92, 24, 39, 21, 13, 31, 45, 53, 14, 8, 41, 40, 62, 79, 43, 4, 18, 14, 56, 28, 26, 74, 27, 26, 7, 28, 32, 101, 28, 22, 16, 4, 46, 25, 37, 11, 4, 27, 1, 20, 66, 6, 10, 5, 19, 35, 32, 26, 24, 20, 26, 43, 27, 4, 25, 40, 56, 34, 8, 35, 29, 75, 19, 33, 54, 18, 19, 42, 19, 82, 6, 16, 27, 29, 44, 3, 21, 10, 37, 41, 85, 68, 16, 8, 33, 15, 31, 5, 14, 86, 34, 14, 32, 38, 55, 21, 63, 7, 46, 30, 8, 45, 27, 27, 50, 18, 14, 24, 34, 2, 13, 31, 11, 42, 26, 25, 81, 26, 53, 9, 25, 21, 14, 37, 29, 27, 73, 15, 20, 17, 28, 35, 45, 9, 8, 7, 51, 32, 35, 16, 23, 23, 36, 33, 7, 24, 15, 23, 9, 24, 21, 13, 17, 14, 11, 21, 17, 47, 28, 25, 33, 48, 24, 35, 30, 18, 26, 25, 31, 11, 28, 3, 18, 1, 11, 11, 29, 42, 51, 42, 28, 49, 41, 23, 32, 27, 59, 25, 34, 54, 37, 4, 8, 1, 14, 32, 14, 23, 39, 53, 21, 43, 26, 33, 5, 13, 32, 18, 31, 24, 32, 8, 31, 4, 7, 28, 21, 22, 27, 36, 63, 11, 19, 23, 55, 20, 32, 38, 39, 32, 14, 34, 27, 9, 14, 3, 11, 35, 55, 17, 20, 25, 35, 10, 13, 20, 65, 5, 32, 2, 24, 24, 13, 16, 19, 20, 38, 5, 3, 20, 58, 8, 43, 28, 33, 22, 14, 36, 31, 49, 13, 9, 46, 22, 8, 36, 33, 1, 18, 23, 22, 38, 64, 21, 7, 67, 27, 29, 25, 8, 22, 12, 16, 25, 28, 37, 78, 35, 32, 40, 39, 29, 41, 21, 30, 30, 11, 12, 37, 2, 23, 10, 16, 16, 3, 20, 4, 2, 26, 26, 37, 42, 7, 33, 20, 19, 30, 26, 44, 27, 1, 13, 29, 36, 36, 30, 36, 25, 17, 1, 22, 17, 21, 21, 20, 35, 4, 10, 8, 15, 23, 17, 25, 24, 22, 24, 8, 53, 19, 18, 31, 37, 75, 29, 10, 9, 35, 25, 24, 29, 40, 32, 21, 45, 27, 96, 26, 23, 34, 32, 15, 29, 55, 16, 45, 34, 38, 21, 74, 32, 64, 60, 31, 22, 25, 17, 31, 24, 22, 29, 22, 50, 47, 19, 13, 52, 40, 38, 92, 36, 49, 29, 41, 16, 21, 31, 22, 9, 46, 23, 17, 15, 64, 12, 18, 30, 8, 29, 42, 49, 7, 11, 57, 45, 15, 1, 39, 28, 32, 21, 14, 42, 22, 24, 25, 20, 28, 13, 29, 24, 12, 11, 19, 14, 34, 16, 9, 28, 29, 43, 48, 19, 20, 31, 5, 27, 4, 97, 32, 9, 18, 5, 14, 15, 9, 43, 36, 38, 20, 21, 21, 15, 29, 13, 19, 11, 80, 12, 23, 17, 21, 18, 22, 49, 42, 43, 38, 11, 26, 27, 19, 44, 34, 34, 30, 28, 100, 22, 28, 13, 3, 38, 34, 22, 12, 32, 19, 10, 34, 34, 40, 32, 30, 1, 49, 18, 16, 33, 53, 21, 39, 16, 86, 76, 18, 3, 1, 38, 55, 50, 28, 17, 62, 36, 70, 28, 10, 29, 36, 16, 33, 42, 37, 24, 1, 19, 9, 1, 26, 63, 15, 7, 8, 10, 10, 18, 14, 29, 9, 34, 14, 21, 7, 30, 43, 37, 33, 3, 14, 27, 24, 26, 21, 43, 9, 14, 29, 40, 12, 32, 16, 46, 16, 2, 13, 3, 37, 7, 81, 21, 38, 23, 33, 26, 22, 28, 26, 52, 16, 22, 47, 26, 27, 15, 23, 23, 29, 37, 22, 93, 24, 30, 17, 17, 19, 34, 87, 38, 31, 38, 38, 21, 14, 26, 83, 5, 21, 51, 17, 24, 7, 20, 11, 11, 9, 20, 13, 1, 24, 30, 27, 31, 19, 25, 21, 60, 38, 14, 18, 37, 35, 19, 36, 3, 6, 17, 39, 31, 10, 1, 8, 6, 10, 21, 1, 13, 40, 21, 26, 25, 22, 36, 12, 20, 13, 10, 1, 19, 13, 32, 12, 43, 30, 32, 26, 26, 1, 21, 26, 4, 16, 17, 50, 24, 35, 18, 17, 53, 36, 13, 32, 48, 1, 1, 27, 4, 17, 20, 16, 40, 21, 55, 24, 24, 2, 17, 12, 15, 27, 15, 3, 25, 25, 27, 58, 18, 18, 36, 42, 7, 32, 23, 24, 34, 37, 18, 21, 20, 10, 25, 22, 23, 18, 1, 14, 27, 12, 22, 5, 48, 40, 22, 44, 33, 36, 27, 33, 25, 37, 60, 28, 6, 49, 11, 32, 38, 32, 27, 35, 24, 36, 39, 29, 34, 19, 17, 60, 13, 70, 30, 48, 3, 12, 24, 53, 34, 78, 11, 14, 68, 34, 34, 17, 9, 37, 32, 13, 32, 33, 20, 31, 34, 30, 32, 15, 32, 79, 20, 30, 14, 36, 18, 55, 108, 36, 24, 19, 36, 34, 8, 7, 47, 32, 22, 39, 18, 19, 48, 4, 16, 47, 13, 10, 4, 49, 47, 25, 11, 1, 27, 17, 33, 28, 75, 8, 1, 6, 23, 15, 18, 10, 57, 22, 1, 1, 32, 3, 34, 33, 5, 10, 50, 20, 8, 15, 13, 27, 143, 28, 16, 23, 3, 2, 3, 23, 5, 39, 4, 27, 27, 30, 41, 42, 36, 30, 13, 24, 13, 36, 13, 49, 25, 39, 11, 60, 98, 16, 28, 50, 43, 22, 25, 18, 45, 17, 56, 38, 22, 27, 22, 20, 30, 56, 1, 12, 43, 55, 17, 14, 1, 20, 26, 28, 65, 37, 26, 2, 46, 61, 23, 20, 22, 37, 107, 9, 42, 16, 51, 11, 19, 4, 8, 17, 36, 32, 1, 12, 19, 39, 16, 18, 4, 12, 16, 13, 74, 10, 46, 9, 23, 23, 9, 25, 35, 11, 20, 5, 23, 26, 10, 39, 5, 18, 49, 36, 21, 7, 1, 5, 1, 4, 28, 35, 16, 30, 62, 26, 46, 25, 52, 46, 22, 33, 50, 37, 1, 1, 15, 9, 12, 39, 31, 51, 99, 100, 60, 57, 25, 7, 10, 9, 39, 55, 25, 18, 40, 25, 7, 24, 16, 8, 10, 20, 1, 16, 11, 60, 21, 40, 34, 1, 39, 50, 19, 37, 32, 1, 25, 49, 14, 28, 20, 12, 68, 20, 36, 38, 12, 32, 16, 8, 94, 32, 60, 25, 24, 20, 26, 29, 60, 24, 13, 16, 33, 13, 16, 23, 33, 9, 11, 59, 33, 3, 18, 9, 25, 39, 131, 6, 59, 97, 1, 21, 2, 3, 40, 31, 7, 1, 11, 12, 50, 44, 35, 1, 11, 1, 46, 30, 19, 31, 27, 9, 12, 20, 14, 27, 48, 2, 26, 31, 26, 43, 47, 13, 60, 37, 26, 12, 25, 21, 105, 22, 25, 37, 13, 25, 34, 118, 37, 16, 15, 47, 39, 34, 43, 44, 69, 23, 28, 39, 27, 24, 34, 21, 21, 47, 40, 49, 17, 34, 22, 42, 1, 34, 26, 12, 23, 16, 12, 38, 26, 19, 19, 30, 33, 32, 1, 11, 18, 50, 50, 22, 27, 26, 8, 36, 20, 41, 21, 60, 24, 27, 29, 23, 164, 20, 38, 110, 39, 54, 9, 3, 5, 39, 24, 16, 1, 28, 41, 55, 30, 33, 18, 44, 1, 45, 2, 104, 27, 37, 23, 26, 21, 28, 44, 42, 23, 26, 41, 11, 11, 13, 7, 19, 27, 12, 30, 41, 59, 93, 45, 29, 6, 64, 46, 23, 22, 42, 29, 17, 21, 25, 39, 34, 36, 16, 31, 7, 46, 40, 14, 31, 29, 42, 36, 43, 28, 34, 25, 18, 22, 9, 14, 34, 76, 33, 32, 18, 92, 30, 29, 26, 46, 11, 8, 26, 18, 10, 26, 18, 12, 15, 10, 13, 51, 47, 5, 61, 31, 58, 1, 18, 37, 11, 29, 36, 24, 11, 18, 28, 19, 6, 18, 16, 33, 66, 17, 72, 28, 24, 21, 27, 89, 22, 17, 11, 22, 18, 8, 15, 21, 22, 26, 24, 7, 9, 9, 31, 13, 32, 35, 20, 33, 22, 3, 32, 5, 22, 48, 40, 10, 29, 38, 38, 26, 33, 8, 22, 11, 24, 24, 20, 22, 19, 18, 31, 18, 10, 151, 35, 8, 19, 20, 16, 59, 57, 40, 59, 28, 37, 48, 25, 29, 26, 37, 22, 17, 17, 23, 11, 44, 44, 18, 2, 26, 32, 23, 26, 13, 23, 37, 47, 27, 19, 30, 3, 18, 25, 39, 40, 4, 59, 56, 36, 47, 19, 36, 57, 40, 32, 28, 43, 48, 18, 33, 43, 63, 40, 54, 64, 1, 39, 10, 24, 19, 28, 6, 20, 1, 14, 17, 41, 74, 39, 34, 31, 13, 40, 7, 11, 11, 14, 16, 21, 6, 40, 9, 1, 1, 22, 24, 38, 35, 31, 17, 59, 32, 28, 22, 31, 27, 23, 33, 19, 41, 38, 71, 19, 29, 12, 28, 14, 41, 36, 19, 2, 19, 32, 22, 1, 3, 6, 26, 65, 24, 14, 15, 24, 15, 17, 26, 17, 31, 10, 29, 30, 29, 11, 28, 13, 40, 32, 12, 58, 38, 50, 9, 63, 47, 36, 22, 3, 52, 13, 20, 4, 41, 31, 37, 12, 37, 23, 1, 40, 1, 19, 120, 13, 9, 8, 52, 20, 29, 34, 24, 36, 30, 49, 29, 23, 33, 16, 6, 5, 24, 29, 13, 26, 15, 14, 17, 24, 30, 45, 44, 29, 17, 45, 40, 12, 1, 50, 42, 12, 28, 95, 27, 35, 55, 30, 25, 39, 29, 36, 31, 21, 61, 42, 17, 52, 11, 21, 2, 27, 45, 20, 11, 23, 30, 26, 39, 11, 14, 33, 22, 17, 32, 26, 16, 3, 17, 41, 23, 14, 39, 20, 84, 27, 36, 65, 18, 27, 28, 54, 28, 36, 37, 27, 24, 54, 65, 45, 22, 27, 46, 23, 1, 82, 24, 23, 11, 21, 4, 18, 9, 12, 31, 12, 40, 7, 32, 25, 6, 15, 20, 51, 27, 16, 21, 30, 36, 36, 23, 24, 21, 34, 43, 19, 34, 22, 14, 26, 27, 26, 8, 47, 45, 89, 23, 49, 52, 59, 22, 46, 101, 45, 47, 28, 19, 5, 32, 36, 7, 15, 44, 34, 9, 21, 23, 26, 18, 32, 29, 22, 13, 19, 16, 29, 22, 24, 16, 17, 8, 10, 38, 33, 28, 4, 11, 12, 28, 43, 32, 12, 44, 32, 18, 25, 34, 10, 58, 30, 47, 9, 23, 14, 20, 27, 19, 16, 21, 37, 19, 58, 18, 39, 7, 31, 25, 4, 31, 15, 25, 108, 20, 7, 22, 21, 2, 98, 25, 29, 35, 30, 35, 29, 17, 18, 95, 48, 39, 36, 22, 32, 22, 33, 13, 17, 24, 15, 34, 17, 17, 9, 38, 29, 147, 32, 19, 15, 19, 13, 21, 44, 31, 20, 64, 27, 28, 18, 25, 14, 22, 3, 1, 8, 1, 1, 10, 9, 2, 5, 21, 5, 2, 35, 29, 1, 5, 24, 6, 1, 19, 19, 36, 38, 26, 15, 33, 29, 39, 40, 31, 49, 54, 18, 17, 22, 38, 38, 28, 36, 57, 18, 55, 60, 32, 17, 13, 25, 102, 40, 28, 14, 31, 31, 79, 18, 30, 40, 27, 12, 36, 17, 18, 15, 22, 62, 4, 17, 20, 1, 33, 30, 15, 36, 58, 25, 58, 42, 15, 20, 26, 5, 11, 13, 24, 19, 22, 25, 10, 22, 26, 52, 26, 37, 39, 29, 19, 37, 13, 51, 27, 20, 1, 18, 31, 84, 55, 26, 38, 48, 28, 4, 33, 22, 18, 54, 29, 19, 53, 31, 30, 5, 22, 24, 16, 41, 35, 18, 10, 16, 30, 23, 11, 20, 51, 50, 32, 31, 48, 28, 44, 26, 4, 32, 33, 34, 50, 55, 28, 51, 16, 18, 26, 25, 51, 31, 28, 37, 8, 28, 18, 28, 39, 41, 51, 11, 62, 73, 34, 15, 9, 13, 35, 30, 22, 24, 36, 19, 1, 16, 8, 48, 41, 6, 13, 31, 31, 72, 18, 27, 21, 37, 32, 14, 35, 64, 19, 22, 47, 23, 30, 33, 42, 27, 87, 34, 46, 8, 25, 51, 27, 17, 33, 24, 17, 20, 64, 34, 18, 8, 9, 40, 55, 77, 29, 39, 30, 26, 38, 15, 31, 35, 15, 73, 25, 9, 35, 86, 24, 6, 9, 43, 7, 18, 29, 41, 27, 17, 7, 27, 20, 46, 19, 22, 29, 14, 40, 18, 13, 27, 7, 43, 8, 32, 24, 1, 23, 12, 31, 15, 23, 27, 42, 11, 38, 36, 43, 57, 25, 64, 76, 45, 53, 41, 10, 28, 62, 30, 34, 14, 46, 14, 27, 32, 44, 6, 18, 29, 24, 64, 20, 37, 30, 30, 15, 33, 37, 47, 28, 67, 30, 56, 30, 17, 5, 12, 31, 22, 39, 25, 50, 19, 44, 28, 31, 21, 27, 17, 34, 31, 9, 8, 33, 18, 8, 47, 9, 7, 11, 23, 47, 41, 35, 10, 16, 40, 52, 24, 103, 47, 14, 48, 49, 34, 32, 12, 21, 24, 7, 26, 50, 88, 30, 10, 17, 31, 16, 25, 33, 33, 31, 50, 18, 38, 22, 32, 25, 14, 17, 1, 25, 20, 25, 46, 73, 25, 42, 2, 61, 55, 31, 16, 11, 39, 34, 18, 17, 25, 32, 14, 17, 30, 20, 25, 27, 23, 30, 32, 46, 1, 36, 16, 9, 13, 7, 11, 9, 20, 13, 35, 6, 39, 10, 18, 13, 38, 9, 15, 10, 25, 16, 26, 21, 23, 31, 35, 37, 51, 18, 49, 12, 24, 18, 7, 2, 10, 2, 31, 41, 18, 37, 31, 30, 21, 8, 44, 149, 15, 47, 52, 30, 25, 11, 40, 49, 17, 66, 13, 34, 35, 24, 53, 11, 82, 10, 16, 41, 15, 38, 29, 56, 35, 40, 18, 12, 1, 8, 17, 28, 21, 3, 32, 50, 31, 1, 27, 57, 1, 28, 10, 25, 45, 5, 21, 1, 30, 18, 40, 8, 5, 45, 2, 47, 47, 26, 29, 22, 49, 23, 48, 116, 11, 21, 30, 31, 27, 22, 8, 33, 35, 40, 23, 39, 51, 12, 18, 5, 22, 18, 22, 34, 53, 19, 11, 1, 48, 21, 52, 24, 17, 20, 31, 41, 4, 22, 87, 10, 26, 86, 27, 57, 18, 5, 18, 21, 36, 39, 11, 33, 45, 31, 33, 28, 40, 20, 23, 5, 17, 29, 65, 30, 19, 22, 13, 43, 12, 29, 33, 68, 18, 30, 35, 51, 21, 26, 43, 8, 23, 46, 18, 21, 23, 14, 29, 12, 18, 10, 34, 16, 21, 41, 26, 9, 29, 4, 34, 46, 31, 23, 27, 8, 28, 49, 45, 8, 34, 23, 81, 27, 25, 23, 32, 18, 35, 25, 30, 30, 23, 64, 29, 6, 32, 33, 18, 9, 4, 38, 66, 37, 17, 35, 26, 29, 76, 11, 8, 16, 35, 36, 32, 10, 23, 23, 22, 32, 20, 27, 55, 30, 40, 21, 34, 28, 30, 92, 36, 55, 22, 21, 29, 19, 2, 20, 37, 18, 49, 47, 23, 48, 33, 5, 40, 71, 22, 12, 3, 11, 39, 46, 32, 49, 35, 17, 29, 4, 11, 25, 20, 57, 27, 9, 28, 27, 25, 13, 30, 42, 4, 26, 36, 27, 42, 35, 36, 28, 33, 8, 11, 27, 25, 31, 39, 9, 35, 5, 41, 15, 19, 37, 25, 32, 24, 24, 66, 14, 27, 32, 49, 51, 26, 45, 29, 29, 37, 6, 16, 11, 31, 34, 1, 10, 23, 42, 10, 17, 11, 19, 5, 21, 55, 15, 15, 20, 7, 41, 25, 25, 27, 30, 16, 45, 63, 30, 37, 51, 24, 1, 34, 39, 28, 28, 43, 41, 35, 4, 25, 62, 23, 16, 1, 32, 28, 31, 29, 53, 29, 44, 26, 16, 27, 23, 34, 15, 10, 55, 22, 29, 14, 28, 30, 26, 30, 38, 39, 42, 34, 22, 66, 30, 55, 14, 20, 8, 60, 33, 33, 33, 51, 19, 43, 33, 47, 45, 34, 31, 15, 29, 33, 28, 26, 14, 14, 31, 9, 121, 27, 49, 32, 19, 1, 15, 29, 38, 4, 85, 10, 9, 47, 6, 1, 2, 2, 14, 28, 23, 31, 41, 48, 28, 30, 29, 40, 30, 11, 28, 22, 10, 11, 1, 32, 34, 47, 31, 63, 71, 93, 44, 26, 16, 10, 13, 50, 1, 83, 64, 24, 16, 10, 10, 13, 36, 6, 33, 53, 11, 21, 29, 29, 30, 8, 39, 12, 15, 40, 35, 10, 28, 44, 42, 49, 8, 6, 27, 19, 11, 25, 78, 29, 44, 46, 43, 20, 29, 24, 18, 31, 22, 26, 34, 57, 28, 78, 35, 28, 29, 12, 24, 59, 58, 28, 17, 40, 19, 78, 36, 30, 1, 1, 28, 26, 20, 54, 32, 4, 54, 11, 38, 21, 32, 19, 61, 23, 25, 12, 17, 37, 1, 2, 28, 26, 28, 35, 27, 7, 40, 22, 25, 35, 27, 8, 1, 67, 22, 21, 23, 25, 4, 30, 5, 11, 11, 27, 4, 24, 30, 23, 10, 34, 3, 27, 45, 32, 20, 18, 15, 25, 11, 2, 11, 12, 28, 61, 28, 18, 41, 34, 26, 9, 25, 41, 73, 36, 10, 24, 18, 1, 1, 23, 28, 18, 46, 23, 23, 34, 107, 46, 20, 16, 34, 18, 17, 86, 5, 58, 39, 32, 66, 53, 34, 26, 41, 26, 8, 31, 26, 33, 35, 2, 24, 55, 35, 68, 19, 46, 46, 2, 23, 7, 1, 16, 8, 8, 23, 20, 25, 33, 15, 38, 92, 1, 51, 33, 8, 16, 43, 25, 20, 20, 14, 15, 22, 44, 6, 11, 48, 3, 21, 15, 46, 5, 2, 35, 13, 18, 50, 18, 44, 9, 26, 47, 31, 23, 24, 29, 55, 59, 18, 15, 41, 15, 26, 47, 39, 43, 28, 36, 36, 32, 32, 27, 28, 12, 29, 18, 6, 27, 8, 24, 22, 23, 23, 28, 14, 26, 14, 2, 9, 38, 1, 29, 39, 30, 16, 34, 30, 33, 19, 57, 29, 28, 26, 32, 79, 35, 68, 37, 26, 128, 1, 13, 28, 75, 59, 80, 37, 13, 6, 116, 24, 60, 21, 35, 28, 24, 31, 17, 10, 17, 6, 27, 27, 29, 20, 55, 1, 24, 46, 23, 10, 22, 11, 8, 85, 15, 19, 13, 16, 13, 14, 155, 27, 31, 5, 5, 25, 19, 10, 219, 23, 22, 36, 30, 38, 58, 30, 23, 1, 57, 66, 34, 57, 25, 88, 44, 47, 37, 21, 21, 20, 1, 64, 26, 26, 19, 23, 34, 28, 46, 39, 23, 60, 32, 12, 48, 10, 26, 11, 45, 23, 33, 30, 28, 31, 32, 10, 26, 28, 41, 48, 11, 52, 37, 28, 30, 39, 45, 48, 13, 12, 25, 34, 21, 40, 14, 11, 34, 25, 34, 19, 49, 30, 36, 38, 21, 24, 61, 73, 25, 14, 4, 105, 28, 28, 32, 49, 30, 28, 27, 42, 10, 20, 9, 21, 42, 39, 14, 20, 17, 35, 34, 16, 29, 9, 16, 23, 42, 43, 28, 24, 21, 15, 13, 27, 50, 34, 59, 46, 17, 33, 46, 28, 19, 19, 29, 34, 21, 22, 5, 24, 17, 48, 15, 3, 21, 24, 29, 10, 35, 23, 56, 14, 21, 42, 17, 33, 33, 42, 16, 17, 18, 7, 27, 26, 33, 18, 10, 31, 34, 60, 41, 47, 25, 41, 27, 29, 29, 34, 32, 48, 32, 13, 26, 33, 27, 43, 36, 8, 30, 11, 45, 33, 27, 28, 37, 36, 31, 22, 24, 39, 41, 7, 20, 19, 26, 20, 6, 22, 64, 10, 22, 5, 10, 68, 17, 45, 55, 28, 33, 12, 30, 27, 31, 47, 30, 25, 33, 33, 20, 23, 37, 22, 46, 40, 41, 6, 36, 54, 16, 40, 13, 38, 10, 43, 6, 19, 31, 30, 28, 44, 34, 31, 22, 9, 29, 15, 24, 36, 23, 16, 107, 16, 32, 37, 12, 33, 9, 35, 35, 7, 1, 62, 27, 28, 10, 20, 14, 7, 54, 7, 34, 24, 33, 25, 36, 12, 40, 67, 18, 26, 21, 2, 32, 24, 42, 26, 8, 44, 26, 20, 50, 27, 15, 27, 39, 9, 20, 3, 34, 18, 14, 35, 38, 63, 17, 1, 32, 21, 20, 41, 21, 23, 14, 2, 24, 46, 40, 7, 38, 10, 25, 15, 29, 26, 47, 35, 29, 37, 11, 39, 19, 66, 38, 60, 30, 40, 99, 21, 37, 33, 34, 33, 38, 23, 16, 25, 29, 30, 33, 21, 29, 43, 25, 30, 40, 2, 27, 32, 17, 52, 31, 18, 64, 36, 7, 25, 35, 30, 24, 24, 68, 12, 30, 57, 2, 9, 26, 22, 35, 24, 33, 26, 34, 20, 23, 31, 51, 32, 31, 33, 51, 43, 27, 15, 48, 7, 25, 44, 28, 11, 19, 23, 19, 31, 28, 60, 9, 37, 18, 11, 6, 25, 29, 22, 15, 1, 71, 35, 30, 9, 1, 47, 34, 31, 37, 21, 13, 74, 1, 150, 15, 40, 11, 25, 33, 15, 32, 21, 46, 67, 7, 43, 71, 1, 16, 2, 42, 35, 30, 19, 24, 57, 27, 32, 27, 8, 21, 23, 8, 12, 38, 32, 12, 26, 24, 37, 46, 26, 9, 11, 64, 4, 8, 27, 11, 134, 14, 9, 66, 10, 16, 4, 1, 9, 34, 18, 17, 55, 2, 11, 23, 20, 27, 38, 26, 12, 3, 18, 61, 19, 13, 35, 24, 26, 13, 19, 112, 26, 29, 30, 25, 33, 51, 31, 32, 9, 7, 29, 7, 28, 48, 45, 27, 35, 4, 35, 1, 14, 12, 29, 33, 64, 10, 7, 32, 5, 20, 27, 20, 5, 25, 33, 21, 32, 21, 16, 13, 15, 9, 19, 87, 42, 62, 30, 68, 14, 32, 18, 43, 43, 61, 10, 58, 36, 47, 11, 174, 61, 12, 37, 22, 1, 57, 6, 24, 8, 29, 40, 21, 25, 21, 31, 38, 16, 11, 33, 30, 27, 11, 15, 31, 31, 35, 43, 10, 38, 21, 113, 18, 42, 4, 47, 32, 30, 10, 35, 58, 7, 4, 23, 48, 17, 41, 26, 11, 57, 31, 37, 43, 19, 19, 46, 74, 4, 8, 52, 14, 17, 132, 21, 32, 32, 19, 26, 45, 8, 42, 68, 13, 28, 13, 18, 10, 41, 23, 32, 20, 3, 23, 33, 33, 40, 32, 20, 34, 65, 9, 29, 54, 3, 34, 48, 32, 24, 36, 39, 47, 35, 26, 29, 28, 31, 7, 26, 16, 24, 61, 23, 38, 107, 48, 43, 36, 20, 3, 59, 39, 2, 20, 5, 26, 63, 27, 1, 39, 2, 41, 23, 23, 11, 16, 19, 44, 28, 12, 24, 48, 52, 8, 19, 32, 29, 46, 29, 28, 61, 39, 35, 22, 45, 14, 49, 19, 7, 26, 27, 30, 39, 26, 50, 23, 43, 18, 9, 6, 21, 2, 39, 16, 25, 10, 33, 22, 56, 9, 27, 11, 8, 35, 12, 7, 54, 11, 21, 26, 15, 10, 1, 24, 6, 23, 24, 13, 44, 29, 20, 14, 11, 33, 29, 39, 21, 34, 9, 48, 24, 44, 27, 12, 14, 26, 7, 32, 40, 29, 21, 12, 25, 30, 43, 24, 71, 25, 18, 7, 17, 13, 55, 29, 17, 29, 31, 41, 18, 36, 14, 21, 4, 14, 30, 40, 39, 35, 36, 21, 15, 22, 25, 109, 13, 31, 8, 29, 17, 22, 16, 15, 36, 33, 9, 4, 20, 66, 62, 42, 14, 31, 21, 54, 19, 16, 41, 30, 25, 19, 3, 4, 23, 32, 65, 14, 23, 50, 33, 13, 60, 25, 18, 4, 12, 35, 20, 36, 40, 26, 61, 47, 20, 25, 17, 6, 18, 6, 24, 32, 18, 20, 22, 1, 22, 32, 64, 17, 36, 37, 18, 53, 37, 41, 51, 4, 31, 31, 47, 53, 24, 29, 22, 44, 31, 12, 48, 18, 3, 39, 14, 51, 23, 12, 25, 70, 5, 114, 39, 25, 7, 51, 24, 39, 6, 96, 46, 32, 36, 43, 14, 17, 32, 21, 37, 36, 18, 24, 15, 9, 37, 29, 11, 59, 18, 30, 33, 24, 16, 3, 22, 23, 99, 16, 13, 35, 13, 55, 32, 50, 50, 18, 32, 28, 26, 6, 23, 34, 35, 17, 16, 32, 28, 30, 96, 39, 30, 17, 36, 23, 74, 14, 168, 16, 27, 14, 19, 14, 34, 34, 36, 23, 58, 29, 26, 22, 25, 29, 29, 21, 35, 18, 13, 71, 13, 25, 7, 41, 60, 40, 16, 15, 80, 22, 55, 54, 24, 24, 24, 28, 22, 24, 14, 34, 22, 35, 34, 22, 45, 30, 30, 1, 40, 21, 71, 56, 23, 80, 22, 55, 16, 24, 18, 39, 22, 30, 28, 17, 17, 14, 11, 9, 21, 53, 22, 45, 38, 18, 1, 4, 20, 18, 38, 38, 2, 9, 34, 33, 21, 22, 20, 21, 7, 15, 72, 33, 19, 16, 18, 21, 29, 31, 19, 11, 30, 58, 31, 40, 30, 7, 19, 5, 33, 19, 62, 24, 10, 41, 8, 14, 38, 15, 25, 27, 14, 31, 8, 16, 39, 55, 16, 38, 31, 7, 44, 15, 20, 36, 36, 23, 43, 23, 19, 16, 28, 23, 87, 27, 24, 24, 9, 25, 51, 35, 48, 42, 39, 3, 21, 13, 45, 25, 29, 50, 32, 23, 44, 13, 21, 38, 11, 54, 54, 16, 4, 16, 6, 63, 15, 18, 21, 13, 76, 39, 23, 31, 10, 21, 41, 28, 22, 29, 17, 19, 52, 44, 22, 27, 3, 32, 22, 35, 30, 31, 14, 45, 31, 9, 24, 24, 36, 33, 16, 17, 62, 12, 19, 49, 55, 15, 32, 11, 15, 27, 7, 24, 29, 52, 2, 22, 38, 25, 5, 27, 28, 3, 27, 10, 32, 16, 12, 18, 33, 4, 20, 10, 18, 19, 44, 17, 26, 14, 29, 2, 37, 40, 16, 20, 11, 37, 7, 46, 13, 27, 20, 64, 33, 40, 36, 19, 35, 31, 45, 24, 7, 43, 15, 16, 13, 45, 62, 31, 54, 14, 20, 28, 8, 11, 83, 8, 11, 25, 29, 17, 24, 25, 31, 25, 19, 53, 19, 18, 29, 86, 26, 13, 20, 9, 35, 27, 22, 17, 19, 7, 28, 2, 40, 30, 15, 37, 20, 32, 40, 31, 36, 25, 10, 16, 25, 36, 27, 55, 20, 33, 28, 34, 25, 49, 48, 23, 35, 7, 4, 10, 1, 47, 34, 14, 47, 75, 30, 19, 8, 70, 19, 22, 5, 49, 29, 28, 20, 38, 13, 21, 19, 41, 28, 22, 24, 19, 39, 27, 9, 29, 23, 18, 10, 31, 29, 10, 12, 10, 60, 1, 35, 20, 30, 31, 11, 15, 36, 16, 33, 19, 38, 27, 43, 25, 22, 22, 26, 17, 12, 34, 7, 23, 12, 38, 31, 37, 69, 13, 72, 29, 24, 7, 17, 33, 80, 49, 26, 26, 25, 39, 46, 32, 8, 15, 10, 2, 19, 37, 5, 26, 42, 43, 43, 34, 25, 35, 24, 12, 40, 27, 10, 36, 55, 25, 17, 34, 28, 25, 49, 1, 31, 25, 32, 93, 43, 19, 18, 31, 1, 34, 26, 9, 18, 29, 3, 23, 1, 22, 45, 30, 21, 38, 36, 7, 32, 38, 32, 8, 27, 28, 31, 37, 23, 49, 19, 35, 57, 40, 60, 75, 26, 31, 38, 28, 59, 36, 32, 19, 48, 31, 13, 37, 25, 24, 29, 28, 56, 30, 8, 54, 49, 19, 55, 22, 28, 24, 31, 66, 39, 27, 42, 21, 28, 25, 25, 24, 16, 45, 23, 53, 26, 33, 32, 40, 40, 33, 40, 54, 21, 48, 40, 98, 22, 53, 16, 21, 36, 41, 20, 15, 40, 23, 20, 27, 17, 12, 26, 39, 24, 14, 30, 21, 25, 14, 21, 36, 27, 51, 3, 32, 1, 21, 35, 68, 24, 105, 26, 26, 65, 19, 29, 16, 21, 11, 28, 51, 21, 29, 70, 22, 16, 57, 24, 20, 21, 22, 61, 12, 31, 15, 17, 23, 32, 9, 37, 14, 29, 18, 34, 35, 20, 22, 12, 17, 18, 36, 31, 46, 11, 28, 20, 12, 24, 42, 34, 37, 11, 43, 9, 20, 28, 38, 27, 39, 27, 13, 33, 14, 42, 33, 13, 13, 24, 24, 23, 30, 47, 7, 11, 34, 25, 22, 21, 16, 28, 51, 22, 19, 3, 22, 10, 18, 51, 20, 9, 6, 67, 34, 47, 9, 5, 40, 30, 1, 9, 30, 11, 16, 8, 57, 3, 9, 34, 16, 14, 4, 25, 20, 27, 25, 35, 106, 40, 61, 31, 18, 28, 18, 2, 4, 20, 45, 53, 18, 41, 26, 19, 27, 24, 18, 54, 28, 32, 23, 10, 38, 12, 31, 31, 33, 45, 54, 18, 52, 23, 24, 22, 29, 9, 24, 24, 64, 43, 20, 20, 46, 42, 37, 41, 37, 62, 24, 3, 11, 14, 33, 8, 14, 112, 59, 21, 30, 8, 33, 16, 33, 36, 14, 15, 1, 40, 29, 55, 15, 26, 11, 37, 20, 35, 62, 27, 122, 26, 16, 20, 20, 33, 14, 17, 35, 27, 41, 5, 24, 8, 10, 19, 3, 38, 12, 21, 23, 15, 2, 24, 37, 19, 63, 24, 34, 73, 5, 31, 26, 18, 6, 45, 5, 40, 51, 44, 24, 17, 32, 112, 24, 22, 25, 22, 10, 17, 15, 49, 8, 1, 19, 11, 2, 34, 67, 109, 30, 26, 51, 21, 37, 26, 15, 24, 30, 23, 53, 8, 12, 86, 18, 1, 7, 16, 1, 10, 26, 44, 4, 43, 36, 7, 10, 52, 24, 29, 24, 17, 32, 57, 52, 32, 61, 18, 69, 8, 21, 26, 53, 23, 11, 23, 44, 24, 44, 73, 18, 24, 10, 6, 48, 49, 22, 7, 13, 21, 6, 51, 8, 18, 36, 30, 27, 39, 24, 12, 1, 16, 33, 11, 9, 40, 27, 36, 12, 22, 24, 31, 28, 45, 26, 48, 36, 38, 31, 35, 8, 27, 21, 41, 14, 26, 34, 20, 8, 8, 22, 28, 87, 8, 30, 68, 61, 31, 25, 41, 18, 35, 35, 45, 21, 24, 26, 26, 9, 19, 12, 39, 28, 22, 83, 1, 1, 24, 28, 13, 15, 28, 35, 34, 69, 26, 24, 11, 42, 42, 65, 53, 34, 21, 7, 17, 33, 35, 37, 23, 34, 28, 17, 37, 6, 43, 35, 32, 27, 13, 25, 19, 17, 25, 30, 29, 12, 16, 33, 25, 54, 14, 78, 13, 38, 45, 62, 18, 10, 5, 29, 31, 5, 34, 23, 17, 35, 4, 27, 47, 13, 31, 15, 4, 13, 5, 19, 22, 15, 23, 46, 12, 18, 23, 11, 30, 68, 9, 44, 73, 22, 12, 14, 17, 89, 48, 22, 4, 10, 10, 25, 22, 55, 11, 44, 26, 11, 22, 20, 24, 40, 12, 2, 28, 10, 16, 63, 4, 7, 13, 14, 24, 4, 17, 22, 26, 39, 43, 9, 5, 40, 25, 32, 26, 14, 14, 29, 43, 30, 55, 21, 39, 24, 32, 11, 21, 38, 31, 47, 29, 11, 41, 26, 26, 1, 19, 12, 49, 41, 5, 23, 48, 6, 43, 4, 10, 35, 20, 23, 1, 25, 45, 40, 53, 2, 25, 30, 49, 33, 37, 34, 26, 25, 25, 24, 25, 28, 49, 25, 55, 21, 44, 25, 56, 50, 47, 32, 22, 8, 40, 42, 45, 45, 60, 96, 40, 2, 41, 13, 18, 35, 21, 5, 23, 44, 91, 26, 35, 10, 39, 40, 7, 24, 58, 29, 23, 22, 30, 25, 6, 10, 21, 1, 50, 17, 36, 35, 26, 19, 158, 28, 17, 33, 14, 33, 9, 38, 13, 12, 8, 44, 6, 11, 33, 10, 45, 21, 34, 29, 17, 13, 14, 26, 25, 33, 18, 30, 60, 19, 24, 11, 23, 4, 26, 14, 7, 22, 23, 10, 24, 26, 27, 41, 16, 23, 22, 28, 26, 18, 31, 19, 7, 47, 27, 23, 51, 46, 26, 14, 10, 36, 20, 4, 40, 27, 34, 37, 33, 28, 45, 15, 22, 14, 50, 23, 9, 21, 26, 6, 22, 11, 7, 24, 34, 34, 24, 19, 30, 34, 32, 15, 18, 28, 82, 32, 26, 19, 1, 41, 42, 55, 11, 36, 26, 21, 23, 42, 13, 33, 31, 10, 26, 31, 20, 37, 23, 15, 29, 9, 12, 49, 40, 26, 21, 35, 1, 6, 46, 7, 29, 8, 1, 31, 24, 24, 8, 20, 19, 39, 36, 30, 12, 45, 25, 19, 39, 31, 15, 10, 12, 22, 1, 14, 40, 27, 58, 5, 16, 28, 24, 139, 24, 22, 35, 16, 17, 17, 1, 34, 2, 7, 64, 28, 24, 32, 44, 60, 29, 20, 50, 11, 29, 14, 24, 26, 25, 34, 13, 29, 17, 19, 51, 34, 23, 35, 21, 61, 15, 25, 22, 36, 32, 10, 27, 26, 18, 19, 33, 4, 48, 1, 36, 44, 30, 31, 37, 81, 25, 14, 23, 15, 6, 60, 60, 12, 42, 25, 29, 19, 37, 40, 25, 25, 33, 27, 26, 25, 10, 38, 85, 15, 50, 31, 86, 20, 10, 19, 6, 3, 25, 37, 24, 33, 38, 23, 24, 50, 31, 31, 4, 22, 61, 21, 40, 16, 29, 29, 23, 22, 27, 30, 20, 21, 37, 9, 15, 25, 30, 11, 121, 22, 25, 32, 39, 37, 77, 54, 25, 22, 22, 33, 34, 24, 26, 7, 33, 85, 34, 43, 17, 2, 51, 100, 39, 34, 33, 26, 20, 16, 20, 26, 5, 77, 22, 11, 19, 46, 55, 28, 29, 34, 26, 35, 34, 22, 24, 28, 5, 41, 24, 44, 14, 35, 39, 19, 54, 30, 74, 91, 21, 83, 20, 75, 35, 1, 12, 18, 12, 20, 47, 10, 22, 31, 19, 35, 21, 48, 4, 66, 54, 26, 66, 23, 29, 62, 1, 33, 18, 1, 28, 1, 32, 27, 29, 20, 20, 23, 17, 33, 6, 24, 43, 13, 53, 26, 46, 41, 31, 25, 23, 24, 32, 41, 1, 5, 37, 41, 19, 6, 30, 20, 42, 10, 52, 38, 5, 1, 39, 10, 30, 7, 31, 48, 44, 43, 43, 36, 41, 24, 34, 61, 1, 4, 38, 39, 32, 30, 50, 30, 19, 14, 48, 32, 53, 39, 21, 36, 33, 53, 55, 20, 1, 23, 20, 18, 24, 26, 17, 1, 24, 7, 67, 16, 9, 38, 40, 13, 40, 17, 29, 39, 30, 20, 33, 27, 22, 21, 39, 29, 20, 1, 25, 15, 4, 34, 36, 27, 39, 18, 28, 18, 71, 10, 34, 9, 38, 21, 13, 27, 21, 23, 38, 4, 19, 8, 18, 15, 27, 51, 15, 17, 27, 22, 28, 20, 12, 22, 36, 38, 36, 32, 9, 7, 36, 16, 22, 35, 53, 26, 44, 7, 13, 20, 7, 32, 39, 23, 12, 29, 8, 92, 3, 34, 52, 13, 32, 7, 10, 58, 9, 1, 35, 5, 4, 27, 24, 11, 37, 38, 27, 24, 22, 22, 7, 25, 60, 26, 26, 49, 31, 7, 5, 24, 2, 23, 52, 37, 40, 10, 26, 21, 26, 15, 24, 25, 23, 20, 11, 3, 29, 33, 30, 14, 5, 42, 14, 25, 11, 24, 14, 5, 56, 60, 15, 30, 27, 27, 42, 105, 27, 32, 61, 3, 44, 19, 47, 18, 26, 29, 23, 23, 52, 86, 29, 5, 19, 19, 21, 42, 13, 26, 14, 31, 28, 34, 37, 7, 10, 37, 27, 11, 10, 19, 39, 27, 9, 18, 60, 17, 17, 16, 56, 32, 14, 37, 26, 54, 26, 10, 13, 42, 21, 14, 172, 22, 19, 22, 13, 29, 1, 25, 2, 20, 18, 3, 20, 30, 1, 13, 41, 51, 48, 7, 25, 16, 26, 24, 35, 11, 49, 37, 15, 1, 13, 24, 56, 28, 21, 84, 10, 24, 24, 30, 14, 27, 19, 42, 27, 8, 51, 32, 29, 11, 17, 6, 80, 40, 31, 23, 112, 23, 33, 31, 34, 47, 25, 23, 27, 36, 32, 10, 16, 59, 67, 58, 11, 4, 11, 4, 24, 17, 1, 22, 30, 48, 29, 27, 18, 21, 7, 30, 5, 8, 57, 23, 29, 27, 6, 29, 40, 22, 43, 22, 48, 72, 28, 5, 13, 28, 57, 33, 26, 81, 54, 29, 14, 1, 10, 28, 43, 34, 57, 26, 55, 31, 11, 36, 30, 34, 35, 38, 22, 23, 31, 48, 17, 20, 9, 23, 23, 26, 37, 8, 1, 4, 23, 55, 44, 25, 18, 23, 42, 30, 21, 30, 27, 1, 35, 40, 22, 43, 64, 20, 44, 34, 44, 44, 36, 41, 33, 31, 29, 21, 28, 54, 7, 39, 30, 11, 25, 53, 30, 31, 38, 20, 26, 11, 27, 28, 35, 11, 58, 15, 20, 15, 58, 25, 15, 45, 24, 27, 16, 11, 71, 26, 39, 51, 29, 8, 68, 35, 13, 13, 7, 9, 29, 24, 25, 21, 14, 19, 35, 9, 18, 76, 31, 24, 23, 50, 44, 11, 20, 22, 51, 129, 56, 10, 124, 32, 50, 15, 9, 22, 12, 46, 48, 31, 13, 33, 29, 12, 45, 21, 10, 51, 38, 20, 26, 45, 52, 27, 27, 37, 1, 36, 39, 52, 6, 11, 33, 25, 43, 23, 31, 30, 5, 34, 5, 34, 3, 31, 75, 20, 31, 20, 11, 22, 31, 8, 38, 39, 26, 32, 19, 26, 1, 17, 24, 67, 59, 26, 60, 26, 13, 58, 27, 26, 26, 31, 53, 54, 32, 42, 33, 57, 22, 35, 22, 28, 29, 26, 13, 42, 47, 32, 23, 5, 25, 6, 14, 29, 34, 21, 24, 17, 44, 1, 13, 53, 45, 33, 65, 6, 45, 36, 39, 17, 16, 31, 14, 6, 12, 40, 6, 5, 45, 95, 17, 9, 27, 25, 20, 31, 33, 12, 11, 22, 34, 37, 38, 43, 10, 7, 14, 20, 39, 18, 17, 3, 31, 31, 21, 1, 24, 41, 21, 22, 50, 25, 22, 27, 37, 21, 39, 30, 32, 13, 20, 25, 21, 27, 8, 20, 27, 30, 27, 35, 69, 21, 27, 51, 56, 77, 28, 31, 25, 24, 19, 34, 26, 32, 3, 10, 10, 4, 35, 26, 27, 27, 21, 32, 33, 11, 25, 51, 30, 5, 47, 44, 28, 6, 26, 18, 24, 57, 30, 24, 35, 5, 60, 39, 6, 28, 35, 3, 45, 53, 7, 33, 12, 33, 13, 37, 19, 7, 29, 31, 33, 28, 18, 113, 20, 44, 5, 5, 19, 15, 3, 51, 8, 12, 22, 32, 65, 29, 27, 14, 36, 1, 30, 29, 19, 11, 69, 24, 69, 25, 36, 15, 46, 18, 18, 32, 41, 27, 23, 38, 17, 21, 21, 28, 16, 19, 18, 16, 19, 38, 4, 32, 46, 20, 80, 25, 35, 7, 22, 21, 24, 28, 32, 63, 21, 34, 13, 24, 43, 14, 24, 31, 26, 35, 21, 60, 21, 36, 51, 28, 17, 18, 55, 22, 25, 32, 47, 35, 21, 33, 28, 20, 64, 18, 17, 12, 4, 5, 24, 79, 48, 35, 9, 55, 29, 22, 20, 36, 32, 40, 11, 24, 47, 10, 101, 25, 27, 38, 21, 22, 51, 35, 15, 33, 66, 44, 29, 12, 27, 30, 13, 19, 8, 9, 24, 23, 56, 26, 22, 36, 12, 18, 6, 27, 51, 55, 33, 17, 34, 35, 31, 29, 30, 6, 2, 36, 38, 39, 6, 10, 26, 25, 19, 4, 33, 12, 30, 12, 42, 25, 26, 5, 23, 43, 27, 54, 23, 30, 43, 22, 46, 32, 44, 26, 15, 27, 45, 10, 66, 57, 25, 16, 17, 38, 14, 38, 34, 29, 37, 9, 6, 36, 11, 21, 22, 2, 17, 7, 13, 9, 15, 15, 34, 21, 1, 18, 16, 9, 26, 60, 48, 43, 21, 41, 18, 35, 8, 12, 23, 8, 21, 30, 23, 23, 21, 22, 24, 12, 38, 78, 33, 32, 48, 15, 22, 26, 31, 16, 5, 39, 1, 8, 41, 59, 14, 28, 35, 33, 57, 32, 77, 29, 20, 17, 30, 17, 30, 24, 18, 42, 16, 42, 4, 33, 22, 29, 22, 54, 30, 46, 29, 11, 41, 21, 25, 61, 28, 30, 34, 65, 136, 24, 27, 126, 33, 16, 38, 4, 16, 14, 19, 3, 56, 26, 41, 19, 40, 30, 23, 30, 57, 23, 7, 57, 36, 29, 3, 11, 20, 26, 14, 23, 29, 35, 33, 49, 28, 9, 59, 24, 30, 19, 60, 3, 44, 16, 17, 46, 37, 26, 39, 29, 32, 41, 13, 77, 10, 37, 47, 15, 15, 25, 31, 22, 26, 21, 26, 18, 37, 85, 36, 60, 21, 5, 54, 15, 47, 29, 21, 50, 35, 40, 10, 10, 30, 33, 45, 24, 12, 19, 38, 49, 24, 39, 24, 12, 27, 1, 13, 6, 17, 23, 14, 18, 16, 25, 67, 7, 29, 20, 5, 14, 3, 7, 55, 7, 28, 18, 35, 51, 72, 13, 36, 8, 33, 32, 44, 15, 52, 31, 26, 2, 11, 16, 17, 21, 51, 24, 48, 58, 21, 6, 7, 17, 3, 20, 23, 44, 30, 18, 23, 41, 6, 14, 17, 44, 39, 47, 61, 34, 25, 39, 20, 97, 29, 3, 27, 15, 1, 15, 11, 35, 2, 43, 31, 42, 31, 9, 22, 3, 13, 30, 41, 13, 43, 7, 40, 42, 40, 22, 43, 10, 14, 24, 14, 20, 13, 30, 24, 2, 35, 33, 35, 20, 38, 29, 30, 27, 28, 35, 21, 43, 37, 36, 40, 10, 21, 31, 36, 6, 6, 39, 35, 25, 34, 27, 44, 12, 36, 18, 20, 6, 21, 26, 78, 4, 13, 7, 31, 32, 38, 38, 14, 40, 19, 28, 14, 35, 36, 15, 39, 22, 39, 15, 12, 26, 59, 12, 43, 27, 12, 32, 38, 37, 32, 19, 48, 29, 5, 13, 17, 58, 54, 33, 34, 21, 35, 26, 37, 33, 31, 22, 28, 13, 12, 23, 15, 31, 7, 35, 43, 22, 23, 13, 66, 14, 28, 32, 22, 36, 19, 21, 38, 25, 19, 77, 24, 31, 50, 34, 34, 38, 4, 78, 45, 95, 38, 57, 32, 93, 22, 48, 36, 28, 14, 58, 27, 33, 38, 32, 88, 32, 14, 11, 23, 2, 2, 29, 51, 32, 17, 42, 17, 20, 59, 53, 50, 4, 27, 27, 61, 34, 29, 34, 39, 16, 43, 3, 19, 30, 15, 17, 15, 16, 47, 13, 29, 20, 31, 42, 6, 23, 12, 50, 33, 11, 26, 37, 28, 41, 30, 24, 4, 35, 34, 24, 44, 8, 29, 134, 28, 61, 26, 53, 150, 22, 28, 12, 6, 29, 21, 4, 48, 23, 11, 30, 66, 25, 6, 15, 6, 35, 56, 35, 21, 21, 34, 50, 36, 22, 52, 19, 19, 20, 35, 18, 57, 23, 11, 71, 21, 19, 1, 1, 23, 29, 11, 14, 22, 42, 1, 13, 8, 90, 24, 7, 36, 45, 1, 1, 1, 70, 7, 76, 18, 27, 21, 28, 50, 21, 29, 7, 34, 6, 32, 49, 29, 27, 15, 26, 26, 57, 18, 16, 57, 26, 11, 19, 6, 45, 61, 53, 18, 39, 23, 4, 6, 15, 49, 39, 12, 23, 28, 29, 1, 33, 13, 27, 43, 25, 43, 50, 36, 33, 25, 15, 52, 39, 52, 17, 22, 24, 42, 48, 9, 57, 17, 23, 24, 13, 9, 20, 45, 47, 6, 9, 18, 32, 19, 57, 19, 64, 42, 30, 17, 65, 35, 117, 26, 9, 54, 44, 26, 43, 108, 25, 49, 28, 31, 4, 8, 56, 13, 28, 24, 17, 16, 19, 32, 27, 26, 22, 10, 54, 19, 43, 34, 7, 11, 52, 35, 14, 32, 44, 14, 10, 20, 29, 24, 19, 33, 24, 8, 31, 54, 2, 14, 61, 25, 47, 23, 22, 17, 28, 48, 21, 9, 1, 37, 38, 17, 84, 43, 80, 37, 59, 15, 16, 14, 14, 25, 12, 1, 21, 1, 1, 1, 1, 1, 1, 1, 1, 1, 5, 21, 30, 25, 8, 41, 36, 12, 13, 25, 18, 87, 41, 16, 28, 26, 28, 26, 31, 22, 90, 25, 19, 23, 36, 81, 31, 36, 23, 20, 27, 28, 28, 31, 29, 96, 53, 27, 29, 7, 20, 26, 13, 38, 23, 32, 15, 20, 23, 53, 22, 33, 8, 57, 17, 10, 38, 19, 31, 22, 1, 9, 11, 9, 42, 120, 28, 7, 45, 67, 33, 28, 3, 29, 10, 20, 26, 16, 25, 61, 40, 20, 106, 14, 53, 48, 24, 22, 28, 38, 33, 62, 76, 22, 25, 5, 13, 29, 26, 21, 22, 19, 44, 24, 25, 36, 30, 12, 49, 35, 9, 29, 35, 41, 65, 22, 20, 53, 20, 8, 28, 89, 16, 34, 21, 21, 15, 26, 21, 10, 8, 43, 9, 54, 32, 56, 42, 12, 17, 43, 34, 28, 4, 30, 11, 135, 22, 49, 18, 31, 50, 36, 16, 23, 20, 20, 30, 18, 2, 17, 322, 18, 52, 13, 49, 97, 3, 18, 24, 7, 25, 3, 8, 12, 62, 25, 21, 27, 38, 28, 9, 20, 34, 34, 85, 22, 17, 52, 2, 31, 25, 44, 33, 10, 31, 15, 25, 21, 24, 9, 12, 9, 39, 7, 23, 28, 34, 31, 24, 24, 23, 18, 23, 29, 79, 37, 30, 1, 4, 16, 1, 28, 42, 32, 29, 33, 26, 12, 50, 10, 39, 37, 12, 20, 17, 3, 16, 15, 1, 9, 28, 8, 2, 15, 25, 37, 41, 27, 40, 10, 22, 39, 11, 31, 28, 3, 48, 34, 27, 28, 24, 13, 16, 11, 51, 4, 22, 33, 54, 57, 23, 23, 4, 80, 14, 48, 14, 51, 19, 40, 46, 40, 17, 22, 50, 23, 41, 11, 9, 53, 46, 29, 27, 28, 9, 16, 55, 13, 29, 28, 20, 48, 2, 1, 22, 17, 6, 37, 3, 30, 14, 12, 14, 18, 28, 25, 11, 45, 55, 35, 25, 15, 25, 24, 65, 23, 40, 41, 13, 17, 25, 32, 23, 10, 20, 28, 7, 27, 29, 26, 15, 22, 28, 8, 14, 11, 19, 23, 30, 37, 13, 47, 30, 1, 45, 1, 25, 25, 50, 21, 25, 27, 9, 21, 38, 35, 24, 26, 6, 10, 29, 24, 27, 29, 22, 31, 14, 17, 22, 73, 17, 30, 16, 35, 34, 60, 30, 30, 50, 23, 19, 27, 12, 15, 4, 27, 17, 20, 38, 29, 12, 37, 19, 30, 19, 10, 23, 53, 1, 58, 18, 49, 14, 9, 2, 42, 36, 17, 25, 31, 30, 60, 29, 22, 34, 17, 36, 59, 19, 12, 30, 31, 1, 34, 18, 25, 71, 40, 23, 23, 1, 32, 48, 5, 39, 19, 33, 29, 14, 25, 32, 46, 41, 25, 18, 30, 31, 21, 56, 20, 10, 13, 18, 34, 5, 12, 24, 52, 54, 39, 45, 105, 46, 12, 23, 24, 19, 5, 27, 20, 35, 19, 47, 44, 21, 31, 129, 37, 6, 24, 27, 27, 3, 12, 48, 25, 45, 21, 39, 17, 13, 58, 74, 24, 20, 27, 40, 14, 7, 17, 31, 32, 20, 35, 24, 35, 80, 23, 23, 36, 48, 39, 43, 32, 21, 103, 7, 5, 22, 67, 8, 29, 12, 25, 24, 10, 32, 17, 21, 36, 19, 42, 24, 10, 33, 20, 37, 24, 86, 34, 12, 30, 61, 20, 19, 35, 32, 8, 37, 9, 16, 13, 12, 21, 9, 23, 6, 22, 21, 31, 59, 28, 10, 34, 65, 26, 36, 19, 8, 24, 40, 34, 5, 1, 1, 1, 15, 19, 40, 27, 41, 29, 32, 34, 29, 27, 72, 11, 33, 5, 34, 68, 35, 11, 52, 63, 67, 39, 36, 32, 8, 40, 23, 32, 9, 28, 69, 15, 20, 23, 28, 28, 18, 18, 11, 22, 56, 38, 37, 62, 19, 30, 12, 8, 35, 30, 29, 45, 1, 54, 31, 29, 62, 11, 26, 2, 18, 20, 19, 26, 7, 28, 34, 43, 44, 69, 40, 20, 29, 74, 25, 46, 1, 23, 24, 21, 10, 26, 14, 25, 16, 26, 29, 11, 8, 16, 47, 1, 16, 23, 11, 7, 3, 13, 14, 15, 38, 43, 19, 36, 15, 20, 64, 21, 48, 44, 26, 9, 6, 54, 14, 36, 24, 28, 46, 36, 21, 31, 33, 37, 15, 12, 6, 49, 30, 19, 24, 6, 30, 26, 29, 35, 14, 55, 11, 75, 68, 1, 28, 16, 21, 41, 60, 65, 27, 20, 4, 7, 27, 14, 11, 40, 72, 7, 64, 25, 31, 22, 20, 4, 8, 40, 28, 40, 28, 1, 9, 44, 7, 28, 41, 24, 29, 27, 46, 10, 26, 19, 3, 29, 49, 4, 17, 21, 55, 16, 5, 53, 32, 25, 12, 19, 63, 28, 9, 26, 71, 71, 5, 2, 7, 39, 7, 11, 63, 32, 30, 28, 52, 16, 30, 49, 32, 8, 5, 41, 6, 28, 51, 42, 6, 19, 15, 30, 14, 34, 15, 30, 20, 20, 42, 1, 9, 10, 38, 36, 22, 21, 16, 39, 20, 32, 32, 2, 40, 31, 14, 11, 75, 19, 19, 36, 27, 19, 27, 12, 22, 18, 26, 45, 33, 30, 29, 41, 42, 3, 35, 13, 39, 31, 38, 27, 40, 39, 33, 12, 37, 32, 28, 36, 14, 106, 53, 25, 58, 47, 26, 19, 55, 38, 53, 13, 4, 17, 20, 28, 30, 18, 9, 26, 17, 28, 26, 17, 6, 46, 8, 4, 12, 13, 24, 34, 5, 1, 1, 15, 44, 21, 20, 26, 12, 26, 39, 26, 11, 45, 20, 23, 21, 89, 31, 37, 2, 14, 49, 22, 15, 99, 24, 23, 24, 20, 25, 48, 3, 39, 26, 28, 26, 23, 32, 20, 38, 58, 23, 13, 12, 24, 19, 41, 52, 35, 5, 1, 6, 133, 14, 44, 20, 20, 37, 15, 38, 8, 24, 6, 30, 8, 15, 18, 34, 5, 5, 4, 13, 1, 2, 13, 12, 42, 9, 6, 31, 19, 14, 10, 16, 20, 11, 1, 56, 12, 16, 9, 38, 38, 49, 8, 34, 43, 7, 28, 10, 32, 23, 22, 1, 29, 81, 1, 45, 26, 15, 9, 1, 34, 32, 20, 22, 14, 32, 73, 31, 18, 93, 38, 54, 10, 41, 1, 25, 13, 18, 9, 64, 17, 28, 24, 26, 47, 41, 13, 31, 1, 1, 9, 7, 5, 13, 20, 34, 38, 27, 24, 39, 14, 16, 40, 60, 69, 57, 60, 57, 33, 47, 11, 5, 17, 33, 43, 35, 27, 33, 102, 18, 15, 40, 35, 47, 43, 15, 32, 50, 25, 45, 51, 42, 28, 21, 19, 42, 22, 26, 48, 16, 30, 54, 31, 16, 14, 14, 20, 17, 9, 18, 29, 15, 26, 26, 19, 30, 36, 1, 21, 32, 56, 28, 32, 46, 25, 26, 32, 29, 29, 28, 18, 17, 48, 23, 27, 22, 1, 33, 20, 38, 70, 10, 2, 26, 31, 27, 13, 31, 20, 17, 37, 36, 18, 36, 18, 42, 20, 32, 18, 17, 12, 15, 40, 17, 7, 22, 4, 25, 34, 48, 9, 21, 40, 41, 26, 84, 47, 45, 51, 19, 19, 21, 68, 9, 20, 11, 15, 28, 51, 16, 22, 26, 51, 33, 31, 12, 58, 37, 24, 30, 26, 48, 30, 34, 28, 36, 63, 15, 10, 15, 26, 68, 1, 1, 28, 37, 25, 38, 4, 19, 16, 67, 39, 16, 38, 32, 60, 10, 37, 51, 44, 7, 30, 21, 11, 46, 20, 14, 48, 22, 62, 39, 28, 15, 32, 6, 16, 7, 32, 37, 38, 25, 53, 50, 40, 38, 53, 9, 28, 13, 47, 11, 13, 14, 25, 21, 19, 12, 42, 45, 24, 58, 1, 28, 13, 26, 23, 14, 17, 20, 33, 11, 28, 44, 22, 40, 65, 47, 37, 42, 57, 21, 28, 35, 16, 29, 28, 8, 17, 17, 23, 87, 24, 47, 33, 43, 6, 7, 28, 23, 28, 69, 9, 17, 9, 35, 77, 2, 31, 11, 36, 33, 43, 59, 22, 13, 18, 36, 21, 5, 4, 35, 12, 1, 33, 20, 1, 32, 31, 11, 18, 43, 21, 27, 26, 42, 22, 18, 20, 46, 83, 23, 50, 6, 38, 38, 4, 36, 46, 35, 10, 18, 38, 26, 9, 4, 42, 32, 46, 96, 26, 22, 37, 32, 12, 10, 42, 26, 17, 25, 17, 20, 43, 39, 34, 27, 41, 12, 58, 28, 19, 17, 22, 43, 7, 76, 33, 49, 29, 24, 69, 17, 16, 37, 63, 1, 58, 9, 33, 32, 34, 30, 77, 34, 19, 15, 7, 45, 25, 2, 25, 21, 16, 9, 13, 26, 8, 43, 24, 30, 21, 26, 23, 19, 46, 22, 12, 26, 12, 63, 11, 47, 36, 23, 56, 33, 27, 19, 19, 51, 35, 28, 21, 30, 22, 18, 37, 27, 4, 45, 32, 5, 7, 28, 22, 21, 10, 4, 46, 28, 40, 25, 7, 19, 50, 8, 29, 33, 35, 44, 24, 64, 42, 2, 20, 18, 37, 33, 15, 18, 15, 8, 42, 29, 39, 9, 32, 51, 24, 11, 46, 26, 14, 20, 62, 24, 34, 20, 50, 1, 15, 21, 37, 39, 10, 37, 16, 74, 25, 21, 18, 21, 30, 20, 68, 22, 80, 25, 20, 4, 33, 17, 17, 23, 28, 30, 19, 25, 21, 26, 28, 22, 21, 13, 34, 34, 38, 58, 15, 34, 42, 19, 10, 16, 22, 29, 38, 32, 21, 44, 69, 35, 33, 1, 24, 78, 19, 64, 10, 37, 1, 26, 30, 15, 27, 49, 65, 30, 27, 36, 61, 13, 40, 3, 24, 18, 84, 10, 33, 19, 20, 21, 10, 39, 40, 18, 27, 6, 9, 20, 26, 18, 53, 23, 18, 17, 12, 129, 31, 9, 12, 19, 23, 28, 24, 7, 53, 50, 25, 42, 6, 21, 19, 2, 32, 28, 6, 14, 18, 24, 24, 24, 46, 24, 1, 59, 15, 40, 23, 21, 7, 8, 17, 39, 5, 31, 6, 45, 11, 38, 26, 12, 29, 38, 9, 40, 37, 24, 16, 18, 13, 31, 18, 2, 35, 19, 36, 18, 14, 12, 13, 31, 3, 10, 43, 25, 41, 65, 45, 27, 42, 2, 33, 13, 1, 44, 24, 10, 15, 21, 58, 25, 22, 30, 3, 8, 31, 18, 37, 74, 38, 62, 18, 10, 19, 94, 20, 21, 24, 90, 12, 33, 15, 34, 44, 27, 26, 24, 21, 7, 9, 24, 34, 13, 29, 33, 34, 41, 36, 64, 30, 17, 39, 44, 32, 95, 29, 35, 36, 39, 24, 16, 27, 49, 77, 22, 10, 18, 8, 43, 13, 6, 25, 20, 75, 29, 1, 27, 13, 1, 39, 26, 14, 26, 29, 29, 60, 18, 82, 42, 20, 32, 6, 26, 89, 60, 38, 86, 42, 25, 28, 28, 2, 4, 37, 26, 21, 30, 24, 11, 35, 23, 21, 16, 34, 40, 15, 8, 38, 15, 52, 23, 39, 22, 28, 37, 16, 29, 101, 7, 1, 25, 28, 22, 15, 28, 38, 48, 20, 21, 17, 7, 9, 10, 23, 45, 26, 27, 50, 33, 31, 14, 18, 28, 36, 15, 23, 29, 105, 64, 33, 24, 45, 33, 18, 11, 10, 4, 43, 22, 1, 3, 4, 1, 18, 3, 11, 38, 27, 25, 28, 85, 27, 143, 37, 16, 19, 27, 30, 31, 29, 36, 9, 36, 21, 25, 27, 55, 27, 52, 22, 29, 37, 41, 20, 20, 35, 24, 32, 5, 30, 19, 22, 28, 24, 32, 39, 25, 49, 26, 15, 7, 40, 37, 35, 18, 17, 2, 2, 37, 32, 18, 38, 14, 20, 26, 12, 26, 35, 37, 37, 13, 26, 66, 37, 68, 24, 11, 5, 23, 32, 19, 33, 48, 17, 15, 42, 31, 5, 25, 13, 39, 51, 27, 6, 17, 38, 13, 22, 5, 17, 21, 1, 1, 4, 1, 1, 2, 5, 1, 1, 1, 1, 1, 1, 1, 1, 1, 1, 1, 1, 1, 1, 2, 1, 9, 28, 1, 1, 1, 32, 28, 22, 9, 24, 17, 32, 21, 34, 12, 20, 13, 6, 29, 9, 20, 26, 24, 7, 24, 10, 42, 8, 27, 27, 15, 11, 19, 20, 13, 26, 47, 43, 16, 40, 26, 36, 10, 48, 26, 23, 38, 36, 27, 17, 38, 17, 32, 21, 31, 19, 23, 29, 38, 8, 25, 35, 21, 14, 31, 48, 47, 11, 23, 64, 32, 1, 28, 26, 1, 19, 63, 28, 49, 23, 6, 8, 14, 20, 26, 7, 29, 9, 11, 44, 2, 19, 32, 41, 9, 8, 19, 29, 6, 42, 1, 27, 20, 28, 1, 38, 33, 38, 19, 37, 34, 22, 23, 29, 20, 25, 6, 15, 12, 52, 36, 39, 28, 109, 49, 19, 21, 13, 18, 6, 38, 37, 32, 6, 1, 12, 64, 27, 25, 22, 38, 33, 20, 21, 59, 12, 4, 8, 20, 14, 7, 11, 15, 18, 35, 30, 28, 14, 18, 16, 12, 6, 21, 35, 33, 17, 6, 23, 17, 22, 18, 28, 30, 36, 12, 23, 13, 23, 27, 39, 22, 41, 31, 8, 20, 5, 34, 10, 30, 22, 3, 30, 18, 14, 122, 39, 47, 18, 69, 19, 80, 1, 3, 11, 9, 9, 38, 41, 1, 14, 20, 39, 29, 32, 23, 32, 20, 15, 25, 30, 24, 18, 31, 60, 54, 25, 45, 43, 64, 11, 43, 4, 22, 5, 16, 97, 28, 35, 19, 9, 63, 24, 22, 48, 21, 21, 17, 3, 44, 59, 9, 64, 54, 20, 8, 31, 36, 7, 32, 35, 36, 45, 43, 10, 44, 16, 18, 32, 30, 32, 47, 28, 53, 24, 15, 29, 14, 19, 14, 57, 23, 39, 14, 52, 16, 49, 61, 7, 9, 46, 26, 73, 40, 37, 25, 15, 40, 7, 71, 64, 57, 32, 19, 21, 30, 42, 25, 18, 24, 66, 10, 12, 18, 42, 14, 26, 8, 1, 47, 31, 64, 78, 15, 29, 26, 30, 26, 31, 9, 42, 16, 25, 23, 16, 35, 23, 138, 28, 23, 22, 17, 63, 1, 6, 8, 7, 33, 57, 61, 40, 27, 13, 28, 34, 41, 9, 10, 97, 25, 3, 25, 19, 20, 30, 15, 64, 21, 19, 24, 24, 27, 22, 45, 35, 29, 32, 37, 21, 17, 4, 34, 8, 38, 23, 20, 22, 39, 33, 16, 14, 4, 9, 19, 5, 98, 1, 26, 23, 26, 7, 24, 21, 22, 24, 33, 36, 18, 15, 52, 27, 7, 50, 30, 25, 37, 30, 21, 42, 21, 4, 21, 30, 13, 28, 20, 55, 13, 41, 28, 9, 34, 34, 29, 67, 32, 24, 42, 10, 15, 49, 45, 18, 25, 20, 6, 4, 1, 1, 50, 14, 31, 1, 40, 22, 5, 8, 22, 51, 33, 26, 22, 58, 32, 16, 56, 26, 35, 18, 39, 29, 39, 89, 52, 55, 8, 61, 26, 24, 51, 10, 29, 29, 23, 27, 23, 48, 21, 8, 18, 1, 27, 151, 47, 15, 40, 20, 38, 6, 1, 46, 13, 14, 26, 36, 9, 7, 24, 14, 8, 5, 18, 21, 23, 3, 4, 12, 55, 10, 29, 41, 27, 21, 17, 31, 36, 30, 17, 72, 20, 1, 19, 15, 5, 18, 3, 28, 24, 15, 30, 10, 22, 9, 31, 19, 35, 43, 31, 28, 27, 44, 67, 26, 39, 17, 38, 20, 20, 7, 28, 7, 44, 3, 14, 24, 63, 32, 31, 39, 50, 24, 26, 24, 29, 33, 58, 30, 20, 29, 47, 56, 1, 7, 25, 24, 53, 30, 31, 8, 18, 5, 10, 13, 86, 1, 36, 18, 45, 24, 3, 27, 7, 7, 55, 26, 3, 9, 31, 26, 25, 33, 26, 71, 31, 21, 41, 11, 43, 26, 45, 36, 4, 32, 54, 21, 16, 1, 66, 48, 21, 57, 30, 15, 22, 1, 21, 1, 25, 93, 25, 38, 63, 26, 14, 33, 43, 55, 42, 22, 40, 62, 12, 36, 43, 66, 30, 37, 12, 24, 20, 40, 26, 44, 6, 38, 25, 12, 22, 1, 30, 58, 6, 20, 27, 21, 31, 34, 41, 15, 38, 33, 26, 17, 47, 19, 27, 47, 27, 9, 23, 20, 21, 104, 31, 5, 42, 29, 63, 28, 88, 31, 6, 62, 33, 31, 17, 10, 27, 33, 22, 43, 27, 26, 18, 25, 6, 50, 34, 33, 41, 64, 43, 44, 39, 32, 37, 26, 21, 12, 15, 29, 31, 3, 18, 30, 57, 41, 24, 59, 33, 26, 19, 26, 15, 47, 35, 18, 25, 27, 1, 45, 298, 10, 19, 49, 24, 15, 28, 16, 21, 15, 6, 22, 17, 31, 62, 33, 8, 14, 15, 6, 61, 12, 56, 11, 83, 38, 5, 27, 60, 23, 21, 38, 17, 3, 27, 30, 23, 57, 31, 16, 49, 28, 16, 102, 31, 24, 32, 32, 35, 27, 30, 28, 20, 30, 11, 41, 20, 24, 23, 27, 18, 14, 6, 55, 11, 64, 38, 65, 103, 34, 17, 22, 25, 110, 27, 27, 23, 8, 22, 43, 17, 52, 25, 14, 45, 29, 29, 27, 65, 51, 38, 31, 23, 29, 20, 43, 28, 28, 31, 23, 27, 28, 7, 18, 38, 23, 30, 12, 6, 37, 26, 34, 24, 27, 3, 34, 5, 16, 12, 47, 2, 32, 20, 38, 19, 24, 30, 30, 4, 22, 20, 31, 35, 25, 11, 40, 26, 13, 31, 14, 28, 11, 33, 9, 24, 54, 53, 14, 32, 78, 26, 43, 29, 159, 20, 79, 15, 24, 56, 29, 17, 18, 28, 19, 14, 34, 129, 85, 36, 35, 37, 16, 33, 3, 2, 39, 38, 24, 53, 23, 19, 66, 30, 63, 24, 33, 43, 36, 18, 62, 31, 22, 18, 1, 34, 20, 37, 31, 41, 42, 33, 102, 1, 10, 42, 35, 2, 25, 18, 25, 18, 49, 4, 32, 60, 46, 3, 122, 29, 34, 11, 29, 53, 19, 11, 57, 20, 35, 8, 17, 57, 26, 22, 6, 25, 15, 17, 15, 16, 8, 5, 16, 36, 28, 24, 40, 69, 14, 26, 60, 36, 24, 40, 16, 44, 6, 29, 25, 33, 41, 15, 12, 13, 8, 26, 58, 23, 4, 27, 42, 26, 26, 25, 110, 22, 9, 30, 6, 49, 8, 32, 82, 11, 37, 6, 28, 31, 34, 26, 79, 14, 59, 20, 63, 6, 1, 21, 46, 36, 2, 21, 39, 26, 33, 21, 52, 91, 23, 43, 22, 23, 23, 47, 5, 105, 39, 2, 86, 16, 12, 32, 41, 15, 23, 46, 26, 29, 8, 24, 55, 29, 15, 19, 45, 51, 30, 26, 39, 39, 22, 38, 25, 13, 13, 31, 24, 21, 27, 39, 25, 18, 38, 20, 32, 39, 6, 17, 54, 40, 16, 39, 9, 37, 40, 15, 23, 61, 10, 27, 41, 37, 23, 55, 9, 23, 7, 26, 24, 10, 57, 13, 25, 18, 32, 38, 16, 36, 9, 27, 11, 24, 11, 48, 18, 15, 14, 26, 55, 30, 75, 66, 24, 25, 9, 26, 40, 47, 51, 10, 31, 1, 6, 13, 7, 95, 12, 18, 55, 42, 16, 23, 24, 25, 18, 37, 14, 44, 15, 1, 15, 24, 27, 16, 4, 54, 10, 43, 33, 24, 50, 29, 46, 26, 22, 46, 12, 25, 26, 25, 58, 8, 33, 32, 36, 17, 22, 26, 15, 35, 54, 55, 4, 32, 80, 33, 24, 41, 28, 58, 17, 16, 44, 36, 29, 23, 59, 33, 18, 16, 34, 18, 9, 30, 19, 45, 12, 27, 28, 24, 30, 25, 1, 21, 35, 22, 31, 26, 22, 56, 35, 22, 34, 2, 138, 1, 5, 4, 41, 4, 50, 36, 2, 1, 1, 2, 3, 4, 1, 30, 4, 12, 19, 21, 22, 28, 17, 9, 9, 40, 4, 49, 8, 19, 31, 25, 6, 12, 22, 33, 18, 10, 1, 26, 38, 25, 19, 18, 46, 21, 46, 50, 19, 16, 24, 17, 20, 17, 11, 11, 32, 6, 12, 29, 46, 11, 11, 35, 24, 17, 8, 7, 3, 1, 8, 2, 22, 33, 13, 35, 15, 69, 5, 60, 18, 17, 13, 70, 27, 35, 6, 1, 44, 40, 26, 24, 33, 31, 32, 32, 15, 41, 22, 6, 23, 11, 24, 1, 19, 11, 11, 6, 122, 16, 13, 29, 35, 28, 16, 26, 25, 20, 22, 20, 15, 31, 8, 34, 36, 11, 17, 44, 18, 34, 30, 44, 34, 23, 43, 50, 12, 75, 35, 24, 49, 16, 24, 30, 49, 16, 29, 32, 20, 1, 36, 1, 4, 33, 23, 24, 7, 11, 38, 46, 62, 37, 39, 31, 38, 26, 21, 34, 55, 38, 9, 44, 38, 35, 27, 91, 30, 25, 24, 41, 15, 33, 32, 23, 42, 11, 22, 16, 13, 7, 40, 24, 9, 40, 46, 26, 18, 22, 51, 39, 11, 28, 11, 54, 29, 24, 37, 11, 32, 27, 12, 46, 18, 25, 9, 49, 45, 47, 15, 53, 23, 30, 35, 6, 42, 28, 59, 23, 49, 2, 12, 22, 40, 35, 12, 8, 13, 33, 28, 1, 185, 17, 34, 10, 29, 21, 44, 32, 19, 18, 24, 16, 9, 44, 22, 32, 10, 36, 32, 28, 15, 13, 4, 66, 10, 12, 27, 6, 3, 76, 27, 25, 20, 24, 21, 30, 31, 54, 47, 17, 40, 25, 8, 15, 52, 53, 41, 4, 35, 33, 27, 40, 71, 42, 24, 17, 23, 33, 44, 48, 24, 37, 16, 77, 15, 33, 47, 54, 12, 23, 41, 22, 32, 45, 11, 18, 26, 11, 22, 20, 22, 47, 20, 13, 20, 26, 48, 24, 18, 6, 18, 21, 20, 20, 22, 24, 67, 101, 32, 29, 8, 11, 6, 2, 2, 1, 5, 104, 26, 70, 31, 49, 27, 22, 84, 10, 36, 22, 74, 33, 19, 16, 21, 17, 57, 20, 57, 65, 10, 2, 15, 19, 21, 142, 11, 11, 16, 22, 13, 9, 27, 41, 1, 10, 41, 56, 17, 32, 16, 1, 30, 9, 83, 42, 10, 31, 30, 13, 8, 1, 23, 32, 60, 14, 16, 22, 4, 60, 18, 36, 7, 21, 17, 23, 5, 19, 10, 33, 33, 12, 21, 25, 10, 11, 27, 32, 28, 21, 28, 41, 38, 1, 23, 90, 32, 33, 23, 18, 32, 23, 30, 28, 41, 28, 22, 40, 29, 32, 30, 28, 21, 32, 12, 44, 18, 48, 31, 19, 43, 26, 27, 37, 60, 45, 66, 10, 62, 23, 35, 38, 47, 35, 33, 99, 30, 11, 6, 3, 24, 72, 37, 23, 25, 32, 37, 13, 15, 50, 41, 41, 47, 41, 4, 39, 17, 26, 42, 8, 23, 40, 15, 15, 34, 11, 37, 25, 17, 43, 23, 24, 17, 26, 27, 20, 32, 21, 18, 31, 18, 31, 3, 7, 8, 26, 36, 25, 17, 12, 22, 16, 43, 9, 10, 36, 29, 35, 21, 30, 18, 14, 62, 66, 42, 39, 36, 7, 37, 16, 34, 17, 17, 12, 32, 10, 16, 7, 2, 1, 17, 31, 9, 14, 7, 41, 39, 27, 33, 12, 50, 13, 69, 37, 54, 18, 19, 27, 32, 30, 18, 30, 15, 7, 2, 35, 38, 16, 24, 23, 13, 75, 30, 26, 31, 109, 10, 20, 17, 21, 10, 20, 4, 26, 13, 14, 26, 37, 3, 13, 35, 7, 44, 78, 49, 19, 23, 27, 21, 11, 25, 48, 18, 17, 30, 33, 199, 42, 7, 17, 46, 15, 9, 4, 51, 25, 47, 32, 26, 23, 31, 98, 6, 31, 45, 31, 22, 23, 12, 13, 36, 24, 11, 1, 11, 1, 1, 5, 1, 1, 2, 2, 28, 1, 1, 3, 15, 1, 14, 1, 1, 1, 14, 1, 6, 1, 63, 26, 15, 2, 27, 12, 95, 18, 23, 52, 28, 25, 7, 26, 33, 24, 58, 13, 23, 14, 4, 14, 15, 11, 10, 2, 23, 18, 31, 16, 13, 30, 46, 11, 38, 33, 44, 34, 27, 25, 13, 27, 37, 25, 27, 73, 34, 2, 37, 26, 43, 34, 38, 40, 8, 51, 24, 38, 65, 61, 35, 68, 22, 21, 19, 27, 42, 28, 19, 23, 3, 2, 55, 55, 6, 33, 58, 22, 22, 51, 32, 46, 35, 32, 29, 28, 51, 13, 28, 42, 40, 28, 24, 52, 38, 20, 59, 40, 25, 33, 32, 28, 34, 32, 1, 39, 12, 87, 9, 31, 16, 23, 67, 47, 24, 32, 20, 32, 3, 13, 26, 13, 14, 77, 22, 32, 36, 25, 49, 27, 22, 18, 1, 27, 65, 67, 19, 29, 28, 53, 57, 18, 15, 37, 26, 31, 28, 32, 25, 22, 25, 7, 1, 37, 27, 38, 25, 2, 20, 15, 24, 16, 16, 4, 20, 19, 18, 21, 15, 40, 22, 37, 24, 32, 38, 27, 26, 19, 22, 22, 34, 22, 19, 11, 55, 9, 32, 30, 69, 41, 19, 32, 66, 19, 72, 22, 31, 27, 5, 10, 64, 2, 26, 26, 41, 22, 40, 39, 11, 43, 27, 40, 9, 22, 34, 76, 59, 29, 37, 60, 33, 41, 39, 34, 59, 21, 36, 28, 43, 32, 6, 38, 9, 27, 13, 31, 49, 7, 6, 20, 1, 22, 3, 21, 17, 31, 9, 51, 49, 38, 12, 32, 2, 6, 24, 34, 1, 10, 18, 40, 32, 50, 10, 24, 30, 17, 35, 34, 33, 41, 17, 31, 49, 11, 23, 38, 36, 41, 7, 28, 29, 31, 26, 38, 31, 29, 11, 28, 18, 26, 17, 34, 9, 23, 35, 48, 60, 15, 24, 28, 17, 33, 26, 35, 1, 34, 15, 5, 23, 35, 33, 25, 42, 2, 5, 37, 13, 25, 9, 2, 50, 12, 25, 5, 38, 50, 10, 59, 14, 40, 2, 42, 32, 23, 22, 10, 25, 38, 1, 15, 18, 8, 37, 19, 20, 47, 27, 35, 15, 23, 35, 18, 6, 11, 1, 1, 16, 32, 28, 59, 11, 57, 29, 19, 20, 18, 30, 68, 35, 10, 25, 22, 26, 26, 31, 5, 23, 26, 40, 6, 6, 35, 68, 46, 14, 37, 53, 34, 29, 50, 44, 72, 53, 21, 44, 39, 36, 22, 15, 99, 46, 25, 46, 55, 29, 9, 21, 7, 23, 2, 21, 18, 9, 11, 30, 52, 7, 40, 43, 17, 59, 21, 18, 11, 9, 27, 15, 14, 7, 21, 47, 68, 10, 45, 43, 17, 33, 16, 31, 31, 5, 41, 63, 28, 28, 32, 65, 21, 27, 24, 23, 14, 30, 8, 55, 34, 8, 74, 17, 36, 25, 9, 28, 19, 36, 15, 4, 6, 18, 11, 13, 7, 9, 5, 53, 26, 19, 19, 28, 17, 26, 17, 10, 42, 19, 17, 81, 59, 29, 27, 7, 58, 115, 46, 27, 65, 11, 24, 16, 20, 21, 145, 31, 25, 32, 25, 12, 49, 27, 34, 30, 7, 18, 61, 87, 91, 22, 19, 27, 27, 52, 15, 26, 52, 27, 30, 36, 25, 20, 24, 14, 4, 38, 9, 33, 36, 46, 20, 27, 21, 40, 25, 24, 33, 32, 37, 13, 42, 47, 20, 24, 79, 14, 13, 14, 20, 27, 28, 20, 7, 17, 32, 21, 58, 39, 30, 22, 39, 28, 9, 4, 12, 39, 11, 21, 23, 39, 31, 41, 22, 32, 31, 32, 10, 44, 47, 7, 28, 17, 31, 25, 32, 25, 33, 32, 31, 38, 1, 31, 8, 29, 9, 14, 28, 3, 37, 23, 60, 11, 17, 17, 15, 69, 13, 14, 25, 62, 16, 33, 28, 50, 43, 41, 24, 29, 11, 27, 17, 15, 35, 17, 30, 24, 25, 14, 4, 94, 22, 34, 24, 27, 19, 15, 12, 32, 6, 35, 56, 27, 21, 20, 24, 18, 34, 55, 27, 25, 27, 35, 62, 40, 43, 26, 27, 28, 19, 16, 22, 38, 46, 42, 26, 40, 26, 34, 13, 31, 12, 24, 34, 24, 11, 11, 32, 23, 8, 38, 20, 29, 4, 26, 25, 30, 32, 17, 26, 49, 29, 25, 119, 27, 42, 4, 21, 58, 24, 36, 51, 9, 24, 15, 31, 24, 53, 49, 7, 54, 22, 12, 5, 34, 16, 28, 28, 23, 31, 33, 32, 43, 17, 8, 70, 27, 37, 32, 51, 8, 22, 24, 26, 10, 8, 57, 42, 34, 26, 22, 12, 22, 116, 32, 26, 35, 17, 64, 17, 23, 30, 1, 40, 13, 19, 46, 35, 127, 48, 26, 31, 22, 28, 21, 6, 14, 15, 203, 20, 39, 26, 22, 76, 18, 28, 12, 18, 23, 25, 29, 18, 26, 22, 42, 17, 8, 41, 4, 2, 5, 24, 1, 29, 31, 33, 33, 10, 30, 3, 30, 15, 45, 20, 37, 27, 30, 39, 31, 51, 50, 11, 22, 5, 37, 33, 4, 10, 28, 1, 8, 21, 43, 17, 20, 6, 7, 19, 1, 1, 41, 39, 1, 27, 8, 28, 23, 67, 26, 8, 11, 32, 8, 76, 20, 34, 8, 32, 146, 35, 37, 20, 19, 51, 24, 23, 15, 25, 39, 26, 29, 9, 26, 7, 24, 17, 23, 41, 44, 28, 17, 21, 62, 28, 59, 56, 10, 28, 19, 38, 40, 36, 1, 38, 33, 18, 29, 26, 13, 25, 26, 26, 9, 8, 20, 12, 7, 35, 30, 12, 41, 9, 39, 17, 28, 22, 28, 15, 47, 44, 28, 38, 26, 6, 27, 51, 22, 32, 31, 59, 18, 23, 6, 19, 16, 14, 36, 46, 30, 29, 15, 9, 37, 22, 32, 13, 70, 14, 7, 21, 54, 32, 32, 26, 163, 8, 40, 45, 17, 16, 38, 61, 26, 10, 15, 35, 36, 4, 35, 23, 24, 26, 24, 29, 31, 21, 58, 21, 13, 22, 21, 29, 38, 44, 24, 14, 53, 19, 8, 13, 8, 22, 25, 41, 8, 83, 24, 32, 13, 30, 11, 8, 17, 38, 32, 1, 23, 48, 14, 39, 26, 53, 29, 12, 34, 13, 29, 7, 24, 3, 55, 35, 22, 26, 41, 2, 39, 12, 7, 46, 42, 24, 48, 23, 26, 13, 17, 23, 13, 62, 1, 24, 14, 23, 8, 10, 8, 11, 26, 45, 109, 14, 31, 23, 22, 35, 15, 40, 17, 64, 16, 27, 14, 47, 25, 1, 7, 22, 16, 21, 21, 18, 36, 49, 39, 19, 42, 38, 65, 8, 72, 4, 29, 21, 34, 52, 31, 1, 16, 1, 31, 25, 39, 49, 20, 20, 7, 5, 35, 13, 13, 30, 42, 24, 43, 40, 51, 24, 13, 18, 13, 34, 52, 48, 29, 44, 7, 17, 19, 10, 18, 28, 21, 53, 43, 23, 36, 38, 51, 40, 42, 6, 15, 18, 5, 16, 89, 1, 16, 88, 9, 9, 52, 30, 3, 22, 17, 19, 38, 22, 7, 43, 7, 47, 7, 41, 51, 25, 22, 77, 23, 5, 31, 1, 51, 17, 2, 74, 3, 16, 84, 12, 19, 26, 50, 24, 4, 13, 8, 10, 46, 15, 20, 3, 31, 46, 26, 34, 39, 27, 27, 41, 19, 31, 38, 33, 34, 22, 17, 32, 29, 22, 43, 36, 38, 15, 9, 20, 25, 41, 43, 35, 2, 24, 37, 4, 25, 22, 15, 29, 35, 33, 22, 12, 17, 3, 32, 25, 33, 58, 32, 48, 12, 12, 9, 1, 43, 30, 6, 25, 18, 6, 9, 14, 25, 22, 25, 19, 17, 36, 10, 18, 34, 30, 38, 41, 49, 38, 21, 15, 10, 24, 1, 17, 17, 39, 53, 32, 30, 32, 11, 38, 30, 50, 49, 28, 33, 38, 21, 16, 33, 8, 36, 32, 37, 44, 14, 6, 17, 5, 23, 35, 40, 12, 15, 25, 24, 36, 28, 32, 31, 9, 19, 36, 26, 35, 21, 24, 41, 21, 46, 7, 1, 31, 12, 49, 12, 27, 34, 27, 16, 36, 20, 24, 18, 14, 28, 7, 27, 12, 96, 15, 23, 27, 67, 27, 33, 36, 18, 43, 11, 42, 20, 38, 39, 27, 47, 23, 37, 16, 10, 25, 15, 11, 24, 20, 48, 6, 21, 15, 21, 48, 19, 14, 20, 9, 33, 34, 18, 54, 21, 66, 11, 4, 15, 35, 20, 37, 45, 17, 41, 20, 29, 60, 37, 13, 27, 35, 97, 59, 32, 20, 34, 80, 34, 28, 26, 44, 38, 28, 33, 16, 20, 46, 121, 46, 37, 40, 19, 32, 24, 19, 31, 47, 34, 24, 29, 2, 12, 78, 10, 12, 53, 31, 20, 8, 14, 52, 36, 11, 12, 15, 29, 17, 79, 5, 11, 6, 55, 15, 10, 18, 19, 24, 30, 7, 11, 7, 18, 13, 70, 4, 50, 11, 12, 29, 100, 17, 56, 21, 8, 14, 5, 38, 29, 111, 54, 40, 50, 31, 21, 40, 20, 29, 21, 22, 56, 13, 33, 49, 27, 6, 48, 16, 68, 20, 22, 26, 27, 4, 21, 22, 26, 38, 63, 18, 33, 36, 42, 17, 21, 23, 10, 17, 10, 31, 38, 9, 70, 50, 18, 62, 26, 17, 28, 29, 63, 28, 61, 76, 19, 15, 31, 10, 65, 22, 19, 15, 15, 36, 34, 53, 37, 85, 21, 9, 22, 22, 11, 33, 19, 70, 38, 26, 17, 18, 44, 12, 22, 17, 3, 49, 1, 60, 49, 44, 23, 10, 18, 18, 32, 29, 23, 25, 3, 42, 23, 51, 40, 19, 52, 5, 67, 41, 28, 7, 19, 21, 8, 44, 33, 48, 19, 13, 9, 98, 20, 34, 51, 29, 47, 35, 32, 25, 28, 41, 80, 24, 30, 32, 10, 12, 33, 41, 35, 16, 32, 42, 24, 25, 13, 11, 24, 25, 25, 28, 1, 22, 15, 21, 39, 35, 21, 28, 22, 11, 19, 28, 38, 3, 42, 18, 11, 87, 109, 13, 46, 31, 39, 36, 30, 1, 20, 26, 27, 28, 23, 5, 18, 40, 9, 90, 31, 33, 19, 21, 20, 17, 21, 37, 42, 40, 25, 24, 46, 31, 39, 32, 20, 10, 24, 18, 45, 9, 14, 53, 50, 52, 26, 38, 37, 39, 4, 1, 10, 29, 10, 54, 24, 23, 29, 19, 36, 22, 17, 14, 16, 27, 2, 22, 35, 40, 27, 46, 13, 36, 5, 34, 40, 46, 21, 9, 51, 25, 10, 12, 60, 35, 16, 4, 7, 8, 1, 15, 3, 17, 35, 36, 17, 68, 1, 2, 32, 49, 29, 26, 21, 27, 27, 14, 58, 32, 48, 75, 35, 33, 74, 14, 19, 24, 44, 16, 23, 8, 23, 10, 7, 27, 55, 24, 17, 27, 17, 46, 70, 26, 49, 42, 21, 26, 17, 19, 26, 41, 12, 43, 26, 7, 17, 38, 37, 43, 133, 6, 9, 32, 24, 53, 1, 41, 22, 48, 27, 57, 26, 1, 16, 16, 21, 3, 18, 18, 27, 16, 55, 24, 9, 15, 36, 45, 30, 32, 26, 94, 1, 27, 18, 16, 21, 15, 10, 12, 13, 12, 32, 24, 29, 11, 10, 46, 12, 3, 20, 55, 25, 38, 26, 28, 31, 42, 47, 19, 23, 44, 26, 24, 32, 36, 31, 5, 48, 27, 68, 53, 43, 16, 17, 16, 40, 34, 25, 37, 27, 104, 17, 38, 58, 14, 6, 4, 65, 1, 23, 15, 22, 11, 23, 11, 16, 39, 23, 18, 25, 8, 32, 44, 26, 83, 21, 20, 2, 15, 18, 22, 17, 27, 36, 30, 25, 33, 1, 15, 20, 58, 6, 52, 47, 8, 21, 21, 37, 42, 18, 22, 65, 26, 21, 16, 24, 16, 34, 1, 44, 1, 27, 24, 44, 68, 17, 70, 44, 5, 16, 10, 58, 70, 29, 17, 26, 21, 35, 21, 5, 18, 1, 5, 35, 5, 16, 29, 14, 14, 19, 8, 55, 38, 22, 59, 20, 13, 40, 22, 22, 24, 10, 16, 37, 7, 29, 4, 3, 24, 24, 17, 3, 42, 1, 19, 13, 35, 34, 36, 29, 19, 22, 47, 33, 45, 24, 27, 13, 17, 29, 6, 29, 28, 17, 26, 32, 28, 30, 4, 26, 18, 25, 49, 38, 48, 32, 42, 14, 20, 25, 36, 32, 40, 2, 35, 18, 28, 1, 36, 10, 39, 20, 24, 71, 16, 36, 40, 19, 42, 24, 49, 20, 10, 32, 17, 48, 61, 30, 40, 25, 38, 9, 23, 59, 27, 17, 14, 29, 27, 27, 48, 71, 20, 6, 21, 8, 1, 21, 5, 11, 45, 43, 50, 37, 16, 27, 12, 37, 22, 47, 57, 6, 12, 24, 54, 56, 32, 20, 20, 26, 35, 24, 25, 26, 24, 15, 87, 14, 45, 38, 40, 51, 19, 32, 45, 27, 41, 24, 45, 42, 26, 28, 36, 70, 39, 4, 3, 43, 78, 39, 20, 10, 8, 26, 17, 34, 8, 49, 13, 17, 29, 13, 22, 17, 11, 10, 21, 28, 14, 18, 28, 17, 12, 24, 53, 25, 3, 13, 44, 26, 31, 38, 17, 1, 27, 15, 69, 6, 22, 22, 31, 44, 29, 36, 36, 16, 52, 29, 37, 9, 20, 22, 4, 22, 39, 51, 6, 34, 29, 19, 6, 16, 3, 40, 25, 22, 33, 24, 80, 30, 18, 56, 20, 24, 28, 47, 29, 49, 30, 47, 31, 19, 45, 28, 16, 4, 20, 66, 59, 68, 3, 53, 30, 31, 35, 11, 34, 7, 6, 17, 45, 14, 35, 39, 31, 43, 19, 40, 23, 20, 34, 9, 7, 5, 27, 29, 48, 8, 46, 40, 18, 26, 21, 13, 60, 36, 52, 23, 11, 34, 74, 38, 28, 11, 27, 43, 36, 5, 9, 20, 17, 22, 24, 23, 4, 51, 43, 20, 19, 23, 42, 38, 46, 17, 9, 12, 33, 32, 1, 3, 23, 39, 18, 31, 19, 26, 48, 66, 18, 49, 18, 20, 18, 58, 24, 25, 22, 27, 26, 19, 62, 87, 17, 111, 12, 22, 42, 39, 24, 29, 15, 11, 27, 17, 68, 30, 23, 79, 28, 57, 26, 27, 31, 10, 40, 58, 24, 10, 23, 7, 5, 1, 13, 17, 3, 49, 32, 15, 21, 28, 6, 45, 40, 21, 33, 22, 15, 8, 48, 53, 26, 15, 1, 11, 31, 115, 12, 11, 1, 19, 43, 34, 15, 47, 23, 2, 6, 4, 9, 10, 32, 10, 48, 19, 170, 42, 14, 24, 35, 28, 16, 53, 12, 28, 19, 78, 14, 40, 30, 21, 30, 11, 13, 42, 19, 34, 17, 49, 33, 11, 28, 7, 18, 9, 18, 104, 32, 30, 1, 39, 47, 33, 44, 17, 1, 8, 65, 32, 28, 42, 24, 56, 31, 17, 31, 37, 34, 31, 17, 17, 24, 27, 14, 9, 1, 3, 4, 14, 33, 17, 17, 28, 6, 52, 11, 29, 25, 42, 21, 9, 24, 5, 1, 12, 31, 14, 5, 21, 27, 3, 22, 164, 8, 88, 9, 68, 26, 64, 29, 20, 39, 27, 24, 23, 25, 7, 23, 33, 12, 45, 14, 18, 33, 43, 19, 37, 21, 1, 52, 24, 19, 31, 15, 25, 25, 14, 41, 19, 33, 9, 38, 23, 64, 23, 34, 33, 1, 36, 53, 26, 46, 35, 29, 45, 16, 21, 9, 10, 30, 27, 32, 26, 28, 2, 25, 1, 29, 53, 21, 1, 41, 16, 32, 7, 8, 32, 16, 58, 63, 31, 33, 33, 16, 24, 28, 18, 23, 23, 61, 28, 38, 23, 18, 27, 19, 16, 53, 2, 15, 49, 23, 39, 38, 39, 10, 16, 66, 29, 15, 21, 17, 41, 36, 33, 1, 49, 13, 36, 59, 30, 14, 30, 29, 9, 79, 36, 81, 65, 1, 34, 29, 30, 74, 19, 1, 46, 11, 43, 20, 40, 39, 29, 7, 33, 32, 22, 1, 26, 24, 78, 40, 21, 37, 28, 8, 5, 36, 21, 27, 38, 37, 34, 15, 10, 17, 9, 5, 2, 36, 4, 21, 47, 23, 38, 76, 20, 21, 44, 27, 20, 10, 28, 23, 23, 29, 11, 37, 26, 28, 22, 40, 15, 19, 32, 27, 20, 32, 35, 17, 33, 22, 15, 28, 33, 34, 35, 33, 29, 47, 33, 34, 30, 16, 22, 10, 16, 2, 19, 2, 43, 17, 62, 21, 40, 6, 19, 28, 32, 4, 49, 18, 29, 24, 26, 31, 69, 25, 52, 14, 33, 32, 37, 25, 26, 23, 14, 14, 9, 17, 32, 35, 30, 20, 30, 22, 25, 31, 28, 20, 81, 33, 12, 24, 27, 60, 13, 34, 27, 7, 25, 5, 44, 52, 4, 18, 1, 28, 76, 45, 32, 27, 38, 14, 19, 12, 34, 30, 45, 44, 53, 22, 38, 52, 44, 21, 25, 70, 18, 23, 30, 24, 11, 30, 21, 21, 40, 21, 23, 39, 61, 7, 55, 48, 23, 31, 15, 32, 31, 29, 36, 15, 29, 6, 44, 26, 36, 24, 20, 16, 28, 17, 40, 42, 16, 26, 48, 1, 9, 13, 39, 40, 28, 52, 35, 39, 33, 27, 49, 24, 33, 16, 18, 39, 20, 7, 7, 24, 26, 48, 13, 63, 8, 32, 8, 22, 2, 19, 24, 89, 70, 41, 34, 34, 12, 37, 22, 19, 8, 36, 20, 76, 22, 29, 29, 22, 28, 24, 28, 43, 36, 123, 33, 29, 15, 7, 16, 92, 39, 26, 33, 14, 23, 29, 50, 40, 33, 27, 22, 16, 50, 2, 14, 7, 9, 24, 14, 29, 42, 20, 21, 26, 33, 40, 28, 18, 19, 24, 8, 9, 38, 13, 36, 13, 20, 39, 29, 20, 24, 33, 22, 61, 65, 24, 207, 22, 22, 22, 26, 26, 13, 23, 9, 42, 37, 7, 17, 12, 28, 25, 75, 23, 30, 24, 45, 18, 30, 18, 23, 25, 17, 23, 27, 23, 18, 34, 23, 45, 43, 51, 7, 34, 26, 18, 25, 26, 20, 10, 11, 25, 28, 18, 42, 29, 22, 47, 1, 27, 16, 38, 35, 36, 19, 48, 44, 23, 16, 42, 28, 20, 15, 21, 34, 46, 21, 29, 4, 85, 66, 19, 22, 1, 29, 31, 45, 40, 33, 28, 32, 25, 25, 16, 34, 19, 7, 35, 24, 21, 59, 49, 32, 34, 39, 50, 76, 13, 47, 22, 10, 2, 1, 11, 6, 11, 21, 44, 25, 11, 33, 3, 27, 1, 25, 19, 17, 27, 72, 37, 40, 28, 41, 26, 29, 12, 27, 34, 1, 40, 34, 23, 19, 16, 46, 23, 25, 29, 15, 68, 27, 22, 6, 104, 70, 14, 24, 36, 34, 35, 53, 38, 28, 44, 27, 48, 26, 23, 10, 33, 6, 12, 42, 23, 13, 2, 5, 31, 17, 37, 40, 16, 4, 20, 22, 22, 4, 2, 25, 65, 23, 10, 40, 26, 16, 70, 25, 32, 50, 46, 26, 61, 25, 25, 28, 20, 27, 71, 1, 15, 50, 25, 24, 65, 37, 60, 28, 33, 49, 32, 41, 29, 24, 21, 40, 27, 37, 24, 32, 58, 37, 30, 14, 30, 13, 34, 11, 24, 10, 29, 15, 17, 30, 104, 82, 22, 65, 21, 24, 14, 7, 10, 33, 15, 16, 5, 5, 25, 61, 18, 60, 41, 7, 19, 33, 29, 20, 2, 43, 25, 32, 1, 47, 55, 12, 25, 1, 12, 40, 7, 45, 68, 22, 24, 27, 56, 1, 75, 46, 30, 26, 30, 56, 14, 24, 46, 62, 18, 16, 15, 47, 14, 44, 9, 45, 33, 45, 18, 20, 6, 1, 34, 57, 30, 12, 38, 21, 16, 61, 31, 39, 19, 69, 12, 11, 11, 19, 10, 47, 94, 40, 9, 16, 34, 47, 19, 29, 28, 34, 4, 21, 37, 35, 23, 15, 29, 24, 1, 45, 2, 161, 43, 38, 22, 17, 31, 11, 26, 15, 6, 26, 24, 28, 2, 10, 1, 111, 47, 28, 10, 7, 28, 10, 16, 15, 19, 52, 31, 35, 15, 12, 33, 6, 10, 40, 16, 113, 9, 7, 1, 53, 1, 35, 51, 3, 65, 73, 25, 38, 30, 28, 1, 6, 35, 4, 14, 3, 36, 56, 38, 27, 26, 1, 33, 18, 39, 17, 23, 23, 19, 30, 25, 27, 26, 33, 29, 24, 37, 16, 15, 1, 13, 26, 18, 22, 82, 10, 8, 17, 21, 4, 10, 1, 20, 1, 33, 18, 15, 26, 54, 61, 46, 7, 13, 25, 44, 14, 26, 86, 23, 24, 78, 30, 8, 51, 33, 6, 11, 253, 15, 11, 20, 19, 29, 39, 28, 42, 22, 38, 29, 41, 22, 27, 33, 16, 23, 30, 33, 45, 20, 4, 29, 24, 38, 28, 17, 73, 12, 14, 23, 2, 16, 23, 36, 30, 38, 20, 18, 21, 64, 76, 34, 33, 23, 2, 26, 5, 45, 49, 52, 11, 50, 15, 7, 59, 4, 22, 27, 17, 8, 35, 48, 44, 9, 56, 32, 11, 41, 20, 78, 13, 18, 32, 79, 82, 1, 45, 9, 24, 20, 14, 29, 25, 26, 17, 33, 27, 23, 30, 31, 33, 34, 34, 39, 15, 13, 23, 34, 52, 31, 19, 26, 36, 29, 28, 27, 34, 25, 25, 69, 20, 8, 19, 19, 32, 66, 24, 60, 48, 11, 26, 22, 24, 16, 28, 26, 19, 32, 56, 26, 22, 64, 43, 44, 2, 22, 58, 18, 49, 21, 51, 30, 40, 9, 19, 11, 36, 32, 66, 19, 22, 19, 15, 28, 36, 1, 53, 45, 7, 31, 35, 22, 15, 50, 17, 22, 17, 33, 40, 28, 27, 31, 26, 21, 18, 38, 40, 15, 15, 5, 10, 1, 10, 9, 7, 67, 36, 1, 3, 77, 48, 29, 45, 30, 37, 39, 16, 19, 10, 75, 5, 10, 52, 40, 16, 10, 4, 40, 10, 21, 30, 39, 10, 31, 28, 24, 23, 58, 81, 15, 60, 37, 11, 5, 67, 15, 8, 29, 10, 1, 19, 32, 37, 13, 10, 21, 3, 49, 51, 19, 18, 31, 47, 25, 40, 30, 24, 30, 46, 1, 10, 14, 18, 17, 28, 13, 22, 13, 2, 30, 38, 34, 31, 7, 22, 28, 27, 4, 11, 35, 36, 17, 8, 6, 22, 48, 25, 8, 31, 16, 21, 20, 13, 36, 5, 42, 24, 25, 55, 31, 41, 6, 34, 24, 50, 21, 49, 1, 30, 16, 6, 24, 1, 24, 44, 34, 54, 11, 29, 59, 22, 23, 25, 38, 41, 19, 24, 40, 18, 29, 48, 51, 5, 3, 42, 16, 14, 15, 16, 37, 53, 10, 20, 7, 16, 20, 25, 22, 20, 25, 16, 40, 28, 32, 37, 16, 14, 27, 22, 29, 21, 47, 39, 82, 26, 68, 29, 29, 24, 34, 52, 1, 1, 23, 58, 22, 71, 12, 23, 23, 28, 62, 40, 18, 9, 34, 31, 31, 44, 27, 33, 14, 30, 29, 30, 1, 31, 113, 13, 24, 17, 37, 52, 36, 47, 40, 7, 14, 54, 20, 65, 22, 21, 15, 31, 23, 35, 21, 38, 27, 46, 10, 47, 38, 32, 16, 38, 20, 31, 49, 25, 16, 35, 1, 36, 1, 23, 48, 34, 43, 30, 1, 8, 12, 9, 37, 38, 36, 31, 13, 44, 27, 27, 49, 18, 49, 34, 31, 7, 12, 115, 17, 37, 81, 33, 52, 38, 20, 23, 37, 22, 41, 31, 13, 35, 27, 46, 32, 38, 17, 21, 36, 33, 9, 5, 35, 31, 34, 10, 27, 12, 15, 9, 9, 39, 19, 28, 8, 33, 26, 53, 27, 26, 42, 19, 43, 25, 26, 30, 40, 26, 22, 4, 30, 50, 36, 65, 25, 44, 55, 19, 31, 32, 16, 36, 38, 23, 27, 18, 28, 58, 85, 3, 21, 26, 25, 57, 20, 14, 18, 20, 45, 28, 45, 81, 27, 23, 32, 18, 12, 4, 16, 8, 16, 21, 6, 4, 37, 23, 15, 1, 37, 14, 44, 6, 25, 24, 17, 27, 25, 25, 27, 13, 3, 34, 8, 17, 43, 35, 3, 27, 46, 3, 9, 24, 30, 24, 28, 24, 8, 16, 24, 23, 7, 10, 8, 40, 33, 60, 23, 20, 44, 26, 45, 36, 12, 4, 18, 27, 14, 50, 25, 26, 22, 27, 14, 37, 39, 48, 56, 29, 1, 30, 31, 42, 48, 2, 32, 16, 10, 23, 27, 32, 24, 7, 6, 27, 25, 32, 41, 1, 11, 13, 13, 15, 19, 24, 29, 35, 12, 23, 16, 45, 40, 31, 31, 32, 2, 29, 27, 4, 31, 12, 21, 14, 22, 25, 3, 22, 13, 6, 43, 17, 44, 2, 6, 30, 42, 16, 27, 26, 39, 21, 9, 11, 47, 14, 18, 69, 23, 34, 26, 41, 9, 27, 26, 27, 38, 25, 22, 33, 44, 26, 21, 32, 39, 37, 45, 26, 22, 21, 31, 1, 25, 9, 52, 55, 16, 28, 15, 23, 41, 41, 25, 44, 39, 88, 24, 42, 28, 9, 22, 9, 1, 17, 30, 30, 18, 1, 40, 38, 43, 38, 56, 33, 13, 36, 28, 34, 26, 46, 3, 62, 14, 1, 6, 37, 17, 42, 35, 16, 25, 71, 28, 19, 15, 35, 30, 7, 18, 28, 44, 55, 3, 13, 16, 21, 15, 14, 1, 21, 18, 24, 14, 22, 6, 38, 35, 23, 21, 1, 56, 36, 36, 15, 13, 4, 16, 12, 28, 29, 12, 11, 32, 27, 10, 23, 25, 20, 43, 29, 22, 33, 9, 14, 44, 16, 8, 48, 35, 38, 29, 26, 18, 23, 30, 22, 36, 17, 29, 31, 22, 24, 48, 48, 19, 31, 9, 19, 26, 10, 17, 46, 14, 69, 31, 22, 13, 43, 40, 19, 39, 8, 31, 30, 22, 35, 45, 25, 15, 27, 62, 20, 53, 28, 27, 19, 27, 31, 3, 27, 13, 14, 1, 59, 20, 10, 27, 43, 25, 15, 11, 27, 56, 12, 40, 24, 31, 14, 18, 31, 82, 19, 10, 21, 10, 12, 22, 2, 1, 21, 17, 42, 49, 10, 84, 17, 7, 11, 7, 27, 13, 8, 14, 26, 31, 39, 21, 16, 26, 31, 7, 36, 10, 19, 24, 18, 58, 20, 22, 3, 29, 24, 24, 36, 49, 33, 24, 32, 34, 46, 41, 33, 35, 26, 21, 19, 39, 29, 1, 45, 40, 12, 12, 33, 12, 55, 25, 22, 34, 19, 36, 33, 34, 22, 32, 25, 38, 54, 5, 10, 30, 51, 9, 41, 55, 15, 36, 1, 21, 12, 17, 37, 26, 46, 25, 42, 20, 32, 33, 48, 26, 16, 26, 19, 23, 17, 18, 64, 47, 17, 46, 67, 30, 20, 36, 34, 16, 14, 10, 1, 18, 76, 23, 16, 28, 6, 21, 10, 1, 28, 24, 7, 51, 26, 34, 23, 28, 36, 12, 14, 28, 3, 46, 31, 20, 24, 28, 199, 18, 40, 15, 55, 25, 37, 26, 14, 25, 52, 31, 10, 5, 16, 19, 15, 13, 47, 12, 21, 38, 29, 40, 12, 27, 31, 40, 37, 38, 18, 37, 11, 11, 27, 47, 45, 1, 44, 1, 11, 14, 74, 31, 53, 45, 11, 29, 58, 4, 4, 2, 6, 11, 14, 41, 20, 40, 28, 36, 28, 32, 14, 38, 26, 34, 31, 41, 48, 40, 27, 20, 24, 2, 34, 33, 34, 31, 33, 50, 31, 26, 17, 42, 24, 39, 7, 23, 92, 20, 29, 3, 39, 15, 32, 22, 13, 28, 43, 32, 21, 8, 20, 38, 7, 15, 31, 37, 25, 92, 22, 17, 41, 12, 35, 24, 27, 24, 13, 19, 28, 47, 24, 21, 38, 13, 37, 30, 38, 29, 30, 47, 13, 30, 16, 29, 30, 20, 13, 46, 26, 14, 35, 51, 19, 38, 49, 22, 5, 22, 52, 33, 29, 61, 11, 24, 46, 30, 47, 45, 28, 48, 15, 8, 21, 44, 12, 31, 1, 60, 15, 15, 19, 47, 2, 1, 5, 23, 11, 117, 20, 43, 55, 23, 57, 35, 21, 24, 18, 60, 43, 13, 12, 44, 13, 20, 29, 31, 27, 35, 61, 23, 56, 23, 18, 19, 21, 21, 7, 26, 15, 39, 8, 45, 7, 18, 13, 19, 6, 1, 31, 27, 38, 3, 19, 25, 16, 50, 24, 37, 10, 38, 26, 53, 11, 24, 20, 44, 22, 15, 1, 46, 30, 13, 41, 40, 14, 29, 15, 29, 18, 32, 9, 21, 20, 84, 49, 19, 32, 18, 72, 38, 7, 23, 9, 1, 45, 24, 35, 53, 26, 26, 37, 91, 17, 36, 3, 23, 40, 3, 104, 5, 31, 28, 29, 11, 4, 36, 30, 27, 21, 17, 12, 58, 36, 10, 30, 25, 22, 79, 40, 19, 8, 16, 18, 39, 8, 22, 70, 43, 71, 30, 4, 8, 63, 48, 53, 32, 4, 34, 2, 5, 55, 30, 49, 9, 16, 8, 14, 19, 28, 27, 22, 50, 60, 45, 32, 34, 40, 32, 1, 24, 29, 32, 29, 31, 32, 12, 17, 5, 4, 18, 31, 36, 40, 32, 9, 38, 20, 7, 24, 29, 32, 36, 10, 38, 19, 37, 16, 15, 25, 151, 32, 16, 46, 15, 25, 33, 11, 14, 49, 42, 12, 29, 18, 7, 16, 8, 44, 5, 107, 8, 14, 40, 49, 31, 18, 30, 70, 19, 26, 34, 39, 19, 18, 2, 22, 6, 31, 51, 29, 27, 22, 30, 8, 34, 52, 39, 3, 16, 3, 19, 27, 9, 22, 35, 8, 29, 26, 49, 14, 18, 51, 20, 25, 34, 15, 25, 37, 37, 1, 24, 34, 34, 31, 27, 43, 70, 62, 27, 33, 66, 58, 28, 18, 15, 6, 104, 50, 18, 36, 74, 33, 40, 34, 32, 30, 36, 25, 65, 24, 28, 24, 17, 30, 36, 33, 28, 44, 9, 57, 23, 39, 19, 24, 4, 72, 25, 22, 13, 4, 28, 16, 8, 24, 60, 19, 8, 9, 51, 20, 26, 56, 17, 7, 46, 36, 46, 57, 16, 19, 40, 16, 33, 10, 26, 10, 19, 30, 35, 33, 15, 20, 42, 24, 21, 30, 15, 15, 23, 15, 37, 2, 25, 17, 69, 17, 5, 27, 47, 8, 40, 27, 24, 21, 53, 41, 24, 34, 33, 33, 23, 14, 51, 25, 27, 9, 21, 18, 44, 18, 38, 14, 5, 26, 39, 14, 43, 28, 1, 20, 30, 26, 13, 30, 33, 70, 34, 24, 66, 20, 18, 24, 22, 110, 20, 39, 32, 30, 24, 23, 1, 34, 17, 16, 47, 23, 32, 31, 33, 17, 24, 19, 43, 22, 26, 14, 34, 40, 66, 15, 6, 10, 37, 23, 36, 25, 33, 18, 7, 1, 24, 11, 16, 20, 53, 35, 10, 29, 28, 31, 20, 29, 37, 29, 24, 24, 28, 50, 31, 35, 36, 21, 3, 26, 27, 25, 19, 29, 20, 35, 59, 34, 8, 24, 28, 24, 24, 25, 29, 55, 29, 33, 31, 28, 13, 26, 5, 18, 5, 5, 31, 43, 34, 15, 6, 35, 25, 7, 29, 20, 21, 32, 71, 16, 19, 39, 6, 1, 5, 11, 24, 18, 21, 7, 47, 11, 30, 16, 51, 22, 27, 33, 21, 44, 53, 27, 28, 1, 7, 14, 20, 27, 22, 45, 24, 31, 28, 27, 37, 51, 69, 32, 15, 56, 4, 35, 37, 29, 33, 13, 78, 19, 22, 26, 20, 20, 58, 22, 2, 30, 41, 7, 4, 36, 30, 10, 27, 20, 10, 46, 16, 27, 40, 26, 26, 37, 25, 32, 19, 33, 31, 32, 21, 26, 34, 76, 6, 16, 24, 13, 65, 48, 29, 38, 39, 25, 28, 15, 18, 49, 53, 12, 30, 25, 36, 18, 44, 11, 35, 26, 19, 22, 20, 9, 37, 34, 48, 23, 24, 34, 33, 41, 21, 79, 14, 162, 48, 12, 40, 11, 22, 68, 31, 4, 3, 38, 34, 36, 11, 31, 17, 32, 23, 52, 60, 21, 25, 17, 4, 121, 25, 59, 43, 28, 35, 25, 34, 38, 39, 5, 6, 37, 34, 13, 26, 17, 58, 54, 61, 22, 18, 33, 13, 11, 21, 29, 29, 23, 34, 27, 9, 56, 10, 37, 57, 21, 54, 19, 23, 37, 1, 25, 35, 12, 35, 26, 34, 26, 19, 28, 11, 38, 14, 41, 80, 40, 6, 3, 5, 13, 10, 24, 41, 17, 14, 87, 20, 15, 5, 3, 25, 12, 23, 17, 70, 18, 20, 28, 65, 7, 34, 26, 42, 2, 35, 38, 12, 14, 30, 44, 11, 3, 26, 14, 7, 9, 31, 59, 20, 35, 43, 40, 36, 13, 1, 36, 43, 16, 62, 32, 11, 50, 18, 34, 13, 25, 42, 23, 22, 28, 13, 6, 29, 24, 20, 49, 39, 71, 65, 33, 31, 34, 16, 94, 26, 29, 29, 41, 10, 55, 26, 21, 23, 31, 17, 35, 13, 36, 9, 31, 29, 8, 16, 25, 8, 7, 42, 20, 44, 24, 1, 17, 16, 1, 33, 18, 41, 29, 20, 30, 10, 21, 30, 18, 11, 28, 30, 19, 12, 32, 8, 11, 4, 8, 23, 29, 4, 29, 29, 23, 39, 29, 24, 4, 47, 12, 61, 24, 34, 50, 24, 4, 38, 82, 19, 27, 26, 12, 1, 41, 1, 20, 23, 43, 42, 28, 38, 20, 16, 24, 46, 12, 35, 38, 45, 4, 15, 31, 41, 30, 7, 26, 32, 40, 32, 34, 17, 22, 11, 28, 13, 31, 23, 42, 7, 69, 29, 32, 42, 34, 20, 22, 52, 9, 8, 48, 33, 17, 67, 16, 35, 4, 9, 15, 32, 43, 19, 46, 9, 59, 8, 41, 27, 19, 26, 34, 41, 24, 56, 81, 20, 13, 23, 47, 47, 20, 23, 52, 36, 26, 73, 16, 25, 44, 20, 35, 15, 21, 41, 16, 19, 18, 27, 16, 41, 1, 26, 20, 17, 30, 26, 20, 53, 26, 8, 22, 54, 27, 57, 23, 42, 19, 3, 6, 21, 8, 7, 22, 27, 27, 22, 34, 33, 6, 15, 28, 45, 25, 21, 39, 3, 9, 31, 12, 39, 6, 21, 50, 57, 28, 11, 6, 31, 3, 11, 43, 20, 31, 52, 15, 4, 32, 23, 24, 39, 38, 13, 31, 38, 35, 26, 31, 16, 25, 37, 35, 24, 18, 7, 25, 42, 46, 41, 3, 26, 29, 38, 40, 28, 16, 18, 39, 7, 33, 25, 36, 12, 45, 40, 79, 22, 19, 28, 5, 37, 18, 22, 76, 38, 48, 23, 59, 31, 57, 35, 29, 4, 45, 39, 19, 56, 13, 9, 30, 4, 23, 59, 8, 32, 16, 11, 26, 20, 12, 34, 34, 18, 24, 29, 60, 48, 48, 30, 36, 11, 28, 19, 15, 1, 29, 36, 19, 15, 18, 28, 28, 9, 20, 20, 43, 11, 30, 54, 37, 10, 42, 25, 65, 21, 30, 28, 7, 14, 39, 33, 32, 8, 4, 12, 51, 30, 30, 18, 27, 19, 20, 26, 23, 22, 10, 22, 12, 15, 43, 35, 136, 18, 29, 31, 23, 26, 35, 34, 36, 19, 20, 21, 19, 41, 17, 9, 26, 6, 7, 26, 21, 21, 43, 24, 35, 27, 75, 6, 55, 17, 48, 36, 30, 101, 18, 44, 56, 22, 29, 24, 28, 23, 15, 43, 21, 82, 84, 31, 25, 16, 33, 57, 20, 1, 17, 49, 11, 26, 10, 8, 25, 1, 94, 22, 51, 17, 30, 13, 25, 16, 28, 26, 43, 22, 57, 66, 18, 36, 45, 15, 32, 2, 22, 20, 28, 14, 27, 30, 16, 30, 1, 55, 7, 49, 30, 26, 9, 18, 41, 34, 36, 47, 11, 53, 26, 39, 35, 12, 8, 14, 34, 28, 18, 47, 37, 15, 19, 25, 32, 40, 1, 19, 57, 33, 31, 30, 23, 8, 9, 23, 10, 16, 29, 22, 2, 37, 20, 19, 29, 56, 30, 3, 37, 13, 6, 5, 28, 20, 7, 38, 40, 10, 32, 8, 49, 42, 13, 8, 1, 39, 24, 15, 32, 42, 2, 1, 1, 12, 31, 5, 3, 13, 28, 15, 37, 37, 53, 25, 43, 43, 19, 46, 89, 16, 24, 12, 19, 20, 23, 17, 31, 30, 29, 8, 27, 5, 33, 43, 23, 27, 51, 26, 30, 23, 28, 28, 33, 19, 10, 74, 43, 6, 81, 13, 4, 18, 5, 34, 22, 3, 36, 32, 20, 32, 26, 28, 32, 29, 24, 81, 13, 12, 40, 70, 37, 60, 49, 22, 18, 64, 13, 15, 14, 31, 43, 33, 22, 63, 21, 4, 29, 5, 21, 31, 7, 9, 40, 15, 23, 92, 19, 40, 18, 1, 23, 20, 37, 18, 8, 27, 26, 49, 42, 18, 26, 32, 1, 35, 36, 52, 34, 20, 49, 28, 19, 24, 30, 43, 29, 30, 52, 2, 14, 23, 13, 59, 10, 29, 30, 42, 64, 5, 10, 8, 16, 38, 39, 11, 23, 7, 26, 18, 20, 29, 7, 8, 12, 31, 17, 41, 17, 23, 30, 18, 71, 42, 35, 29, 46, 30, 41, 24, 51, 36, 30, 33, 108, 11, 53, 11, 8, 14, 44, 34, 18, 62, 8, 24, 53, 11, 45, 29, 3, 22, 5, 1, 7, 20, 38, 62, 9, 15, 27, 9, 36, 17, 20, 10, 44, 42, 29, 31, 2, 4, 61, 29, 39, 10, 36, 43, 41, 1, 53, 45, 20, 12, 40, 6, 6, 51, 56, 18, 26, 24, 17, 7, 21, 24, 22, 46, 22, 103, 25, 33, 25, 78, 7, 25, 22, 26, 20, 28, 28, 49, 43, 37, 10, 20, 19, 14, 18, 29, 46, 28, 30, 30, 23, 27, 41, 16, 33, 21, 28, 13, 32, 16, 29, 47, 30, 15, 30, 49, 51, 22, 27, 22, 24, 35, 27, 42, 10, 37, 40, 26, 8, 8, 28, 39, 8, 18, 29, 1, 58, 19, 36, 49, 28, 24, 15, 16, 38, 16, 37, 29, 40, 35, 33, 32, 46, 36, 14, 26, 39, 79, 45, 28, 80, 12, 37, 27, 23, 39, 27, 35, 16, 16, 36, 13, 21, 29, 17, 32, 43, 8, 31, 3, 8, 37, 59, 6, 3, 67, 23, 27, 16, 17, 49, 19, 13, 22, 30, 23, 36, 18, 24, 19, 38, 8, 36, 25, 11, 9, 31, 42, 31, 16, 38, 23, 17, 8, 53, 16, 30, 41, 5, 40, 26, 12, 22, 83, 42, 13, 26, 32, 37, 13, 16, 16, 12, 57, 24, 29, 66, 28, 3, 31, 69, 40, 15, 16, 61, 27, 42, 39, 12, 23, 12, 7, 23, 1, 5, 3, 5, 33, 51, 26, 35, 28, 36, 54, 15, 27, 26, 24, 100, 37, 12, 55, 38, 30, 16, 25, 14, 28, 67, 41, 30, 36, 5, 31, 7, 11, 5, 30, 14, 210, 26, 42, 66, 24, 22, 21, 12, 31, 44, 24, 23, 30, 27, 36, 23, 34, 25, 44, 8, 27, 31, 22, 55, 54, 67, 41, 6, 30, 37, 20, 34, 21, 2, 31, 24, 44, 38, 23, 28, 20, 25, 29, 13, 10, 47, 18, 24, 27, 16, 14, 22, 11, 20, 31, 40, 27, 20, 20, 55, 11, 45, 12, 30, 25, 8, 55, 12, 14, 4, 6, 11, 31, 26, 23, 43, 27, 24, 24, 1, 86, 43, 23, 17, 32, 16, 21, 25, 24, 27, 26, 21, 94, 22, 22, 42, 15, 20, 21, 37, 32, 1, 1, 37, 23, 35, 24, 35, 3, 41, 29, 24, 30, 26, 1, 29, 36, 17, 4, 14, 2, 23, 15, 5, 23, 25, 40, 27, 14, 15, 22, 57, 24, 31, 23, 39, 29, 25, 64, 26, 27, 43, 65, 36, 36, 28, 12, 42, 26, 21, 15, 19, 14, 9, 8, 12, 17, 18, 26, 42, 9, 8, 41, 16, 13, 39, 23, 32, 47, 25, 33, 13, 29, 10, 19, 18, 28, 2, 39, 16, 63, 28, 35, 28, 17, 28, 36, 1, 31, 18, 23, 34, 11, 8, 31, 11, 32, 70, 37, 148, 25, 37, 24, 36, 12, 10, 28, 75, 8, 18, 41, 66, 47, 51, 22, 14, 18, 11, 83, 19, 13, 20, 63, 52, 28, 26, 22, 10, 6, 32, 35, 13, 42, 35, 27, 29, 22, 13, 30, 22, 21, 3, 45, 18, 14, 16, 21, 27, 2, 19, 29, 47, 2, 14, 20, 43, 23, 25, 16, 14, 27, 38, 25, 48, 35, 47, 34, 25, 7, 23, 72, 31, 54, 34, 108, 56, 27, 74, 1, 23, 24, 33, 39, 36, 63, 5, 3, 55, 40, 33, 32, 7, 48, 34, 31, 21, 14, 30, 14, 41, 10, 35, 16, 10, 40, 9, 26, 13, 44, 15, 1, 25, 33, 16, 16, 5, 5, 25, 16, 10, 7, 43, 29, 22, 41, 15, 42, 51, 9, 23, 53, 6, 33, 13, 44, 11, 62, 39, 34, 8, 18, 6, 15, 42, 53, 32, 27, 17, 57, 5, 41, 35, 32, 18, 47, 7, 24, 38, 50, 41, 47, 48, 36, 19, 40, 1, 34, 24, 18, 25, 27, 8, 15, 76, 29, 27, 26, 13, 19, 22, 8, 25, 5, 15, 26, 21, 7, 11, 21, 4, 28, 35, 13, 24, 21, 11, 24, 6, 25, 41, 53, 79, 30, 23, 18, 17, 13, 15, 21, 15, 22, 13, 25, 35, 33, 74, 36, 35, 17, 30, 17, 42, 34, 32, 1, 11, 24, 18, 24, 35, 40, 8, 31, 18, 61, 45, 32, 42, 39, 18, 26, 19, 41, 32, 14, 34, 24, 33, 63, 22, 24, 4, 1, 48, 30, 38, 23, 18, 8, 10, 49, 9, 29, 30, 22, 27, 13, 45, 47, 4, 24, 35, 17, 6, 38, 50, 18, 28, 10, 36, 41, 8, 21, 23, 2, 23, 15, 6, 19, 27, 19, 65, 25, 7, 36, 77, 15, 86, 30, 33, 28, 44, 10, 80, 33, 24, 30, 16, 31, 30, 32, 43, 25, 50, 24, 60, 28, 43, 19, 24, 21, 27, 41, 3, 58, 26, 1, 27, 35, 48, 17, 21, 26, 32, 32, 24, 26, 57, 44, 47, 33, 20, 23, 21, 12, 7, 30, 55, 52, 29, 1, 23, 5, 26, 7, 10, 23, 6, 5, 37, 17, 49, 41, 34, 30, 18, 39, 46, 28, 8, 11, 17, 32, 41, 1, 16, 19, 12, 14, 46, 21, 10, 16, 13, 38, 27, 4, 22, 18, 30, 9, 33, 34, 22, 24, 33, 4, 11, 10, 21, 24, 22, 19, 21, 9, 10, 16, 29, 38, 7, 45, 37, 29, 40, 17, 63, 14, 22, 1, 47, 29, 55, 61, 10, 38, 27, 9, 33, 35, 56, 29, 41, 28, 40, 18, 16, 26, 26, 6, 31, 41, 10, 22, 25, 22, 1, 28, 27, 28, 27, 19, 36, 18, 19, 38, 1, 29, 30, 28, 15, 41, 28, 7, 10, 31, 19, 26, 41, 4, 11, 36, 44, 24, 52, 10, 94, 24, 30, 4, 60, 33, 37, 47, 34, 38, 47, 15, 43, 32, 5, 25, 44, 16, 44, 24, 18, 52, 6, 17, 21, 14, 24, 59, 47, 19, 33, 54, 17, 19, 29, 30, 16, 28, 21, 50, 34, 34, 11, 29, 29, 32, 28, 15, 25, 28, 11, 21, 30, 8, 17, 71, 33, 12, 9, 53, 43, 32, 20, 41, 21, 34, 17, 38, 28, 9, 21, 40, 48, 37, 27, 38, 27, 2, 15, 31, 19, 13, 21, 42, 55, 27, 16, 50, 20, 40, 42, 9, 44, 30, 49, 7, 30, 32, 14, 12, 38, 44, 23, 33, 46, 33, 28, 35, 22, 31, 36, 21, 20, 4, 20, 5, 18, 25, 35, 30, 21, 7, 30, 15, 120, 17, 17, 8, 42, 5, 130, 31, 15, 30, 35, 33, 54, 13, 18, 23, 44, 8, 19, 43, 10, 42, 16, 19, 29, 12, 20, 40, 2, 46, 44, 31, 27, 35, 20, 29, 29, 11, 1, 21, 14, 26, 5, 15, 15, 5, 1, 15, 57, 11, 25, 13, 22, 26, 38, 28, 21, 37, 3, 26, 25, 18, 54, 38, 13, 12, 33, 54, 19, 56, 26, 31, 47, 16, 58, 40, 26, 2, 2, 30, 98, 20, 48, 13, 39, 26, 52, 11, 10, 19, 38, 16, 49, 35, 30, 68, 30, 27, 31, 46, 19, 27, 37, 15, 55, 23, 90, 44, 7, 34, 7, 2, 20, 32, 17, 46, 15, 15, 126, 35, 20, 16, 21, 45, 13, 10, 16, 3, 42, 20, 53, 22, 28, 27, 62, 17, 22, 42, 10, 21, 46, 30, 7, 31, 17, 12, 14, 44, 6, 31, 39, 26, 13, 18, 21, 21, 25, 52, 17, 17, 24, 10, 39, 6, 32, 40, 42, 14, 13, 30, 38, 20, 24, 95, 40, 69, 40, 26, 19, 38, 19, 32, 25, 15, 37, 21, 20, 38, 59, 35, 18, 34, 48, 13, 8, 26, 5, 33, 37, 32, 32, 30, 28, 35, 35, 27, 25, 70, 24, 51, 50, 26, 29, 8, 18, 28, 17, 4, 70, 81, 22, 50, 25, 24, 23, 21, 29, 22, 25, 39, 30, 1, 13, 24, 31, 17, 22, 26, 19, 26, 29, 50, 13, 67, 8, 19, 27, 14, 41, 29, 32, 19, 34, 38, 70, 30, 9, 7, 32, 88, 51, 23, 25, 17, 41, 15, 16, 35, 16, 41, 51, 29, 20, 30, 8, 15, 42, 170, 28, 26, 39, 58, 20, 33, 19, 25, 15, 5, 34, 27, 24, 32, 37, 87, 38, 17, 56, 47, 28, 19, 14, 21, 55, 37, 35, 21, 61, 17, 30, 51, 21, 30, 12, 25, 16, 27, 23, 34, 25, 17, 43, 51, 82, 23, 22, 22, 21, 22, 10, 32, 23, 28, 36, 24, 29, 24, 20, 51, 13, 21, 30, 41, 18, 42, 29, 42, 24, 37, 8, 30, 31, 35, 23, 36, 48, 45, 8, 20, 7, 101, 25, 148, 20, 66, 40, 57, 27, 32, 68, 43, 27, 23, 18, 55, 23, 46, 16, 2, 11, 38, 30, 28, 64, 26, 43, 82, 48, 77, 50, 26, 122, 37, 36, 30, 13, 8, 6, 18, 14, 37, 3, 40, 25, 33, 10, 55, 90, 198, 14, 24, 18, 26, 69, 3, 41, 12, 31, 47, 81, 16, 8, 78, 44, 34, 18, 26, 16, 5, 31, 22, 89, 18, 43, 42, 10, 36, 50, 43, 86, 17, 30, 27, 22, 5, 41, 9, 20, 24, 46, 18, 46, 59, 11, 11, 9, 28, 11, 67, 9, 18, 18, 40, 17, 25, 27, 38, 24, 15, 26, 4, 9, 37, 31, 6, 25, 47, 27, 6, 24, 43, 25, 56, 19, 31, 49, 35, 39, 29, 29, 54, 9, 60, 28, 32, 13, 23, 15, 66, 46, 35, 3, 35, 24, 21, 15, 24, 33, 35, 26, 6, 20, 8, 5, 23, 35, 29, 32, 13, 16, 15, 9, 18, 29, 43, 18, 32, 35, 1, 36, 48, 4, 34, 8, 58, 3, 48, 18, 26, 57, 35, 23, 8, 43, 50, 40, 84, 20, 85, 58, 34, 15, 30, 18, 11, 30, 49, 45, 30, 16, 37, 33, 2, 12, 26, 35, 14, 7, 23, 43, 19, 28, 19, 26, 49, 39, 24, 52, 33, 26, 65, 18, 17, 35, 57, 9, 19, 13, 11, 9, 45, 34, 21, 31, 29, 23, 13, 8, 44, 24, 17, 45, 51, 47, 32, 44, 28, 33, 30, 32, 12, 60, 28, 28, 9, 37, 28, 36, 17, 5, 24, 86, 8, 6, 30, 34, 32, 16, 38, 45, 24, 23, 24, 37, 13, 46, 22, 21, 25, 45, 37, 18, 25, 20, 70, 16, 2, 17, 21, 30, 14, 6, 21, 39, 17, 5, 49, 25, 128, 31, 49, 51, 25, 24, 39, 40, 54, 26, 33, 11, 35, 38, 19, 27, 28, 10, 36, 17, 17, 34, 21, 16, 28, 9, 3, 3, 16, 33, 16, 26, 68, 38, 12, 60, 24, 45, 19, 39, 65, 28, 46, 22, 9, 10, 11, 7, 4, 55, 35, 11, 23, 1, 30, 9, 10, 3, 37, 1, 38, 36, 1, 1, 21, 1, 40, 26, 17, 64, 56, 31, 39, 61, 12, 4, 50, 31, 26, 9, 46, 20, 12, 22, 9, 24, 40, 24, 5, 4, 28, 25, 30, 8, 37, 4, 30, 22, 37, 39, 36, 43, 35, 33, 14, 36, 24, 30, 23, 33, 36, 20, 42, 35, 30, 32, 38, 17, 43, 5, 19, 28, 24, 3, 31, 10, 15, 137, 28, 34, 43, 49, 13, 17, 27, 33, 19, 89, 18, 35, 5, 26, 3, 4, 37, 46, 31, 9, 24, 29, 55, 66, 12, 22, 31, 42, 58, 24, 25, 21, 7, 33, 28, 46, 31, 11, 19, 88, 33, 38, 2, 30, 56, 6, 57, 36, 15, 57, 14, 23, 18, 27, 40, 18, 36, 39, 29, 77, 7, 10, 21, 100, 16, 9, 16, 41, 12, 16, 29, 10, 16, 27, 20, 37, 1, 32, 15, 7, 22, 19, 65, 48, 31, 89, 34, 28, 2, 25, 39, 23, 25, 26, 35, 20, 36, 31, 31, 28, 31, 55, 30, 15, 16, 24, 18, 32, 32, 34, 22, 26, 21, 34, 1, 31, 31, 19, 45, 30, 30, 32, 4, 40, 6, 12, 5, 17, 34, 23, 29, 31, 17, 11, 40, 29, 91, 32, 19, 34, 40, 17, 15, 24, 30, 19, 107, 7, 51, 29, 2, 3, 3, 45, 6, 21, 18, 19, 34, 41, 59, 20, 9, 5, 34, 33, 34, 1, 37, 26, 48, 28, 83, 57, 4, 28, 20, 20, 30, 18, 24, 65, 17, 32, 45, 55, 12, 2, 23, 22, 50, 15, 32, 28, 33, 24, 11, 36, 55, 30, 27, 1, 9, 10, 19, 11, 34, 25, 31, 8, 41, 29, 43, 31, 36, 23, 2, 37, 35, 44, 41, 27, 40, 21, 21, 33, 6, 8, 9, 14, 8, 7, 24, 33, 11, 9, 23, 9, 25, 35, 34, 30, 30, 57, 30, 36, 63, 60, 41, 3, 14, 43, 9, 37, 25, 41, 12, 45, 24, 12, 58, 16, 47, 19, 28, 48, 31, 22, 8, 26, 34, 23, 21, 18, 33, 57, 1, 30, 20, 62, 27, 40, 37, 18, 28, 80, 3, 41, 13, 5, 39, 32, 37, 22, 33, 57, 16, 21, 49, 45, 38, 43, 39, 31, 17, 41, 13, 8, 1, 2, 34, 36, 33, 49, 76, 25, 16, 27, 18, 33, 21, 39, 11, 28, 31, 41, 66, 37, 8, 22, 20, 34, 28, 26, 73, 12, 52, 13, 15, 32, 41, 29, 30, 9, 24, 27, 32, 46, 27, 39, 51, 36, 35, 9, 28, 44, 17, 7, 16, 40, 35, 6, 35, 20, 36, 28, 28, 43, 46, 6, 28, 27, 1, 76, 40, 19, 21, 27, 52, 25, 38, 24, 18, 15, 43, 5, 78, 17, 24, 38, 36, 20, 27, 33, 26, 39, 31, 14, 12, 36, 47, 20, 1, 28, 8, 23, 2, 2, 33, 52, 19, 38, 17, 35, 22, 12, 14, 9, 17, 2, 7, 24, 19, 20, 3, 56, 29, 3, 5, 28, 27, 54, 9, 30, 7, 42, 22, 12, 7, 19, 8, 14, 29, 20, 5, 17, 6, 29, 76, 34, 40, 22, 21, 26, 21, 30, 69, 80, 30, 41, 21, 38, 10, 37, 20, 59, 21, 55, 6, 35, 17, 39, 3, 15, 7, 26, 28, 20, 14, 39, 18, 47, 17, 13, 1, 47, 43, 28, 8, 12, 25, 36, 30, 29, 12, 12, 5, 29, 35, 27, 36, 31, 22, 27, 32, 72, 38, 24, 41, 33, 19, 21, 35, 21, 38, 48, 66, 15, 37, 17, 13, 5, 2, 8, 14, 3, 151, 25, 29, 29, 8, 25, 17, 34, 24, 36, 18, 35, 23, 47, 31, 3, 30, 76, 13, 3, 33, 8, 10, 35, 22, 30, 6, 21, 33, 8, 21, 13, 52, 11, 12, 12, 23, 71, 13, 22, 28, 28, 45, 19, 41, 50, 24, 5, 18, 25, 13, 32, 4, 34, 38, 42, 15, 15, 6, 32, 13, 39, 39, 20, 16, 44, 27, 46, 12, 10, 26, 31, 41, 29, 16, 17, 27, 10, 163, 38, 30, 16, 55, 12, 40, 9, 37, 18, 56, 20, 13, 12, 10, 54, 11, 71, 41, 30, 13, 28, 35, 16, 38, 23, 40, 80, 4, 29, 11, 33, 21, 54, 56, 10, 30, 21, 18, 25, 12, 35, 69, 13, 5, 7, 24, 34, 43, 36, 42, 28, 37, 13, 19, 31, 23, 6, 8, 16, 42, 29, 15, 42, 120, 61, 33, 18, 15, 22, 47, 21, 37, 25, 13, 34, 40, 15, 39, 31, 30, 1, 25, 1, 15, 17, 36, 83, 7, 13, 34, 35, 1, 15, 16, 28, 32, 47, 29, 24, 15, 10, 48, 36, 34, 14, 20, 29, 26, 72, 26, 30, 22, 13, 27, 29, 37, 44, 42, 35, 37, 34, 43, 82, 48, 19, 37, 24, 38, 11, 32, 20, 23, 27, 2, 15, 20, 17, 21, 36, 15, 60, 43, 34, 34, 33, 21, 45, 35, 36, 35, 33, 27, 62, 54, 27, 37, 43, 8, 14, 32, 32, 22, 18, 36, 26, 21, 31, 29, 24, 22, 28, 47, 17, 15, 12, 31, 19, 63, 54, 51, 28, 60, 39, 8, 33, 26, 33, 12, 33, 1, 36, 39, 11, 34, 19, 29, 21, 22, 38, 11, 30, 31, 25, 21, 25, 17, 20, 30, 29, 91, 38, 17, 9, 14, 27, 24, 1, 29, 27, 27, 48, 30, 20, 33, 28, 35, 25, 38, 27, 76, 30, 6, 29, 15, 16, 25, 20, 43, 48, 28, 11, 31, 49, 32, 75, 28, 40, 17, 11, 1, 23, 32, 9, 33, 11, 18, 42, 37, 38, 10, 13, 34, 6, 21, 23, 42, 9, 13, 24, 21, 20, 12, 42, 28, 8, 23, 23, 44, 44, 66, 27, 30, 15, 14, 13, 25, 30, 31, 37, 31, 3, 25, 10, 19, 65, 59, 22, 30, 13, 33, 3, 16, 54, 29, 17, 40, 21, 21, 1, 60, 16, 66, 13, 20, 22, 19, 20, 44, 17, 19, 37, 35, 23, 31, 40, 57, 28, 27, 20, 31, 37, 26, 27, 41, 43, 40, 28, 44, 93, 35, 15, 1, 37, 1, 65, 67, 30, 47, 59, 28, 36, 14, 75, 6, 68, 15, 19, 26, 10, 28, 17, 14, 28, 17, 19, 6, 21, 27, 32, 23, 5, 6, 11, 25, 20, 18, 15, 17, 16, 33, 6, 32, 18, 14, 34, 20, 86, 16, 22, 38, 11, 11, 33, 31, 23, 140, 23, 14, 1, 31, 42, 35, 13, 17, 24, 93, 30, 42, 35, 18, 38, 42, 9, 22, 45, 42, 33, 75, 20, 52, 33, 17, 23, 62, 23, 29, 17, 11, 33, 13, 4, 28, 28, 16, 10, 9, 47, 46, 28, 21, 5, 83, 17, 68, 27, 15, 10, 11, 36, 20, 52, 17, 43, 26, 23, 11, 17, 24, 9, 30, 12, 47, 30, 35, 44, 22, 42, 38, 25, 39, 24, 13, 29, 66, 17, 32, 1, 33, 36, 7, 17, 5, 15, 57, 37, 55, 46, 92, 19, 35, 24, 26, 31, 32, 21, 35, 36, 21, 42, 21, 37, 59, 170, 13, 24, 37, 16, 57, 61, 45, 47, 32, 13, 19, 24, 30, 34, 33, 29, 27, 23, 27, 46, 13, 22, 19, 32, 69, 8, 17, 13, 42, 38, 22, 57, 25, 49, 33, 23, 6, 59, 9, 5, 15, 2, 39, 7, 13, 56, 65, 26, 31, 78, 35, 44, 32, 27, 16, 21, 39, 33, 1, 41, 20, 27, 47, 35, 67, 8, 18, 12, 12, 20, 19, 24, 21, 22, 34, 26, 14, 7, 18, 8, 17, 30, 28, 16, 45, 27, 47, 30, 20, 34, 44, 19, 34, 20, 34, 34, 27, 43, 93, 24, 1, 27, 32, 42, 47, 28, 43, 21, 36, 27, 28, 26, 52, 37, 15, 1, 39, 24, 13, 26, 23, 8, 8, 15, 30, 25, 41, 23, 44, 24, 4, 1, 36, 1, 29, 18, 27, 37, 25, 21, 53, 21, 51, 14, 20, 35, 19, 3, 26, 18, 18, 35, 4, 17, 63, 11, 21, 121, 81, 44, 32, 13, 33, 41, 17, 4, 25, 34, 27, 13, 43, 12, 37, 68, 17, 20, 16, 25, 22, 32, 33, 34, 20, 36, 22, 29, 13, 19, 7, 30, 23, 41, 22, 47, 57, 24, 36, 28, 45, 33, 33, 18, 16, 37, 9, 68, 56, 50, 27, 35, 11, 6, 32, 1, 42, 23, 6, 14, 46, 27, 34, 13, 12, 20, 9, 28, 40, 47, 84, 102, 10, 29, 22, 39, 60, 36, 17, 46, 27, 53, 18, 33, 28, 25, 43, 55, 14, 17, 33, 28, 40, 38, 27, 21, 31, 7, 24, 16, 14, 37, 18, 27, 29, 43, 59, 34, 14, 36, 7, 25, 21, 10, 9, 19, 41, 16, 24, 25, 74, 28, 39, 41, 16, 32, 35, 43, 24, 17, 42, 18, 1, 23, 27, 15, 29, 22, 47, 20, 22, 29, 29, 21, 29, 23, 41, 20, 17, 25, 8, 14, 28, 40, 33, 34, 38, 44, 60, 42, 11, 34, 50, 24, 27, 11, 14, 37, 16, 12, 2, 6, 32, 20, 10, 38, 23, 33, 27, 15, 25, 23, 25, 31, 17, 10, 49, 6, 23, 10, 34, 24, 11, 15, 13, 17, 19, 25, 34, 18, 8, 25, 30, 26, 30, 3, 47, 5, 11, 58, 25, 43, 28, 31, 44, 15, 12, 18, 64, 9, 42, 19, 25, 32, 27, 66, 17, 28, 26, 25, 37, 44, 51, 48, 34, 33, 20, 28, 18, 25, 32, 27, 14, 71, 38, 7, 25, 7, 40, 61, 21, 18, 24, 30, 9, 21, 19, 8, 14, 3, 26, 23, 29, 26, 6, 16, 18, 53, 26, 55, 15, 33, 2, 57, 72, 8, 11, 35, 12, 23, 33, 15, 40, 20, 42, 30, 38, 34, 17, 22, 24, 25, 18, 16, 29, 20, 28, 27, 22, 26, 30, 49, 12, 66, 38, 21, 8, 33, 11, 1, 10, 78, 13, 31, 35, 31, 46, 55, 76, 77, 30, 25, 26, 23, 23, 41, 9, 42, 32, 17, 26, 16, 26, 15, 22, 50, 25, 6, 31, 28, 39, 20, 15, 22, 23, 43, 38, 38, 6, 36, 37, 4, 43, 15, 32, 45, 13, 40, 40, 42, 3, 80, 12, 35, 8, 18, 27, 35, 36, 16, 97, 30, 36, 16, 39, 4, 31, 33, 23, 30, 6, 31, 30, 36, 8, 27, 24, 9, 34, 44, 24, 38, 18, 1, 6, 8, 20, 16, 118, 19, 19, 25, 25, 25, 4, 25, 41, 16, 7, 20, 31, 46, 9, 18, 21, 25, 9, 20, 28, 3, 14, 60, 24, 23, 24, 13, 16, 6, 22, 25, 14, 22, 6, 38, 32, 12, 34, 32, 12, 40, 22, 1, 75, 44, 57, 25, 21, 34, 22, 25, 26, 52, 25, 48, 42, 24, 53, 36, 24, 22, 20, 12, 47, 21, 58, 40, 34, 16, 55, 28, 10, 18, 32, 33, 12, 19, 19, 13, 18, 33, 43, 27, 14, 4, 6, 23, 1, 5, 26, 20, 35, 32, 46, 22, 30, 31, 32, 30, 25, 10, 31, 22, 13, 19, 17, 42, 17, 45, 45, 21, 54, 6, 22, 52, 24, 19, 89, 9, 27, 33, 22, 35, 30, 29, 26, 28, 15, 29, 4, 13, 21, 40, 27, 20, 10, 35, 30, 20, 20, 111, 29, 56, 18, 28, 35, 15, 44, 33, 36, 45, 23, 14, 6, 51, 24, 29, 25, 31, 32, 41, 48, 20, 14, 35, 28, 14, 18, 55, 5, 19, 34, 24, 11, 22, 39, 39, 41, 25, 1, 6, 3, 7, 7, 13, 13, 22, 40, 30, 20, 40, 10, 65, 23, 15, 36, 9, 53, 11, 37, 29, 24, 30, 17, 33, 24, 25, 60, 16, 23, 6, 33, 23, 37, 22, 9, 30, 28, 16, 23, 35, 34, 27, 67, 31, 92, 38, 88, 76, 38, 22, 15, 45, 22, 30, 34, 44, 58, 22, 55, 19, 33, 17, 7, 65, 3, 26, 8, 4, 7, 14, 23, 22, 40, 101, 22, 40, 33, 20, 26, 76, 46, 24, 23, 18, 28, 17, 16, 41, 3, 92, 3, 1, 30, 13, 9, 7, 53, 25, 20, 25, 27, 13, 5, 38, 14, 28, 18, 16, 24, 15, 19, 15, 3, 44, 26, 8, 42, 40, 10, 21, 28, 16, 27, 13, 35, 21, 26, 22, 17, 46, 25, 16, 16, 6, 1, 54, 1, 5, 92, 56, 16, 30, 21, 21, 15, 23, 59, 26, 19, 20, 1, 3, 43, 10, 29, 22, 26, 25, 36, 29, 17, 55, 31, 2, 65, 51, 40, 24, 100, 22, 40, 4, 24, 14, 88, 12, 25, 15, 25, 39, 23, 19, 5, 31, 27, 30, 13, 31, 59, 26, 1, 39, 39, 17, 37, 35, 26, 35, 13, 25, 23, 16, 18, 27, 23, 30, 29, 37, 12, 59, 4, 17, 28, 1, 11, 28, 11, 19, 1, 4, 21, 33, 19, 60, 47, 16, 13, 33, 60, 37, 1, 7, 41, 44, 29, 35, 16, 30, 39, 26, 23, 22, 1, 55, 54, 24, 77, 6, 24, 9, 33, 40, 20, 19, 18, 10, 17, 68, 12, 21, 13, 33, 37, 36, 22, 23, 13, 1, 46, 57, 20, 28, 13, 23, 20, 20, 22, 1, 11, 14, 19, 23, 18, 18, 26, 42, 29, 49, 22, 44, 20, 19, 17, 1, 18, 52, 5, 32, 33, 15, 34, 39, 33, 20, 20, 31, 22, 30, 1, 45, 29, 29, 24, 13, 51, 20, 26, 38, 3, 1, 1, 21, 4, 20, 13, 51, 42, 14, 39, 25, 5, 39, 41, 18, 22, 31, 42, 45, 91, 33, 12, 6, 13, 9, 20, 17, 41, 24, 26, 24, 28, 13, 39, 36, 45, 32, 56, 41, 37, 21, 49, 39, 28, 20, 32, 30, 6, 28, 38, 29, 56, 26, 9, 12, 48, 55, 53, 20, 27, 25, 33, 32, 41, 15, 18, 34, 26, 9, 47, 37, 40, 15, 25, 42, 33, 39, 90, 13, 22, 9, 28, 7, 3, 72, 2, 60, 34, 62, 33, 35, 20, 33, 20, 31, 53, 38, 49, 58, 9, 66, 38, 20, 11, 16, 6, 38, 35, 33, 29, 14, 26, 50, 19, 75, 46, 1, 19, 30, 19, 28, 25, 20, 49, 56, 35, 27, 67, 39, 1, 13, 10, 15, 33, 16, 13, 22, 25, 9, 12, 76, 28, 1, 25, 8, 24, 36, 66, 64, 34, 34, 39, 30, 39, 1, 16, 26, 41, 13, 31, 16, 40, 28, 14, 9, 53, 11, 70, 2, 53, 22, 54, 30, 34, 35, 42, 7, 99, 29, 27, 58, 35, 41, 31, 21, 17, 27, 33, 24, 18, 25, 2, 23, 18, 22, 15, 50, 28, 27, 62, 15, 23, 14, 43, 37, 14, 39, 7, 28, 23, 20, 35, 31, 27, 6, 28, 32, 37, 61, 30, 24, 13, 25, 35, 20, 40, 21, 21, 23, 35, 30, 1, 8, 12, 34, 19, 50, 35, 19, 34, 33, 32, 32, 44, 29, 43, 20, 10, 40, 5, 23, 39, 1, 29, 28, 41, 45, 44, 39, 7, 49, 1, 17, 16, 23, 30, 2, 25, 33, 12, 41, 60, 18, 34, 18, 19, 30, 30, 25, 25, 24, 35, 16, 27, 11, 1, 39, 11, 90, 43, 13, 21, 27, 20, 32, 3, 14, 25, 31, 25, 35, 17, 13, 22, 44, 24, 19, 6, 6, 20, 36, 37, 23, 32, 30, 28, 13, 32, 47, 40, 29, 29, 12, 20, 21, 33, 19, 29, 39, 16, 38, 36, 10, 77, 20, 5, 18, 18, 26, 27, 35, 23, 29, 46, 8, 14, 3, 14, 6, 28, 2, 46, 14, 26, 6, 10, 15, 16, 48, 33, 78, 64, 48, 85, 25, 24, 20, 32, 29, 35, 19, 26, 56, 9, 19, 35, 47, 77, 58, 41, 49, 1, 21, 22, 17, 47, 23, 35, 27, 37, 22, 29, 12, 3, 31, 9, 22, 5, 19, 13, 25, 16, 29, 8, 22, 30, 22, 46, 23, 7, 41, 37, 45, 50, 36, 23, 3, 42, 28, 31, 1, 42, 40, 54, 37, 44, 10, 21, 25, 17, 15, 30, 19, 18, 11, 56, 42, 66, 60, 32, 39, 9, 22, 20, 27, 19, 18, 23, 28, 12, 19, 7, 20, 1, 20, 13, 24, 49, 38, 24, 13, 26, 37, 16, 28, 1, 22, 12, 4, 10, 17, 11, 18, 43, 30, 19, 30, 6, 22, 16, 45, 10, 18, 8, 26, 1, 12, 1, 3, 18, 4, 21, 44, 4, 27, 23, 15, 24, 5, 27, 69, 46, 34, 31, 32, 28, 38, 31, 251, 28, 37, 19, 13, 38, 28, 33, 14, 28, 24, 14, 12, 16, 1, 16, 26, 33, 16, 35, 15, 30, 32, 44, 47, 11, 18, 24, 55, 25, 44, 301, 1, 21, 21, 46, 29, 32, 24, 7, 9, 29, 26, 1, 14, 11, 3, 1, 31, 14, 29, 4, 40, 21, 13, 18, 19, 47, 4, 2, 18, 31, 26, 6, 13, 60, 39, 32, 30, 53, 33, 71, 12, 27, 27, 42, 4, 29, 27, 20, 2, 19, 19, 43, 17, 3, 15, 56, 31, 25, 29, 20, 40, 36, 23, 36, 52, 10, 9, 12, 44, 37, 8, 49, 24, 22, 30, 44, 22, 36, 29, 12, 19, 1, 48, 21, 79, 20, 10, 60, 2, 37, 36, 23, 44, 1, 20, 84, 30, 14, 37, 19, 29, 49, 30, 21, 42, 22, 25, 9, 29, 41, 6, 46, 14, 37, 61, 35, 18, 67, 16, 38, 36, 27, 29, 22, 38, 41, 20, 35, 28, 13, 5, 25, 41, 98, 2, 21, 24, 25, 19, 18, 3, 20, 76, 30, 30, 6, 23, 17, 23, 11, 24, 36, 76, 52, 32, 8, 31, 33, 29, 26, 5, 37, 33, 27, 44, 24, 23, 27, 29, 32, 23, 20, 28, 14, 11, 33, 20, 18, 15, 54, 38, 18, 11, 5, 26, 11, 9, 61, 20, 35, 15, 24, 43, 29, 5, 34, 24, 13, 55, 15, 5, 25, 26, 68, 20, 34, 20, 13, 20, 28, 36, 44, 58, 25, 36, 17, 46, 1, 4, 4, 8, 2, 29, 1, 5, 50, 17, 29, 1, 52, 2, 8, 31, 27, 42, 13, 20, 20, 33, 15, 1, 2, 21, 13, 1, 1, 27, 11, 18, 9, 14, 28, 64, 15, 41, 37, 34, 27, 17, 69, 18, 9, 40, 26, 86, 2, 22, 152, 12, 36, 21, 2, 29, 24, 16, 26, 24, 23, 35, 101, 13, 19, 16, 29, 46, 65, 33, 32, 28, 22, 37, 24, 35, 21, 43, 19, 39, 20, 34, 30, 2, 49, 19, 27, 35, 23, 19, 27, 11, 22, 49, 34, 37, 73, 9, 18, 32, 18, 40, 66, 59, 81, 24, 47, 26, 30, 18, 49, 27, 33, 12, 22, 35, 44, 44, 8, 12, 30, 27, 9, 20, 35, 5, 58, 72, 5, 46, 39, 22, 32, 16, 30, 41, 34, 20, 61, 27, 30, 20, 22, 25, 18, 9, 18, 33, 10, 41, 35, 37, 23, 43, 21, 22, 3, 58, 2, 19, 36, 20, 20, 16, 68, 3, 16, 5, 20, 18, 6, 9, 23, 20, 20, 25, 61, 25, 42, 17, 14, 34, 14, 36, 44, 8, 47, 28, 17, 37, 30, 42, 54, 54, 35, 15, 36, 10, 19, 40, 29, 23, 62, 17, 27, 53, 17, 22, 34, 26, 2, 19, 20, 26, 11, 31, 99, 28, 13, 43, 51, 14, 21, 26, 28, 20, 88, 54, 21, 24, 32, 10, 35, 1, 21, 23, 31, 7, 32, 79, 10, 26, 20, 62, 29, 14, 20, 117, 41, 41, 46, 35, 59, 28, 23, 32, 5, 3, 30, 11, 31, 8, 28, 56, 29, 35, 47, 21, 64, 19, 40, 20, 21, 25, 103, 25, 19, 18, 29, 38, 30, 16, 6, 8, 49, 17, 34, 8, 22, 20, 7, 19, 14, 40, 16, 59, 39, 31, 20, 22, 19, 38, 28, 29, 26, 43, 31, 37, 26, 27, 58, 52, 3, 35, 3, 6, 40, 21, 14, 61, 15, 26, 64, 27, 5, 15, 47, 20, 26, 12, 56, 69, 16, 17, 21, 7, 6, 31, 25, 29, 42, 8, 26, 22, 22, 13, 3, 24, 9, 7, 2, 67, 32, 7, 52, 25, 27, 48, 25, 34, 35, 16, 17, 35, 20, 10, 28, 44, 28, 20, 30, 21, 19, 22, 34, 27, 19, 36, 61, 21, 27, 32, 46, 15, 19, 27, 43, 22, 10, 5, 27, 28, 33, 34, 12, 15, 27, 28, 27, 21, 29, 92, 18, 13, 39, 28, 26, 25, 18, 14, 19, 35, 31, 21, 19, 43, 9, 19, 20, 27, 37, 9, 41, 29, 11, 49, 5, 1, 11, 18, 23, 18, 17, 21, 28, 5, 8, 5, 23, 54, 37, 36, 32, 9, 9, 22, 36, 16, 15, 49, 21, 3, 53, 75, 51, 35, 19, 32, 26, 39, 5, 37, 36, 12, 15, 35, 47, 59, 41, 72, 18, 24, 17, 25, 13, 58, 46, 43, 31, 51, 33, 25, 17, 31, 7, 25, 23, 45, 52, 10, 26, 41, 51, 7, 2, 23, 19, 21, 27, 8, 16, 6, 26, 31, 23, 26, 19, 14, 12, 29, 57, 23, 35, 46, 47, 3, 5, 48, 6, 20, 18, 35, 25, 40, 4, 27, 17, 12, 25, 28, 25, 24, 43, 24, 22, 12, 23, 32, 36, 33, 18, 13, 23, 23, 39, 66, 24, 39, 45, 16, 30, 8, 23, 17, 11, 28, 14, 2, 46, 10, 19, 21, 10, 2, 11, 24, 28, 11, 25, 60, 20, 8, 23, 21, 40, 7, 7, 48, 7, 9, 19, 15, 9, 45, 16, 30, 33, 44, 22, 62, 27, 36, 23, 39, 20, 25, 15, 28, 41, 28, 16, 50, 48, 19, 32, 58, 43, 31, 13, 17, 2, 1, 26, 29, 28, 28, 31, 10, 18, 31, 39, 35, 7, 17, 39, 3, 18, 38, 28, 26, 47, 40, 41, 41, 23, 24, 22, 36, 26, 7, 26, 7, 14, 32, 57, 41, 26, 14, 53, 26, 41, 25, 19, 20, 36, 15, 9, 61, 26, 14, 20, 57, 5, 37, 28, 38, 16, 27, 25, 28, 27, 22, 49, 29, 33, 52, 36, 14, 21, 1, 13, 10, 39, 1, 26, 10, 27, 15, 39, 21, 25, 33, 21, 28, 34, 71, 32, 14, 40, 25, 22, 10, 32, 34, 25, 27, 26, 20, 33, 8, 43, 28, 11, 22, 33, 12, 51, 32, 37, 30, 81, 53, 36, 17, 45, 23, 13, 35, 25, 15, 1, 26, 40, 40, 43, 40, 1, 46, 53, 49, 18, 26, 15, 34, 1, 24, 17, 48, 51, 27, 53, 27, 6, 10, 33, 18, 27, 46, 2, 25, 78, 14, 19, 14, 65, 4, 9, 22, 15, 29, 42, 8, 37, 30, 40, 45, 26, 11, 29, 26, 47, 40, 43, 21, 15, 20, 9, 8, 38, 15, 33, 33, 14, 32, 24, 39, 24, 45, 92, 4, 35, 25, 3, 11, 13, 3, 50, 23, 35, 40, 38, 14, 19, 32, 11, 17, 29, 59, 76, 31, 23, 19, 33, 187, 18, 28, 7, 31, 6, 28, 2, 41, 12, 24, 28, 20, 27, 27, 68, 25, 24, 40, 7, 37, 14, 30, 11, 23, 44, 23, 19, 42, 25, 35, 24, 17, 12, 14, 33, 45, 21, 23, 8, 35, 40, 67, 24, 18, 36, 32, 12, 26, 24, 8, 34, 30, 4, 39, 4, 16, 9, 20, 8, 11, 34, 28, 16, 14, 12, 14, 27, 22, 20, 44, 33, 13, 69, 9, 39, 47, 45, 40, 28, 29, 26, 38, 35, 49, 29, 53, 40, 27, 49, 23, 17, 37, 40, 20, 27, 89, 14, 4, 1, 43, 32, 34, 7, 29, 32, 43, 23, 63, 30, 16, 42, 21, 28, 42, 30, 34, 10, 56, 38, 81, 39, 1, 9, 33, 34, 21, 12, 13, 71, 26, 17, 14, 27, 21, 45, 76, 25, 13, 24, 69, 9, 63, 34, 20, 1, 1, 1, 1, 1, 1, 1, 1, 1, 1, 29, 30, 22, 1, 26, 12, 16, 24, 29, 53, 50, 45, 23, 28, 42, 38, 5, 4, 12, 30, 21, 29, 20, 50, 32, 19, 21, 47, 39, 20, 42, 16, 38, 30, 14, 25, 15, 24, 19, 28, 24, 48, 27, 24, 25, 21, 40, 33, 68, 21, 16, 40, 32, 92, 41, 20, 23, 47, 10, 14, 19, 9, 12, 11, 23, 10, 4, 18, 2, 1, 3, 37, 60, 9, 23, 3, 58, 28, 28, 24, 29, 51, 28, 28, 15, 34, 56, 48, 13, 41, 27, 24, 9, 36, 61, 37, 15, 17, 11, 26, 17, 15, 24, 15, 46, 1, 31, 7, 26, 13, 21, 46, 3, 34, 28, 5, 42, 6, 18, 62, 74, 36, 42, 42, 28, 2, 26, 36, 25, 34, 9, 1, 14, 38, 24, 21, 35, 48, 41, 24, 24, 34, 16, 9, 20, 31, 19, 28, 7, 40, 2, 8, 26, 35, 40, 7, 1, 22, 26, 26, 55, 25, 50, 14, 12, 31, 23, 14, 52, 24, 15, 21, 9, 36, 22, 33, 33, 31, 49, 37, 5, 34, 12, 37, 18, 29, 30, 24, 35, 12, 27, 15, 50, 29, 4, 33, 28, 29, 27, 14, 15, 56, 1, 30, 43, 45, 27, 17, 41, 16, 25, 29, 26, 34, 32, 34, 22, 23, 35, 16, 30, 16, 6, 39, 24, 43, 20, 13, 17, 22, 39, 19, 21, 9, 20, 57, 20, 7, 17, 3, 14, 46, 33, 60, 32, 11, 26, 30, 33, 44, 44, 18, 42, 13, 32, 16, 26, 19, 30, 53, 23, 16, 36, 9, 41, 45, 38, 48, 24, 13, 63, 8, 24, 36, 76, 15, 23, 29, 30, 20, 14, 12, 18, 32, 41, 29, 24, 31, 32, 19, 69, 16, 13, 9, 40, 19, 91, 80, 30, 18, 45, 37, 23, 33, 45, 6, 63, 4, 35, 6, 28, 7, 62, 12, 20, 24, 8, 11, 32, 52, 28, 32, 96, 31, 6, 87, 24, 57, 44, 31, 36, 31, 27, 18, 48, 39, 48, 9, 40, 19, 165, 37, 38, 12, 27, 27, 35, 14, 31, 28, 21, 16, 18, 34, 21, 42, 25, 11, 18, 26, 17, 30, 34, 3, 39, 54, 28, 11, 36, 30, 48, 27, 22, 38, 24, 20, 24, 11, 46, 31, 36, 3, 51, 41, 50, 37, 36, 6, 1, 52, 13, 27, 17, 35, 31, 81, 44, 26, 37, 40, 36, 51, 28, 47, 5, 18, 23, 7, 7, 126, 22, 27, 13, 8, 8, 39, 21, 49, 8, 76, 33, 25, 27, 25, 34, 28, 31, 20, 19, 13, 35, 7, 11, 39, 50, 5, 31, 34, 34, 22, 26, 22, 49, 5, 29, 13, 54, 18, 23, 22, 31, 29, 21, 35, 11, 46, 19, 30, 14, 26, 4, 4, 50, 53, 22, 15, 1, 33, 19, 56, 26, 17, 27, 21, 28, 31, 42, 40, 36, 43, 38, 40, 34, 32, 26, 26, 74, 43, 47, 38, 18, 39, 30, 10, 16, 17, 13, 6, 33, 14, 17, 30, 46, 32, 12, 17, 25, 29, 17, 26, 20, 16, 40, 5, 29, 13, 23, 17, 104, 36, 27, 15, 15, 24, 23, 55, 23, 16, 21, 32, 8, 69, 16, 22, 21, 26, 11, 6, 18, 7, 36, 26, 78, 3, 26, 38, 77, 38, 27, 37, 21, 25, 16, 30, 26, 18, 32, 34, 26, 24, 35, 64, 19, 27, 30, 50, 34, 27, 26, 16, 13, 1, 9, 25, 25, 26, 36, 91, 15, 54, 30, 39, 19, 52, 12, 42, 15, 26, 34, 22, 23, 52, 30, 88, 20, 20, 21, 6, 59, 33, 28, 25, 43, 63, 46, 38, 27, 22, 20, 34, 36, 20, 26, 29, 25, 18, 41, 57, 18, 42, 18, 21, 29, 20, 29, 12, 15, 38, 1, 22, 34, 27, 25, 50, 26, 89, 29, 27, 10, 25, 25, 32, 51, 13, 8, 13, 37, 16, 7, 30, 9, 12, 28, 12, 39, 7, 36, 36, 22, 8, 11, 30, 4, 31, 35, 7, 5, 27, 7, 14, 4, 19, 24, 12, 75, 21, 16, 43, 22, 37, 37, 43, 15, 24, 19, 44, 28, 34, 32, 38, 22, 17, 16, 33, 67, 18, 49, 41, 25, 38, 42, 30, 24, 10, 13, 45, 13, 35, 24, 27, 19, 24, 18, 27, 44, 107, 16, 53, 61, 14, 28, 26, 1, 56, 147, 15, 37, 32, 28, 32, 23, 30, 27, 11, 8, 1, 92, 26, 25, 22, 40, 18, 6, 20, 24, 19, 28, 2, 9, 13, 29, 21, 2, 26, 44, 22, 18, 44, 2, 15, 42, 33, 17, 34, 68, 37, 30, 25, 49, 37, 29, 20, 27, 13, 26, 8, 24, 42, 47, 18, 82, 21, 5, 7, 14, 15, 55, 42, 14, 29, 1, 37, 36, 82, 28, 46, 29, 31, 65, 76, 39, 31, 10, 26, 21, 62, 66, 27, 13, 16, 25, 36, 51, 6, 15, 31, 8, 62, 21, 20, 31, 20, 27, 10, 21, 11, 34, 44, 35, 33, 68, 15, 63, 14, 28, 29, 21, 30, 40, 29, 40, 35, 30, 28, 29, 1, 31, 41, 42, 40, 50, 22, 17, 44, 20, 50, 42, 39, 36, 39, 15, 18, 67, 22, 76, 32, 16, 32, 55, 16, 40, 53, 51, 21, 55, 17, 46, 9, 7, 11, 23, 19, 39, 66, 9, 60, 8, 41, 14, 43, 11, 35, 14, 26, 39, 54, 32, 43, 98, 22, 52, 63, 14, 71, 34, 40, 34, 22, 17, 11, 23, 4, 24, 97, 42, 100, 26, 25, 27, 36, 38, 27, 42, 36, 31, 55, 30, 23, 1, 18, 23, 28, 14, 19, 16, 12, 57, 34, 21, 18, 12, 1, 56, 50, 87, 4, 18, 8, 39, 6, 41, 5, 35, 30, 7, 24, 51, 47, 29, 24, 2, 4, 11, 5, 26, 9, 9, 40, 34, 24, 33, 31, 40, 18, 16, 29, 27, 58, 31, 4, 24, 3, 15, 19, 32, 17, 18, 18, 43, 19, 33, 32, 40, 25, 15, 52, 8, 70, 15, 11, 36, 39, 88, 18, 27, 19, 11, 29, 27, 28, 26, 1, 65, 16, 68, 14, 17, 51, 24, 36, 36, 138, 34, 10, 23, 15, 22, 7, 13, 27, 59, 4, 8, 67, 18, 13, 18, 26, 15, 17, 23, 11, 2, 27, 9, 24, 26, 6, 24, 1, 28, 35, 35, 39, 29, 27, 61, 30, 21, 41, 67, 34, 47, 5, 30, 26, 36, 3, 39, 48, 31, 40, 36, 49, 75, 29, 30, 72, 14, 24, 165, 21, 20, 53, 33, 18, 9, 29, 13, 40, 26, 20, 9, 11, 10, 21, 28, 28, 16, 29, 32, 39, 14, 9, 98, 31, 51, 36, 21, 26, 29, 28, 32, 11, 71, 22, 41, 48, 8, 50, 6, 32, 28, 20, 36, 11, 1, 38, 2, 61, 37, 25, 1, 112, 20, 10, 15, 14, 23, 7, 46, 32, 22, 42, 57, 7, 49, 27, 3, 18, 13, 15, 42, 39, 1, 17, 46, 5, 7, 16, 8, 23, 6, 22, 25, 33, 35, 11, 20, 29, 39, 21, 11, 26, 20, 22, 27, 157, 36, 14, 37, 28, 17, 9, 81, 16, 43, 44, 28, 75, 59, 32, 20, 20, 42, 27, 43, 29, 14, 17, 59, 53, 31, 27, 14, 61, 1, 74, 14, 35, 49, 37, 22, 29, 14, 19, 17, 20, 15, 22, 42, 91, 52, 31, 31, 54, 75, 31, 9, 88, 8, 10, 13, 89, 16, 38, 21, 24, 28, 6, 34, 21, 23, 16, 3, 5, 1, 13, 24, 43, 25, 21, 8, 24, 33, 39, 88, 46, 40, 14, 23, 15, 32, 26, 35, 42, 28, 40, 28, 80, 26, 12, 22, 48, 29, 28, 37, 6, 30, 19, 36, 13, 36, 50, 29, 8, 23, 28, 13, 16, 20, 1, 57, 40, 15, 15, 11, 19, 7, 25, 53, 19, 20, 9, 27, 22, 8, 32, 31, 13, 21, 38, 24, 29, 59, 20, 31, 20, 53, 8, 41, 26, 1, 30, 41, 46, 16, 43, 28, 44, 28, 38, 31, 32, 35, 27, 15, 49, 17, 16, 41, 40, 10, 55, 10, 8, 18, 67, 5, 6, 16, 46, 35, 9, 34, 25, 25, 28, 55, 11, 15, 18, 40, 39, 56, 39, 10, 51, 29, 34, 5, 42, 40, 7, 39, 25, 22, 44, 11, 54, 32, 5, 39, 38, 21, 35, 13, 39, 25, 13, 76, 21, 17, 28, 9, 24, 28, 34, 27, 21, 27, 32, 14, 30, 17, 12, 13, 18, 29, 13, 35, 13, 25, 3, 5, 16, 34, 1, 19, 31, 20, 10, 63, 8, 17, 42, 11, 27, 33, 13, 27, 67, 6, 19, 12, 33, 10, 23, 12, 3, 26, 14, 30, 27, 34, 7, 28, 17, 22, 62, 32, 20, 29, 32, 13, 12, 6, 4, 21, 36, 13, 7, 22, 30, 26, 21, 67, 24, 23, 37, 48, 37, 5, 35, 29, 28, 22, 49, 78, 35, 9, 32, 107, 33, 12, 8, 49, 28, 13, 49, 26, 20, 114, 15, 15, 10, 40, 35, 18, 18, 28, 39, 31, 25, 27, 27, 13, 31, 22, 16, 58, 67, 21, 26, 29, 35, 8, 28, 14, 7, 24, 24, 74, 21, 23, 23, 23, 48, 28, 40, 42, 21, 11, 5, 37, 35, 51, 31, 9, 19, 24, 15, 8, 19, 10, 21, 12, 19, 16, 15, 14, 26, 29, 33, 29, 22, 29, 5, 19, 39, 20, 28, 55, 9, 15, 29, 33, 67, 30, 3, 9, 8, 16, 14, 40, 14, 47, 32, 25, 13, 4, 31, 28, 18, 54, 3, 17, 39, 25, 39, 18, 23, 1, 18, 14, 28, 34, 1, 51, 5, 8, 29, 8, 28, 37, 47, 20, 41, 81, 8, 69, 17, 24, 8, 47, 40, 23, 24, 27, 50, 30, 52, 7, 13, 20, 25, 9, 32, 53, 10, 26, 27, 20, 1, 17, 25, 28, 13, 22, 51, 33, 17, 20, 29, 12, 29, 32, 11, 12, 56, 9, 23, 24, 38, 17, 14, 28, 49, 24, 33, 37, 13, 27, 17, 65, 39, 23, 22, 20, 35, 23, 26, 34, 26, 42, 24, 36, 53, 1, 5, 1, 29, 12, 29, 33, 26, 11, 53, 24, 45, 29, 38, 19, 9, 24, 73, 21, 24, 22, 44, 39, 26, 32, 25, 26, 27, 40, 19, 24, 17, 26, 12, 14, 19, 47, 16, 21, 3, 46, 18, 26, 49, 88, 27, 45, 21, 18, 42, 37, 44, 54, 31, 40, 7, 26, 32, 8, 44, 67, 27, 32, 25, 46, 22, 39, 36, 44, 39, 21, 7, 13, 21, 62, 44, 29, 21, 25, 10, 29, 3, 29, 8, 22, 27, 49, 24, 12, 21, 25, 30, 51, 26, 16, 39, 50, 41, 1, 16, 38, 21, 65, 14, 14, 39, 24, 21, 33, 90, 27, 26, 23, 22, 49, 5, 40, 1, 26, 14, 14, 25, 63, 28, 15, 9, 46, 24, 49, 24, 46, 43, 42, 4, 27, 3, 7, 25, 24, 19, 18, 7, 64, 12, 42, 15, 8, 21, 19, 13, 18, 37, 32, 26, 35, 21, 25, 37, 34, 22, 62, 26, 12, 41, 29, 58, 48, 26, 57, 20, 51, 65, 17, 16, 47, 48, 39, 7, 24, 31, 8, 13, 21, 61, 59, 22, 35, 12, 22, 20, 22, 35, 23, 25, 44, 136, 27, 31, 22, 15, 30, 9, 62, 27, 51, 29, 48, 43, 38, 34, 30, 51, 17, 28, 27, 37, 25, 26, 62, 36, 63, 52, 19, 23, 13, 7, 23, 1, 4, 26, 32, 36, 31, 17, 28, 22, 23, 37, 27, 24, 41, 23, 12, 30, 49, 26, 17, 38, 36, 11, 8, 12, 20, 38, 28, 36, 28, 25, 34, 42, 74, 29, 11, 13, 33, 25, 26, 32, 13, 27, 37, 34, 19, 49, 33, 7, 20, 6, 12, 39, 27, 30, 32, 40, 37, 25, 23, 31, 3, 31, 25, 35, 5, 52, 10, 23, 39, 34, 24, 39, 134, 39, 40, 109, 9, 20, 77, 23, 24, 37, 11, 30, 6, 20, 15, 30, 53, 25, 15, 27, 26, 33, 2, 26, 22, 22, 49, 1, 50, 59, 22, 34, 4, 39, 11, 16, 38, 10, 14, 28, 28, 24, 33, 27, 43, 25, 33, 26, 16, 26, 17, 12, 33, 19, 4, 15, 33, 25, 20, 14, 27, 41, 26, 2, 34, 3, 30, 2, 16, 15, 52, 4, 20, 5, 26, 45, 28, 28, 27, 23, 14, 36, 12, 27, 22, 18, 18, 25, 64, 30, 14, 12, 50, 51, 29, 19, 8, 11, 13, 22, 13, 13, 40, 26, 36, 30, 37, 26, 1, 60, 14, 49, 41, 57, 21, 58, 30, 28, 27, 35, 53, 66, 12, 7, 24, 1, 22, 18, 26, 26, 28, 33, 33, 23, 49, 41, 23, 41, 27, 30, 3, 7, 11, 14, 8, 40, 19, 44, 20, 36, 4, 28, 33, 19, 27, 25, 14, 8, 182, 50, 34, 2, 21, 20, 16, 23, 69, 24, 60, 38, 47, 32, 11, 8, 27, 46, 16, 24, 16, 45, 16, 7, 25, 8, 36, 37, 10, 12, 8, 38, 37, 82, 4, 10, 3, 12, 4, 22, 30, 21, 3, 33, 64, 10, 2, 19, 37, 39, 29, 36, 5, 30, 12, 26, 39, 42, 38, 19, 21, 25, 20, 129, 34, 5, 4, 36, 36, 9, 8, 11, 40, 73, 43, 72, 8, 40, 37, 64, 51, 38, 20, 28, 10, 44, 3, 23, 31, 25, 24, 13, 33, 27, 22, 25, 18, 29, 50, 52, 29, 28, 40, 5, 33, 13, 28, 2, 26, 44, 28, 35, 22, 7, 1, 21, 16, 7, 18, 3, 22, 52, 36, 34, 20, 16, 33, 24, 38, 17, 37, 41, 13, 43, 20, 21, 45, 23, 111, 32, 23, 30, 5, 25, 29, 59, 10, 4, 34, 24, 18, 10, 23, 13, 50, 34, 34, 33, 18, 46, 58, 62, 54, 74, 41, 38, 28, 33, 56, 20, 39, 17, 30, 25, 28, 72, 70, 19, 19, 80, 14, 41, 28, 32, 23, 24, 3, 19, 30, 21, 28, 43, 9, 14, 14, 35, 23, 47, 26, 25, 35, 32, 18, 17, 50, 18, 23, 23, 47, 15, 49, 15, 17, 3, 10, 32, 2, 19, 29, 26, 54, 3, 39, 33, 77, 15, 20, 19, 42, 3, 24, 27, 31, 27, 24, 39, 20, 109, 38, 57, 24, 37, 69, 21, 34, 10, 22, 23, 38, 38, 20, 11, 71, 25, 28, 34, 42, 79, 57, 47, 23, 32, 36, 21, 4, 19, 70, 6, 8, 6, 29, 7, 11, 30, 14, 61, 31, 17, 37, 15, 33, 20, 28, 56, 20, 23, 19, 24, 25, 24, 46, 29, 22, 68, 5, 7, 18, 230, 8, 41, 21, 26, 29, 26, 68, 43, 38, 36, 33, 1, 25, 30, 14, 40, 35, 7, 3, 18, 39, 31, 68, 41, 8, 19, 24, 19, 49, 51, 33, 27, 24, 1, 66, 4, 34, 38, 31, 13, 27, 26, 28, 56, 3, 16, 7, 12, 14, 8, 23, 28, 25, 27, 51, 89, 18, 19, 34, 69, 53, 18, 31, 21, 21, 25, 27, 1, 26, 16, 45, 2, 38, 67, 22, 19, 23, 28, 19, 2, 31, 16, 29, 20, 30, 26, 18, 25, 26, 5, 40, 34, 67, 25, 54, 16, 39, 32, 15, 25, 67, 15, 16, 35, 33, 22, 41, 39, 44, 47, 15, 44, 71, 67, 29, 13, 167, 22, 34, 20, 25, 26, 16, 19, 28, 10, 22, 42, 65, 34, 2, 39, 30, 27, 12, 21, 28, 84, 25, 20, 45, 23, 33, 44, 5, 1, 5, 32, 7, 19, 28, 27, 22, 58, 52, 22, 20, 12, 11, 11, 3, 14, 46, 19, 95, 8, 38, 10, 17, 58, 34, 20, 51, 35, 23, 12, 30, 20, 15, 26, 23, 30, 55, 12, 31, 18, 22, 44, 83, 24, 18, 39, 24, 11, 19, 5, 16, 20, 31, 27, 19, 35, 40, 28, 42, 40, 20, 36, 27, 57, 27, 30, 58, 12, 6, 31, 24, 1, 45, 40, 54, 32, 10, 27, 29, 56, 23, 17, 15, 2, 33, 35, 22, 19, 29, 20, 31, 87, 20, 16, 20, 84, 44, 17, 20, 39, 17, 43, 33, 28, 21, 11, 33, 20, 1, 23, 25, 21, 29, 32, 18, 10, 31, 28, 25, 34, 21, 6, 116, 6, 35, 33, 12, 1, 38, 20, 36, 83, 21, 32, 11, 32, 13, 7, 14, 4, 38, 33, 2, 14, 17, 22, 16, 14, 29, 8, 25, 13, 10, 15, 10, 25, 12, 28, 31, 35, 13, 12, 27, 46, 39, 26, 40, 2, 45, 13, 6, 33, 15, 40, 24, 13, 24, 15, 34, 17, 14, 20, 21, 13, 27, 24, 7, 46, 19, 30, 4, 38, 31, 19, 42, 26, 20, 12, 15, 7, 25, 92, 24, 5, 49, 35, 23, 12, 25, 28, 17, 27, 39, 5, 40, 1, 2, 51, 39, 53, 17, 12, 27, 32, 18, 36, 9, 36, 5, 56, 28, 43, 23, 40, 1, 1, 4, 5, 1, 16, 21, 17, 27, 41, 34, 22, 46, 24, 15, 1, 8, 33, 24, 12, 35, 1, 20, 28, 62, 38, 24, 33, 2, 18, 6, 24, 23, 5, 62, 20, 14, 95, 39, 38, 22, 24, 25, 15, 45, 31, 22, 62, 28, 25, 25, 1, 56, 9, 56, 31, 7, 31, 35, 24, 11, 18, 3, 36, 20, 10, 95, 27, 25, 41, 31, 30, 33, 21, 20, 53, 31, 16, 56, 35, 24, 23, 21, 19, 21, 45, 27, 11, 33, 19, 20, 41, 25, 15, 33, 23, 50, 45, 38, 44, 22, 24, 38, 9, 15, 43, 35, 34, 25, 22, 23, 1, 35, 22, 40, 20, 27, 28, 47, 33, 50, 40, 14, 11, 1, 27, 6, 4, 30, 79, 18, 44, 12, 26, 26, 37, 14, 20, 28, 40, 34, 14, 14, 21, 12, 33, 13, 28, 6, 33, 15, 66, 44, 3, 41, 12, 16, 20, 24, 66, 17, 14, 17, 4, 39, 16, 7, 33, 6, 30, 47, 9, 6, 1, 23, 21, 45, 44, 18, 40, 28, 25, 10, 38, 53, 70, 31, 97, 8, 19, 40, 29, 34, 47, 7, 26, 36, 44, 3, 39, 38, 28, 21, 25, 32, 40, 27, 15, 28, 17, 77, 5, 49, 17, 97, 32, 27, 29, 19, 37, 6, 23, 27, 24, 27, 24, 26, 26, 28, 25, 13, 15, 36, 25, 29, 44, 3, 6, 33, 23, 29, 9, 5, 41, 25, 13, 29, 9, 34, 11, 13, 22, 23, 82, 50, 7, 24, 17, 2, 7, 31, 21, 28, 1, 9, 15, 19, 12, 15, 9, 24, 10, 27, 19, 17, 12, 32, 36, 39, 36, 41, 23, 4, 13, 25, 9, 42, 23, 26, 52, 46, 26, 43, 37, 29, 33, 27, 21, 31, 44, 11, 40, 35, 52, 35, 106, 29, 17, 24, 12, 43, 15, 21, 37, 29, 14, 32, 34, 33, 29, 26, 16, 28, 37, 16, 20, 52, 43, 17, 31, 16, 11, 24, 11, 44, 37, 49, 14, 22, 70, 12, 32, 8, 2, 33, 36, 47, 24, 21, 12, 28, 13, 25, 40, 21, 31, 60, 36, 17, 49, 20, 34, 22, 8, 13, 18, 40, 73, 57, 25, 22, 15, 48, 11, 34, 35, 42, 17, 42, 7, 33, 5, 26, 16, 35, 44, 30, 10, 5, 32, 17, 16, 31, 12, 25, 31, 19, 16, 16, 21, 23, 65, 30, 11, 55, 22, 5, 4, 21, 7, 12, 4, 17, 24, 58, 42, 28, 33, 21, 10, 19, 28, 26, 3, 30, 43, 34, 2, 36, 47, 17, 41, 42, 31, 53, 20, 18, 31, 28, 14, 17, 26, 26, 29, 31, 13, 53, 40, 29, 14, 32, 28, 37, 136, 54, 16, 33, 62, 32, 23, 16, 54, 16, 42, 15, 31, 25, 45, 23, 20, 30, 56, 17, 34, 40, 36, 26, 22, 59, 34, 15, 23, 13, 16, 9, 27, 57, 45, 31, 4, 25, 10, 4, 25, 25, 63, 36, 33, 17, 50, 21, 31, 33, 36, 19, 37, 31, 39, 23, 27, 18, 17, 6, 36, 52, 20, 31, 75, 7, 35, 25, 61, 29, 19, 72, 16, 64, 26, 21, 37, 45, 33, 19, 5, 10, 9, 54, 14, 35, 54, 5, 18, 28, 54, 33, 33, 12, 46, 20, 19, 34, 34, 39, 1, 26, 39, 68, 4, 41, 55, 22, 31, 32, 15, 37, 15, 35, 24, 15, 26, 58, 16, 5, 19, 62, 23, 19, 35, 26, 56, 42, 20, 40, 23, 30, 28, 8, 20, 38, 108, 33, 61, 33, 30, 19, 29, 57, 29, 16, 34, 6, 18, 12, 12, 2, 12, 11, 45, 1, 34, 51, 2, 5, 30, 28, 43, 1, 52, 12, 41, 5, 40, 33, 16, 11, 28, 64, 10, 5, 7, 16, 25, 9, 25, 1, 48, 26, 1, 26, 16, 19, 18, 7, 32, 27, 31, 21, 20, 44, 20, 23, 73, 1, 19, 54, 18, 10, 32, 48, 28, 57, 47, 46, 11, 23, 34, 18, 29, 8, 56, 20, 28, 11, 54, 43, 38, 26, 14, 38, 20, 45, 58, 32, 22, 34, 12, 27, 5, 25, 43, 20, 16, 12, 8, 25, 19, 29, 44, 22, 18, 28, 28, 45, 11, 24, 9, 9, 43, 18, 45, 29, 20, 33, 21, 56, 9, 17, 40, 6, 28, 30, 36, 39, 31, 100, 32, 41, 2, 21, 42, 22, 11, 64, 27, 35, 19, 27, 7, 8, 35, 13, 12, 11, 35, 23, 7, 39, 56, 24, 48, 49, 52, 15, 16, 27, 23, 1, 22, 21, 31, 90, 27, 24, 28, 16, 19, 19, 31, 18, 39, 27, 132, 15, 2, 8, 16, 68, 13, 24, 23, 21, 38, 22, 42, 1, 48, 26, 26, 44, 52, 36, 31, 74, 24, 51, 36, 34, 22, 20, 18, 40, 22, 19, 30, 32, 66, 35, 19, 22, 22, 12, 10, 29, 27, 36, 38, 18, 39, 40, 8, 17, 27, 35, 6, 62, 17, 8, 66, 57, 36, 106, 30, 27, 37, 71, 35, 36, 37, 17, 35, 37, 48, 46, 90, 11, 19, 3, 15, 11, 25, 18, 20, 40, 12, 15, 35, 10, 13, 39, 29, 9, 13, 10, 52, 16, 77, 70, 43, 50, 55, 78, 16, 27, 8, 34, 12, 6, 49, 21, 21, 40, 1, 17, 40, 26, 22, 38, 26, 11, 61, 27, 79, 10, 24, 16, 4, 24, 8, 18, 33, 17, 34, 17, 45, 14, 7, 17, 129, 15, 34, 12, 11, 40, 4, 8, 16, 16, 3, 5, 35, 15, 4, 29, 30, 26, 11, 37, 34, 31, 12, 31, 36, 23, 35, 26, 49, 35, 29, 3, 34, 16, 28, 3, 12, 40, 33, 9, 27, 43, 21, 51, 3, 21, 24, 24, 26, 40, 1, 12, 42, 28, 50, 29, 15, 21, 11, 1, 26, 39, 4, 58, 42, 34, 1, 24, 64, 26, 62, 36, 24, 24, 23, 14, 33, 8, 30, 28, 27, 23, 27, 17, 20, 38, 34, 27, 59, 21, 20, 7, 27, 2, 20, 51, 38, 55, 37, 22, 38, 22, 24, 58, 50, 29, 27, 19, 39, 1, 10, 22, 9, 24, 12, 7, 25, 49, 37, 30, 17, 33, 15, 20, 26, 26, 12, 38, 23, 27, 11, 6, 25, 16, 23, 39, 1, 53, 24, 43, 20, 38, 34, 11, 25, 21, 26, 19, 31, 24, 24, 30, 2, 46, 38, 21, 26, 21, 21, 21, 7, 30, 39, 28, 37, 41, 1, 19, 9, 26, 7, 16, 53, 29, 18, 33, 6, 15, 31, 14, 45, 31, 63, 14, 36, 22, 19, 27, 20, 17, 5, 19, 22, 38, 53, 27, 18, 32, 4, 19, 25, 21, 22, 27, 10, 27, 32, 3, 15, 22, 28, 30, 40, 41, 25, 27, 36, 13, 11, 60, 28, 11, 11, 20, 22, 24, 36, 40, 23, 39, 23, 20, 20, 33, 24, 19, 25, 18, 22, 19, 40, 21, 73, 28, 13, 14, 28, 32, 36, 25, 2, 16, 26, 30, 12, 28, 45, 35, 35, 54, 66, 19, 56, 25, 7, 20, 2, 20, 19, 22, 43, 25, 34, 39, 48, 29, 47, 38, 27, 30, 45, 45, 41, 25, 17, 48, 26, 1, 50, 84, 20, 31, 30, 21, 41, 41, 8, 21, 56, 24, 10, 29, 4, 10, 299, 43, 15, 35, 1, 11, 34, 47, 74, 16, 49, 49, 25, 39, 33, 31, 8, 20, 6, 25, 8, 25, 5, 58, 26, 8, 42, 18, 19, 22, 68, 74, 17, 55, 28, 30, 23, 44, 3, 31, 43, 44, 36, 48, 8, 28, 6, 28, 36, 33, 11, 24, 25, 67, 11, 26, 12, 35, 14, 32, 35, 39, 17, 15, 10, 54, 28, 63, 30, 44, 42, 64, 24, 57, 14, 23, 14, 47, 23, 41, 32, 15, 30, 17, 1, 29, 22, 1, 33, 25, 43, 22, 11, 93, 27, 13, 29, 23, 111, 60, 34, 29, 31, 7, 22, 29, 30, 12, 37, 27, 31, 61, 26, 16, 13, 43, 52, 30, 21, 27, 62, 25, 62, 34, 27, 30, 36, 8, 8, 12, 17, 45, 14, 33, 25, 42, 36, 12, 26, 34, 19, 23, 25, 25, 15, 2, 18, 18, 20, 18, 45, 17, 46, 41, 8, 18, 32, 25, 31, 41, 19, 5, 39, 23, 17, 3, 16, 33, 30, 21, 26, 25, 18, 29, 24, 12, 91, 15, 31, 36, 23, 35, 24, 31, 40, 16, 26, 65, 31, 23, 46, 24, 29, 23, 27, 14, 33, 37, 14, 15, 22, 26, 44, 1, 25, 31, 61, 7, 30, 12, 26, 33, 51, 23, 36, 19, 46, 18, 18, 18, 4, 28, 15, 13, 38, 30, 32, 14, 32, 14, 14, 9, 36, 1, 14, 29, 47, 23, 8, 14, 22, 7, 25, 27, 33, 5, 21, 20, 31, 1, 12, 50, 16, 33, 17, 28, 40, 19, 12, 33, 26, 43, 6, 27, 37, 4, 6, 72, 28, 46, 54, 25, 22, 62, 3, 25, 28, 74, 60, 32, 46, 84, 25, 13, 2, 27, 20, 15, 40, 30, 44, 14, 42, 36, 48, 30, 23, 15, 19, 16, 19, 30, 22, 40, 23, 31, 23, 15, 39, 30, 10, 29, 31, 29, 63, 4, 96, 25, 42, 22, 144, 28, 36, 31, 48, 24, 28, 38, 15, 10, 25, 36, 20, 26, 44, 14, 17, 58, 36, 35, 28, 30, 8, 38, 21, 21, 40, 36, 18, 30, 20, 19, 11, 70, 108, 24, 36, 49, 28, 41, 28, 20, 50, 31, 37, 40, 38, 29, 30, 30, 21, 28, 14, 27, 29, 38, 22, 43, 98, 27, 33, 21, 25, 10, 21, 4, 11, 15, 5, 26, 27, 22, 1, 18, 94, 9, 32, 14, 19, 38, 38, 45, 28, 65, 22, 49, 31, 27, 29, 21, 72, 25, 32, 37, 45, 36, 24, 4, 44, 11, 9, 14, 46, 21, 43, 41, 41, 40, 31, 35, 5, 14, 41, 34, 66, 53, 1, 44, 19, 1, 43, 20, 43, 39, 30, 22, 16, 31, 24, 16, 20, 14, 70, 49, 7, 9, 18, 1, 1, 24, 9, 48, 49, 29, 34, 69, 22, 14, 43, 21, 41, 21, 42, 35, 23, 63, 1, 17, 12, 7, 10, 6, 15, 19, 24, 10, 23, 22, 37, 38, 49, 20, 57, 10, 18, 18, 1, 12, 30, 33, 4, 23, 33, 50, 33, 10, 36, 23, 40, 42, 28, 13, 32, 11, 18, 15, 18, 5, 25, 21, 9, 22, 12, 7, 17, 12, 20, 9, 20, 31, 12, 7, 35, 31, 44, 18, 26, 35, 28, 15, 37, 18, 43, 50, 14, 35, 23, 29, 31, 19, 47, 29, 42, 1, 25, 17, 35, 26, 6, 22, 25, 1, 19, 12, 101, 34, 22, 37, 47, 12, 17, 38, 30, 22, 42, 27, 20, 35, 31, 36, 9, 24, 14, 5, 35, 9, 14, 36, 4, 25, 10, 1, 17, 20, 1, 19, 11, 29, 4, 96, 21, 10, 33, 46, 38, 23, 31, 19, 14, 15, 36, 66, 6, 23, 16, 9, 4, 1, 13, 6, 11, 23, 34, 30, 22, 20, 21, 25, 15, 58, 37, 46, 56, 27, 43, 19, 12, 15, 9, 20, 29, 70, 63, 20, 38, 38, 28, 12, 27, 21, 27, 37, 20, 24, 54, 6, 10, 43, 26, 25, 10, 74, 14, 30, 25, 27, 22, 36, 22, 10, 89, 50, 24, 24, 10, 24, 4, 7, 54, 46, 52, 11, 27, 33, 33, 14, 67, 2, 40, 25, 34, 34, 27, 28, 30, 55, 40, 16, 23, 38, 25, 1, 10, 17, 1, 12, 20, 22, 35, 51, 26, 36, 53, 25, 26, 50, 14, 49, 38, 51, 23, 33, 17, 29, 5, 3, 26, 25, 34, 45, 11, 45, 96, 20, 31, 14, 28, 39, 18, 35, 20, 16, 2, 15, 1, 3, 23, 31, 47, 57, 23, 54, 30, 29, 23, 13, 11, 10, 18, 26, 71, 8, 19, 30, 15, 38, 24, 70, 27, 6, 37, 24, 59, 3, 20, 33, 33, 33, 24, 23, 48, 32, 23, 15, 31, 49, 37, 68, 21, 102, 87, 26, 25, 16, 20, 31, 45, 15, 6, 28, 55, 20, 29, 39, 18, 33, 74, 38, 64, 143, 38, 20, 47, 19, 25, 18, 4, 18, 24, 19, 29, 46, 14, 9, 1, 4, 19, 54, 14, 23, 2, 53, 25, 22, 50, 26, 29, 23, 36, 30, 43, 47, 32, 18, 12, 37, 106, 30, 34, 23, 19, 49, 1, 23, 34, 20, 63, 19, 27, 20, 27, 22, 15, 13, 39, 11, 9, 34, 24, 19, 60, 26, 31, 30, 36, 23, 13, 15, 26, 22]\n"
          ],
          "name": "stdout"
        }
      ]
    },
    {
      "cell_type": "code",
      "metadata": {
        "colab": {
          "base_uri": "https://localhost:8080/"
        },
        "id": "5uDG1xBZ46Cl",
        "outputId": "817cb2ce-ecec-4749-afbf-73c0134547b6"
      },
      "source": [
        "if 0 in sections:\n",
        "  print('yes')\n",
        "else:\n",
        "  print('No zeros')"
      ],
      "execution_count": 15,
      "outputs": [
        {
          "output_type": "stream",
          "text": [
            "No zeros\n"
          ],
          "name": "stdout"
        }
      ]
    },
    {
      "cell_type": "code",
      "metadata": {
        "colab": {
          "base_uri": "https://localhost:8080/",
          "height": 36
        },
        "id": "AmU7F7BZ5NzG",
        "outputId": "0ff61def-f84c-4726-9826-8452dd14e72e"
      },
      "source": [
        "clean_df.iloc[100].body_text[10]['text']"
      ],
      "execution_count": 16,
      "outputs": [
        {
          "output_type": "execute_result",
          "data": {
            "application/vnd.google.colaboratory.intrinsic+json": {
              "type": "string"
            },
            "text/plain": [
              "'No potential conflicts of interest were disclosed.'"
            ]
          },
          "metadata": {
            "tags": []
          },
          "execution_count": 16
        }
      ]
    },
    {
      "cell_type": "code",
      "metadata": {
        "colab": {
          "base_uri": "https://localhost:8080/"
        },
        "id": "_KBkr5Z_5pSr",
        "outputId": "3d62d38a-4fcd-4f52-97cf-ba37d7b3ca6b"
      },
      "source": [
        "number_words_of_article = 0\n",
        "for txt in clean_df.body_text[3]:\n",
        "  number_words_of_article+=len(txt['text'].split())\n",
        "number_words_of_article"
      ],
      "execution_count": 17,
      "outputs": [
        {
          "output_type": "execute_result",
          "data": {
            "text/plain": [
              "5827"
            ]
          },
          "metadata": {
            "tags": []
          },
          "execution_count": 17
        }
      ]
    },
    {
      "cell_type": "code",
      "metadata": {
        "id": "mZcsD1Md6djA"
      },
      "source": [
        "# adding all texts into one single entry for each row\n",
        "new_df = clean_df.copy()\n",
        "article_text_column = []\n",
        "for i in range(len(clean_df.body_text)):\n",
        "  article_text = []\n",
        "  for entry in clean_df.iloc[i]['body_text']:\n",
        "    article_text.append(entry['text'])\n",
        "  #article_text = delete_regex('. '.join(article_text))\n",
        "  article_text_column.append(article_text)\n",
        "\n",
        "new_df['pure_text'] = article_text_column"
      ],
      "execution_count": null,
      "outputs": []
    },
    {
      "cell_type": "markdown",
      "metadata": {
        "id": "K4FkVW5l0ICB"
      },
      "source": [
        "### NER using Huggingface"
      ]
    },
    {
      "cell_type": "code",
      "metadata": {
        "id": "qtZuN5Vi68J3"
      },
      "source": [
        "import re\n",
        "\n",
        "def delete_regex(text):\n",
        "  #remove html\n",
        "  output = re.sub('<[^>]*>', '', text)\n",
        "  #remove numbers, all maths operations\n",
        "  output = re.sub('((?:[-\\d)(+/*]+)?(?:(?:cos|sin|tan)[(](?:\\d+?|Pi)[)])?(?:[\\-\\d\\)\\(\\+/*]+)?)', '', output)\n",
        "  output = re.sub('#', '', output)\n",
        "  output = re.sub('/', '', output)\n",
        "  #remove abbreivations multiple consecutive capital letters\n",
        "  output = re.sub('\\b[A-Z]{2,}\\b', '', output)\n",
        "  return output"
      ],
      "execution_count": null,
      "outputs": []
    },
    {
      "cell_type": "code",
      "metadata": {
        "colab": {
          "base_uri": "https://localhost:8080/",
          "height": 382
        },
        "id": "cJ-vHcFOJ6HE",
        "outputId": "d8c23258-7408-4b63-ba81-4aa7e4f42228"
      },
      "source": [
        "#!pip install transformers \n",
        "import torch\n",
        "from transformers import AutoTokenizer, AutoModelForTokenClassification\n",
        "import time\n",
        "\n",
        "# Load model\n",
        "tokenizer = AutoTokenizer.from_pretrained(\"fran-martinez/scibert_scivocab_cased_ner_jnlpba\")\n",
        "model = AutoModelForTokenClassification.from_pretrained(\"fran-martinez/scibert_scivocab_cased_ner_jnlpba\")\n",
        "\n",
        "start = time.time()\n",
        "\n",
        "document_to_recognise = new_df.iloc[1]['pure_text']\n",
        "\n",
        "document_to_recognise = delete_regex(document_to_recognise)\n",
        "\n",
        "token_list = []\n",
        "entities_dict = {}\n",
        "\n",
        "for i in range(1000, len(document_to_recognise), 1000):\n",
        "  # take a chunk\n",
        "  test_sequence = new_df.iloc[1]['pure_text'][i-1000:i]\n",
        "\n",
        "  # pass chunk to BERT\n",
        "  input_ids = torch.tensor(tokenizer.encode(test_sequence)).unsqueeze(0)\n",
        "\n",
        "  # Predict\n",
        "  with torch.no_grad():\n",
        "    outputs = model(input_ids)\n",
        "\n",
        "  # From the output let's take the first element of the tuple.\n",
        "  # Then, let's get rid of [CLS] and [SEP] tokens (first and last)\n",
        "  predictions = outputs[0].argmax(axis=-1)[0][1:-1]\n",
        "\n",
        "  # Map label class indexes to string labels.\n",
        "  for token, pred in zip(tokenizer.tokenize(test_sequence), predictions):\n",
        "    if model.config.id2label[pred.numpy().item()] == 'O':\n",
        "      pass\n",
        "    else:\n",
        "      if model.config.id2label[pred.numpy().item()] in entities_dict.keys():\n",
        "        entities_dict[model.config.id2label[pred.numpy().item()]].append(token)\n",
        "      else:\n",
        "        entities_dict[model.config.id2label[pred.numpy().item()]] = [token]\n",
        "\n",
        "stop = time.time()"
      ],
      "execution_count": null,
      "outputs": [
        {
          "output_type": "error",
          "ename": "TypeError",
          "evalue": "ignored",
          "traceback": [
            "\u001b[0;31m---------------------------------------------------------------------------\u001b[0m",
            "\u001b[0;31mTypeError\u001b[0m                                 Traceback (most recent call last)",
            "\u001b[0;32m<ipython-input-22-47595db12f56>\u001b[0m in \u001b[0;36m<module>\u001b[0;34m()\u001b[0m\n\u001b[1;32m     12\u001b[0m \u001b[0mdocument_to_recognise\u001b[0m \u001b[0;34m=\u001b[0m \u001b[0mnew_df\u001b[0m\u001b[0;34m.\u001b[0m\u001b[0miloc\u001b[0m\u001b[0;34m[\u001b[0m\u001b[0;36m1\u001b[0m\u001b[0;34m]\u001b[0m\u001b[0;34m[\u001b[0m\u001b[0;34m'pure_text'\u001b[0m\u001b[0;34m]\u001b[0m\u001b[0;34m\u001b[0m\u001b[0;34m\u001b[0m\u001b[0m\n\u001b[1;32m     13\u001b[0m \u001b[0;34m\u001b[0m\u001b[0m\n\u001b[0;32m---> 14\u001b[0;31m \u001b[0mdocument_to_recognise\u001b[0m \u001b[0;34m=\u001b[0m \u001b[0mdelete_regex\u001b[0m\u001b[0;34m(\u001b[0m\u001b[0mdocument_to_recognise\u001b[0m\u001b[0;34m)\u001b[0m\u001b[0;34m\u001b[0m\u001b[0;34m\u001b[0m\u001b[0m\n\u001b[0m\u001b[1;32m     15\u001b[0m \u001b[0;34m\u001b[0m\u001b[0m\n\u001b[1;32m     16\u001b[0m \u001b[0mtoken_list\u001b[0m \u001b[0;34m=\u001b[0m \u001b[0;34m[\u001b[0m\u001b[0;34m]\u001b[0m\u001b[0;34m\u001b[0m\u001b[0;34m\u001b[0m\u001b[0m\n",
            "\u001b[0;32m<ipython-input-21-810fc1739c49>\u001b[0m in \u001b[0;36mdelete_regex\u001b[0;34m(text)\u001b[0m\n\u001b[1;32m      3\u001b[0m \u001b[0;32mdef\u001b[0m \u001b[0mdelete_regex\u001b[0m\u001b[0;34m(\u001b[0m\u001b[0mtext\u001b[0m\u001b[0;34m)\u001b[0m\u001b[0;34m:\u001b[0m\u001b[0;34m\u001b[0m\u001b[0;34m\u001b[0m\u001b[0m\n\u001b[1;32m      4\u001b[0m   \u001b[0;31m#remove html\u001b[0m\u001b[0;34m\u001b[0m\u001b[0;34m\u001b[0m\u001b[0;34m\u001b[0m\u001b[0m\n\u001b[0;32m----> 5\u001b[0;31m   \u001b[0moutput\u001b[0m \u001b[0;34m=\u001b[0m \u001b[0mre\u001b[0m\u001b[0;34m.\u001b[0m\u001b[0msub\u001b[0m\u001b[0;34m(\u001b[0m\u001b[0;34m'<[^>]*>'\u001b[0m\u001b[0;34m,\u001b[0m \u001b[0;34m''\u001b[0m\u001b[0;34m,\u001b[0m \u001b[0mtext\u001b[0m\u001b[0;34m)\u001b[0m\u001b[0;34m\u001b[0m\u001b[0;34m\u001b[0m\u001b[0m\n\u001b[0m\u001b[1;32m      6\u001b[0m   \u001b[0;31m#remove numbers, all maths operations\u001b[0m\u001b[0;34m\u001b[0m\u001b[0;34m\u001b[0m\u001b[0;34m\u001b[0m\u001b[0m\n\u001b[1;32m      7\u001b[0m   \u001b[0moutput\u001b[0m \u001b[0;34m=\u001b[0m \u001b[0mre\u001b[0m\u001b[0;34m.\u001b[0m\u001b[0msub\u001b[0m\u001b[0;34m(\u001b[0m\u001b[0;34m'((?:[-\\d)(+/*]+)?(?:(?:cos|sin|tan)[(](?:\\d+?|Pi)[)])?(?:[\\-\\d\\)\\(\\+/*]+)?)'\u001b[0m\u001b[0;34m,\u001b[0m \u001b[0;34m''\u001b[0m\u001b[0;34m,\u001b[0m \u001b[0moutput\u001b[0m\u001b[0;34m)\u001b[0m\u001b[0;34m\u001b[0m\u001b[0;34m\u001b[0m\u001b[0m\n",
            "\u001b[0;32m/usr/lib/python3.6/re.py\u001b[0m in \u001b[0;36msub\u001b[0;34m(pattern, repl, string, count, flags)\u001b[0m\n\u001b[1;32m    189\u001b[0m     \u001b[0ma\u001b[0m \u001b[0mcallable\u001b[0m\u001b[0;34m,\u001b[0m \u001b[0mit\u001b[0m\u001b[0;31m'\u001b[0m\u001b[0ms\u001b[0m \u001b[0mpassed\u001b[0m \u001b[0mthe\u001b[0m \u001b[0mmatch\u001b[0m \u001b[0mobject\u001b[0m \u001b[0;32mand\u001b[0m \u001b[0mmust\u001b[0m \u001b[0;32mreturn\u001b[0m\u001b[0;34m\u001b[0m\u001b[0;34m\u001b[0m\u001b[0m\n\u001b[1;32m    190\u001b[0m     a replacement string to be used.\"\"\"\n\u001b[0;32m--> 191\u001b[0;31m     \u001b[0;32mreturn\u001b[0m \u001b[0m_compile\u001b[0m\u001b[0;34m(\u001b[0m\u001b[0mpattern\u001b[0m\u001b[0;34m,\u001b[0m \u001b[0mflags\u001b[0m\u001b[0;34m)\u001b[0m\u001b[0;34m.\u001b[0m\u001b[0msub\u001b[0m\u001b[0;34m(\u001b[0m\u001b[0mrepl\u001b[0m\u001b[0;34m,\u001b[0m \u001b[0mstring\u001b[0m\u001b[0;34m,\u001b[0m \u001b[0mcount\u001b[0m\u001b[0;34m)\u001b[0m\u001b[0;34m\u001b[0m\u001b[0;34m\u001b[0m\u001b[0m\n\u001b[0m\u001b[1;32m    192\u001b[0m \u001b[0;34m\u001b[0m\u001b[0m\n\u001b[1;32m    193\u001b[0m \u001b[0;32mdef\u001b[0m \u001b[0msubn\u001b[0m\u001b[0;34m(\u001b[0m\u001b[0mpattern\u001b[0m\u001b[0;34m,\u001b[0m \u001b[0mrepl\u001b[0m\u001b[0;34m,\u001b[0m \u001b[0mstring\u001b[0m\u001b[0;34m,\u001b[0m \u001b[0mcount\u001b[0m\u001b[0;34m=\u001b[0m\u001b[0;36m0\u001b[0m\u001b[0;34m,\u001b[0m \u001b[0mflags\u001b[0m\u001b[0;34m=\u001b[0m\u001b[0;36m0\u001b[0m\u001b[0;34m)\u001b[0m\u001b[0;34m:\u001b[0m\u001b[0;34m\u001b[0m\u001b[0;34m\u001b[0m\u001b[0m\n",
            "\u001b[0;31mTypeError\u001b[0m: expected string or bytes-like object"
          ]
        }
      ]
    },
    {
      "cell_type": "code",
      "metadata": {
        "id": "6I3N5Ta973xO"
      },
      "source": [
        "print('Time taken to NER for one article is: ', stop-start)"
      ],
      "execution_count": null,
      "outputs": []
    },
    {
      "cell_type": "code",
      "metadata": {
        "id": "MTMCw0tZ76Eb"
      },
      "source": [
        "entities_dict"
      ],
      "execution_count": null,
      "outputs": []
    },
    {
      "cell_type": "code",
      "metadata": {
        "id": "y_pjaiK9HIRi"
      },
      "source": [
        "# adding all texts into one single entry for each row\n",
        "new_df = clean_df.copy()\n",
        "article_text_column = []\n",
        "for i in range(len(clean_df.body_text)):\n",
        "  article_text = []\n",
        "  for entry in clean_df.iloc[i]['body_text']:\n",
        "    article_text.append(entry['text'])\n",
        "  article_text = '. '.join(article_text)\n",
        "  article_text_column.append(article_text)\n",
        "\n",
        "new_df['pure_text'] = article_text_column\n",
        "del clean_df"
      ],
      "execution_count": null,
      "outputs": []
    },
    {
      "cell_type": "code",
      "metadata": {
        "colab": {
          "base_uri": "https://localhost:8080/",
          "height": 125
        },
        "id": "dW-mVWa4IP9D",
        "outputId": "d44de40d-9207-4988-e715-3576529f12c2"
      },
      "source": [
        "new_df.iloc[0].pure_text"
      ],
      "execution_count": null,
      "outputs": [
        {
          "output_type": "execute_result",
          "data": {
            "application/vnd.google.colaboratory.intrinsic+json": {
              "type": "string"
            },
            "text/plain": [
              "'. Illustration of the confidence sets.. optimizing variable and ξ is the unknown parameter, distributionally robust optimization solves max x∈X [inf μ∈C E ξ∼μ u(x, ξ)], where C is an a priori known set of distributions.. We highlight our contributions by comparing with [1] . In [1] the state-wise ambiguity set is restricted to the following form:C s = {μ s |μ s (O i s ) ≥ α i s ∀ i = 1, . . . , n s }, where α i s ≤ α j s and O i s is a proper set of uncertain parameters with a \"nested-set\" structure, i.e., satisfying O i s ⊆ O j s , for all i < j [see Fig. 1(a) ]. This setup can effectively model distributions with a single mode (such as a Gaussian distribution), but less so when modeling multi-mode distributions such as a mixture Gaussian distribution. Moreover, other probabilistic information such as mean, variance etc. cannot be incorporated. Thus, in this technical note, we extend the distributionally robust MDP approach to handle ambiguity sets with more general structures. In particular, we consider a class of ambiguity sets, first proposed in [18] as a unifying framework for modeling and solving distributionally robust single-stage optimization problems, and embed them into the distributionally robust MDPs setup. These ambiguity sets are considerably more general: they are characterized by a class of O i s which can either be nested or disjoint [as shown in Fig. 1(b) ], and moreover, additional linear constraints are allowed to define the ambiguity set, which can be used to incorporate probabilistic information such as mean, covariance or other variation measures. We show that, under this more general class of ambiguity sets, the resulting distributionally robust MDPs remain tractable under mild technical conditions, and often outperform previous methods thanks to the fact that it can model uncertainty in a more flexible way.. Throughout the technical note, we use capital letters to denote matrices, and bold face letters to denote column vectors. We use e i (m) to denote the ith elementary vector of length m, and use R n + to denote the nonnegative orthant of R n . If C is the set of joint probability distributions of three random vectors a, b, and c, then (a,b) C denotes the set of marginal distributions of (a, b). We use ⊕ to represent mixture distribution: given two probability distributions F 1 , F 2 and a Bernoulli random variable x which takes value 1 w.p. p, xF 1 ⊕ (1 − x)F 2 is a random variable such that it follows distribution F 1 w.p. p, and follows F 2 w.p. 1 − p. We use N (m, σ 2 ) to represent a Gaussian distribution with mean m and variance σ 2 .. A (finite) Markov Decision Process (MDP) is defined as a 6-tuple T, γ, S, A, p, r . Here, T is the (possibly infinite) decision horizon; 0018-9286 © 2015 IEEE. Personal use is permitted, but republication/redistribution requires IEEE permission.. See http://www.ieee.org/publications_standards/publications/rights/index.html for more information.. γ ∈ (0, 1] is the discount factor; S is the state set and A s is the action set of state s ∈ S, both assumed to be finite. The parameter p and r are the transition probability and the expected reward, respectively. That is, for s ∈ S and a ∈ A s , r(s, a) is the expected reward and p(s |s, a) is the probability that the next state is s . Following [2] , we denote the set of all history-dependent randomized strategies by Π HR . We use subscript s to denote the value associated with the state s: e.g., r s denotes the vector form of the rewards associated with the state s, and π s is the (randomized) action chosen at state s for strategy π.. The elements in the vector p s are listed in the following way: the transition probabilities of the same action are arranged in the same block, and inside each block they are listed according to the order of the next state. We use s to denote the (random) state following s, and Δ(s) to denote the probability simplex on A s . We use to represent Cartesian product, e.g., p = s∈S p s . For a given strategy π ∈ Π HR , we denote the expected (discounted) total-reward under parameters pair (p, r) as u(π, p, r). A Distributionally Ambiguous MDP (DAMDP) is defined as a tuple T, γ, S, A,C S , where the transition probability p and the expected reward r are unknown. Instead, they are assumed to obey a joint distribution μ 0 (also unknown) that belongs to a known ambiguity set. While the DAMDP framework can be very general, mostC S result in formulations that are computationally intractable (e.g., [1] , [19] ). Hence, we make the following requirement ofC S such that the parameters among different states are independent.. Assumption 1: The ambiguity setC S has the following property:. where \"state-wise ambiguity set\"C s is a set of distributions of parameters of state s. By the definition ofC S , the state-wise property applies to C S as well. This property is the same as the concept of \"s-rectangularity\" in [16] , and is essential for reducing DAMDP to robust MDP in Lemma 1. In addition, [20] showed that the robust MDP with coupled uncertainty sets is computationally challenging, which implies solving DAMDP with nonrectangular ambiguity sets is even harder.. We now discuss the admissible state-wise ambiguity set. Our formulation of the state-wise ambiguity set follows the unifying framework of [18] . In specific, given s ∈ S, the state-wise ambiguity set is representable with the following standard form:. are the lower and upper bounds of the probability that parameters belong to a confidence set. Thus, each confidence set O i s provides an estimation of the uncertain parameters pair (p s , r s ,ũ s ) subject to a different confidence level. Ambiguity setsC s contain prescribed conic representable confidence sets and mean values residing on an affine manifold, which is rich enough to encompass and extend several ambiguity sets considered in recent literature (e.g., [1] , [19] , [21] ). The set of joint distribution of (p s , r s ) is hence C s Δ = (ps ,rs)C s . Notice that a classical technique called \"lifting\" is used here: We introduce an auxiliary random vectorũ, so that some non-linear relationship can be modeled linearly. For example, a constraint on the variance can be modeled using this standard form (see [22, Example 2] ), which is otherwise impossible without the auxiliary variable. This lifting technique thus allows us to model a rich variety of structural information about the marginal distribution of (p, r) in a unified manner. Note when the ambiguity set only contains the support of random variables, i.e.,. where the a-priori information of unknown parameters is that they belong to an uncertainty set.. Assumptions 2 to 4 are standard requirements for the confidence sets, proposed in [18] . The first one asserts the relationship between different confidence sets.. The nesting condition is illustrated in Fig. 1(b) . Next, for any s ∈ S we require thatC s satisfies the following regularity condition.. 1) The confidence set O ns s is bounded and has probability one, that is, . s are proper cones (i.e., a closed, convex and pointed cone with nonempty interior).. This section focuses on DAMDP with a finite number of decision stages. We show that a strategy defined through backward induction, which we call S-robust strategy, is distributionally robust. We further show such a strategy is solvable in polynomial time under mild technical conditions. This generalizes results in [1] to a significantly more general class of ambiguity sets.. Similar to [10] , we assume that when a state is visited multiple times, each time it can take a different parameter realization (nonstationary model). This assumption is justified mainly because the stationary model is generally intractable and a lower-bound of it is given by the non-stationary model. Therefore, multiple visits to a state can be treated as visiting different states. By introducing dummy states as in [1, Assumption 2.2], for finite horizon DAMDP we make the following assumption without loss of generality. This will simplify our exposition.. Assumption 5: 1) Each state belongs to only one stage.. 2) The terminal reward equals zero.. 3) The first stage only contains one state s ini .. Using the condition 1 of Assumption 5, we partition S according to the stage each state belongs to. That is, we let S t be the set of states belong to tth stage.. For π ∈ Π HR and μ ∈ C S , we denote the expected performance of a DAMDP as w π, μ, (s ini ) Δ = E (p,r)∼μ {u(π, p, r)} = u(π, p, r)dμ(p, r).. In words, each strategy is evaluated by its expected performance under the (respective) most adversarial distribution of the uncertain parameters, and a distributionally robust strategy is the optimal strategy according to this metric. The main focus of this section is deriving approaches to solve the distributionally robust strategy. To this end, we need the following definition.. Definition 2: Given a DAMDP T, γ, S, A,C S , we define the Srobust strategy as follows. 3) A strategyπ * is a Srobust strategy if ∀ s ∈ S, and every history h that ends at s, we haveπ * s , conditioned on history h, is a S-robust action.. The definition requires that the strategy must be robust w.r.t. each sub-problem, and hence the name \"S-robust.\" The following theorem shows any S-robust strategy π * is distributionally robust, and is the main result of this technical note.. Theorem 1: Let T < ∞. Under Assumptions 1, 2, 4, and 5, if π * is a S-robust strategy, then 1) π * is a distributionally robust strategy with respect to C S . 2) There exists μ * ∈ C s such that (π * , μ * ) is a saddle point. That is. Proof: We first state a Lemma from [1, Lemma 3.2] without proof.. Lemma 1: Under Assumption 1, fix π ∈ Π HR and μ ∈ C S , denote p = E μ (p) and r = E μ (r). We have w(π, μ, (s ini )) = u(π, p, r).. Lemma 1 means for any strategy, the expected performance under an admissible distribution μ only depends on the expected value of parameters under μ. Thus, the distributionally robust MDPs reduce to robust MDPs. Next we characterize the set of expected value of the parameters.. Lemma 2: For s ∈ S and π s ∈ Δ(s), we define the set Z s = {E μs (p s , r s )|μ s ∈ C s }. Then set Z s is convex and compact.. Proof: First, we show that, for s ∈ S and π s ∈ Δ(s), the set defined asZ s = {E μs (p s , r s ,ũ s )|μ s ∈C s } is convex and compact. The convexity can be easily shown, which is omitted due to space constraints (see [22] for details). To show the compactness, notice thatC s is weakly closed (i.e., closed w.r.t. to the weak topology) since the feasible set of each of constraint is weakly closed which implies their intersection is also weakly closed. Thus,Z s is closed since it is the image ofC s under expectation (which is a continuous function). This impliesZ s is compact since O ns s is bounded and henceZ s is bounded. Finally, since Z s is the projection onto the first two coordinates of set Z s , its convexity and compactness thus follow.. Lemma 2 implies that, for s ∈ S and π s ∈ Δ(s), there exists (p * s , r * s ) ∈ Z s that satisfies inf (ps,rs)∈Zs u(π s , p s , r s ) = u(π s , p * s , r * s ). Since saddle point of the minimax objective exists for robust MDPs (e.g., [10] , [11] ), we can complete the proof of part 2) following a similar procedure as the last portion of proof for [1, Theorem 3.1]. We omit the details due to space constraint (see [22] for details). Part 1) then follows part 2) immediately.. We now investigate the computational aspect of finding the S-robust action.. Theorem 2: Under Assumption 2, 3, 4, and 5, for s ∈ S t where t < T , the S-robust action is the optimal solution of the following optimization problem (termed Srobust problem hereafter): Proof: The proof essentially follows from [18] and duality of convex optimization [23] , and can be found in the longer version [22] of this technical note.. Thus, since for s ∈ S t , Δ(s) is compact, we can solve the S-robust action in polynomial time if all K i s are \"easy\" cones such as linear, conic quadratic or semidefinite cones. Moreover, using Theorem 1, by backward induction, we can obtain the S-robust strategy efficiently.. By virtue of the lifting technique [18, Theorem 5], we show below several widely used ambiguity sets are indeed special cases ofC s defined in (1) . We further derive their corresponding S-robust problems. See [22] for additional examples (variance and expected Huber loss function). . This example can also be treated via \"classical\" robust optimization by virtue of Lemma 1.. The finite horizon DAMDP can be easily extended to discountedreward infinite horizon setup. We can generalize the notion of S-robust strategy, which turns to be distributionally robust in both stationary and non-stationary models. This extension is similar to [1] and can be found in [22] .. In this section, we study two synthetic numerical examples: a machine replacement problem and a path planning problem. In the machine replacement problem, the reward parameters are uncertain; whereas in the path planning problem, the transition probabilities are uncertain. All results were generated on desktop with Intel Core i5-3570 CPU of 3.40 GHz clock speed and 8 GB RAM. The S-robust problems are solved in Matlab using the CVX package [24] .. We consider a machine replacement problem similar to the one in [12] . Consider the repair cost incurred by a factory that holds a large number of machines, given that each of these machines is modeled with a same underlying MDP for which rewards are subject to uncertainty.. We first consider a machine replacement problem with 50 states, 2 actions (\"repair\" and \"not repair\") for each state, deterministic transitions, a discount factor of 0.8, and uncertain rewards following Gaussian distributions independently [see Fig. 2(a) ]: For the first 48 states, the \"repair\" action has a cost N (130, 1) . The 49th and 50th states of the machine\\'s life are designed to be risky: not repairing at state 50 incurs a highly uncertain cost N (100, 800), while repairing at both states is a more secure but still uncertain option with a cost N (130, 10) . The detailed implementation is as follows: We use the mean value of uncertain rewards to compute the nominal strategy. For both robust and distributionally robust strategy, we construct confidence sets usinĝ m ± 3σ for the first 49 states, andm ± 4σ for state 50 wherem andσ 2 are mean and variance estimated from samples (see [22] for details), as it is more risky and thus hard to estimate. In addition, we construct an extra confidence set (centered at the mean) with 60%-70% confidence level (i.e., α 1 50 = 0.6, α 1 50 = 0.7) for distributionally robust strategy. The optimal paths followed by three strategies are shown in Fig. 2(a) .. The performance of the strategies obtained by using the nominal, the robust and the distributionally robust approaches is presented in Fig. 3 . The corresponding average total discounted rewards and computational times are shown in Table I . The nominal strategy results in the highest average total discounted rewards. This is well expected as we are using the exact mean value of the reward as the nominal Fig. 2 . Two instances of a machine replacement problem. Fig. 2(a) shows Gaussian uncertainty in the rewards, while Fig. 2(b) shows mixed Gaussian uncertainty in the rewards. parameter. However, the nominal strategy is highly risky: it cannot prevent bad performance (e.g., −0.025) from happening, which is undesirable. While the nominal strategy, blind to any form of risk, finds no advantage in ever repairing, the robust strategy ends up following a highly conservative policy (repairing the machine at state 49 to avoid state 50). In contrast, the distributionally robust optimal strategy makes use of more distributional information and handles the risk efficiently by waiting until state 50 and then repair the machine. Therefore, this strategy beats the nominal and robust strategies in that it strikes a good tradeoff between high mean reward and low variance over 10,000 different trials. These results coincide with what one would typically expect from the three solution concepts. Fig. 4 . Illustration of the confidence sets for two distributionally robust strategies.. The second experiment has a similar setup as the previous one, except that not repairing at the 50th state has a reward which follows a mixed Gaussian distribution [see Fig. 2(b) ]. This experiment illustrates the effect of the two different nested-set structures shown in Fig. 1 . In specific, we apply the two different distributionally robust approaches (proposed in [1] and this technical note respectively), and show that our method outperforms. The detailed implementation is as follows: For the robust and two distributionally robust strategies, we construct uncertainty set corresponding to 99% probability support of the rewards for the first 49 states, and 99.9% for the 50th state that is more risky, using estimated mean and variance (see [22] for details). For the first distributionally robust strategy proposed in [1] , we construct two additional nested confidence sets O 1 50 and O 2 50 [see Fig. 4(a) ], which w.p. 40%-50% and 60%-70% respectively the uncertain rewards belong to. In contrast, for the second distributionally robust strategy proposed in this technical note, we construct two disjoint confidence sets O 1 50 and O 2 50 [see Fig. 4 (b)] with 70%-80% and 0%-10% confidence level, respectively. Specifically, we select these two intervals around the peaks of the two Gaussian elements [i.e., N (100, 10) and N (140, 2)] to better model this mixed distribution. The optimal paths followed for the three strategies are shown in Fig. 2(b) .. The performance of the three strategies obtained is presented in Fig. 5 . The corresponding average total discounted rewards and computational times are shown in Table II . As expected, the robust strategy ends up following a highly conservative policy repairing the machine at state 49 to avoid state 50. The first distributionally robust strategy, not modeling the mixture Gaussian distribution well, finds it advantageous to repair at the 50th state. In contrast, capable of capturing the distribution information in a more flexible way, the second distributionally robust strategy better models the uncertainty and finds not repairing the machine at state 50 is optimal. The performance comparison clearly shows the second distributionally robust strategy is more desirable, which highlights the distributionally robust approach with general structure of confidence sets can be beneficial in practice.. We remark that, in practice, one can obtain the modality structure of uncertain parameters in a data-driven way by applying clustering algorithms to an initial primitive data set. For example, one may check the histogram of historical observations. If the data concentrates on several distinct and disjoint bins, our multi-model DAMDP approach can be applied. Moreover, we note that networked control systems (NCSs) have recently emerged as a topic of significant interest in the control community. A typical application of NCSs is in modern [25] and [26] proposed a novel two-layer structure to solve the setpoints compensation problem for industrial processes under network-based environment.. We now consider a path planning problem, similar to the one presented in [1] : an agent wants to exit a 4 × 21 maze [shown in Fig. 6(a) ] using the least possible time. Starting from the upper-left corner, the agent can move up, down, left and right, but can only exit the grid at the lower-right corner. Here, a white box stands for a normal place where the agent needs one time unit to pass through. A shaded box represents a \"shaky\" place: if an agent reaches a \"shaky\" place, then he may risk jumping to the starting point (\"reboot\"). The true transition probability of the jump follows a distribution. The four approaches are implemented as follows: The nominal approach neglects this random jump. The robust approach takes a worst-case analysis, i.e., it assumes that with 30%, the whole probability support of transition, the agent will jump to the spot with the highest costto-go. The first distributionally robust approach takes into account an additional information by using two nested confidence sets: the jump probability parameter belonging to 9%-11% is of a confidence 1 − λ. The second distributionally robust approach, which is proposed in this technical note, incorporates more information. In specific, we construct an extra confidence interval disjoint with the above 9%-11% interval. It states that the chance of jumping with probability 20% is λ.. The performance of strategies of the nominal, the robust and the two distributionally robust approaches is shown in Fig. 6(b) , where the error bars show the standard error of the expected time to exit. The CPU times of computing optimal policies for four strategies are 0.461, 549, 642, and 654 seconds, respectively. The second distributionally robust approach achieves the best performance over virtually the whole spectrum of λ. This is well expected, since additional probabilistic Fig. 6(a) illustrates the maze for the path plawnning problem. Fig. 6(b) shows the performance comparisons between nominal, robust and two distributionally robust strategies over 3,000 runs of the path planning problem.. information is available to and incorporated by the second distributionally robust approach which considers ambiguity sets with more general structures.. In this technical note, we considered Markov decision problems with uncertainty. Specifically, we generalized the distributionally robust approach proposed in [1] to incorporate more general ambiguity sets proposed in [18] to model a-priori probabilistic information of the uncertain parameters. We proposed a way to compute the distributionally robust strategy through a Bellman type backward induction. We showed that the strategy, which achieves maximum expected utility under the worst admissible distributions of uncertain parameters, can be solved in polynomial time under some mild technical conditions. We believe that many important problems that are usually addressed using standard MDP models could be revisited and better resolved using the proposed models when parameter uncertainty exists, as this formulation naturally enables the decision maker to account for more general parameter uncertainty.'"
            ]
          },
          "metadata": {
            "tags": []
          },
          "execution_count": 24
        }
      ]
    },
    {
      "cell_type": "code",
      "metadata": {
        "colab": {
          "base_uri": "https://localhost:8080/"
        },
        "id": "wfNbi0p8M2TV",
        "outputId": "652a314f-e1ac-41bb-8cae-41d6075bee75"
      },
      "source": [
        "#number of words in article 0\n",
        "article_10 = new_df.iloc[10].pure_text\n",
        "count = 0\n",
        "for i in article_10.split():\n",
        "  count+=1\n",
        "print(count)"
      ],
      "execution_count": null,
      "outputs": [
        {
          "output_type": "stream",
          "text": [
            "5015\n"
          ],
          "name": "stdout"
        }
      ]
    },
    {
      "cell_type": "code",
      "metadata": {
        "colab": {
          "base_uri": "https://localhost:8080/"
        },
        "id": "VzPuS8qyQ5o8",
        "outputId": "8b011f75-15fd-4bd4-dc76-51ee629b8301"
      },
      "source": [
        "article_10_words = article_10.split()\n",
        "print(None in article_0_words)"
      ],
      "execution_count": null,
      "outputs": [
        {
          "output_type": "stream",
          "text": [
            "False\n"
          ],
          "name": "stdout"
        }
      ]
    },
    {
      "cell_type": "code",
      "metadata": {
        "id": "ziR1MScnNffg"
      },
      "source": [
        "#!pip install transformers \n",
        "import torch\n",
        "from transformers import AutoTokenizer, AutoModelForTokenClassification\n",
        "import time\n",
        "\n",
        "# Load model\n",
        "tokenizer = AutoTokenizer.from_pretrained(\"fran-martinez/scibert_scivocab_cased_ner_jnlpba\")\n",
        "model = AutoModelForTokenClassification.from_pretrained(\"fran-martinez/scibert_scivocab_cased_ner_jnlpba\")\n",
        "\n",
        "start = time.time()\n",
        "\n",
        "token_list = []\n",
        "entities_dict = {}\n",
        "\n",
        "for i in range(100, len(article_10_words), 100):\n",
        "  # take a chunk\n",
        "  chunk_sequence = article_10_words[i-100:i]\n",
        "  chunk_sequence = ' '.join(chunk_sequence)\n",
        "  #print(chunk_sequence)\n",
        "  # pass chunk to BERT\n",
        "  input_ids = torch.tensor(tokenizer.encode(chunk_sequence)).unsqueeze(0)\n",
        "\n",
        "  # Predict\n",
        "  with torch.no_grad():\n",
        "    outputs = model(input_ids)\n",
        "\n",
        "  # From the output let's take the first element of the tuple.\n",
        "  # Then, let's get rid of [CLS] and [SEP] tokens (first and last)\n",
        "  predictions = outputs[0].argmax(axis=-1)[0][1:-1]\n",
        "\n",
        "  # Map label class indexes to string labels.\n",
        "  for token, pred in zip(tokenizer.tokenize(chunk_sequence), predictions):\n",
        "    if model.config.id2label[pred.numpy().item()] == 'O':\n",
        "      pass\n",
        "    else:\n",
        "      if model.config.id2label[pred.numpy().item()] in entities_dict.keys():\n",
        "        entities_dict[model.config.id2label[pred.numpy().item()]].append(token)\n",
        "      else:\n",
        "        entities_dict[model.config.id2label[pred.numpy().item()]] = [token]\n",
        "\n",
        "stop = time.time()"
      ],
      "execution_count": null,
      "outputs": []
    },
    {
      "cell_type": "code",
      "metadata": {
        "colab": {
          "base_uri": "https://localhost:8080/"
        },
        "id": "TGYWcz5AVx6d",
        "outputId": "4ecd48d4-09e9-427f-f033-b789e45f19a6"
      },
      "source": [
        "entities_dict"
      ],
      "execution_count": null,
      "outputs": [
        {
          "output_type": "execute_result",
          "data": {
            "text/plain": [
              "{'B-cell_line': ['clonal'],\n",
              " 'B-cell_type': ['squ',\n",
              "  'pur',\n",
              "  'murine',\n",
              "  'aged',\n",
              "  'living',\n",
              "  'single',\n",
              "  'neural',\n",
              "  'neurons',\n",
              "  'neurons',\n",
              "  'cortical',\n",
              "  'presynaptic',\n",
              "  'spiking',\n",
              "  'type',\n",
              "  'type',\n",
              "  'type',\n",
              "  'type',\n",
              "  'type',\n",
              "  'daughter',\n",
              "  'type',\n",
              "  'type',\n",
              "  'type',\n",
              "  'type'],\n",
              " 'B-protein': ['gene',\n",
              "  'ach',\n",
              "  'ion',\n",
              "  'voltage',\n",
              "  'n',\n",
              "  'gamma',\n",
              "  'na',\n",
              "  'na',\n",
              "  'ion',\n",
              "  'ion'],\n",
              " 'I-cell_line': ['cell', 'populations'],\n",
              " 'I-cell_type': ['##id',\n",
              "  'axons',\n",
              "  '##kinje',\n",
              "  'fibers',\n",
              "  'cardiac',\n",
              "  'myocytes',\n",
              "  'cell',\n",
              "  'cells',\n",
              "  'neurons',\n",
              "  'networks',\n",
              "  'neurons',\n",
              "  'neurons',\n",
              "  'neurons',\n",
              "  '1',\n",
              "  'mutation',\n",
              "  'cells',\n",
              "  '1',\n",
              "  'cell',\n",
              "  '1',\n",
              "  'cell',\n",
              "  '1',\n",
              "  '1',\n",
              "  'cells',\n",
              "  '1',\n",
              "  'cell',\n",
              "  'cell',\n",
              "  '2',\n",
              "  'cell',\n",
              "  '1',\n",
              "  'cell',\n",
              "  '2',\n",
              "  'cell',\n",
              "  '2',\n",
              "  'cell'],\n",
              " 'I-protein': ['products',\n",
              "  'receptor',\n",
              "  'channels',\n",
              "  '-',\n",
              "  'gated',\n",
              "  'ion',\n",
              "  'channels',\n",
              "  '-',\n",
              "  'methyl',\n",
              "  '-',\n",
              "  'd',\n",
              "  '-',\n",
              "  'aspartate',\n",
              "  'activated',\n",
              "  'receptors',\n",
              "  '-',\n",
              "  'amino',\n",
              "  '-',\n",
              "  'but',\n",
              "  '##yric',\n",
              "  'acid',\n",
              "  'receptor',\n",
              "  'ion',\n",
              "  'channel',\n",
              "  'and',\n",
              "  'k',\n",
              "  'currents',\n",
              "  'current',\n",
              "  'channels',\n",
              "  'syn',\n",
              "  'and',\n",
              "  'leakage',\n",
              "  'channels',\n",
              "  'syn']}"
            ]
          },
          "metadata": {
            "tags": []
          },
          "execution_count": 44
        }
      ]
    },
    {
      "cell_type": "code",
      "metadata": {
        "colab": {
          "base_uri": "https://localhost:8080/",
          "height": 88
        },
        "id": "dYKjJCdoalvK",
        "outputId": "5ee3d2ef-969c-4bf5-a090-1f567128aec0"
      },
      "source": [
        "chunk_sequence"
      ],
      "execution_count": null,
      "outputs": [
        {
          "output_type": "execute_result",
          "data": {
            "application/vnd.google.colaboratory.intrinsic+json": {
              "type": "string"
            },
            "text/plain": [
              "'USA). On the experimental side, we need to develop experiments and tools that can characterize the noise behavior in systems. The ultimate goal for these advances is to achieve full stochastic resolution over different scales and systems. However, a plan for wide dissemination of data acquired in these experiments should be embedded in these projects to accelerate advances in noise physiology. We anticipate that a limited number of laboratories will have necessary monetary, equipment and staff resources needed to carry some of these sophisticated experiments.. Noise is potentially a very powerful tool in physiology and medicine. We hope this paper'"
            ]
          },
          "metadata": {
            "tags": []
          },
          "execution_count": 45
        }
      ]
    },
    {
      "cell_type": "code",
      "metadata": {
        "colab": {
          "base_uri": "https://localhost:8080/",
          "height": 585
        },
        "id": "Nf5THNiZbd7w",
        "outputId": "604be153-221f-405b-ca25-08636d9eb020"
      },
      "source": [
        "clean_df.head(11)"
      ],
      "execution_count": null,
      "outputs": [
        {
          "output_type": "execute_result",
          "data": {
            "text/html": [
              "<div>\n",
              "<style scoped>\n",
              "    .dataframe tbody tr th:only-of-type {\n",
              "        vertical-align: middle;\n",
              "    }\n",
              "\n",
              "    .dataframe tbody tr th {\n",
              "        vertical-align: top;\n",
              "    }\n",
              "\n",
              "    .dataframe thead th {\n",
              "        text-align: right;\n",
              "    }\n",
              "</style>\n",
              "<table border=\"1\" class=\"dataframe\">\n",
              "  <thead>\n",
              "    <tr style=\"text-align: right;\">\n",
              "      <th></th>\n",
              "      <th>paper_id</th>\n",
              "      <th>_pdf_hash</th>\n",
              "      <th>abstract</th>\n",
              "      <th>body_text</th>\n",
              "      <th>bib_entries</th>\n",
              "      <th>ref_entries</th>\n",
              "    </tr>\n",
              "  </thead>\n",
              "  <tbody>\n",
              "    <tr>\n",
              "      <th>0</th>\n",
              "      <td>18980380</td>\n",
              "      <td>ffe93b67a395cc51d6dc4c5f438a6bbc08a3f31a</td>\n",
              "      <td>[{'section': 'Abstract', 'text': 'This technic...</td>\n",
              "      <td>[{'section': '', 'text': '. Illustration of th...</td>\n",
              "      <td>{'BIBREF0': {'title': 'Distributionally robust...</td>\n",
              "      <td>{'FIGREF0': {'text': 'The condition 1 of Assum...</td>\n",
              "    </tr>\n",
              "    <tr>\n",
              "      <th>1</th>\n",
              "      <td>18981111</td>\n",
              "      <td>f3d9a81079300b70808121b2a16afdc5e08773f0</td>\n",
              "      <td>[]</td>\n",
              "      <td>[{'section': '', 'text': 'The ability to explo...</td>\n",
              "      <td>{'BIBREF0': {'title': 'Haptic virtual reality ...</td>\n",
              "      <td>{'FIGREF0': {'text': 'Figure 1. Multisensory e...</td>\n",
              "    </tr>\n",
              "    <tr>\n",
              "      <th>3</th>\n",
              "      <td>18982496</td>\n",
              "      <td>90c21e95578699827c1dc8d85c468cd24e6946e0</td>\n",
              "      <td>[{'section': 'Abstract', 'text': 'In this pape...</td>\n",
              "      <td>[{'section': '', 'text': 'name and sent by a c...</td>\n",
              "      <td>{'BIBREF0': {'title': 'Interviewing one's peer...</td>\n",
              "      <td>{'TABREF0': {'text': 'A summary of five survey...</td>\n",
              "    </tr>\n",
              "    <tr>\n",
              "      <th>5</th>\n",
              "      <td>18983391</td>\n",
              "      <td>9e87b9776d871dcd14c0659b2366bd2211909b3c</td>\n",
              "      <td>[{'section': 'Abstract', 'text': 'The conventi...</td>\n",
              "      <td>[{'section': 'Introduction', 'text': 'Traffic ...</td>\n",
              "      <td>{'BIBREF0': {'title': 'AntNet: Distributed sti...</td>\n",
              "      <td>{'FIGREF1': {'text': 'instant delay or trip ti...</td>\n",
              "    </tr>\n",
              "    <tr>\n",
              "      <th>15</th>\n",
              "      <td>199668887</td>\n",
              "      <td>aadef1b1e13de9dc836b6b9e9f40b538a40464c4</td>\n",
              "      <td>[{'section': 'Abstract', 'text': 'Pervasive co...</td>\n",
              "      <td>[{'section': 'INTRODUCTION', 'text': 'Nowadays...</td>\n",
              "      <td>{'BIBREF0': {'title': 'Incorporating Contextua...</td>\n",
              "      <td>{'FIGREF0': {'text': 'Four types of data propo...</td>\n",
              "    </tr>\n",
              "    <tr>\n",
              "      <th>16</th>\n",
              "      <td>199668943</td>\n",
              "      <td>a3e13aedf6373da60d9529acc000f1f534f86600</td>\n",
              "      <td>[{'section': 'Abstract', 'text': 'Estimating 3...</td>\n",
              "      <td>[{'section': 'Introduction', 'text': 'Over the...</td>\n",
              "      <td>{'BIBREF0': {'title': '2d human pose estimatio...</td>\n",
              "      <td>{'FIGREF0': {'text': 'pm } are computed, we cr...</td>\n",
              "    </tr>\n",
              "    <tr>\n",
              "      <th>20</th>\n",
              "      <td>2872653</td>\n",
              "      <td>1d7cceed3dde35f061f99f6dd900f907243fc514</td>\n",
              "      <td>[{'section': 'Abstract', 'text': 'Background: ...</td>\n",
              "      <td>[{'section': '', 'text': 'transcriptional and ...</td>\n",
              "      <td>{'BIBREF0': {'title': 'Osmotic stress signalin...</td>\n",
              "      <td>{'FIGREF0': {'text': 'Structure of the Sln1-Yp...</td>\n",
              "    </tr>\n",
              "    <tr>\n",
              "      <th>24</th>\n",
              "      <td>2874048</td>\n",
              "      <td>debf6cef6396a16a24048351d6eff568222b2edc</td>\n",
              "      <td>[{'section': 'Abstract', 'text': 'The study of...</td>\n",
              "      <td>[{'section': 'Biography', 'text': 'Francesco B...</td>\n",
              "      <td>{}</td>\n",
              "      <td>{'FIGREF0': {'text': ', Yahoo! Research ambass...</td>\n",
              "    </tr>\n",
              "    <tr>\n",
              "      <th>25</th>\n",
              "      <td>2874113</td>\n",
              "      <td>36a3a3b284049187914e1c5ab6a1da1a071ac0fa</td>\n",
              "      <td>[{'section': 'Abstract', 'text': 'Abstract-Ort...</td>\n",
              "      <td>[{'section': 'I. INTRODUCTION', 'text': 'Ortho...</td>\n",
              "      <td>{'BIBREF0': {'title': 'An introduction to orth...</td>\n",
              "      <td>{'FIGREF0': {'text': 'N] denote the sampled AW...</td>\n",
              "    </tr>\n",
              "    <tr>\n",
              "      <th>27</th>\n",
              "      <td>2875387</td>\n",
              "      <td>f81e7a94a887b10db9c3e52ec952ba4d95517e70</td>\n",
              "      <td>[{'section': 'Abstract', 'text': 'Abstract. Th...</td>\n",
              "      <td>[{'section': 'Introduction', 'text': 'Multi-re...</td>\n",
              "      <td>{'BIBREF0': {'title': 'Orthogonal pyramid tran...</td>\n",
              "      <td>{'FIGREF0': {'text': 'Fig. 1. Examples of imag...</td>\n",
              "    </tr>\n",
              "    <tr>\n",
              "      <th>29</th>\n",
              "      <td>2877021</td>\n",
              "      <td>dd0fffd39258e3d74f325ba9e6b9bd7b457dc441</td>\n",
              "      <td>[{'section': 'Abstract', 'text': 'Noise is omn...</td>\n",
              "      <td>[{'section': 'Introduction', 'text': 'Albert E...</td>\n",
              "      <td>{'BIBREF0': {'title': 'The history of noise', ...</td>\n",
              "      <td>{'FIGREF0': {'text': 'Figure 1: Examples of va...</td>\n",
              "    </tr>\n",
              "  </tbody>\n",
              "</table>\n",
              "</div>"
            ],
            "text/plain": [
              "     paper_id  ...                                        ref_entries\n",
              "0    18980380  ...  {'FIGREF0': {'text': 'The condition 1 of Assum...\n",
              "1    18981111  ...  {'FIGREF0': {'text': 'Figure 1. Multisensory e...\n",
              "3    18982496  ...  {'TABREF0': {'text': 'A summary of five survey...\n",
              "5    18983391  ...  {'FIGREF1': {'text': 'instant delay or trip ti...\n",
              "15  199668887  ...  {'FIGREF0': {'text': 'Four types of data propo...\n",
              "16  199668943  ...  {'FIGREF0': {'text': 'pm } are computed, we cr...\n",
              "20    2872653  ...  {'FIGREF0': {'text': 'Structure of the Sln1-Yp...\n",
              "24    2874048  ...  {'FIGREF0': {'text': ', Yahoo! Research ambass...\n",
              "25    2874113  ...  {'FIGREF0': {'text': 'N] denote the sampled AW...\n",
              "27    2875387  ...  {'FIGREF0': {'text': 'Fig. 1. Examples of imag...\n",
              "29    2877021  ...  {'FIGREF0': {'text': 'Figure 1: Examples of va...\n",
              "\n",
              "[11 rows x 6 columns]"
            ]
          },
          "metadata": {
            "tags": []
          },
          "execution_count": 50
        }
      ]
    },
    {
      "cell_type": "code",
      "metadata": {
        "colab": {
          "base_uri": "https://localhost:8080/"
        },
        "id": "gyNxgNhcbyQ_",
        "outputId": "23c29e68-6690-4fdd-c634-bbea756ec253"
      },
      "source": [
        "metadata_df.iloc[29]"
      ],
      "execution_count": null,
      "outputs": [
        {
          "output_type": "execute_result",
          "data": {
            "text/plain": [
              "paper_id                                                                2874113\n",
              "title                         High Resolution OFDM Channel Estimation with L...\n",
              "authors                       [{'first': 'Jia', 'middle': [], 'last': 'Meng'...\n",
              "abstract                      Orthogonal frequency division multiplexing (OF...\n",
              "year                                                                       2011\n",
              "arxiv_id                                                                   None\n",
              "acl_id                                                                     None\n",
              "pmc_id                                                                     None\n",
              "pubmed_id                                                                  None\n",
              "doi                                                    10.1109/icc.2011.5962563\n",
              "venue                         2011 IEEE International Conference on Communic...\n",
              "journal                       2011 IEEE International Conference on Communic...\n",
              "has_pdf_body_text                                                          True\n",
              "mag_id                                                               2140839178\n",
              "mag_field_of_study                                           [Computer Science]\n",
              "outbound_citations            [16736066, 24056319, 206737254, 119159284, 185...\n",
              "inbound_citations             [2493299, 85499907, 21115638, 11862245, 127542...\n",
              "has_outbound_citations                                                     True\n",
              "has_inbound_citations                                                      True\n",
              "has_pdf_parse                                                              True\n",
              "has_pdf_parsed_abstract                                                    True\n",
              "has_pdf_parsed_body_text                                                   True\n",
              "has_pdf_parsed_bib_entries                                                 True\n",
              "has_pdf_parsed_ref_entries                                                 True\n",
              "s2_url                         https://api.semanticscholar.org/CorpusID:2874113\n",
              "Name: 29, dtype: object"
            ]
          },
          "metadata": {
            "tags": []
          },
          "execution_count": 51
        }
      ]
    }
  ]
}